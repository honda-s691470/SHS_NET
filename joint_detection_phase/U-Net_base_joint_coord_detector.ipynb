{
 "cells": [
  {
   "cell_type": "code",
   "execution_count": 1,
   "id": "691ce9f8",
   "metadata": {},
   "outputs": [],
   "source": [
    "import os\n",
    "os.environ[\"CUDA_VISIBLE_DEVICES\"] = \"0\""
   ]
  },
  {
   "cell_type": "code",
   "execution_count": 2,
   "id": "0b431067",
   "metadata": {},
   "outputs": [],
   "source": [
    "import argparse\n",
    "import os\n",
    "from collections import OrderedDict\n",
    "from glob import glob\n",
    "import numpy as np\n",
    "import cv2\n",
    "%matplotlib inline"
   ]
  },
  {
   "cell_type": "code",
   "execution_count": 3,
   "id": "a28e4e40",
   "metadata": {},
   "outputs": [],
   "source": [
    "import pandas as pd\n",
    "import torch\n",
    "import torch.backends.cudnn as cudnn\n",
    "import torch.nn as nn\n",
    "import yaml\n",
    "from tqdm import tqdm"
   ]
  },
  {
   "cell_type": "code",
   "execution_count": 4,
   "id": "c3beb8af",
   "metadata": {},
   "outputs": [],
   "source": [
    "from sklearn.model_selection import train_test_split"
   ]
  },
  {
   "cell_type": "code",
   "execution_count": 5,
   "id": "7d4a6947",
   "metadata": {},
   "outputs": [],
   "source": [
    "import archs\n",
    "import losses\n",
    "from dataset import Dataset, make_loader, Dataset_img_only, make_loader_test_only\n",
    "from utils import AverageMeter, str2bool, scheduler_maker, optim_maker  \n",
    "from train_val import train, val, test, val_sdr_stratified\n",
    "import adabound "
   ]
  },
  {
   "cell_type": "code",
   "execution_count": 6,
   "id": "db70d547",
   "metadata": {},
   "outputs": [],
   "source": [
    "ARCH_NAMES = archs.__all__\n",
    "LOSS_NAMES = losses.__all__"
   ]
  },
  {
   "cell_type": "code",
   "execution_count": 7,
   "id": "be48009c",
   "metadata": {},
   "outputs": [],
   "source": [
    "def parse_args():\n",
    "    parser = argparse.ArgumentParser()\n",
    "\n",
    "    parser.add_argument('--name', default=None,\n",
    "                        help='model name: (default: arch+timestamp)')\n",
    "    parser.add_argument('--epochs', default=100, type=int, metavar='N',\n",
    "                        help='number of total epochs to run')\n",
    "    parser.add_argument('-b', '--batch_size', default=16, type=int,\n",
    "                        metavar='N', help='mini-batch size (default: 16)')\n",
    "    \n",
    "    # model\n",
    "    parser.add_argument('--arch', '-a', metavar='ARCH', default='UNet',\n",
    "                        choices=ARCH_NAMES,\n",
    "                        help='model architecture: ' +\n",
    "                        ' | '.join(ARCH_NAMES) +\n",
    "                        ' (default: UNet)')\n",
    "    parser.add_argument('--input_channels', default=3, type=int,\n",
    "                        help='input channels')\n",
    "    parser.add_argument('--num_classes', default=1, type=int,\n",
    "                        help='number of classes')\n",
    "    parser.add_argument('--input_w', default=224, type=int,\n",
    "                        help='image width')\n",
    "    parser.add_argument('--input_h', default=224, type=int,\n",
    "                        help='image height')\n",
    "    \n",
    "    # loss\n",
    "    parser.add_argument('--loss', default='MseLoss',\n",
    "                        choices=LOSS_NAMES,\n",
    "                        help='loss: ' +\n",
    "                        ' | '.join(LOSS_NAMES) +\n",
    "                        ' (default: MseLoss)')\n",
    "    \n",
    "    # dataset\n",
    "    parser.add_argument('--dataset', default='Likelymapseparate',\n",
    "                        help='dataset name')\n",
    "    parser.add_argument('--img_ext', default='.jpg',\n",
    "                        help='image file extension')\n",
    "    parser.add_argument('--mask_ext', default='.jpg',\n",
    "                        help='mask file extension')\n",
    "\n",
    "    # optimizer\n",
    "    parser.add_argument('--optimizer', default='Adam',\n",
    "                        choices=['Adam', 'SGD', 'Adabound'],\n",
    "                        help='loss: ' +\n",
    "                        ' | '.join(['Adam', 'SGD', 'Adabound']) +\n",
    "                        ' (default: Adam)')\n",
    "    parser.add_argument('--lr', '--learning_rate', default=1e-3, type=float,\n",
    "                        metavar='LR', help='initial learning rate')\n",
    "    parser.add_argument('--momentum', default=0.9, type=float,\n",
    "                        help='momentum')\n",
    "    parser.add_argument('--weight_decay', default=1e-4, type=float,\n",
    "                        help='weight decay')\n",
    "    parser.add_argument('--nesterov', default=False, type=str2bool,\n",
    "                        help='nesterov')\n",
    "    parser.add_argument('--val_ratio', default=0.3, type=float,\n",
    "                        help='val_ratio')\n",
    "\n",
    "    # scheduler\n",
    "    parser.add_argument('--scheduler', default='CosineAnnealingLR',\n",
    "                        choices=['CosineAnnealingLR', 'ReduceLROnPlateau', 'MultiStepLR', 'ConstantLR'])\n",
    "    parser.add_argument('--min_lr', default=1e-6, type=float,\n",
    "                        help='minimum learning rate')\n",
    "    parser.add_argument('--factor', default=0.1, type=float)\n",
    "    parser.add_argument('--patience', default=2, type=int)\n",
    "    parser.add_argument('--milestones', default='1,2', type=str)\n",
    "    parser.add_argument('--gamma', default=2/3, type=float)\n",
    "    parser.add_argument('--early_stopping', default=-1, type=int,\n",
    "                        metavar='N', help='early stopping (default: -1)')\n",
    "    \n",
    "    parser.add_argument('--num_workers', default=8, type=int)\n",
    "    \n",
    "    parser.add_argument('--img_path', default='', type=str)\n",
    "    parser.add_argument('--best_model_val', default='sdr', type=str)\n",
    "\n",
    "    config = parser.parse_args(args=['--best_model_val', 'sdr', '--arch', 'UNet', '--num_workers', '8', '--lr', '0.0001', '--epochs', '1000', '--optimizer', 'Adam', '--batch_size', '16', '--num_classes','15', '--dataset', '1381label_lilkely_num15_224_filt5', '--loss', 'MseLoss'])\n",
    "\n",
    "    return config"
   ]
  },
  {
   "cell_type": "code",
   "execution_count": 8,
   "id": "1d29a250",
   "metadata": {
    "scrolled": true
   },
   "outputs": [
    {
     "name": "stdout",
     "output_type": "stream",
     "text": [
      "--------------------\n",
      "name: 1381label_lilkely_num15_224_filt5_UNet_MseLoss_Adam_CosineAnnealingLR\n",
      "epochs: 1000\n",
      "batch_size: 16\n",
      "arch: UNet\n",
      "input_channels: 3\n",
      "num_classes: 15\n",
      "input_w: 224\n",
      "input_h: 224\n",
      "loss: MseLoss\n",
      "dataset: 1381label_lilkely_num15_224_filt5\n",
      "img_ext: .jpg\n",
      "mask_ext: .jpg\n",
      "optimizer: Adam\n",
      "lr: 0.0001\n",
      "momentum: 0.9\n",
      "weight_decay: 0.0001\n",
      "nesterov: False\n",
      "val_ratio: 0.3\n",
      "scheduler: CosineAnnealingLR\n",
      "min_lr: 1e-06\n",
      "factor: 0.1\n",
      "patience: 2\n",
      "milestones: 1,2\n",
      "gamma: 0.6666666666666666\n",
      "early_stopping: -1\n",
      "num_workers: 8\n",
      "img_path: D:\\SHS_AI/nested_U/\n",
      "best_model_val: sdr\n",
      "--------------------\n",
      "=> creating model UNet\n"
     ]
    },
    {
     "name": "stderr",
     "output_type": "stream",
     "text": [
      "C:\\Users\\hs691\\anaconda3\\envs\\pytorch17\\lib\\site-packages\\albumentations\\augmentations\\transforms.py:1772: FutureWarning: This class has been deprecated. Please use RandomBrightnessContrast\n",
      "  FutureWarning,\n",
      "\r",
      "  0%|          | 0/60 [00:00<?, ?it/s]"
     ]
    },
    {
     "name": "stdout",
     "output_type": "stream",
     "text": [
      "Epoch [0/1000]\n"
     ]
    },
    {
     "name": "stderr",
     "output_type": "stream",
     "text": [
      "100%|██████████| 60/60 [00:52<00:00,  1.14it/s, loss=0.00461]\n",
      "100%|██████████| 26/26 [00:29<00:00,  1.12s/it, val_loss=0.00224, SDR=0.00129, R_ave=118]\n",
      "  0%|          | 0/60 [00:00<?, ?it/s]"
     ]
    },
    {
     "name": "stdout",
     "output_type": "stream",
     "text": [
      "loss 0.0046 - val_loss 0.0022 - SDR 0.0013 - R_ave 118.2213\n",
      "=> saved best model\n",
      "Epoch [1/1000]\n"
     ]
    },
    {
     "name": "stderr",
     "output_type": "stream",
     "text": [
      "100%|██████████| 60/60 [00:24<00:00,  2.43it/s, loss=0.0018] \n",
      "100%|██████████| 26/26 [00:17<00:00,  1.52it/s, val_loss=0.00158, SDR=0.00755, R_ave=83]  \n",
      "  0%|          | 0/60 [00:00<?, ?it/s]"
     ]
    },
    {
     "name": "stdout",
     "output_type": "stream",
     "text": [
      "loss 0.0018 - val_loss 0.0016 - SDR 0.0076 - R_ave 83.0246\n",
      "=> saved best model\n",
      "Epoch [2/1000]\n"
     ]
    },
    {
     "name": "stderr",
     "output_type": "stream",
     "text": [
      "100%|██████████| 60/60 [00:24<00:00,  2.44it/s, loss=0.00153]\n",
      "100%|██████████| 26/26 [00:17<00:00,  1.50it/s, val_loss=0.00151, SDR=0.0299, R_ave=61.6]\n",
      "  0%|          | 0/60 [00:00<?, ?it/s]"
     ]
    },
    {
     "name": "stdout",
     "output_type": "stream",
     "text": [
      "loss 0.0015 - val_loss 0.0015 - SDR 0.0299 - R_ave 61.5616\n",
      "=> saved best model\n",
      "Epoch [3/1000]\n"
     ]
    },
    {
     "name": "stderr",
     "output_type": "stream",
     "text": [
      "100%|██████████| 60/60 [00:24<00:00,  2.45it/s, loss=0.00148]\n",
      "100%|██████████| 26/26 [00:17<00:00,  1.52it/s, val_loss=0.00147, SDR=0.109, R_ave=37.8]\n",
      "  0%|          | 0/60 [00:00<?, ?it/s]"
     ]
    },
    {
     "name": "stdout",
     "output_type": "stream",
     "text": [
      "loss 0.0015 - val_loss 0.0015 - SDR 0.1086 - R_ave 37.8457\n",
      "=> saved best model\n",
      "Epoch [4/1000]\n"
     ]
    },
    {
     "name": "stderr",
     "output_type": "stream",
     "text": [
      "100%|██████████| 60/60 [00:24<00:00,  2.44it/s, loss=0.00143]\n",
      "100%|██████████| 26/26 [00:17<00:00,  1.52it/s, val_loss=0.00144, SDR=0.173, R_ave=31.5]\n",
      "  0%|          | 0/60 [00:00<?, ?it/s]"
     ]
    },
    {
     "name": "stdout",
     "output_type": "stream",
     "text": [
      "loss 0.0014 - val_loss 0.0014 - SDR 0.1729 - R_ave 31.4532\n",
      "=> saved best model\n",
      "Epoch [5/1000]\n"
     ]
    },
    {
     "name": "stderr",
     "output_type": "stream",
     "text": [
      "100%|██████████| 60/60 [00:24<00:00,  2.43it/s, loss=0.00137]\n",
      "100%|██████████| 26/26 [00:17<00:00,  1.50it/s, val_loss=0.00135, SDR=0.257, R_ave=23.8]\n",
      "  0%|          | 0/60 [00:00<?, ?it/s]"
     ]
    },
    {
     "name": "stdout",
     "output_type": "stream",
     "text": [
      "loss 0.0014 - val_loss 0.0014 - SDR 0.2567 - R_ave 23.7872\n",
      "=> saved best model\n",
      "Epoch [6/1000]\n"
     ]
    },
    {
     "name": "stderr",
     "output_type": "stream",
     "text": [
      "100%|██████████| 60/60 [00:24<00:00,  2.44it/s, loss=0.00128]\n",
      "100%|██████████| 26/26 [00:17<00:00,  1.53it/s, val_loss=0.00133, SDR=0.273, R_ave=24.1]\n",
      "  0%|          | 0/60 [00:00<?, ?it/s]"
     ]
    },
    {
     "name": "stdout",
     "output_type": "stream",
     "text": [
      "loss 0.0013 - val_loss 0.0013 - SDR 0.2726 - R_ave 24.0621\n",
      "Epoch [7/1000]\n"
     ]
    },
    {
     "name": "stderr",
     "output_type": "stream",
     "text": [
      "100%|██████████| 60/60 [00:24<00:00,  2.46it/s, loss=0.00117]\n",
      "100%|██████████| 26/26 [00:17<00:00,  1.49it/s, val_loss=0.00119, SDR=0.352, R_ave=19.2]\n",
      "  0%|          | 0/60 [00:00<?, ?it/s]"
     ]
    },
    {
     "name": "stdout",
     "output_type": "stream",
     "text": [
      "loss 0.0012 - val_loss 0.0012 - SDR 0.3518 - R_ave 19.1709\n",
      "=> saved best model\n",
      "Epoch [8/1000]\n"
     ]
    },
    {
     "name": "stderr",
     "output_type": "stream",
     "text": [
      "100%|██████████| 60/60 [00:25<00:00,  2.37it/s, loss=0.00108]\n",
      "100%|██████████| 26/26 [00:17<00:00,  1.48it/s, val_loss=0.00121, SDR=0.371, R_ave=20.2]\n",
      "  0%|          | 0/60 [00:00<?, ?it/s]"
     ]
    },
    {
     "name": "stdout",
     "output_type": "stream",
     "text": [
      "loss 0.0011 - val_loss 0.0012 - SDR 0.3714 - R_ave 20.1880\n",
      "Epoch [9/1000]\n"
     ]
    },
    {
     "name": "stderr",
     "output_type": "stream",
     "text": [
      "100%|██████████| 60/60 [00:24<00:00,  2.40it/s, loss=0.000993]\n",
      "100%|██████████| 26/26 [00:17<00:00,  1.49it/s, val_loss=0.00122, SDR=0.414, R_ave=22]  \n",
      "  0%|          | 0/60 [00:00<?, ?it/s]"
     ]
    },
    {
     "name": "stdout",
     "output_type": "stream",
     "text": [
      "loss 0.0010 - val_loss 0.0012 - SDR 0.4145 - R_ave 22.0016\n",
      "Epoch [10/1000]\n"
     ]
    },
    {
     "name": "stderr",
     "output_type": "stream",
     "text": [
      "100%|██████████| 60/60 [00:24<00:00,  2.43it/s, loss=0.000891]\n",
      "100%|██████████| 26/26 [00:16<00:00,  1.53it/s, val_loss=0.0012, SDR=0.498, R_ave=17.3]\n",
      "  0%|          | 0/60 [00:00<?, ?it/s]"
     ]
    },
    {
     "name": "stdout",
     "output_type": "stream",
     "text": [
      "loss 0.0009 - val_loss 0.0012 - SDR 0.4980 - R_ave 17.2903\n",
      "=> saved best model\n",
      "Epoch [11/1000]\n"
     ]
    },
    {
     "name": "stderr",
     "output_type": "stream",
     "text": [
      "100%|██████████| 60/60 [00:24<00:00,  2.40it/s, loss=0.000798]\n",
      "100%|██████████| 26/26 [00:17<00:00,  1.51it/s, val_loss=0.00111, SDR=0.533, R_ave=17.3]\n",
      "  0%|          | 0/60 [00:00<?, ?it/s]"
     ]
    },
    {
     "name": "stdout",
     "output_type": "stream",
     "text": [
      "loss 0.0008 - val_loss 0.0011 - SDR 0.5325 - R_ave 17.3028\n",
      "Epoch [12/1000]\n"
     ]
    },
    {
     "name": "stderr",
     "output_type": "stream",
     "text": [
      "100%|██████████| 60/60 [00:24<00:00,  2.47it/s, loss=0.000668]\n",
      "100%|██████████| 26/26 [00:17<00:00,  1.53it/s, val_loss=0.000846, SDR=0.665, R_ave=7.13]\n",
      "  0%|          | 0/60 [00:00<?, ?it/s]"
     ]
    },
    {
     "name": "stdout",
     "output_type": "stream",
     "text": [
      "loss 0.0007 - val_loss 0.0008 - SDR 0.6649 - R_ave 7.1278\n",
      "=> saved best model\n",
      "Epoch [13/1000]\n"
     ]
    },
    {
     "name": "stderr",
     "output_type": "stream",
     "text": [
      "100%|██████████| 60/60 [00:24<00:00,  2.43it/s, loss=0.000594]\n",
      "100%|██████████| 26/26 [00:17<00:00,  1.49it/s, val_loss=0.000814, SDR=0.693, R_ave=6.51]\n",
      "  0%|          | 0/60 [00:00<?, ?it/s]"
     ]
    },
    {
     "name": "stdout",
     "output_type": "stream",
     "text": [
      "loss 0.0006 - val_loss 0.0008 - SDR 0.6932 - R_ave 6.5100\n",
      "=> saved best model\n",
      "Epoch [14/1000]\n"
     ]
    },
    {
     "name": "stderr",
     "output_type": "stream",
     "text": [
      "100%|██████████| 60/60 [00:24<00:00,  2.41it/s, loss=0.000525]\n",
      "100%|██████████| 26/26 [00:17<00:00,  1.52it/s, val_loss=0.000744, SDR=0.741, R_ave=5.32]\n",
      "  0%|          | 0/60 [00:00<?, ?it/s]"
     ]
    },
    {
     "name": "stdout",
     "output_type": "stream",
     "text": [
      "loss 0.0005 - val_loss 0.0007 - SDR 0.7409 - R_ave 5.3191\n",
      "=> saved best model\n",
      "Epoch [15/1000]\n"
     ]
    },
    {
     "name": "stderr",
     "output_type": "stream",
     "text": [
      "100%|██████████| 60/60 [00:24<00:00,  2.44it/s, loss=0.000481]\n",
      "100%|██████████| 26/26 [00:16<00:00,  1.54it/s, val_loss=0.000781, SDR=0.691, R_ave=7.37]\n",
      "  0%|          | 0/60 [00:00<?, ?it/s]"
     ]
    },
    {
     "name": "stdout",
     "output_type": "stream",
     "text": [
      "loss 0.0005 - val_loss 0.0008 - SDR 0.6914 - R_ave 7.3685\n",
      "Epoch [16/1000]\n"
     ]
    },
    {
     "name": "stderr",
     "output_type": "stream",
     "text": [
      "100%|██████████| 60/60 [00:24<00:00,  2.44it/s, loss=0.000442]\n",
      "100%|██████████| 26/26 [00:17<00:00,  1.46it/s, val_loss=0.000624, SDR=0.784, R_ave=4.97]\n",
      "  0%|          | 0/60 [00:00<?, ?it/s]"
     ]
    },
    {
     "name": "stdout",
     "output_type": "stream",
     "text": [
      "loss 0.0004 - val_loss 0.0006 - SDR 0.7838 - R_ave 4.9712\n",
      "=> saved best model\n",
      "Epoch [17/1000]\n"
     ]
    },
    {
     "name": "stderr",
     "output_type": "stream",
     "text": [
      "100%|██████████| 60/60 [00:30<00:00,  1.94it/s, loss=0.000405]\n",
      "100%|██████████| 26/26 [00:20<00:00,  1.26it/s, val_loss=0.000506, SDR=0.852, R_ave=3.48]\n",
      "  0%|          | 0/60 [00:00<?, ?it/s]"
     ]
    },
    {
     "name": "stdout",
     "output_type": "stream",
     "text": [
      "loss 0.0004 - val_loss 0.0005 - SDR 0.8524 - R_ave 3.4839\n",
      "=> saved best model\n",
      "Epoch [18/1000]\n"
     ]
    },
    {
     "name": "stderr",
     "output_type": "stream",
     "text": [
      "100%|██████████| 60/60 [00:24<00:00,  2.45it/s, loss=0.000342]\n",
      "100%|██████████| 26/26 [00:16<00:00,  1.53it/s, val_loss=0.000626, SDR=0.809, R_ave=4.32]\n",
      "  0%|          | 0/60 [00:00<?, ?it/s]"
     ]
    },
    {
     "name": "stdout",
     "output_type": "stream",
     "text": [
      "loss 0.0003 - val_loss 0.0006 - SDR 0.8087 - R_ave 4.3234\n",
      "Epoch [19/1000]\n"
     ]
    },
    {
     "name": "stderr",
     "output_type": "stream",
     "text": [
      "100%|██████████| 60/60 [00:24<00:00,  2.46it/s, loss=0.00029] \n",
      "100%|██████████| 26/26 [00:17<00:00,  1.51it/s, val_loss=0.000404, SDR=0.877, R_ave=2.81]\n",
      "  0%|          | 0/60 [00:00<?, ?it/s]"
     ]
    },
    {
     "name": "stdout",
     "output_type": "stream",
     "text": [
      "loss 0.0003 - val_loss 0.0004 - SDR 0.8773 - R_ave 2.8066\n",
      "=> saved best model\n",
      "Epoch [20/1000]\n"
     ]
    },
    {
     "name": "stderr",
     "output_type": "stream",
     "text": [
      "100%|██████████| 60/60 [00:24<00:00,  2.42it/s, loss=0.000259]\n",
      "100%|██████████| 26/26 [00:17<00:00,  1.49it/s, val_loss=0.000391, SDR=0.868, R_ave=2.78]\n",
      "  0%|          | 0/60 [00:00<?, ?it/s]"
     ]
    },
    {
     "name": "stdout",
     "output_type": "stream",
     "text": [
      "loss 0.0003 - val_loss 0.0004 - SDR 0.8684 - R_ave 2.7848\n",
      "=> saved best model\n",
      "Epoch [21/1000]\n"
     ]
    },
    {
     "name": "stderr",
     "output_type": "stream",
     "text": [
      "100%|██████████| 60/60 [00:24<00:00,  2.44it/s, loss=0.000245]\n",
      "100%|██████████| 26/26 [00:17<00:00,  1.53it/s, val_loss=0.000328, SDR=0.888, R_ave=2.65]\n",
      "  0%|          | 0/60 [00:00<?, ?it/s]"
     ]
    },
    {
     "name": "stdout",
     "output_type": "stream",
     "text": [
      "loss 0.0002 - val_loss 0.0003 - SDR 0.8877 - R_ave 2.6479\n",
      "=> saved best model\n",
      "Epoch [22/1000]\n"
     ]
    },
    {
     "name": "stderr",
     "output_type": "stream",
     "text": [
      "100%|██████████| 60/60 [00:24<00:00,  2.43it/s, loss=0.000234]\n",
      "100%|██████████| 26/26 [00:17<00:00,  1.50it/s, val_loss=0.000321, SDR=0.896, R_ave=2.42]\n",
      "  0%|          | 0/60 [00:00<?, ?it/s]"
     ]
    },
    {
     "name": "stdout",
     "output_type": "stream",
     "text": [
      "loss 0.0002 - val_loss 0.0003 - SDR 0.8957 - R_ave 2.4202\n",
      "=> saved best model\n",
      "Epoch [23/1000]\n"
     ]
    },
    {
     "name": "stderr",
     "output_type": "stream",
     "text": [
      "100%|██████████| 60/60 [00:24<00:00,  2.42it/s, loss=0.000224]\n",
      "100%|██████████| 26/26 [00:17<00:00,  1.53it/s, val_loss=0.000277, SDR=0.909, R_ave=2.38]\n",
      "  0%|          | 0/60 [00:00<?, ?it/s]"
     ]
    },
    {
     "name": "stdout",
     "output_type": "stream",
     "text": [
      "loss 0.0002 - val_loss 0.0003 - SDR 0.9094 - R_ave 2.3834\n",
      "=> saved best model\n",
      "Epoch [24/1000]\n"
     ]
    },
    {
     "name": "stderr",
     "output_type": "stream",
     "text": [
      "100%|██████████| 60/60 [00:24<00:00,  2.41it/s, loss=0.000214]\n",
      "100%|██████████| 26/26 [00:17<00:00,  1.52it/s, val_loss=0.000259, SDR=0.916, R_ave=2.14]\n",
      "  0%|          | 0/60 [00:00<?, ?it/s]"
     ]
    },
    {
     "name": "stdout",
     "output_type": "stream",
     "text": [
      "loss 0.0002 - val_loss 0.0003 - SDR 0.9158 - R_ave 2.1368\n",
      "=> saved best model\n",
      "Epoch [25/1000]\n"
     ]
    },
    {
     "name": "stderr",
     "output_type": "stream",
     "text": [
      "100%|██████████| 60/60 [00:24<00:00,  2.42it/s, loss=0.000216]\n",
      "100%|██████████| 26/26 [00:17<00:00,  1.52it/s, val_loss=0.0003, SDR=0.897, R_ave=2.52]  \n",
      "  0%|          | 0/60 [00:00<?, ?it/s]"
     ]
    },
    {
     "name": "stdout",
     "output_type": "stream",
     "text": [
      "loss 0.0002 - val_loss 0.0003 - SDR 0.8967 - R_ave 2.5199\n",
      "Epoch [26/1000]\n"
     ]
    },
    {
     "name": "stderr",
     "output_type": "stream",
     "text": [
      "100%|██████████| 60/60 [00:24<00:00,  2.47it/s, loss=0.000197]\n",
      "100%|██████████| 26/26 [00:16<00:00,  1.53it/s, val_loss=0.000206, SDR=0.914, R_ave=2.06]\n",
      "  0%|          | 0/60 [00:00<?, ?it/s]"
     ]
    },
    {
     "name": "stdout",
     "output_type": "stream",
     "text": [
      "loss 0.0002 - val_loss 0.0002 - SDR 0.9136 - R_ave 2.0610\n",
      "=> saved best model\n",
      "Epoch [27/1000]\n"
     ]
    },
    {
     "name": "stderr",
     "output_type": "stream",
     "text": [
      "100%|██████████| 60/60 [00:24<00:00,  2.44it/s, loss=0.000203]\n",
      "100%|██████████| 26/26 [00:17<00:00,  1.53it/s, val_loss=0.000241, SDR=0.906, R_ave=2.31]\n",
      "  0%|          | 0/60 [00:00<?, ?it/s]"
     ]
    },
    {
     "name": "stdout",
     "output_type": "stream",
     "text": [
      "loss 0.0002 - val_loss 0.0002 - SDR 0.9063 - R_ave 2.3128\n",
      "Epoch [28/1000]\n"
     ]
    },
    {
     "name": "stderr",
     "output_type": "stream",
     "text": [
      "100%|██████████| 60/60 [00:24<00:00,  2.43it/s, loss=0.000195]\n",
      "100%|██████████| 26/26 [00:16<00:00,  1.53it/s, val_loss=0.000378, SDR=0.892, R_ave=3.36]\n",
      "  0%|          | 0/60 [00:00<?, ?it/s]"
     ]
    },
    {
     "name": "stdout",
     "output_type": "stream",
     "text": [
      "loss 0.0002 - val_loss 0.0004 - SDR 0.8920 - R_ave 3.3643\n",
      "Epoch [29/1000]\n"
     ]
    },
    {
     "name": "stderr",
     "output_type": "stream",
     "text": [
      "100%|██████████| 60/60 [00:24<00:00,  2.47it/s, loss=0.000193]\n",
      "100%|██████████| 26/26 [00:16<00:00,  1.54it/s, val_loss=0.00022, SDR=0.921, R_ave=2.05] \n",
      "  0%|          | 0/60 [00:00<?, ?it/s]"
     ]
    },
    {
     "name": "stdout",
     "output_type": "stream",
     "text": [
      "loss 0.0002 - val_loss 0.0002 - SDR 0.9211 - R_ave 2.0468\n",
      "=> saved best model\n",
      "Epoch [30/1000]\n"
     ]
    },
    {
     "name": "stderr",
     "output_type": "stream",
     "text": [
      "100%|██████████| 60/60 [00:24<00:00,  2.43it/s, loss=0.000188]\n",
      "100%|██████████| 26/26 [00:17<00:00,  1.50it/s, val_loss=0.000249, SDR=0.913, R_ave=2.18]\n",
      "  0%|          | 0/60 [00:00<?, ?it/s]"
     ]
    },
    {
     "name": "stdout",
     "output_type": "stream",
     "text": [
      "loss 0.0002 - val_loss 0.0002 - SDR 0.9134 - R_ave 2.1834\n",
      "Epoch [31/1000]\n"
     ]
    },
    {
     "name": "stderr",
     "output_type": "stream",
     "text": [
      "100%|██████████| 60/60 [00:24<00:00,  2.43it/s, loss=0.000187]\n",
      "100%|██████████| 26/26 [00:16<00:00,  1.54it/s, val_loss=0.000222, SDR=0.919, R_ave=2.11]\n",
      "  0%|          | 0/60 [00:00<?, ?it/s]"
     ]
    },
    {
     "name": "stdout",
     "output_type": "stream",
     "text": [
      "loss 0.0002 - val_loss 0.0002 - SDR 0.9187 - R_ave 2.1107\n",
      "Epoch [32/1000]\n"
     ]
    },
    {
     "name": "stderr",
     "output_type": "stream",
     "text": [
      "100%|██████████| 60/60 [00:24<00:00,  2.46it/s, loss=0.000197]\n",
      "100%|██████████| 26/26 [00:16<00:00,  1.54it/s, val_loss=0.000241, SDR=0.932, R_ave=2]   \n",
      "  0%|          | 0/60 [00:00<?, ?it/s]"
     ]
    },
    {
     "name": "stdout",
     "output_type": "stream",
     "text": [
      "loss 0.0002 - val_loss 0.0002 - SDR 0.9322 - R_ave 2.0048\n",
      "=> saved best model\n",
      "Epoch [33/1000]\n"
     ]
    },
    {
     "name": "stderr",
     "output_type": "stream",
     "text": [
      "100%|██████████| 60/60 [00:24<00:00,  2.44it/s, loss=0.000174]\n",
      "100%|██████████| 26/26 [00:17<00:00,  1.50it/s, val_loss=0.000204, SDR=0.936, R_ave=2.05]\n",
      "  0%|          | 0/60 [00:00<?, ?it/s]"
     ]
    },
    {
     "name": "stdout",
     "output_type": "stream",
     "text": [
      "loss 0.0002 - val_loss 0.0002 - SDR 0.9356 - R_ave 2.0528\n",
      "Epoch [34/1000]\n"
     ]
    },
    {
     "name": "stderr",
     "output_type": "stream",
     "text": [
      "100%|██████████| 60/60 [00:24<00:00,  2.44it/s, loss=0.000185]\n",
      "100%|██████████| 26/26 [00:16<00:00,  1.53it/s, val_loss=0.000213, SDR=0.924, R_ave=2.08]\n",
      "  0%|          | 0/60 [00:00<?, ?it/s]"
     ]
    },
    {
     "name": "stdout",
     "output_type": "stream",
     "text": [
      "loss 0.0002 - val_loss 0.0002 - SDR 0.9243 - R_ave 2.0823\n",
      "Epoch [35/1000]\n"
     ]
    },
    {
     "name": "stderr",
     "output_type": "stream",
     "text": [
      "100%|██████████| 60/60 [00:24<00:00,  2.47it/s, loss=0.000186]\n",
      "100%|██████████| 26/26 [00:16<00:00,  1.55it/s, val_loss=0.000214, SDR=0.923, R_ave=1.95]\n",
      "  0%|          | 0/60 [00:00<?, ?it/s]"
     ]
    },
    {
     "name": "stdout",
     "output_type": "stream",
     "text": [
      "loss 0.0002 - val_loss 0.0002 - SDR 0.9234 - R_ave 1.9507\n",
      "=> saved best model\n",
      "Epoch [36/1000]\n"
     ]
    },
    {
     "name": "stderr",
     "output_type": "stream",
     "text": [
      "100%|██████████| 60/60 [00:24<00:00,  2.44it/s, loss=0.000179]\n",
      "100%|██████████| 26/26 [00:17<00:00,  1.50it/s, val_loss=0.000215, SDR=0.922, R_ave=2.21]\n",
      "  0%|          | 0/60 [00:00<?, ?it/s]"
     ]
    },
    {
     "name": "stdout",
     "output_type": "stream",
     "text": [
      "loss 0.0002 - val_loss 0.0002 - SDR 0.9219 - R_ave 2.2105\n",
      "Epoch [37/1000]\n"
     ]
    },
    {
     "name": "stderr",
     "output_type": "stream",
     "text": [
      "100%|██████████| 60/60 [00:24<00:00,  2.44it/s, loss=0.000178]\n",
      "100%|██████████| 26/26 [00:17<00:00,  1.52it/s, val_loss=0.000172, SDR=0.937, R_ave=1.82]\n",
      "  0%|          | 0/60 [00:00<?, ?it/s]"
     ]
    },
    {
     "name": "stdout",
     "output_type": "stream",
     "text": [
      "loss 0.0002 - val_loss 0.0002 - SDR 0.9369 - R_ave 1.8164\n",
      "=> saved best model\n",
      "Epoch [38/1000]\n"
     ]
    },
    {
     "name": "stderr",
     "output_type": "stream",
     "text": [
      "100%|██████████| 60/60 [00:24<00:00,  2.44it/s, loss=0.000171]\n",
      "100%|██████████| 26/26 [00:17<00:00,  1.53it/s, val_loss=0.000182, SDR=0.932, R_ave=1.93]\n",
      "  0%|          | 0/60 [00:00<?, ?it/s]"
     ]
    },
    {
     "name": "stdout",
     "output_type": "stream",
     "text": [
      "loss 0.0002 - val_loss 0.0002 - SDR 0.9324 - R_ave 1.9279\n",
      "Epoch [39/1000]\n"
     ]
    },
    {
     "name": "stderr",
     "output_type": "stream",
     "text": [
      "100%|██████████| 60/60 [00:24<00:00,  2.46it/s, loss=0.000164]\n",
      "100%|██████████| 26/26 [00:17<00:00,  1.51it/s, val_loss=0.000165, SDR=0.942, R_ave=1.9] \n",
      "  0%|          | 0/60 [00:00<?, ?it/s]"
     ]
    },
    {
     "name": "stdout",
     "output_type": "stream",
     "text": [
      "loss 0.0002 - val_loss 0.0002 - SDR 0.9417 - R_ave 1.8974\n",
      "Epoch [40/1000]\n"
     ]
    },
    {
     "name": "stderr",
     "output_type": "stream",
     "text": [
      "100%|██████████| 60/60 [00:24<00:00,  2.45it/s, loss=0.000176]\n",
      "100%|██████████| 26/26 [00:16<00:00,  1.55it/s, val_loss=0.000167, SDR=0.94, R_ave=1.74] \n",
      "  0%|          | 0/60 [00:00<?, ?it/s]"
     ]
    },
    {
     "name": "stdout",
     "output_type": "stream",
     "text": [
      "loss 0.0002 - val_loss 0.0002 - SDR 0.9404 - R_ave 1.7436\n",
      "=> saved best model\n",
      "Epoch [41/1000]\n"
     ]
    },
    {
     "name": "stderr",
     "output_type": "stream",
     "text": [
      "100%|██████████| 60/60 [00:24<00:00,  2.44it/s, loss=0.000169]\n",
      "100%|██████████| 26/26 [00:17<00:00,  1.53it/s, val_loss=0.000199, SDR=0.939, R_ave=1.86]\n",
      "  0%|          | 0/60 [00:00<?, ?it/s]"
     ]
    },
    {
     "name": "stdout",
     "output_type": "stream",
     "text": [
      "loss 0.0002 - val_loss 0.0002 - SDR 0.9394 - R_ave 1.8630\n",
      "Epoch [42/1000]\n"
     ]
    },
    {
     "name": "stderr",
     "output_type": "stream",
     "text": [
      "100%|██████████| 60/60 [00:24<00:00,  2.45it/s, loss=0.000167]\n",
      "100%|██████████| 26/26 [00:17<00:00,  1.51it/s, val_loss=0.000148, SDR=0.949, R_ave=1.63]\n",
      "  0%|          | 0/60 [00:00<?, ?it/s]"
     ]
    },
    {
     "name": "stdout",
     "output_type": "stream",
     "text": [
      "loss 0.0002 - val_loss 0.0001 - SDR 0.9486 - R_ave 1.6256\n",
      "=> saved best model\n",
      "Epoch [43/1000]\n"
     ]
    },
    {
     "name": "stderr",
     "output_type": "stream",
     "text": [
      "100%|██████████| 60/60 [00:24<00:00,  2.44it/s, loss=0.000165]\n",
      "100%|██████████| 26/26 [00:16<00:00,  1.54it/s, val_loss=0.000177, SDR=0.938, R_ave=1.77]\n",
      "  0%|          | 0/60 [00:00<?, ?it/s]"
     ]
    },
    {
     "name": "stdout",
     "output_type": "stream",
     "text": [
      "loss 0.0002 - val_loss 0.0002 - SDR 0.9383 - R_ave 1.7736\n",
      "Epoch [44/1000]\n"
     ]
    },
    {
     "name": "stderr",
     "output_type": "stream",
     "text": [
      "100%|██████████| 60/60 [00:24<00:00,  2.44it/s, loss=0.000172]\n",
      "100%|██████████| 26/26 [00:19<00:00,  1.32it/s, val_loss=0.000164, SDR=0.941, R_ave=1.78]\n",
      "  0%|          | 0/60 [00:00<?, ?it/s]"
     ]
    },
    {
     "name": "stdout",
     "output_type": "stream",
     "text": [
      "loss 0.0002 - val_loss 0.0002 - SDR 0.9412 - R_ave 1.7776\n",
      "Epoch [45/1000]\n"
     ]
    },
    {
     "name": "stderr",
     "output_type": "stream",
     "text": [
      "100%|██████████| 60/60 [00:24<00:00,  2.44it/s, loss=0.000163]\n",
      "100%|██████████| 26/26 [00:17<00:00,  1.53it/s, val_loss=0.000154, SDR=0.95, R_ave=1.74] \n",
      "  0%|          | 0/60 [00:00<?, ?it/s]"
     ]
    },
    {
     "name": "stdout",
     "output_type": "stream",
     "text": [
      "loss 0.0002 - val_loss 0.0002 - SDR 0.9499 - R_ave 1.7381\n",
      "Epoch [46/1000]\n"
     ]
    },
    {
     "name": "stderr",
     "output_type": "stream",
     "text": [
      "100%|██████████| 60/60 [00:24<00:00,  2.43it/s, loss=0.000162]\n",
      "100%|██████████| 26/26 [00:16<00:00,  1.55it/s, val_loss=0.000213, SDR=0.934, R_ave=1.91]\n",
      "  0%|          | 0/60 [00:00<?, ?it/s]"
     ]
    },
    {
     "name": "stdout",
     "output_type": "stream",
     "text": [
      "loss 0.0002 - val_loss 0.0002 - SDR 0.9340 - R_ave 1.9106\n",
      "Epoch [47/1000]\n"
     ]
    },
    {
     "name": "stderr",
     "output_type": "stream",
     "text": [
      "100%|██████████| 60/60 [00:24<00:00,  2.46it/s, loss=0.000168]\n",
      "100%|██████████| 26/26 [00:16<00:00,  1.54it/s, val_loss=0.000145, SDR=0.951, R_ave=1.63]\n",
      "  0%|          | 0/60 [00:00<?, ?it/s]"
     ]
    },
    {
     "name": "stdout",
     "output_type": "stream",
     "text": [
      "loss 0.0002 - val_loss 0.0001 - SDR 0.9515 - R_ave 1.6342\n",
      "Epoch [48/1000]\n"
     ]
    },
    {
     "name": "stderr",
     "output_type": "stream",
     "text": [
      "100%|██████████| 60/60 [00:24<00:00,  2.43it/s, loss=0.000154]\n",
      "100%|██████████| 26/26 [00:16<00:00,  1.53it/s, val_loss=0.00015, SDR=0.951, R_ave=1.66] \n",
      "  0%|          | 0/60 [00:00<?, ?it/s]"
     ]
    },
    {
     "name": "stdout",
     "output_type": "stream",
     "text": [
      "loss 0.0002 - val_loss 0.0001 - SDR 0.9508 - R_ave 1.6639\n",
      "Epoch [49/1000]\n"
     ]
    },
    {
     "name": "stderr",
     "output_type": "stream",
     "text": [
      "100%|██████████| 60/60 [00:24<00:00,  2.46it/s, loss=0.000159]\n",
      "100%|██████████| 26/26 [00:16<00:00,  1.53it/s, val_loss=0.000152, SDR=0.951, R_ave=1.66]\n",
      "  0%|          | 0/60 [00:00<?, ?it/s]"
     ]
    },
    {
     "name": "stdout",
     "output_type": "stream",
     "text": [
      "loss 0.0002 - val_loss 0.0002 - SDR 0.9512 - R_ave 1.6647\n",
      "Epoch [50/1000]\n"
     ]
    },
    {
     "name": "stderr",
     "output_type": "stream",
     "text": [
      "100%|██████████| 60/60 [00:24<00:00,  2.45it/s, loss=0.000159]\n",
      "100%|██████████| 26/26 [00:17<00:00,  1.50it/s, val_loss=0.000168, SDR=0.941, R_ave=1.71]\n",
      "  0%|          | 0/60 [00:00<?, ?it/s]"
     ]
    },
    {
     "name": "stdout",
     "output_type": "stream",
     "text": [
      "loss 0.0002 - val_loss 0.0002 - SDR 0.9406 - R_ave 1.7132\n",
      "Epoch [51/1000]\n"
     ]
    },
    {
     "name": "stderr",
     "output_type": "stream",
     "text": [
      "100%|██████████| 60/60 [00:24<00:00,  2.43it/s, loss=0.000157]\n",
      "100%|██████████| 26/26 [00:16<00:00,  1.54it/s, val_loss=0.000138, SDR=0.954, R_ave=1.55]\n",
      "  0%|          | 0/60 [00:00<?, ?it/s]"
     ]
    },
    {
     "name": "stdout",
     "output_type": "stream",
     "text": [
      "loss 0.0002 - val_loss 0.0001 - SDR 0.9536 - R_ave 1.5475\n",
      "=> saved best model\n",
      "Epoch [52/1000]\n"
     ]
    },
    {
     "name": "stderr",
     "output_type": "stream",
     "text": [
      "100%|██████████| 60/60 [00:24<00:00,  2.45it/s, loss=0.000156]\n",
      "100%|██████████| 26/26 [00:16<00:00,  1.53it/s, val_loss=0.000205, SDR=0.942, R_ave=2.14]\n",
      "  0%|          | 0/60 [00:00<?, ?it/s]"
     ]
    },
    {
     "name": "stdout",
     "output_type": "stream",
     "text": [
      "loss 0.0002 - val_loss 0.0002 - SDR 0.9418 - R_ave 2.1388\n",
      "Epoch [53/1000]\n"
     ]
    },
    {
     "name": "stderr",
     "output_type": "stream",
     "text": [
      "100%|██████████| 60/60 [00:24<00:00,  2.46it/s, loss=0.000156]\n",
      "100%|██████████| 26/26 [00:17<00:00,  1.52it/s, val_loss=0.000169, SDR=0.945, R_ave=1.73]\n",
      "  0%|          | 0/60 [00:00<?, ?it/s]"
     ]
    },
    {
     "name": "stdout",
     "output_type": "stream",
     "text": [
      "loss 0.0002 - val_loss 0.0002 - SDR 0.9449 - R_ave 1.7342\n",
      "Epoch [54/1000]\n"
     ]
    },
    {
     "name": "stderr",
     "output_type": "stream",
     "text": [
      "100%|██████████| 60/60 [00:24<00:00,  2.43it/s, loss=0.000152]\n",
      "100%|██████████| 26/26 [00:16<00:00,  1.54it/s, val_loss=0.000141, SDR=0.953, R_ave=1.56]\n",
      "  0%|          | 0/60 [00:00<?, ?it/s]"
     ]
    },
    {
     "name": "stdout",
     "output_type": "stream",
     "text": [
      "loss 0.0002 - val_loss 0.0001 - SDR 0.9531 - R_ave 1.5644\n",
      "Epoch [55/1000]\n"
     ]
    },
    {
     "name": "stderr",
     "output_type": "stream",
     "text": [
      "100%|██████████| 60/60 [00:24<00:00,  2.46it/s, loss=0.00014] \n",
      "100%|██████████| 26/26 [00:16<00:00,  1.55it/s, val_loss=0.000142, SDR=0.949, R_ave=1.71]\n",
      "  0%|          | 0/60 [00:00<?, ?it/s]"
     ]
    },
    {
     "name": "stdout",
     "output_type": "stream",
     "text": [
      "loss 0.0001 - val_loss 0.0001 - SDR 0.9488 - R_ave 1.7056\n",
      "Epoch [56/1000]\n"
     ]
    },
    {
     "name": "stderr",
     "output_type": "stream",
     "text": [
      "100%|██████████| 60/60 [00:24<00:00,  2.45it/s, loss=0.000152]\n",
      "100%|██████████| 26/26 [00:17<00:00,  1.52it/s, val_loss=0.000153, SDR=0.945, R_ave=1.74]\n",
      "  0%|          | 0/60 [00:00<?, ?it/s]"
     ]
    },
    {
     "name": "stdout",
     "output_type": "stream",
     "text": [
      "loss 0.0002 - val_loss 0.0002 - SDR 0.9446 - R_ave 1.7363\n",
      "Epoch [57/1000]\n"
     ]
    },
    {
     "name": "stderr",
     "output_type": "stream",
     "text": [
      "100%|██████████| 60/60 [00:24<00:00,  2.43it/s, loss=0.000163]\n",
      "100%|██████████| 26/26 [00:16<00:00,  1.54it/s, val_loss=0.000184, SDR=0.942, R_ave=1.91]\n",
      "  0%|          | 0/60 [00:00<?, ?it/s]"
     ]
    },
    {
     "name": "stdout",
     "output_type": "stream",
     "text": [
      "loss 0.0002 - val_loss 0.0002 - SDR 0.9415 - R_ave 1.9092\n",
      "Epoch [58/1000]\n"
     ]
    },
    {
     "name": "stderr",
     "output_type": "stream",
     "text": [
      "100%|██████████| 60/60 [00:24<00:00,  2.47it/s, loss=0.000151]\n",
      "100%|██████████| 26/26 [00:16<00:00,  1.54it/s, val_loss=0.000134, SDR=0.951, R_ave=1.59]\n",
      "  0%|          | 0/60 [00:00<?, ?it/s]"
     ]
    },
    {
     "name": "stdout",
     "output_type": "stream",
     "text": [
      "loss 0.0002 - val_loss 0.0001 - SDR 0.9513 - R_ave 1.5937\n",
      "Epoch [59/1000]\n"
     ]
    },
    {
     "name": "stderr",
     "output_type": "stream",
     "text": [
      "100%|██████████| 60/60 [00:24<00:00,  2.46it/s, loss=0.000152]\n",
      "100%|██████████| 26/26 [00:17<00:00,  1.51it/s, val_loss=0.00018, SDR=0.949, R_ave=1.72] \n",
      "  0%|          | 0/60 [00:00<?, ?it/s]"
     ]
    },
    {
     "name": "stdout",
     "output_type": "stream",
     "text": [
      "loss 0.0002 - val_loss 0.0002 - SDR 0.9494 - R_ave 1.7179\n",
      "Epoch [60/1000]\n"
     ]
    },
    {
     "name": "stderr",
     "output_type": "stream",
     "text": [
      "100%|██████████| 60/60 [00:24<00:00,  2.44it/s, loss=0.000151]\n",
      "100%|██████████| 26/26 [00:16<00:00,  1.54it/s, val_loss=0.000176, SDR=0.941, R_ave=1.89]\n",
      "  0%|          | 0/60 [00:00<?, ?it/s]"
     ]
    },
    {
     "name": "stdout",
     "output_type": "stream",
     "text": [
      "loss 0.0002 - val_loss 0.0002 - SDR 0.9412 - R_ave 1.8930\n",
      "Epoch [61/1000]\n"
     ]
    },
    {
     "name": "stderr",
     "output_type": "stream",
     "text": [
      "100%|██████████| 60/60 [00:24<00:00,  2.46it/s, loss=0.00015] \n",
      "100%|██████████| 26/26 [00:16<00:00,  1.54it/s, val_loss=0.000145, SDR=0.952, R_ave=1.66]\n",
      "  0%|          | 0/60 [00:00<?, ?it/s]"
     ]
    },
    {
     "name": "stdout",
     "output_type": "stream",
     "text": [
      "loss 0.0002 - val_loss 0.0001 - SDR 0.9516 - R_ave 1.6561\n",
      "Epoch [62/1000]\n"
     ]
    },
    {
     "name": "stderr",
     "output_type": "stream",
     "text": [
      "100%|██████████| 60/60 [00:24<00:00,  2.46it/s, loss=0.000148]\n",
      "100%|██████████| 26/26 [00:17<00:00,  1.49it/s, val_loss=0.000133, SDR=0.957, R_ave=1.55]\n",
      "  0%|          | 0/60 [00:00<?, ?it/s]"
     ]
    },
    {
     "name": "stdout",
     "output_type": "stream",
     "text": [
      "loss 0.0001 - val_loss 0.0001 - SDR 0.9566 - R_ave 1.5487\n",
      "Epoch [63/1000]\n"
     ]
    },
    {
     "name": "stderr",
     "output_type": "stream",
     "text": [
      "100%|██████████| 60/60 [00:24<00:00,  2.46it/s, loss=0.00015] \n",
      "100%|██████████| 26/26 [00:16<00:00,  1.54it/s, val_loss=0.000172, SDR=0.946, R_ave=1.69]\n",
      "  0%|          | 0/60 [00:00<?, ?it/s]"
     ]
    },
    {
     "name": "stdout",
     "output_type": "stream",
     "text": [
      "loss 0.0001 - val_loss 0.0002 - SDR 0.9462 - R_ave 1.6936\n",
      "Epoch [64/1000]\n"
     ]
    },
    {
     "name": "stderr",
     "output_type": "stream",
     "text": [
      "100%|██████████| 60/60 [00:24<00:00,  2.47it/s, loss=0.000153]\n",
      "100%|██████████| 26/26 [00:16<00:00,  1.54it/s, val_loss=0.000137, SDR=0.955, R_ave=1.6] \n",
      "  0%|          | 0/60 [00:00<?, ?it/s]"
     ]
    },
    {
     "name": "stdout",
     "output_type": "stream",
     "text": [
      "loss 0.0002 - val_loss 0.0001 - SDR 0.9545 - R_ave 1.6031\n",
      "Epoch [65/1000]\n"
     ]
    },
    {
     "name": "stderr",
     "output_type": "stream",
     "text": [
      "100%|██████████| 60/60 [00:24<00:00,  2.46it/s, loss=0.000143]\n",
      "100%|██████████| 26/26 [00:17<00:00,  1.51it/s, val_loss=0.00014, SDR=0.956, R_ave=1.58] \n",
      "  0%|          | 0/60 [00:00<?, ?it/s]"
     ]
    },
    {
     "name": "stdout",
     "output_type": "stream",
     "text": [
      "loss 0.0001 - val_loss 0.0001 - SDR 0.9555 - R_ave 1.5825\n",
      "Epoch [66/1000]\n"
     ]
    },
    {
     "name": "stderr",
     "output_type": "stream",
     "text": [
      "100%|██████████| 60/60 [00:24<00:00,  2.45it/s, loss=0.000148]\n",
      "100%|██████████| 26/26 [00:16<00:00,  1.55it/s, val_loss=0.000136, SDR=0.96, R_ave=1.5]  \n",
      "  0%|          | 0/60 [00:00<?, ?it/s]"
     ]
    },
    {
     "name": "stdout",
     "output_type": "stream",
     "text": [
      "loss 0.0001 - val_loss 0.0001 - SDR 0.9602 - R_ave 1.4990\n",
      "=> saved best model\n",
      "Epoch [67/1000]\n"
     ]
    },
    {
     "name": "stderr",
     "output_type": "stream",
     "text": [
      "100%|██████████| 60/60 [00:24<00:00,  2.44it/s, loss=0.000144]\n",
      "100%|██████████| 26/26 [00:16<00:00,  1.53it/s, val_loss=0.000142, SDR=0.951, R_ave=1.62]\n",
      "  0%|          | 0/60 [00:00<?, ?it/s]"
     ]
    },
    {
     "name": "stdout",
     "output_type": "stream",
     "text": [
      "loss 0.0001 - val_loss 0.0001 - SDR 0.9515 - R_ave 1.6160\n",
      "Epoch [68/1000]\n"
     ]
    },
    {
     "name": "stderr",
     "output_type": "stream",
     "text": [
      "100%|██████████| 60/60 [00:24<00:00,  2.45it/s, loss=0.000149]\n",
      "100%|██████████| 26/26 [00:17<00:00,  1.52it/s, val_loss=0.000141, SDR=0.953, R_ave=1.6] \n",
      "  0%|          | 0/60 [00:00<?, ?it/s]"
     ]
    },
    {
     "name": "stdout",
     "output_type": "stream",
     "text": [
      "loss 0.0001 - val_loss 0.0001 - SDR 0.9528 - R_ave 1.5973\n",
      "Epoch [69/1000]\n"
     ]
    },
    {
     "name": "stderr",
     "output_type": "stream",
     "text": [
      "100%|██████████| 60/60 [00:24<00:00,  2.45it/s, loss=0.000149]\n",
      "100%|██████████| 26/26 [00:16<00:00,  1.54it/s, val_loss=0.000143, SDR=0.955, R_ave=1.57]\n",
      "  0%|          | 0/60 [00:00<?, ?it/s]"
     ]
    },
    {
     "name": "stdout",
     "output_type": "stream",
     "text": [
      "loss 0.0001 - val_loss 0.0001 - SDR 0.9547 - R_ave 1.5747\n",
      "Epoch [70/1000]\n"
     ]
    },
    {
     "name": "stderr",
     "output_type": "stream",
     "text": [
      "100%|██████████| 60/60 [00:24<00:00,  2.47it/s, loss=0.000141]\n",
      "100%|██████████| 26/26 [00:16<00:00,  1.54it/s, val_loss=0.000131, SDR=0.956, R_ave=1.68]\n",
      "  0%|          | 0/60 [00:00<?, ?it/s]"
     ]
    },
    {
     "name": "stdout",
     "output_type": "stream",
     "text": [
      "loss 0.0001 - val_loss 0.0001 - SDR 0.9561 - R_ave 1.6787\n",
      "Epoch [71/1000]\n"
     ]
    },
    {
     "name": "stderr",
     "output_type": "stream",
     "text": [
      "100%|██████████| 60/60 [00:24<00:00,  2.44it/s, loss=0.000143]\n",
      "100%|██████████| 26/26 [00:17<00:00,  1.51it/s, val_loss=0.000148, SDR=0.952, R_ave=1.68]\n",
      "  0%|          | 0/60 [00:00<?, ?it/s]"
     ]
    },
    {
     "name": "stdout",
     "output_type": "stream",
     "text": [
      "loss 0.0001 - val_loss 0.0001 - SDR 0.9521 - R_ave 1.6829\n",
      "Epoch [72/1000]\n"
     ]
    },
    {
     "name": "stderr",
     "output_type": "stream",
     "text": [
      "100%|██████████| 60/60 [00:24<00:00,  2.46it/s, loss=0.000144]\n",
      "100%|██████████| 26/26 [00:16<00:00,  1.54it/s, val_loss=0.000128, SDR=0.958, R_ave=1.53]\n",
      "  0%|          | 0/60 [00:00<?, ?it/s]"
     ]
    },
    {
     "name": "stdout",
     "output_type": "stream",
     "text": [
      "loss 0.0001 - val_loss 0.0001 - SDR 0.9576 - R_ave 1.5338\n",
      "Epoch [73/1000]\n"
     ]
    },
    {
     "name": "stderr",
     "output_type": "stream",
     "text": [
      "100%|██████████| 60/60 [00:24<00:00,  2.45it/s, loss=0.000141]\n",
      "100%|██████████| 26/26 [00:16<00:00,  1.55it/s, val_loss=0.000142, SDR=0.958, R_ave=1.53]\n",
      "  0%|          | 0/60 [00:00<?, ?it/s]"
     ]
    },
    {
     "name": "stdout",
     "output_type": "stream",
     "text": [
      "loss 0.0001 - val_loss 0.0001 - SDR 0.9582 - R_ave 1.5261\n",
      "Epoch [74/1000]\n"
     ]
    },
    {
     "name": "stderr",
     "output_type": "stream",
     "text": [
      "100%|██████████| 60/60 [00:24<00:00,  2.44it/s, loss=0.000147]\n",
      "100%|██████████| 26/26 [00:16<00:00,  1.53it/s, val_loss=0.000153, SDR=0.952, R_ave=1.68]\n",
      "  0%|          | 0/60 [00:00<?, ?it/s]"
     ]
    },
    {
     "name": "stdout",
     "output_type": "stream",
     "text": [
      "loss 0.0001 - val_loss 0.0002 - SDR 0.9520 - R_ave 1.6804\n",
      "Epoch [75/1000]\n"
     ]
    },
    {
     "name": "stderr",
     "output_type": "stream",
     "text": [
      "100%|██████████| 60/60 [00:24<00:00,  2.45it/s, loss=0.00014] \n",
      "100%|██████████| 26/26 [00:16<00:00,  1.54it/s, val_loss=0.000142, SDR=0.952, R_ave=1.6] \n",
      "  0%|          | 0/60 [00:00<?, ?it/s]"
     ]
    },
    {
     "name": "stdout",
     "output_type": "stream",
     "text": [
      "loss 0.0001 - val_loss 0.0001 - SDR 0.9516 - R_ave 1.6046\n",
      "Epoch [76/1000]\n"
     ]
    },
    {
     "name": "stderr",
     "output_type": "stream",
     "text": [
      "100%|██████████| 60/60 [00:24<00:00,  2.46it/s, loss=0.000143]\n",
      "100%|██████████| 26/26 [00:16<00:00,  1.54it/s, val_loss=0.000137, SDR=0.96, R_ave=1.54] \n",
      "  0%|          | 0/60 [00:00<?, ?it/s]"
     ]
    },
    {
     "name": "stdout",
     "output_type": "stream",
     "text": [
      "loss 0.0001 - val_loss 0.0001 - SDR 0.9602 - R_ave 1.5385\n",
      "Epoch [77/1000]\n"
     ]
    },
    {
     "name": "stderr",
     "output_type": "stream",
     "text": [
      "100%|██████████| 60/60 [00:24<00:00,  2.44it/s, loss=0.000145]\n",
      "100%|██████████| 26/26 [00:16<00:00,  1.53it/s, val_loss=0.000144, SDR=0.956, R_ave=1.59]\n",
      "  0%|          | 0/60 [00:00<?, ?it/s]"
     ]
    },
    {
     "name": "stdout",
     "output_type": "stream",
     "text": [
      "loss 0.0001 - val_loss 0.0001 - SDR 0.9557 - R_ave 1.5851\n",
      "Epoch [78/1000]\n"
     ]
    },
    {
     "name": "stderr",
     "output_type": "stream",
     "text": [
      "100%|██████████| 60/60 [00:24<00:00,  2.47it/s, loss=0.000134]\n",
      "100%|██████████| 26/26 [00:16<00:00,  1.53it/s, val_loss=0.000159, SDR=0.951, R_ave=1.8] \n",
      "  0%|          | 0/60 [00:00<?, ?it/s]"
     ]
    },
    {
     "name": "stdout",
     "output_type": "stream",
     "text": [
      "loss 0.0001 - val_loss 0.0002 - SDR 0.9510 - R_ave 1.7995\n",
      "Epoch [79/1000]\n"
     ]
    },
    {
     "name": "stderr",
     "output_type": "stream",
     "text": [
      "100%|██████████| 60/60 [00:24<00:00,  2.46it/s, loss=0.000134]\n",
      "100%|██████████| 26/26 [00:16<00:00,  1.53it/s, val_loss=0.000135, SDR=0.961, R_ave=1.51]\n",
      "  0%|          | 0/60 [00:00<?, ?it/s]"
     ]
    },
    {
     "name": "stdout",
     "output_type": "stream",
     "text": [
      "loss 0.0001 - val_loss 0.0001 - SDR 0.9614 - R_ave 1.5112\n",
      "Epoch [80/1000]\n"
     ]
    },
    {
     "name": "stderr",
     "output_type": "stream",
     "text": [
      "100%|██████████| 60/60 [00:24<00:00,  2.45it/s, loss=0.000144]\n",
      "100%|██████████| 26/26 [00:16<00:00,  1.54it/s, val_loss=0.000153, SDR=0.956, R_ave=1.69]\n",
      "  0%|          | 0/60 [00:00<?, ?it/s]"
     ]
    },
    {
     "name": "stdout",
     "output_type": "stream",
     "text": [
      "loss 0.0001 - val_loss 0.0002 - SDR 0.9557 - R_ave 1.6874\n",
      "Epoch [81/1000]\n"
     ]
    },
    {
     "name": "stderr",
     "output_type": "stream",
     "text": [
      "100%|██████████| 60/60 [00:24<00:00,  2.46it/s, loss=0.000141]\n",
      "100%|██████████| 26/26 [00:17<00:00,  1.53it/s, val_loss=0.000138, SDR=0.957, R_ave=1.63]\n",
      "  0%|          | 0/60 [00:00<?, ?it/s]"
     ]
    },
    {
     "name": "stdout",
     "output_type": "stream",
     "text": [
      "loss 0.0001 - val_loss 0.0001 - SDR 0.9566 - R_ave 1.6262\n",
      "Epoch [82/1000]\n"
     ]
    },
    {
     "name": "stderr",
     "output_type": "stream",
     "text": [
      "100%|██████████| 60/60 [00:24<00:00,  2.46it/s, loss=0.000136]\n",
      "100%|██████████| 26/26 [00:17<00:00,  1.52it/s, val_loss=0.000123, SDR=0.959, R_ave=1.55]\n",
      "  0%|          | 0/60 [00:00<?, ?it/s]"
     ]
    },
    {
     "name": "stdout",
     "output_type": "stream",
     "text": [
      "loss 0.0001 - val_loss 0.0001 - SDR 0.9590 - R_ave 1.5483\n",
      "Epoch [83/1000]\n"
     ]
    },
    {
     "name": "stderr",
     "output_type": "stream",
     "text": [
      "100%|██████████| 60/60 [00:24<00:00,  2.42it/s, loss=0.000131]\n",
      "100%|██████████| 26/26 [00:16<00:00,  1.54it/s, val_loss=0.000165, SDR=0.947, R_ave=1.8] \n",
      "  0%|          | 0/60 [00:00<?, ?it/s]"
     ]
    },
    {
     "name": "stdout",
     "output_type": "stream",
     "text": [
      "loss 0.0001 - val_loss 0.0002 - SDR 0.9473 - R_ave 1.7996\n",
      "Epoch [84/1000]\n"
     ]
    },
    {
     "name": "stderr",
     "output_type": "stream",
     "text": [
      "100%|██████████| 60/60 [00:24<00:00,  2.46it/s, loss=0.000151]\n",
      "100%|██████████| 26/26 [00:16<00:00,  1.54it/s, val_loss=0.000147, SDR=0.955, R_ave=1.7] \n",
      "  0%|          | 0/60 [00:00<?, ?it/s]"
     ]
    },
    {
     "name": "stdout",
     "output_type": "stream",
     "text": [
      "loss 0.0002 - val_loss 0.0001 - SDR 0.9545 - R_ave 1.6994\n",
      "Epoch [85/1000]\n"
     ]
    },
    {
     "name": "stderr",
     "output_type": "stream",
     "text": [
      "100%|██████████| 60/60 [00:24<00:00,  2.46it/s, loss=0.000135]\n",
      "100%|██████████| 26/26 [00:17<00:00,  1.52it/s, val_loss=0.000139, SDR=0.956, R_ave=1.58]\n",
      "  0%|          | 0/60 [00:00<?, ?it/s]"
     ]
    },
    {
     "name": "stdout",
     "output_type": "stream",
     "text": [
      "loss 0.0001 - val_loss 0.0001 - SDR 0.9560 - R_ave 1.5763\n",
      "Epoch [86/1000]\n"
     ]
    },
    {
     "name": "stderr",
     "output_type": "stream",
     "text": [
      "100%|██████████| 60/60 [00:24<00:00,  2.44it/s, loss=0.000136]\n",
      "100%|██████████| 26/26 [00:16<00:00,  1.54it/s, val_loss=0.00015, SDR=0.954, R_ave=1.62] \n",
      "  0%|          | 0/60 [00:00<?, ?it/s]"
     ]
    },
    {
     "name": "stdout",
     "output_type": "stream",
     "text": [
      "loss 0.0001 - val_loss 0.0001 - SDR 0.9536 - R_ave 1.6246\n",
      "Epoch [87/1000]\n"
     ]
    },
    {
     "name": "stderr",
     "output_type": "stream",
     "text": [
      "100%|██████████| 60/60 [00:24<00:00,  2.46it/s, loss=0.000143]\n",
      "100%|██████████| 26/26 [00:16<00:00,  1.54it/s, val_loss=0.000133, SDR=0.956, R_ave=1.56]\n",
      "  0%|          | 0/60 [00:00<?, ?it/s]"
     ]
    },
    {
     "name": "stdout",
     "output_type": "stream",
     "text": [
      "loss 0.0001 - val_loss 0.0001 - SDR 0.9563 - R_ave 1.5568\n",
      "Epoch [88/1000]\n"
     ]
    },
    {
     "name": "stderr",
     "output_type": "stream",
     "text": [
      "100%|██████████| 60/60 [00:24<00:00,  2.44it/s, loss=0.000135]\n",
      "100%|██████████| 26/26 [00:17<00:00,  1.49it/s, val_loss=0.000144, SDR=0.959, R_ave=1.57]\n",
      "  0%|          | 0/60 [00:00<?, ?it/s]"
     ]
    },
    {
     "name": "stdout",
     "output_type": "stream",
     "text": [
      "loss 0.0001 - val_loss 0.0001 - SDR 0.9589 - R_ave 1.5733\n",
      "Epoch [89/1000]\n"
     ]
    },
    {
     "name": "stderr",
     "output_type": "stream",
     "text": [
      "100%|██████████| 60/60 [00:24<00:00,  2.45it/s, loss=0.000135]\n",
      "100%|██████████| 26/26 [00:16<00:00,  1.54it/s, val_loss=0.000123, SDR=0.962, R_ave=1.49]\n",
      "  0%|          | 0/60 [00:00<?, ?it/s]"
     ]
    },
    {
     "name": "stdout",
     "output_type": "stream",
     "text": [
      "loss 0.0001 - val_loss 0.0001 - SDR 0.9622 - R_ave 1.4939\n",
      "=> saved best model\n",
      "Epoch [90/1000]\n"
     ]
    },
    {
     "name": "stderr",
     "output_type": "stream",
     "text": [
      "100%|██████████| 60/60 [00:24<00:00,  2.44it/s, loss=0.000139]\n",
      "100%|██████████| 26/26 [00:16<00:00,  1.53it/s, val_loss=0.000184, SDR=0.937, R_ave=2.14]\n",
      "  0%|          | 0/60 [00:00<?, ?it/s]"
     ]
    },
    {
     "name": "stdout",
     "output_type": "stream",
     "text": [
      "loss 0.0001 - val_loss 0.0002 - SDR 0.9367 - R_ave 2.1366\n",
      "Epoch [91/1000]\n"
     ]
    },
    {
     "name": "stderr",
     "output_type": "stream",
     "text": [
      "100%|██████████| 60/60 [00:24<00:00,  2.45it/s, loss=0.000131]\n",
      "100%|██████████| 26/26 [00:17<00:00,  1.51it/s, val_loss=0.000128, SDR=0.96, R_ave=1.55] \n",
      "  0%|          | 0/60 [00:00<?, ?it/s]"
     ]
    },
    {
     "name": "stdout",
     "output_type": "stream",
     "text": [
      "loss 0.0001 - val_loss 0.0001 - SDR 0.9603 - R_ave 1.5496\n",
      "Epoch [92/1000]\n"
     ]
    },
    {
     "name": "stderr",
     "output_type": "stream",
     "text": [
      "100%|██████████| 60/60 [00:24<00:00,  2.45it/s, loss=0.000125]\n",
      "100%|██████████| 26/26 [00:16<00:00,  1.55it/s, val_loss=0.000124, SDR=0.956, R_ave=1.55]\n",
      "  0%|          | 0/60 [00:00<?, ?it/s]"
     ]
    },
    {
     "name": "stdout",
     "output_type": "stream",
     "text": [
      "loss 0.0001 - val_loss 0.0001 - SDR 0.9563 - R_ave 1.5495\n",
      "Epoch [93/1000]\n"
     ]
    },
    {
     "name": "stderr",
     "output_type": "stream",
     "text": [
      "100%|██████████| 60/60 [00:24<00:00,  2.46it/s, loss=0.000136]\n",
      "100%|██████████| 26/26 [00:16<00:00,  1.54it/s, val_loss=0.000148, SDR=0.957, R_ave=1.58]\n",
      "  0%|          | 0/60 [00:00<?, ?it/s]"
     ]
    },
    {
     "name": "stdout",
     "output_type": "stream",
     "text": [
      "loss 0.0001 - val_loss 0.0001 - SDR 0.9573 - R_ave 1.5840\n",
      "Epoch [94/1000]\n"
     ]
    },
    {
     "name": "stderr",
     "output_type": "stream",
     "text": [
      "100%|██████████| 60/60 [00:24<00:00,  2.44it/s, loss=0.000139]\n",
      "100%|██████████| 26/26 [00:17<00:00,  1.50it/s, val_loss=0.000141, SDR=0.959, R_ave=1.6] \n",
      "  0%|          | 0/60 [00:00<?, ?it/s]"
     ]
    },
    {
     "name": "stdout",
     "output_type": "stream",
     "text": [
      "loss 0.0001 - val_loss 0.0001 - SDR 0.9586 - R_ave 1.5955\n",
      "Epoch [95/1000]\n"
     ]
    },
    {
     "name": "stderr",
     "output_type": "stream",
     "text": [
      "100%|██████████| 60/60 [00:24<00:00,  2.46it/s, loss=0.000127]\n",
      "100%|██████████| 26/26 [00:16<00:00,  1.54it/s, val_loss=0.000126, SDR=0.964, R_ave=1.55]\n",
      "  0%|          | 0/60 [00:00<?, ?it/s]"
     ]
    },
    {
     "name": "stdout",
     "output_type": "stream",
     "text": [
      "loss 0.0001 - val_loss 0.0001 - SDR 0.9643 - R_ave 1.5477\n",
      "Epoch [96/1000]\n"
     ]
    },
    {
     "name": "stderr",
     "output_type": "stream",
     "text": [
      "100%|██████████| 60/60 [00:24<00:00,  2.46it/s, loss=0.00013] \n",
      "100%|██████████| 26/26 [00:16<00:00,  1.54it/s, val_loss=0.000123, SDR=0.96, R_ave=1.52] \n",
      "  0%|          | 0/60 [00:00<?, ?it/s]"
     ]
    },
    {
     "name": "stdout",
     "output_type": "stream",
     "text": [
      "loss 0.0001 - val_loss 0.0001 - SDR 0.9595 - R_ave 1.5175\n",
      "Epoch [97/1000]\n"
     ]
    },
    {
     "name": "stderr",
     "output_type": "stream",
     "text": [
      "100%|██████████| 60/60 [00:24<00:00,  2.44it/s, loss=0.000133]\n",
      "100%|██████████| 26/26 [00:17<00:00,  1.49it/s, val_loss=0.000158, SDR=0.95, R_ave=1.78] \n",
      "  0%|          | 0/60 [00:00<?, ?it/s]"
     ]
    },
    {
     "name": "stdout",
     "output_type": "stream",
     "text": [
      "loss 0.0001 - val_loss 0.0002 - SDR 0.9504 - R_ave 1.7830\n",
      "Epoch [98/1000]\n"
     ]
    },
    {
     "name": "stderr",
     "output_type": "stream",
     "text": [
      "100%|██████████| 60/60 [00:24<00:00,  2.46it/s, loss=0.000138]\n",
      "100%|██████████| 26/26 [00:16<00:00,  1.54it/s, val_loss=0.000148, SDR=0.959, R_ave=1.58]\n",
      "  0%|          | 0/60 [00:00<?, ?it/s]"
     ]
    },
    {
     "name": "stdout",
     "output_type": "stream",
     "text": [
      "loss 0.0001 - val_loss 0.0001 - SDR 0.9592 - R_ave 1.5809\n",
      "Epoch [99/1000]\n"
     ]
    },
    {
     "name": "stderr",
     "output_type": "stream",
     "text": [
      "100%|██████████| 60/60 [00:24<00:00,  2.46it/s, loss=0.000131]\n",
      "100%|██████████| 26/26 [00:16<00:00,  1.53it/s, val_loss=0.000123, SDR=0.964, R_ave=1.5] \n",
      "  0%|          | 0/60 [00:00<?, ?it/s]"
     ]
    },
    {
     "name": "stdout",
     "output_type": "stream",
     "text": [
      "loss 0.0001 - val_loss 0.0001 - SDR 0.9635 - R_ave 1.5005\n",
      "Epoch [100/1000]\n"
     ]
    },
    {
     "name": "stderr",
     "output_type": "stream",
     "text": [
      "100%|██████████| 60/60 [00:24<00:00,  2.41it/s, loss=0.000128]\n",
      "100%|██████████| 26/26 [00:17<00:00,  1.53it/s, val_loss=0.000143, SDR=0.959, R_ave=1.59]\n",
      "  0%|          | 0/60 [00:00<?, ?it/s]"
     ]
    },
    {
     "name": "stdout",
     "output_type": "stream",
     "text": [
      "loss 0.0001 - val_loss 0.0001 - SDR 0.9589 - R_ave 1.5948\n",
      "Epoch [101/1000]\n"
     ]
    },
    {
     "name": "stderr",
     "output_type": "stream",
     "text": [
      "100%|██████████| 60/60 [00:24<00:00,  2.45it/s, loss=0.000134]\n",
      "100%|██████████| 26/26 [00:16<00:00,  1.55it/s, val_loss=0.000141, SDR=0.956, R_ave=1.62]\n",
      "  0%|          | 0/60 [00:00<?, ?it/s]"
     ]
    },
    {
     "name": "stdout",
     "output_type": "stream",
     "text": [
      "loss 0.0001 - val_loss 0.0001 - SDR 0.9565 - R_ave 1.6189\n",
      "Epoch [102/1000]\n"
     ]
    },
    {
     "name": "stderr",
     "output_type": "stream",
     "text": [
      "100%|██████████| 60/60 [00:24<00:00,  2.46it/s, loss=0.000138]\n",
      "100%|██████████| 26/26 [00:16<00:00,  1.54it/s, val_loss=0.000138, SDR=0.959, R_ave=1.61]\n",
      "  0%|          | 0/60 [00:00<?, ?it/s]"
     ]
    },
    {
     "name": "stdout",
     "output_type": "stream",
     "text": [
      "loss 0.0001 - val_loss 0.0001 - SDR 0.9590 - R_ave 1.6069\n",
      "Epoch [103/1000]\n"
     ]
    },
    {
     "name": "stderr",
     "output_type": "stream",
     "text": [
      "100%|██████████| 60/60 [00:24<00:00,  2.42it/s, loss=0.000131]\n",
      "100%|██████████| 26/26 [00:17<00:00,  1.50it/s, val_loss=0.00015, SDR=0.959, R_ave=1.57] \n",
      "  0%|          | 0/60 [00:00<?, ?it/s]"
     ]
    },
    {
     "name": "stdout",
     "output_type": "stream",
     "text": [
      "loss 0.0001 - val_loss 0.0002 - SDR 0.9587 - R_ave 1.5744\n",
      "Epoch [104/1000]\n"
     ]
    },
    {
     "name": "stderr",
     "output_type": "stream",
     "text": [
      "100%|██████████| 60/60 [00:24<00:00,  2.46it/s, loss=0.000136]\n",
      "100%|██████████| 26/26 [00:16<00:00,  1.55it/s, val_loss=0.000163, SDR=0.951, R_ave=1.69]\n",
      "  0%|          | 0/60 [00:00<?, ?it/s]"
     ]
    },
    {
     "name": "stdout",
     "output_type": "stream",
     "text": [
      "loss 0.0001 - val_loss 0.0002 - SDR 0.9510 - R_ave 1.6933\n",
      "Epoch [105/1000]\n"
     ]
    },
    {
     "name": "stderr",
     "output_type": "stream",
     "text": [
      "100%|██████████| 60/60 [00:24<00:00,  2.46it/s, loss=0.000134]\n",
      "100%|██████████| 26/26 [00:16<00:00,  1.54it/s, val_loss=0.000152, SDR=0.956, R_ave=1.6] \n",
      "  0%|          | 0/60 [00:00<?, ?it/s]"
     ]
    },
    {
     "name": "stdout",
     "output_type": "stream",
     "text": [
      "loss 0.0001 - val_loss 0.0002 - SDR 0.9563 - R_ave 1.5973\n",
      "Epoch [106/1000]\n"
     ]
    },
    {
     "name": "stderr",
     "output_type": "stream",
     "text": [
      "100%|██████████| 60/60 [00:24<00:00,  2.42it/s, loss=0.000127]\n",
      "100%|██████████| 26/26 [00:17<00:00,  1.53it/s, val_loss=0.00013, SDR=0.96, R_ave=1.5]   \n",
      "  0%|          | 0/60 [00:00<?, ?it/s]"
     ]
    },
    {
     "name": "stdout",
     "output_type": "stream",
     "text": [
      "loss 0.0001 - val_loss 0.0001 - SDR 0.9603 - R_ave 1.4995\n",
      "Epoch [107/1000]\n"
     ]
    },
    {
     "name": "stderr",
     "output_type": "stream",
     "text": [
      "100%|██████████| 60/60 [00:24<00:00,  2.47it/s, loss=0.000128]\n",
      "100%|██████████| 26/26 [00:16<00:00,  1.55it/s, val_loss=0.000133, SDR=0.959, R_ave=1.57]\n",
      "  0%|          | 0/60 [00:00<?, ?it/s]"
     ]
    },
    {
     "name": "stdout",
     "output_type": "stream",
     "text": [
      "loss 0.0001 - val_loss 0.0001 - SDR 0.9592 - R_ave 1.5682\n",
      "Epoch [108/1000]\n"
     ]
    },
    {
     "name": "stderr",
     "output_type": "stream",
     "text": [
      "100%|██████████| 60/60 [00:24<00:00,  2.46it/s, loss=0.000131]\n",
      "100%|██████████| 26/26 [00:17<00:00,  1.53it/s, val_loss=0.000134, SDR=0.955, R_ave=1.57]\n",
      "  0%|          | 0/60 [00:00<?, ?it/s]"
     ]
    },
    {
     "name": "stdout",
     "output_type": "stream",
     "text": [
      "loss 0.0001 - val_loss 0.0001 - SDR 0.9550 - R_ave 1.5695\n",
      "Epoch [109/1000]\n"
     ]
    },
    {
     "name": "stderr",
     "output_type": "stream",
     "text": [
      "100%|██████████| 60/60 [00:24<00:00,  2.43it/s, loss=0.000129]\n",
      "100%|██████████| 26/26 [00:17<00:00,  1.52it/s, val_loss=0.000167, SDR=0.954, R_ave=1.65]\n",
      "  0%|          | 0/60 [00:00<?, ?it/s]"
     ]
    },
    {
     "name": "stdout",
     "output_type": "stream",
     "text": [
      "loss 0.0001 - val_loss 0.0002 - SDR 0.9537 - R_ave 1.6534\n",
      "Epoch [110/1000]\n"
     ]
    },
    {
     "name": "stderr",
     "output_type": "stream",
     "text": [
      "100%|██████████| 60/60 [00:24<00:00,  2.45it/s, loss=0.000146]\n",
      "100%|██████████| 26/26 [00:16<00:00,  1.54it/s, val_loss=0.00014, SDR=0.955, R_ave=1.66] \n",
      "  0%|          | 0/60 [00:00<?, ?it/s]"
     ]
    },
    {
     "name": "stdout",
     "output_type": "stream",
     "text": [
      "loss 0.0001 - val_loss 0.0001 - SDR 0.9549 - R_ave 1.6606\n",
      "Epoch [111/1000]\n"
     ]
    },
    {
     "name": "stderr",
     "output_type": "stream",
     "text": [
      "100%|██████████| 60/60 [00:24<00:00,  2.46it/s, loss=0.000124]\n",
      "100%|██████████| 26/26 [00:17<00:00,  1.51it/s, val_loss=0.000146, SDR=0.95, R_ave=1.68] \n",
      "  0%|          | 0/60 [00:00<?, ?it/s]"
     ]
    },
    {
     "name": "stdout",
     "output_type": "stream",
     "text": [
      "loss 0.0001 - val_loss 0.0001 - SDR 0.9500 - R_ave 1.6792\n",
      "Epoch [112/1000]\n"
     ]
    },
    {
     "name": "stderr",
     "output_type": "stream",
     "text": [
      "100%|██████████| 60/60 [00:24<00:00,  2.44it/s, loss=0.000128]\n",
      "100%|██████████| 26/26 [00:16<00:00,  1.54it/s, val_loss=0.000125, SDR=0.96, R_ave=1.52] \n",
      "  0%|          | 0/60 [00:00<?, ?it/s]"
     ]
    },
    {
     "name": "stdout",
     "output_type": "stream",
     "text": [
      "loss 0.0001 - val_loss 0.0001 - SDR 0.9600 - R_ave 1.5227\n",
      "Epoch [113/1000]\n"
     ]
    },
    {
     "name": "stderr",
     "output_type": "stream",
     "text": [
      "100%|██████████| 60/60 [00:24<00:00,  2.47it/s, loss=0.000127]\n",
      "100%|██████████| 26/26 [00:16<00:00,  1.55it/s, val_loss=0.000154, SDR=0.956, R_ave=1.69]\n",
      "  0%|          | 0/60 [00:00<?, ?it/s]"
     ]
    },
    {
     "name": "stdout",
     "output_type": "stream",
     "text": [
      "loss 0.0001 - val_loss 0.0002 - SDR 0.9563 - R_ave 1.6859\n",
      "Epoch [114/1000]\n"
     ]
    },
    {
     "name": "stderr",
     "output_type": "stream",
     "text": [
      "100%|██████████| 60/60 [00:24<00:00,  2.47it/s, loss=0.000135]\n",
      "100%|██████████| 26/26 [00:17<00:00,  1.51it/s, val_loss=0.000136, SDR=0.96, R_ave=1.57] \n",
      "  0%|          | 0/60 [00:00<?, ?it/s]"
     ]
    },
    {
     "name": "stdout",
     "output_type": "stream",
     "text": [
      "loss 0.0001 - val_loss 0.0001 - SDR 0.9605 - R_ave 1.5747\n",
      "Epoch [115/1000]\n"
     ]
    },
    {
     "name": "stderr",
     "output_type": "stream",
     "text": [
      "100%|██████████| 60/60 [00:24<00:00,  2.44it/s, loss=0.00012] \n",
      "100%|██████████| 26/26 [00:16<00:00,  1.54it/s, val_loss=0.000132, SDR=0.965, R_ave=1.54]\n",
      "  0%|          | 0/60 [00:00<?, ?it/s]"
     ]
    },
    {
     "name": "stdout",
     "output_type": "stream",
     "text": [
      "loss 0.0001 - val_loss 0.0001 - SDR 0.9650 - R_ave 1.5386\n",
      "Epoch [116/1000]\n"
     ]
    },
    {
     "name": "stderr",
     "output_type": "stream",
     "text": [
      "100%|██████████| 60/60 [00:24<00:00,  2.46it/s, loss=0.000129]\n",
      "100%|██████████| 26/26 [00:16<00:00,  1.54it/s, val_loss=0.000155, SDR=0.953, R_ave=1.73]\n",
      "  0%|          | 0/60 [00:00<?, ?it/s]"
     ]
    },
    {
     "name": "stdout",
     "output_type": "stream",
     "text": [
      "loss 0.0001 - val_loss 0.0002 - SDR 0.9529 - R_ave 1.7278\n",
      "Epoch [117/1000]\n"
     ]
    },
    {
     "name": "stderr",
     "output_type": "stream",
     "text": [
      "100%|██████████| 60/60 [00:24<00:00,  2.45it/s, loss=0.000131]\n",
      "100%|██████████| 26/26 [00:17<00:00,  1.50it/s, val_loss=0.000126, SDR=0.955, R_ave=1.59]\n",
      "  0%|          | 0/60 [00:00<?, ?it/s]"
     ]
    },
    {
     "name": "stdout",
     "output_type": "stream",
     "text": [
      "loss 0.0001 - val_loss 0.0001 - SDR 0.9547 - R_ave 1.5885\n",
      "Epoch [118/1000]\n"
     ]
    },
    {
     "name": "stderr",
     "output_type": "stream",
     "text": [
      "100%|██████████| 60/60 [00:24<00:00,  2.46it/s, loss=0.000126]\n",
      "100%|██████████| 26/26 [00:16<00:00,  1.55it/s, val_loss=0.000139, SDR=0.959, R_ave=1.54]\n",
      "  0%|          | 0/60 [00:00<?, ?it/s]"
     ]
    },
    {
     "name": "stdout",
     "output_type": "stream",
     "text": [
      "loss 0.0001 - val_loss 0.0001 - SDR 0.9594 - R_ave 1.5352\n",
      "Epoch [119/1000]\n"
     ]
    },
    {
     "name": "stderr",
     "output_type": "stream",
     "text": [
      "100%|██████████| 60/60 [00:24<00:00,  2.44it/s, loss=0.000126]\n",
      "100%|██████████| 26/26 [00:16<00:00,  1.55it/s, val_loss=0.000142, SDR=0.96, R_ave=1.6]  \n",
      "  0%|          | 0/60 [00:00<?, ?it/s]"
     ]
    },
    {
     "name": "stdout",
     "output_type": "stream",
     "text": [
      "loss 0.0001 - val_loss 0.0001 - SDR 0.9597 - R_ave 1.6003\n",
      "Epoch [120/1000]\n"
     ]
    },
    {
     "name": "stderr",
     "output_type": "stream",
     "text": [
      "100%|██████████| 60/60 [00:24<00:00,  2.45it/s, loss=0.000131]\n",
      "100%|██████████| 26/26 [00:17<00:00,  1.51it/s, val_loss=0.000137, SDR=0.962, R_ave=1.62]\n",
      "  0%|          | 0/60 [00:00<?, ?it/s]"
     ]
    },
    {
     "name": "stdout",
     "output_type": "stream",
     "text": [
      "loss 0.0001 - val_loss 0.0001 - SDR 0.9621 - R_ave 1.6191\n",
      "Epoch [121/1000]\n"
     ]
    },
    {
     "name": "stderr",
     "output_type": "stream",
     "text": [
      "100%|██████████| 60/60 [00:24<00:00,  2.45it/s, loss=0.000125]\n",
      "100%|██████████| 26/26 [00:16<00:00,  1.54it/s, val_loss=0.000128, SDR=0.959, R_ave=1.53]\n",
      "  0%|          | 0/60 [00:00<?, ?it/s]"
     ]
    },
    {
     "name": "stdout",
     "output_type": "stream",
     "text": [
      "loss 0.0001 - val_loss 0.0001 - SDR 0.9594 - R_ave 1.5261\n",
      "Epoch [122/1000]\n"
     ]
    },
    {
     "name": "stderr",
     "output_type": "stream",
     "text": [
      "100%|██████████| 60/60 [00:24<00:00,  2.45it/s, loss=0.000126]\n",
      "100%|██████████| 26/26 [00:16<00:00,  1.54it/s, val_loss=0.000139, SDR=0.959, R_ave=1.56]\n",
      "  0%|          | 0/60 [00:00<?, ?it/s]"
     ]
    },
    {
     "name": "stdout",
     "output_type": "stream",
     "text": [
      "loss 0.0001 - val_loss 0.0001 - SDR 0.9590 - R_ave 1.5552\n",
      "Epoch [123/1000]\n"
     ]
    },
    {
     "name": "stderr",
     "output_type": "stream",
     "text": [
      "100%|██████████| 60/60 [00:24<00:00,  2.45it/s, loss=0.000136]\n",
      "100%|██████████| 26/26 [00:17<00:00,  1.52it/s, val_loss=0.000116, SDR=0.963, R_ave=1.47]\n",
      "  0%|          | 0/60 [00:00<?, ?it/s]"
     ]
    },
    {
     "name": "stdout",
     "output_type": "stream",
     "text": [
      "loss 0.0001 - val_loss 0.0001 - SDR 0.9631 - R_ave 1.4653\n",
      "=> saved best model\n",
      "Epoch [124/1000]\n"
     ]
    },
    {
     "name": "stderr",
     "output_type": "stream",
     "text": [
      "100%|██████████| 60/60 [00:24<00:00,  2.43it/s, loss=0.000124]\n",
      "100%|██████████| 26/26 [00:16<00:00,  1.53it/s, val_loss=0.000141, SDR=0.955, R_ave=1.64]\n",
      "  0%|          | 0/60 [00:00<?, ?it/s]"
     ]
    },
    {
     "name": "stdout",
     "output_type": "stream",
     "text": [
      "loss 0.0001 - val_loss 0.0001 - SDR 0.9549 - R_ave 1.6362\n",
      "Epoch [125/1000]\n"
     ]
    },
    {
     "name": "stderr",
     "output_type": "stream",
     "text": [
      "100%|██████████| 60/60 [00:24<00:00,  2.46it/s, loss=0.00012] \n",
      "100%|██████████| 26/26 [00:16<00:00,  1.54it/s, val_loss=0.000143, SDR=0.956, R_ave=1.61]\n",
      "  0%|          | 0/60 [00:00<?, ?it/s]"
     ]
    },
    {
     "name": "stdout",
     "output_type": "stream",
     "text": [
      "loss 0.0001 - val_loss 0.0001 - SDR 0.9558 - R_ave 1.6098\n",
      "Epoch [126/1000]\n"
     ]
    },
    {
     "name": "stderr",
     "output_type": "stream",
     "text": [
      "100%|██████████| 60/60 [00:24<00:00,  2.42it/s, loss=0.000127]\n",
      "100%|██████████| 26/26 [00:17<00:00,  1.52it/s, val_loss=0.000153, SDR=0.952, R_ave=1.63]\n",
      "  0%|          | 0/60 [00:00<?, ?it/s]"
     ]
    },
    {
     "name": "stdout",
     "output_type": "stream",
     "text": [
      "loss 0.0001 - val_loss 0.0002 - SDR 0.9524 - R_ave 1.6282\n",
      "Epoch [127/1000]\n"
     ]
    },
    {
     "name": "stderr",
     "output_type": "stream",
     "text": [
      "100%|██████████| 60/60 [00:24<00:00,  2.46it/s, loss=0.000131]\n",
      "100%|██████████| 26/26 [00:16<00:00,  1.55it/s, val_loss=0.000161, SDR=0.954, R_ave=1.68]\n",
      "  0%|          | 0/60 [00:00<?, ?it/s]"
     ]
    },
    {
     "name": "stdout",
     "output_type": "stream",
     "text": [
      "loss 0.0001 - val_loss 0.0002 - SDR 0.9536 - R_ave 1.6807\n",
      "Epoch [128/1000]\n"
     ]
    },
    {
     "name": "stderr",
     "output_type": "stream",
     "text": [
      "100%|██████████| 60/60 [00:24<00:00,  2.46it/s, loss=0.00013] \n",
      "100%|██████████| 26/26 [00:16<00:00,  1.54it/s, val_loss=0.000132, SDR=0.96, R_ave=1.54] \n",
      "  0%|          | 0/60 [00:00<?, ?it/s]"
     ]
    },
    {
     "name": "stdout",
     "output_type": "stream",
     "text": [
      "loss 0.0001 - val_loss 0.0001 - SDR 0.9598 - R_ave 1.5377\n",
      "Epoch [129/1000]\n"
     ]
    },
    {
     "name": "stderr",
     "output_type": "stream",
     "text": [
      "100%|██████████| 60/60 [00:24<00:00,  2.42it/s, loss=0.000125]\n",
      "100%|██████████| 26/26 [00:16<00:00,  1.54it/s, val_loss=0.00013, SDR=0.957, R_ave=1.51] \n",
      "  0%|          | 0/60 [00:00<?, ?it/s]"
     ]
    },
    {
     "name": "stdout",
     "output_type": "stream",
     "text": [
      "loss 0.0001 - val_loss 0.0001 - SDR 0.9574 - R_ave 1.5078\n",
      "Epoch [130/1000]\n"
     ]
    },
    {
     "name": "stderr",
     "output_type": "stream",
     "text": [
      "100%|██████████| 60/60 [00:24<00:00,  2.45it/s, loss=0.000128]\n",
      "100%|██████████| 26/26 [00:16<00:00,  1.55it/s, val_loss=0.000137, SDR=0.958, R_ave=1.58]\n",
      "  0%|          | 0/60 [00:00<?, ?it/s]"
     ]
    },
    {
     "name": "stdout",
     "output_type": "stream",
     "text": [
      "loss 0.0001 - val_loss 0.0001 - SDR 0.9582 - R_ave 1.5778\n",
      "Epoch [131/1000]\n"
     ]
    },
    {
     "name": "stderr",
     "output_type": "stream",
     "text": [
      "100%|██████████| 60/60 [00:24<00:00,  2.47it/s, loss=0.000124]\n",
      "100%|██████████| 26/26 [00:16<00:00,  1.54it/s, val_loss=0.000122, SDR=0.963, R_ave=1.51]\n",
      "  0%|          | 0/60 [00:00<?, ?it/s]"
     ]
    },
    {
     "name": "stdout",
     "output_type": "stream",
     "text": [
      "loss 0.0001 - val_loss 0.0001 - SDR 0.9634 - R_ave 1.5145\n",
      "Epoch [132/1000]\n"
     ]
    },
    {
     "name": "stderr",
     "output_type": "stream",
     "text": [
      "100%|██████████| 60/60 [00:24<00:00,  2.43it/s, loss=0.000115]\n",
      "100%|██████████| 26/26 [00:16<00:00,  1.54it/s, val_loss=0.000129, SDR=0.958, R_ave=1.57]\n",
      "  0%|          | 0/60 [00:00<?, ?it/s]"
     ]
    },
    {
     "name": "stdout",
     "output_type": "stream",
     "text": [
      "loss 0.0001 - val_loss 0.0001 - SDR 0.9582 - R_ave 1.5707\n",
      "Epoch [133/1000]\n"
     ]
    },
    {
     "name": "stderr",
     "output_type": "stream",
     "text": [
      "100%|██████████| 60/60 [00:24<00:00,  2.46it/s, loss=0.000124]\n",
      "100%|██████████| 26/26 [00:16<00:00,  1.55it/s, val_loss=0.000171, SDR=0.955, R_ave=1.58]\n",
      "  0%|          | 0/60 [00:00<?, ?it/s]"
     ]
    },
    {
     "name": "stdout",
     "output_type": "stream",
     "text": [
      "loss 0.0001 - val_loss 0.0002 - SDR 0.9545 - R_ave 1.5784\n",
      "Epoch [134/1000]\n"
     ]
    },
    {
     "name": "stderr",
     "output_type": "stream",
     "text": [
      "100%|██████████| 60/60 [00:24<00:00,  2.46it/s, loss=0.000135]\n",
      "100%|██████████| 26/26 [00:16<00:00,  1.54it/s, val_loss=0.000143, SDR=0.957, R_ave=1.62]\n",
      "  0%|          | 0/60 [00:00<?, ?it/s]"
     ]
    },
    {
     "name": "stdout",
     "output_type": "stream",
     "text": [
      "loss 0.0001 - val_loss 0.0001 - SDR 0.9568 - R_ave 1.6182\n",
      "Epoch [135/1000]\n"
     ]
    },
    {
     "name": "stderr",
     "output_type": "stream",
     "text": [
      "100%|██████████| 60/60 [00:24<00:00,  2.43it/s, loss=0.000116]\n",
      "100%|██████████| 26/26 [00:16<00:00,  1.54it/s, val_loss=0.000109, SDR=0.96, R_ave=1.48] \n",
      "  0%|          | 0/60 [00:00<?, ?it/s]"
     ]
    },
    {
     "name": "stdout",
     "output_type": "stream",
     "text": [
      "loss 0.0001 - val_loss 0.0001 - SDR 0.9600 - R_ave 1.4777\n",
      "Epoch [136/1000]\n"
     ]
    },
    {
     "name": "stderr",
     "output_type": "stream",
     "text": [
      "100%|██████████| 60/60 [00:24<00:00,  2.46it/s, loss=0.00011] \n",
      "100%|██████████| 26/26 [00:16<00:00,  1.55it/s, val_loss=0.000139, SDR=0.956, R_ave=1.6] \n",
      "  0%|          | 0/60 [00:00<?, ?it/s]"
     ]
    },
    {
     "name": "stdout",
     "output_type": "stream",
     "text": [
      "loss 0.0001 - val_loss 0.0001 - SDR 0.9557 - R_ave 1.6009\n",
      "Epoch [137/1000]\n"
     ]
    },
    {
     "name": "stderr",
     "output_type": "stream",
     "text": [
      "100%|██████████| 60/60 [00:24<00:00,  2.46it/s, loss=0.000126]\n",
      "100%|██████████| 26/26 [00:16<00:00,  1.53it/s, val_loss=0.000171, SDR=0.939, R_ave=1.67]\n",
      "  0%|          | 0/60 [00:00<?, ?it/s]"
     ]
    },
    {
     "name": "stdout",
     "output_type": "stream",
     "text": [
      "loss 0.0001 - val_loss 0.0002 - SDR 0.9391 - R_ave 1.6650\n",
      "Epoch [138/1000]\n"
     ]
    },
    {
     "name": "stderr",
     "output_type": "stream",
     "text": [
      "100%|██████████| 60/60 [00:24<00:00,  2.43it/s, loss=0.000136]\n",
      "100%|██████████| 26/26 [00:16<00:00,  1.55it/s, val_loss=0.000155, SDR=0.953, R_ave=1.71]\n",
      "  0%|          | 0/60 [00:00<?, ?it/s]"
     ]
    },
    {
     "name": "stdout",
     "output_type": "stream",
     "text": [
      "loss 0.0001 - val_loss 0.0002 - SDR 0.9533 - R_ave 1.7085\n",
      "Epoch [139/1000]\n"
     ]
    },
    {
     "name": "stderr",
     "output_type": "stream",
     "text": [
      "100%|██████████| 60/60 [00:24<00:00,  2.45it/s, loss=0.000123]\n",
      "100%|██████████| 26/26 [00:16<00:00,  1.54it/s, val_loss=0.00014, SDR=0.956, R_ave=1.58] \n",
      "  0%|          | 0/60 [00:00<?, ?it/s]"
     ]
    },
    {
     "name": "stdout",
     "output_type": "stream",
     "text": [
      "loss 0.0001 - val_loss 0.0001 - SDR 0.9561 - R_ave 1.5802\n",
      "Epoch [140/1000]\n"
     ]
    },
    {
     "name": "stderr",
     "output_type": "stream",
     "text": [
      "100%|██████████| 60/60 [00:24<00:00,  2.44it/s, loss=0.000116]\n",
      "100%|██████████| 26/26 [00:17<00:00,  1.53it/s, val_loss=0.00015, SDR=0.954, R_ave=1.66] \n",
      "  0%|          | 0/60 [00:00<?, ?it/s]"
     ]
    },
    {
     "name": "stdout",
     "output_type": "stream",
     "text": [
      "loss 0.0001 - val_loss 0.0001 - SDR 0.9539 - R_ave 1.6555\n",
      "Epoch [141/1000]\n"
     ]
    },
    {
     "name": "stderr",
     "output_type": "stream",
     "text": [
      "100%|██████████| 60/60 [00:24<00:00,  2.43it/s, loss=0.000121]\n",
      "100%|██████████| 26/26 [00:16<00:00,  1.54it/s, val_loss=0.000135, SDR=0.96, R_ave=1.52] \n",
      "  0%|          | 0/60 [00:00<?, ?it/s]"
     ]
    },
    {
     "name": "stdout",
     "output_type": "stream",
     "text": [
      "loss 0.0001 - val_loss 0.0001 - SDR 0.9603 - R_ave 1.5244\n",
      "Epoch [142/1000]\n"
     ]
    },
    {
     "name": "stderr",
     "output_type": "stream",
     "text": [
      "100%|██████████| 60/60 [00:24<00:00,  2.46it/s, loss=0.000122]\n",
      "100%|██████████| 26/26 [00:16<00:00,  1.55it/s, val_loss=0.000166, SDR=0.951, R_ave=1.66]\n",
      "  0%|          | 0/60 [00:00<?, ?it/s]"
     ]
    },
    {
     "name": "stdout",
     "output_type": "stream",
     "text": [
      "loss 0.0001 - val_loss 0.0002 - SDR 0.9513 - R_ave 1.6644\n",
      "Epoch [143/1000]\n"
     ]
    },
    {
     "name": "stderr",
     "output_type": "stream",
     "text": [
      "100%|██████████| 60/60 [00:24<00:00,  2.46it/s, loss=0.000113]\n",
      "100%|██████████| 26/26 [00:17<00:00,  1.51it/s, val_loss=0.000141, SDR=0.957, R_ave=1.54]\n",
      "  0%|          | 0/60 [00:00<?, ?it/s]"
     ]
    },
    {
     "name": "stdout",
     "output_type": "stream",
     "text": [
      "loss 0.0001 - val_loss 0.0001 - SDR 0.9566 - R_ave 1.5400\n",
      "Epoch [144/1000]\n"
     ]
    },
    {
     "name": "stderr",
     "output_type": "stream",
     "text": [
      "100%|██████████| 60/60 [00:24<00:00,  2.44it/s, loss=0.000126]\n",
      "100%|██████████| 26/26 [00:16<00:00,  1.55it/s, val_loss=0.000172, SDR=0.958, R_ave=1.62]\n",
      "  0%|          | 0/60 [00:00<?, ?it/s]"
     ]
    },
    {
     "name": "stdout",
     "output_type": "stream",
     "text": [
      "loss 0.0001 - val_loss 0.0002 - SDR 0.9576 - R_ave 1.6248\n",
      "Epoch [145/1000]\n"
     ]
    },
    {
     "name": "stderr",
     "output_type": "stream",
     "text": [
      "100%|██████████| 60/60 [00:24<00:00,  2.46it/s, loss=0.00013] \n",
      "100%|██████████| 26/26 [00:16<00:00,  1.55it/s, val_loss=0.000144, SDR=0.956, R_ave=1.63]\n",
      "  0%|          | 0/60 [00:00<?, ?it/s]"
     ]
    },
    {
     "name": "stdout",
     "output_type": "stream",
     "text": [
      "loss 0.0001 - val_loss 0.0001 - SDR 0.9555 - R_ave 1.6278\n",
      "Epoch [146/1000]\n"
     ]
    },
    {
     "name": "stderr",
     "output_type": "stream",
     "text": [
      "100%|██████████| 60/60 [00:24<00:00,  2.45it/s, loss=0.000119]\n",
      "100%|██████████| 26/26 [00:17<00:00,  1.51it/s, val_loss=0.000127, SDR=0.958, R_ave=1.51]\n",
      "  0%|          | 0/60 [00:00<?, ?it/s]"
     ]
    },
    {
     "name": "stdout",
     "output_type": "stream",
     "text": [
      "loss 0.0001 - val_loss 0.0001 - SDR 0.9581 - R_ave 1.5087\n",
      "Epoch [147/1000]\n"
     ]
    },
    {
     "name": "stderr",
     "output_type": "stream",
     "text": [
      "100%|██████████| 60/60 [00:24<00:00,  2.46it/s, loss=0.000124]\n",
      "100%|██████████| 26/26 [00:16<00:00,  1.54it/s, val_loss=0.000132, SDR=0.958, R_ave=1.65]\n",
      "  0%|          | 0/60 [00:00<?, ?it/s]"
     ]
    },
    {
     "name": "stdout",
     "output_type": "stream",
     "text": [
      "loss 0.0001 - val_loss 0.0001 - SDR 0.9576 - R_ave 1.6505\n",
      "Epoch [148/1000]\n"
     ]
    },
    {
     "name": "stderr",
     "output_type": "stream",
     "text": [
      "100%|██████████| 60/60 [00:24<00:00,  2.46it/s, loss=0.000121]\n",
      "100%|██████████| 26/26 [00:16<00:00,  1.54it/s, val_loss=0.000137, SDR=0.958, R_ave=1.6] \n",
      "  0%|          | 0/60 [00:00<?, ?it/s]"
     ]
    },
    {
     "name": "stdout",
     "output_type": "stream",
     "text": [
      "loss 0.0001 - val_loss 0.0001 - SDR 0.9576 - R_ave 1.5967\n",
      "Epoch [149/1000]\n"
     ]
    },
    {
     "name": "stderr",
     "output_type": "stream",
     "text": [
      "100%|██████████| 60/60 [00:24<00:00,  2.45it/s, loss=0.000123]\n",
      "100%|██████████| 26/26 [00:17<00:00,  1.51it/s, val_loss=0.000128, SDR=0.965, R_ave=1.5] \n",
      "  0%|          | 0/60 [00:00<?, ?it/s]"
     ]
    },
    {
     "name": "stdout",
     "output_type": "stream",
     "text": [
      "loss 0.0001 - val_loss 0.0001 - SDR 0.9650 - R_ave 1.4962\n",
      "Epoch [150/1000]\n"
     ]
    },
    {
     "name": "stderr",
     "output_type": "stream",
     "text": [
      "100%|██████████| 60/60 [00:24<00:00,  2.46it/s, loss=0.000115]\n",
      "100%|██████████| 26/26 [00:16<00:00,  1.53it/s, val_loss=0.000142, SDR=0.956, R_ave=1.65]\n",
      "  0%|          | 0/60 [00:00<?, ?it/s]"
     ]
    },
    {
     "name": "stdout",
     "output_type": "stream",
     "text": [
      "loss 0.0001 - val_loss 0.0001 - SDR 0.9565 - R_ave 1.6510\n",
      "Epoch [151/1000]\n"
     ]
    },
    {
     "name": "stderr",
     "output_type": "stream",
     "text": [
      "100%|██████████| 60/60 [00:24<00:00,  2.46it/s, loss=0.000123]\n",
      "100%|██████████| 26/26 [00:16<00:00,  1.54it/s, val_loss=0.000124, SDR=0.961, R_ave=1.49]\n",
      "  0%|          | 0/60 [00:00<?, ?it/s]"
     ]
    },
    {
     "name": "stdout",
     "output_type": "stream",
     "text": [
      "loss 0.0001 - val_loss 0.0001 - SDR 0.9611 - R_ave 1.4881\n",
      "Epoch [152/1000]\n"
     ]
    },
    {
     "name": "stderr",
     "output_type": "stream",
     "text": [
      "100%|██████████| 60/60 [00:24<00:00,  2.45it/s, loss=0.000118]\n",
      "100%|██████████| 26/26 [00:17<00:00,  1.52it/s, val_loss=0.000136, SDR=0.957, R_ave=1.57]\n",
      "  0%|          | 0/60 [00:00<?, ?it/s]"
     ]
    },
    {
     "name": "stdout",
     "output_type": "stream",
     "text": [
      "loss 0.0001 - val_loss 0.0001 - SDR 0.9573 - R_ave 1.5654\n",
      "Epoch [153/1000]\n"
     ]
    },
    {
     "name": "stderr",
     "output_type": "stream",
     "text": [
      "100%|██████████| 60/60 [00:24<00:00,  2.47it/s, loss=0.00012] \n",
      "100%|██████████| 26/26 [00:16<00:00,  1.54it/s, val_loss=0.000113, SDR=0.965, R_ave=1.46]\n",
      "  0%|          | 0/60 [00:00<?, ?it/s]"
     ]
    },
    {
     "name": "stdout",
     "output_type": "stream",
     "text": [
      "loss 0.0001 - val_loss 0.0001 - SDR 0.9650 - R_ave 1.4626\n",
      "=> saved best model\n",
      "Epoch [154/1000]\n"
     ]
    },
    {
     "name": "stderr",
     "output_type": "stream",
     "text": [
      "100%|██████████| 60/60 [00:24<00:00,  2.43it/s, loss=0.00012] \n",
      "100%|██████████| 26/26 [00:17<00:00,  1.53it/s, val_loss=0.000122, SDR=0.965, R_ave=1.51]\n",
      "  0%|          | 0/60 [00:00<?, ?it/s]"
     ]
    },
    {
     "name": "stdout",
     "output_type": "stream",
     "text": [
      "loss 0.0001 - val_loss 0.0001 - SDR 0.9648 - R_ave 1.5056\n",
      "Epoch [155/1000]\n"
     ]
    },
    {
     "name": "stderr",
     "output_type": "stream",
     "text": [
      "100%|██████████| 60/60 [00:24<00:00,  2.45it/s, loss=0.00011] \n",
      "100%|██████████| 26/26 [00:16<00:00,  1.53it/s, val_loss=0.000119, SDR=0.962, R_ave=1.47]\n",
      "  0%|          | 0/60 [00:00<?, ?it/s]"
     ]
    },
    {
     "name": "stdout",
     "output_type": "stream",
     "text": [
      "loss 0.0001 - val_loss 0.0001 - SDR 0.9618 - R_ave 1.4728\n",
      "Epoch [156/1000]\n"
     ]
    },
    {
     "name": "stderr",
     "output_type": "stream",
     "text": [
      "100%|██████████| 60/60 [00:24<00:00,  2.46it/s, loss=0.000126]\n",
      "100%|██████████| 26/26 [00:16<00:00,  1.54it/s, val_loss=0.000156, SDR=0.953, R_ave=1.64]\n",
      "  0%|          | 0/60 [00:00<?, ?it/s]"
     ]
    },
    {
     "name": "stdout",
     "output_type": "stream",
     "text": [
      "loss 0.0001 - val_loss 0.0002 - SDR 0.9528 - R_ave 1.6361\n",
      "Epoch [157/1000]\n"
     ]
    },
    {
     "name": "stderr",
     "output_type": "stream",
     "text": [
      "100%|██████████| 60/60 [00:24<00:00,  2.45it/s, loss=0.000129]\n",
      "100%|██████████| 26/26 [00:16<00:00,  1.54it/s, val_loss=0.000153, SDR=0.954, R_ave=1.85]\n",
      "  0%|          | 0/60 [00:00<?, ?it/s]"
     ]
    },
    {
     "name": "stdout",
     "output_type": "stream",
     "text": [
      "loss 0.0001 - val_loss 0.0002 - SDR 0.9541 - R_ave 1.8470\n",
      "Epoch [158/1000]\n"
     ]
    },
    {
     "name": "stderr",
     "output_type": "stream",
     "text": [
      "100%|██████████| 60/60 [00:24<00:00,  2.44it/s, loss=0.000121]\n",
      "100%|██████████| 26/26 [00:16<00:00,  1.54it/s, val_loss=0.000154, SDR=0.955, R_ave=1.7] \n",
      "  0%|          | 0/60 [00:00<?, ?it/s]"
     ]
    },
    {
     "name": "stdout",
     "output_type": "stream",
     "text": [
      "loss 0.0001 - val_loss 0.0002 - SDR 0.9550 - R_ave 1.6981\n",
      "Epoch [159/1000]\n"
     ]
    },
    {
     "name": "stderr",
     "output_type": "stream",
     "text": [
      "100%|██████████| 60/60 [00:24<00:00,  2.46it/s, loss=0.000116]\n",
      "100%|██████████| 26/26 [00:16<00:00,  1.54it/s, val_loss=0.000127, SDR=0.962, R_ave=1.56]\n",
      "  0%|          | 0/60 [00:00<?, ?it/s]"
     ]
    },
    {
     "name": "stdout",
     "output_type": "stream",
     "text": [
      "loss 0.0001 - val_loss 0.0001 - SDR 0.9619 - R_ave 1.5612\n",
      "Epoch [160/1000]\n"
     ]
    },
    {
     "name": "stderr",
     "output_type": "stream",
     "text": [
      "100%|██████████| 60/60 [00:25<00:00,  2.39it/s, loss=0.000111]\n",
      "100%|██████████| 26/26 [00:16<00:00,  1.54it/s, val_loss=0.000155, SDR=0.953, R_ave=1.75]\n",
      "  0%|          | 0/60 [00:00<?, ?it/s]"
     ]
    },
    {
     "name": "stdout",
     "output_type": "stream",
     "text": [
      "loss 0.0001 - val_loss 0.0002 - SDR 0.9526 - R_ave 1.7535\n",
      "Epoch [161/1000]\n"
     ]
    },
    {
     "name": "stderr",
     "output_type": "stream",
     "text": [
      "100%|██████████| 60/60 [00:24<00:00,  2.41it/s, loss=0.00012] \n",
      "100%|██████████| 26/26 [00:16<00:00,  1.54it/s, val_loss=0.000137, SDR=0.957, R_ave=1.54]\n",
      "  0%|          | 0/60 [00:00<?, ?it/s]"
     ]
    },
    {
     "name": "stdout",
     "output_type": "stream",
     "text": [
      "loss 0.0001 - val_loss 0.0001 - SDR 0.9569 - R_ave 1.5390\n",
      "Epoch [162/1000]\n"
     ]
    },
    {
     "name": "stderr",
     "output_type": "stream",
     "text": [
      "100%|██████████| 60/60 [00:24<00:00,  2.46it/s, loss=0.000124]\n",
      "100%|██████████| 26/26 [00:16<00:00,  1.54it/s, val_loss=0.000146, SDR=0.956, R_ave=1.64]\n",
      "  0%|          | 0/60 [00:00<?, ?it/s]"
     ]
    },
    {
     "name": "stdout",
     "output_type": "stream",
     "text": [
      "loss 0.0001 - val_loss 0.0001 - SDR 0.9565 - R_ave 1.6355\n",
      "Epoch [163/1000]\n"
     ]
    },
    {
     "name": "stderr",
     "output_type": "stream",
     "text": [
      "100%|██████████| 60/60 [00:24<00:00,  2.46it/s, loss=0.00012] \n",
      "100%|██████████| 26/26 [00:16<00:00,  1.53it/s, val_loss=0.000131, SDR=0.96, R_ave=1.51] \n",
      "  0%|          | 0/60 [00:00<?, ?it/s]"
     ]
    },
    {
     "name": "stdout",
     "output_type": "stream",
     "text": [
      "loss 0.0001 - val_loss 0.0001 - SDR 0.9600 - R_ave 1.5097\n",
      "Epoch [164/1000]\n"
     ]
    },
    {
     "name": "stderr",
     "output_type": "stream",
     "text": [
      "100%|██████████| 60/60 [00:24<00:00,  2.43it/s, loss=0.000119]\n",
      "100%|██████████| 26/26 [00:16<00:00,  1.54it/s, val_loss=0.000184, SDR=0.95, R_ave=1.7]  \n",
      "  0%|          | 0/60 [00:00<?, ?it/s]"
     ]
    },
    {
     "name": "stdout",
     "output_type": "stream",
     "text": [
      "loss 0.0001 - val_loss 0.0002 - SDR 0.9502 - R_ave 1.7037\n",
      "Epoch [165/1000]\n"
     ]
    },
    {
     "name": "stderr",
     "output_type": "stream",
     "text": [
      "100%|██████████| 60/60 [00:24<00:00,  2.46it/s, loss=0.000118]\n",
      "100%|██████████| 26/26 [00:16<00:00,  1.54it/s, val_loss=0.00025, SDR=0.95, R_ave=1.82]  \n",
      "  0%|          | 0/60 [00:00<?, ?it/s]"
     ]
    },
    {
     "name": "stdout",
     "output_type": "stream",
     "text": [
      "loss 0.0001 - val_loss 0.0003 - SDR 0.9497 - R_ave 1.8229\n",
      "Epoch [166/1000]\n"
     ]
    },
    {
     "name": "stderr",
     "output_type": "stream",
     "text": [
      "100%|██████████| 60/60 [00:24<00:00,  2.45it/s, loss=0.000115]\n",
      "100%|██████████| 26/26 [00:17<00:00,  1.51it/s, val_loss=0.000128, SDR=0.963, R_ave=1.54]\n",
      "  0%|          | 0/60 [00:00<?, ?it/s]"
     ]
    },
    {
     "name": "stdout",
     "output_type": "stream",
     "text": [
      "loss 0.0001 - val_loss 0.0001 - SDR 0.9627 - R_ave 1.5410\n",
      "Epoch [167/1000]\n"
     ]
    },
    {
     "name": "stderr",
     "output_type": "stream",
     "text": [
      "100%|██████████| 60/60 [00:24<00:00,  2.43it/s, loss=0.000119]\n",
      "100%|██████████| 26/26 [00:16<00:00,  1.54it/s, val_loss=0.000187, SDR=0.945, R_ave=1.76]\n",
      "  0%|          | 0/60 [00:00<?, ?it/s]"
     ]
    },
    {
     "name": "stdout",
     "output_type": "stream",
     "text": [
      "loss 0.0001 - val_loss 0.0002 - SDR 0.9454 - R_ave 1.7589\n",
      "Epoch [168/1000]\n"
     ]
    },
    {
     "name": "stderr",
     "output_type": "stream",
     "text": [
      "100%|██████████| 60/60 [00:24<00:00,  2.46it/s, loss=0.000113]\n",
      "100%|██████████| 26/26 [00:16<00:00,  1.54it/s, val_loss=0.000117, SDR=0.964, R_ave=1.45]\n",
      "  0%|          | 0/60 [00:00<?, ?it/s]"
     ]
    },
    {
     "name": "stdout",
     "output_type": "stream",
     "text": [
      "loss 0.0001 - val_loss 0.0001 - SDR 0.9639 - R_ave 1.4542\n",
      "=> saved best model\n",
      "Epoch [169/1000]\n"
     ]
    },
    {
     "name": "stderr",
     "output_type": "stream",
     "text": [
      "100%|██████████| 60/60 [00:24<00:00,  2.43it/s, loss=0.000111]\n",
      "100%|██████████| 26/26 [00:17<00:00,  1.50it/s, val_loss=0.000139, SDR=0.955, R_ave=1.58]\n",
      "  0%|          | 0/60 [00:00<?, ?it/s]"
     ]
    },
    {
     "name": "stdout",
     "output_type": "stream",
     "text": [
      "loss 0.0001 - val_loss 0.0001 - SDR 0.9552 - R_ave 1.5827\n",
      "Epoch [170/1000]\n"
     ]
    },
    {
     "name": "stderr",
     "output_type": "stream",
     "text": [
      "100%|██████████| 60/60 [00:24<00:00,  2.44it/s, loss=0.000118]\n",
      "100%|██████████| 26/26 [00:16<00:00,  1.55it/s, val_loss=0.000212, SDR=0.943, R_ave=2.11]\n",
      "  0%|          | 0/60 [00:00<?, ?it/s]"
     ]
    },
    {
     "name": "stdout",
     "output_type": "stream",
     "text": [
      "loss 0.0001 - val_loss 0.0002 - SDR 0.9427 - R_ave 2.1051\n",
      "Epoch [171/1000]\n"
     ]
    },
    {
     "name": "stderr",
     "output_type": "stream",
     "text": [
      "100%|██████████| 60/60 [00:24<00:00,  2.46it/s, loss=0.000124]\n",
      "100%|██████████| 26/26 [00:16<00:00,  1.55it/s, val_loss=0.000131, SDR=0.96, R_ave=1.47] \n",
      "  0%|          | 0/60 [00:00<?, ?it/s]"
     ]
    },
    {
     "name": "stdout",
     "output_type": "stream",
     "text": [
      "loss 0.0001 - val_loss 0.0001 - SDR 0.9603 - R_ave 1.4699\n",
      "Epoch [172/1000]\n"
     ]
    },
    {
     "name": "stderr",
     "output_type": "stream",
     "text": [
      "100%|██████████| 60/60 [00:24<00:00,  2.46it/s, loss=0.00012] \n",
      "100%|██████████| 26/26 [00:17<00:00,  1.51it/s, val_loss=0.000124, SDR=0.96, R_ave=1.55] \n",
      "  0%|          | 0/60 [00:00<?, ?it/s]"
     ]
    },
    {
     "name": "stdout",
     "output_type": "stream",
     "text": [
      "loss 0.0001 - val_loss 0.0001 - SDR 0.9605 - R_ave 1.5539\n",
      "Epoch [173/1000]\n"
     ]
    },
    {
     "name": "stderr",
     "output_type": "stream",
     "text": [
      "100%|██████████| 60/60 [00:24<00:00,  2.45it/s, loss=0.000116]\n",
      "100%|██████████| 26/26 [00:16<00:00,  1.55it/s, val_loss=0.000149, SDR=0.961, R_ave=1.59]\n",
      "  0%|          | 0/60 [00:00<?, ?it/s]"
     ]
    },
    {
     "name": "stdout",
     "output_type": "stream",
     "text": [
      "loss 0.0001 - val_loss 0.0001 - SDR 0.9611 - R_ave 1.5870\n",
      "Epoch [174/1000]\n"
     ]
    },
    {
     "name": "stderr",
     "output_type": "stream",
     "text": [
      "100%|██████████| 60/60 [00:24<00:00,  2.46it/s, loss=0.000111]\n",
      "100%|██████████| 26/26 [00:16<00:00,  1.54it/s, val_loss=0.000132, SDR=0.953, R_ave=1.64]\n",
      "  0%|          | 0/60 [00:00<?, ?it/s]"
     ]
    },
    {
     "name": "stdout",
     "output_type": "stream",
     "text": [
      "loss 0.0001 - val_loss 0.0001 - SDR 0.9534 - R_ave 1.6448\n",
      "Epoch [175/1000]\n"
     ]
    },
    {
     "name": "stderr",
     "output_type": "stream",
     "text": [
      "100%|██████████| 60/60 [00:24<00:00,  2.45it/s, loss=0.000122]\n",
      "100%|██████████| 26/26 [00:17<00:00,  1.51it/s, val_loss=0.000169, SDR=0.957, R_ave=1.76]\n",
      "  0%|          | 0/60 [00:00<?, ?it/s]"
     ]
    },
    {
     "name": "stdout",
     "output_type": "stream",
     "text": [
      "loss 0.0001 - val_loss 0.0002 - SDR 0.9571 - R_ave 1.7594\n",
      "Epoch [176/1000]\n"
     ]
    },
    {
     "name": "stderr",
     "output_type": "stream",
     "text": [
      "100%|██████████| 60/60 [00:24<00:00,  2.44it/s, loss=0.00012] \n",
      "100%|██████████| 26/26 [00:16<00:00,  1.54it/s, val_loss=0.000112, SDR=0.96, R_ave=1.49] \n",
      "  0%|          | 0/60 [00:00<?, ?it/s]"
     ]
    },
    {
     "name": "stdout",
     "output_type": "stream",
     "text": [
      "loss 0.0001 - val_loss 0.0001 - SDR 0.9602 - R_ave 1.4932\n",
      "Epoch [177/1000]\n"
     ]
    },
    {
     "name": "stderr",
     "output_type": "stream",
     "text": [
      "100%|██████████| 60/60 [00:24<00:00,  2.46it/s, loss=0.000109]\n",
      "100%|██████████| 26/26 [00:16<00:00,  1.55it/s, val_loss=0.000125, SDR=0.96, R_ave=1.56] \n",
      "  0%|          | 0/60 [00:00<?, ?it/s]"
     ]
    },
    {
     "name": "stdout",
     "output_type": "stream",
     "text": [
      "loss 0.0001 - val_loss 0.0001 - SDR 0.9597 - R_ave 1.5587\n",
      "Epoch [178/1000]\n"
     ]
    },
    {
     "name": "stderr",
     "output_type": "stream",
     "text": [
      "100%|██████████| 60/60 [00:24<00:00,  2.45it/s, loss=0.00011] \n",
      "100%|██████████| 26/26 [00:17<00:00,  1.51it/s, val_loss=0.000131, SDR=0.962, R_ave=1.57]\n",
      "  0%|          | 0/60 [00:00<?, ?it/s]"
     ]
    },
    {
     "name": "stdout",
     "output_type": "stream",
     "text": [
      "loss 0.0001 - val_loss 0.0001 - SDR 0.9624 - R_ave 1.5724\n",
      "Epoch [179/1000]\n"
     ]
    },
    {
     "name": "stderr",
     "output_type": "stream",
     "text": [
      "100%|██████████| 60/60 [00:24<00:00,  2.46it/s, loss=0.000118]\n",
      "100%|██████████| 26/26 [00:16<00:00,  1.55it/s, val_loss=0.000142, SDR=0.958, R_ave=1.58]\n",
      "  0%|          | 0/60 [00:00<?, ?it/s]"
     ]
    },
    {
     "name": "stdout",
     "output_type": "stream",
     "text": [
      "loss 0.0001 - val_loss 0.0001 - SDR 0.9578 - R_ave 1.5760\n",
      "Epoch [180/1000]\n"
     ]
    },
    {
     "name": "stderr",
     "output_type": "stream",
     "text": [
      "100%|██████████| 60/60 [00:24<00:00,  2.47it/s, loss=0.000118]\n",
      "100%|██████████| 26/26 [00:16<00:00,  1.54it/s, val_loss=0.00015, SDR=0.961, R_ave=1.61] \n",
      "  0%|          | 0/60 [00:00<?, ?it/s]"
     ]
    },
    {
     "name": "stdout",
     "output_type": "stream",
     "text": [
      "loss 0.0001 - val_loss 0.0001 - SDR 0.9608 - R_ave 1.6137\n",
      "Epoch [181/1000]\n"
     ]
    },
    {
     "name": "stderr",
     "output_type": "stream",
     "text": [
      "100%|██████████| 60/60 [00:24<00:00,  2.41it/s, loss=0.000126]\n",
      "100%|██████████| 26/26 [00:17<00:00,  1.53it/s, val_loss=0.000147, SDR=0.956, R_ave=1.73]\n",
      "  0%|          | 0/60 [00:00<?, ?it/s]"
     ]
    },
    {
     "name": "stdout",
     "output_type": "stream",
     "text": [
      "loss 0.0001 - val_loss 0.0001 - SDR 0.9558 - R_ave 1.7319\n",
      "Epoch [182/1000]\n"
     ]
    },
    {
     "name": "stderr",
     "output_type": "stream",
     "text": [
      "100%|██████████| 60/60 [00:24<00:00,  2.45it/s, loss=0.000114]\n",
      "100%|██████████| 26/26 [00:16<00:00,  1.55it/s, val_loss=0.000147, SDR=0.961, R_ave=1.5] \n",
      "  0%|          | 0/60 [00:00<?, ?it/s]"
     ]
    },
    {
     "name": "stdout",
     "output_type": "stream",
     "text": [
      "loss 0.0001 - val_loss 0.0001 - SDR 0.9613 - R_ave 1.5040\n",
      "Epoch [183/1000]\n"
     ]
    },
    {
     "name": "stderr",
     "output_type": "stream",
     "text": [
      "100%|██████████| 60/60 [00:24<00:00,  2.45it/s, loss=0.000123]\n",
      "100%|██████████| 26/26 [00:16<00:00,  1.54it/s, val_loss=0.000129, SDR=0.959, R_ave=1.56]\n",
      "  0%|          | 0/60 [00:00<?, ?it/s]"
     ]
    },
    {
     "name": "stdout",
     "output_type": "stream",
     "text": [
      "loss 0.0001 - val_loss 0.0001 - SDR 0.9587 - R_ave 1.5631\n",
      "Epoch [184/1000]\n"
     ]
    },
    {
     "name": "stderr",
     "output_type": "stream",
     "text": [
      "100%|██████████| 60/60 [00:24<00:00,  2.43it/s, loss=0.000119]\n",
      "100%|██████████| 26/26 [00:16<00:00,  1.55it/s, val_loss=0.000133, SDR=0.963, R_ave=1.55]\n",
      "  0%|          | 0/60 [00:00<?, ?it/s]"
     ]
    },
    {
     "name": "stdout",
     "output_type": "stream",
     "text": [
      "loss 0.0001 - val_loss 0.0001 - SDR 0.9626 - R_ave 1.5523\n",
      "Epoch [185/1000]\n"
     ]
    },
    {
     "name": "stderr",
     "output_type": "stream",
     "text": [
      "100%|██████████| 60/60 [00:24<00:00,  2.45it/s, loss=0.000117]\n",
      "100%|██████████| 26/26 [00:16<00:00,  1.54it/s, val_loss=0.000142, SDR=0.954, R_ave=1.71]\n",
      "  0%|          | 0/60 [00:00<?, ?it/s]"
     ]
    },
    {
     "name": "stdout",
     "output_type": "stream",
     "text": [
      "loss 0.0001 - val_loss 0.0001 - SDR 0.9536 - R_ave 1.7066\n",
      "Epoch [186/1000]\n"
     ]
    },
    {
     "name": "stderr",
     "output_type": "stream",
     "text": [
      "100%|██████████| 60/60 [00:24<00:00,  2.46it/s, loss=0.000114]\n",
      "100%|██████████| 26/26 [00:16<00:00,  1.55it/s, val_loss=0.00011, SDR=0.962, R_ave=1.5]  \n",
      "  0%|          | 0/60 [00:00<?, ?it/s]"
     ]
    },
    {
     "name": "stdout",
     "output_type": "stream",
     "text": [
      "loss 0.0001 - val_loss 0.0001 - SDR 0.9621 - R_ave 1.5006\n",
      "Epoch [187/1000]\n"
     ]
    },
    {
     "name": "stderr",
     "output_type": "stream",
     "text": [
      "100%|██████████| 60/60 [00:24<00:00,  2.42it/s, loss=0.000106]\n",
      "100%|██████████| 26/26 [00:16<00:00,  1.54it/s, val_loss=0.000118, SDR=0.964, R_ave=1.51]\n",
      "  0%|          | 0/60 [00:00<?, ?it/s]"
     ]
    },
    {
     "name": "stdout",
     "output_type": "stream",
     "text": [
      "loss 0.0001 - val_loss 0.0001 - SDR 0.9643 - R_ave 1.5122\n",
      "Epoch [188/1000]\n"
     ]
    },
    {
     "name": "stderr",
     "output_type": "stream",
     "text": [
      "100%|██████████| 60/60 [00:24<00:00,  2.45it/s, loss=0.000111]\n",
      "100%|██████████| 26/26 [00:16<00:00,  1.55it/s, val_loss=0.00012, SDR=0.961, R_ave=1.49] \n",
      "  0%|          | 0/60 [00:00<?, ?it/s]"
     ]
    },
    {
     "name": "stdout",
     "output_type": "stream",
     "text": [
      "loss 0.0001 - val_loss 0.0001 - SDR 0.9613 - R_ave 1.4918\n",
      "Epoch [189/1000]\n"
     ]
    },
    {
     "name": "stderr",
     "output_type": "stream",
     "text": [
      "100%|██████████| 60/60 [00:24<00:00,  2.47it/s, loss=0.000109]\n",
      "100%|██████████| 26/26 [00:16<00:00,  1.53it/s, val_loss=0.000123, SDR=0.955, R_ave=1.55]\n",
      "  0%|          | 0/60 [00:00<?, ?it/s]"
     ]
    },
    {
     "name": "stdout",
     "output_type": "stream",
     "text": [
      "loss 0.0001 - val_loss 0.0001 - SDR 0.9550 - R_ave 1.5522\n",
      "Epoch [190/1000]\n"
     ]
    },
    {
     "name": "stderr",
     "output_type": "stream",
     "text": [
      "100%|██████████| 60/60 [00:24<00:00,  2.44it/s, loss=0.000106]\n",
      "100%|██████████| 26/26 [00:16<00:00,  1.54it/s, val_loss=0.000129, SDR=0.959, R_ave=1.62]\n",
      "  0%|          | 0/60 [00:00<?, ?it/s]"
     ]
    },
    {
     "name": "stdout",
     "output_type": "stream",
     "text": [
      "loss 0.0001 - val_loss 0.0001 - SDR 0.9592 - R_ave 1.6221\n",
      "Epoch [191/1000]\n"
     ]
    },
    {
     "name": "stderr",
     "output_type": "stream",
     "text": [
      "100%|██████████| 60/60 [00:24<00:00,  2.43it/s, loss=0.000116]\n",
      "100%|██████████| 26/26 [00:16<00:00,  1.55it/s, val_loss=0.000149, SDR=0.963, R_ave=1.57]\n",
      "  0%|          | 0/60 [00:00<?, ?it/s]"
     ]
    },
    {
     "name": "stdout",
     "output_type": "stream",
     "text": [
      "loss 0.0001 - val_loss 0.0001 - SDR 0.9626 - R_ave 1.5702\n",
      "Epoch [192/1000]\n"
     ]
    },
    {
     "name": "stderr",
     "output_type": "stream",
     "text": [
      "100%|██████████| 60/60 [00:24<00:00,  2.46it/s, loss=0.000116]\n",
      "100%|██████████| 26/26 [00:17<00:00,  1.53it/s, val_loss=0.000131, SDR=0.96, R_ave=1.58] \n",
      "  0%|          | 0/60 [00:00<?, ?it/s]"
     ]
    },
    {
     "name": "stdout",
     "output_type": "stream",
     "text": [
      "loss 0.0001 - val_loss 0.0001 - SDR 0.9598 - R_ave 1.5807\n",
      "Epoch [193/1000]\n"
     ]
    },
    {
     "name": "stderr",
     "output_type": "stream",
     "text": [
      "100%|██████████| 60/60 [00:24<00:00,  2.43it/s, loss=0.00011] \n",
      "100%|██████████| 26/26 [00:16<00:00,  1.55it/s, val_loss=0.000126, SDR=0.96, R_ave=1.59] \n",
      "  0%|          | 0/60 [00:00<?, ?it/s]"
     ]
    },
    {
     "name": "stdout",
     "output_type": "stream",
     "text": [
      "loss 0.0001 - val_loss 0.0001 - SDR 0.9600 - R_ave 1.5883\n",
      "Epoch [194/1000]\n"
     ]
    },
    {
     "name": "stderr",
     "output_type": "stream",
     "text": [
      "100%|██████████| 60/60 [00:24<00:00,  2.46it/s, loss=0.000106]\n",
      "100%|██████████| 26/26 [00:16<00:00,  1.53it/s, val_loss=0.000162, SDR=0.946, R_ave=2.08]\n",
      "  0%|          | 0/60 [00:00<?, ?it/s]"
     ]
    },
    {
     "name": "stdout",
     "output_type": "stream",
     "text": [
      "loss 0.0001 - val_loss 0.0002 - SDR 0.9459 - R_ave 2.0776\n",
      "Epoch [195/1000]\n"
     ]
    },
    {
     "name": "stderr",
     "output_type": "stream",
     "text": [
      "100%|██████████| 60/60 [00:24<00:00,  2.45it/s, loss=0.000116]\n",
      "100%|██████████| 26/26 [00:17<00:00,  1.52it/s, val_loss=0.000114, SDR=0.962, R_ave=1.52]\n",
      "  0%|          | 0/60 [00:00<?, ?it/s]"
     ]
    },
    {
     "name": "stdout",
     "output_type": "stream",
     "text": [
      "loss 0.0001 - val_loss 0.0001 - SDR 0.9624 - R_ave 1.5163\n",
      "Epoch [196/1000]\n"
     ]
    },
    {
     "name": "stderr",
     "output_type": "stream",
     "text": [
      "100%|██████████| 60/60 [00:24<00:00,  2.44it/s, loss=0.000113]\n",
      "100%|██████████| 26/26 [00:16<00:00,  1.54it/s, val_loss=0.000137, SDR=0.955, R_ave=1.78]\n",
      "  0%|          | 0/60 [00:00<?, ?it/s]"
     ]
    },
    {
     "name": "stdout",
     "output_type": "stream",
     "text": [
      "loss 0.0001 - val_loss 0.0001 - SDR 0.9549 - R_ave 1.7761\n",
      "Epoch [197/1000]\n"
     ]
    },
    {
     "name": "stderr",
     "output_type": "stream",
     "text": [
      "100%|██████████| 60/60 [00:24<00:00,  2.46it/s, loss=0.000105]\n",
      "100%|██████████| 26/26 [00:16<00:00,  1.53it/s, val_loss=0.000103, SDR=0.965, R_ave=1.45]\n",
      "  0%|          | 0/60 [00:00<?, ?it/s]"
     ]
    },
    {
     "name": "stdout",
     "output_type": "stream",
     "text": [
      "loss 0.0001 - val_loss 0.0001 - SDR 0.9655 - R_ave 1.4500\n",
      "=> saved best model\n",
      "Epoch [198/1000]\n"
     ]
    },
    {
     "name": "stderr",
     "output_type": "stream",
     "text": [
      "100%|██████████| 60/60 [00:24<00:00,  2.44it/s, loss=0.000103]\n",
      "100%|██████████| 26/26 [00:17<00:00,  1.49it/s, val_loss=0.000124, SDR=0.959, R_ave=1.57]\n",
      "  0%|          | 0/60 [00:00<?, ?it/s]"
     ]
    },
    {
     "name": "stdout",
     "output_type": "stream",
     "text": [
      "loss 0.0001 - val_loss 0.0001 - SDR 0.9592 - R_ave 1.5748\n",
      "Epoch [199/1000]\n"
     ]
    },
    {
     "name": "stderr",
     "output_type": "stream",
     "text": [
      "100%|██████████| 60/60 [00:24<00:00,  2.45it/s, loss=0.00011] \n",
      "100%|██████████| 26/26 [00:16<00:00,  1.54it/s, val_loss=0.000129, SDR=0.96, R_ave=1.51] \n",
      "  0%|          | 0/60 [00:00<?, ?it/s]"
     ]
    },
    {
     "name": "stdout",
     "output_type": "stream",
     "text": [
      "loss 0.0001 - val_loss 0.0001 - SDR 0.9595 - R_ave 1.5073\n",
      "Epoch [200/1000]\n"
     ]
    },
    {
     "name": "stderr",
     "output_type": "stream",
     "text": [
      "100%|██████████| 60/60 [00:24<00:00,  2.45it/s, loss=0.000109]\n",
      "100%|██████████| 26/26 [00:16<00:00,  1.53it/s, val_loss=0.000125, SDR=0.957, R_ave=1.55]\n",
      "  0%|          | 0/60 [00:00<?, ?it/s]"
     ]
    },
    {
     "name": "stdout",
     "output_type": "stream",
     "text": [
      "loss 0.0001 - val_loss 0.0001 - SDR 0.9574 - R_ave 1.5521\n",
      "Epoch [201/1000]\n"
     ]
    },
    {
     "name": "stderr",
     "output_type": "stream",
     "text": [
      "100%|██████████| 60/60 [00:24<00:00,  2.45it/s, loss=0.000106]\n",
      "100%|██████████| 26/26 [00:17<00:00,  1.51it/s, val_loss=0.000113, SDR=0.966, R_ave=1.47]\n",
      "  0%|          | 0/60 [00:00<?, ?it/s]"
     ]
    },
    {
     "name": "stdout",
     "output_type": "stream",
     "text": [
      "loss 0.0001 - val_loss 0.0001 - SDR 0.9664 - R_ave 1.4651\n",
      "Epoch [202/1000]\n"
     ]
    },
    {
     "name": "stderr",
     "output_type": "stream",
     "text": [
      "100%|██████████| 60/60 [00:24<00:00,  2.47it/s, loss=0.000117]\n",
      "100%|██████████| 26/26 [00:16<00:00,  1.54it/s, val_loss=0.000333, SDR=0.884, R_ave=4.13]\n",
      "  0%|          | 0/60 [00:00<?, ?it/s]"
     ]
    },
    {
     "name": "stdout",
     "output_type": "stream",
     "text": [
      "loss 0.0001 - val_loss 0.0003 - SDR 0.8842 - R_ave 4.1304\n",
      "Epoch [203/1000]\n"
     ]
    },
    {
     "name": "stderr",
     "output_type": "stream",
     "text": [
      "100%|██████████| 60/60 [00:24<00:00,  2.47it/s, loss=0.000122]\n",
      "100%|██████████| 26/26 [00:16<00:00,  1.55it/s, val_loss=0.000123, SDR=0.958, R_ave=1.49]\n",
      "  0%|          | 0/60 [00:00<?, ?it/s]"
     ]
    },
    {
     "name": "stdout",
     "output_type": "stream",
     "text": [
      "loss 0.0001 - val_loss 0.0001 - SDR 0.9582 - R_ave 1.4851\n",
      "Epoch [204/1000]\n"
     ]
    },
    {
     "name": "stderr",
     "output_type": "stream",
     "text": [
      "100%|██████████| 60/60 [00:24<00:00,  2.42it/s, loss=0.00011] \n",
      "100%|██████████| 26/26 [00:17<00:00,  1.51it/s, val_loss=0.000147, SDR=0.953, R_ave=1.75]\n",
      "  0%|          | 0/60 [00:00<?, ?it/s]"
     ]
    },
    {
     "name": "stdout",
     "output_type": "stream",
     "text": [
      "loss 0.0001 - val_loss 0.0001 - SDR 0.9534 - R_ave 1.7512\n",
      "Epoch [205/1000]\n"
     ]
    },
    {
     "name": "stderr",
     "output_type": "stream",
     "text": [
      "100%|██████████| 60/60 [00:24<00:00,  2.46it/s, loss=0.000107]\n",
      "100%|██████████| 26/26 [00:16<00:00,  1.54it/s, val_loss=0.000118, SDR=0.961, R_ave=1.52]\n",
      "  0%|          | 0/60 [00:00<?, ?it/s]"
     ]
    },
    {
     "name": "stdout",
     "output_type": "stream",
     "text": [
      "loss 0.0001 - val_loss 0.0001 - SDR 0.9608 - R_ave 1.5150\n",
      "Epoch [206/1000]\n"
     ]
    },
    {
     "name": "stderr",
     "output_type": "stream",
     "text": [
      "100%|██████████| 60/60 [00:24<00:00,  2.46it/s, loss=0.000104]\n",
      "100%|██████████| 26/26 [00:16<00:00,  1.55it/s, val_loss=0.000108, SDR=0.963, R_ave=1.47]\n",
      "  0%|          | 0/60 [00:00<?, ?it/s]"
     ]
    },
    {
     "name": "stdout",
     "output_type": "stream",
     "text": [
      "loss 0.0001 - val_loss 0.0001 - SDR 0.9627 - R_ave 1.4716\n",
      "Epoch [207/1000]\n"
     ]
    },
    {
     "name": "stderr",
     "output_type": "stream",
     "text": [
      "100%|██████████| 60/60 [00:24<00:00,  2.44it/s, loss=0.000106]\n",
      "100%|██████████| 26/26 [00:17<00:00,  1.52it/s, val_loss=0.000134, SDR=0.958, R_ave=1.64]\n",
      "  0%|          | 0/60 [00:00<?, ?it/s]"
     ]
    },
    {
     "name": "stdout",
     "output_type": "stream",
     "text": [
      "loss 0.0001 - val_loss 0.0001 - SDR 0.9579 - R_ave 1.6412\n",
      "Epoch [208/1000]\n"
     ]
    },
    {
     "name": "stderr",
     "output_type": "stream",
     "text": [
      "100%|██████████| 60/60 [00:24<00:00,  2.46it/s, loss=0.000107]\n",
      "100%|██████████| 26/26 [00:16<00:00,  1.55it/s, val_loss=0.000237, SDR=0.945, R_ave=1.73]\n",
      "  0%|          | 0/60 [00:00<?, ?it/s]"
     ]
    },
    {
     "name": "stdout",
     "output_type": "stream",
     "text": [
      "loss 0.0001 - val_loss 0.0002 - SDR 0.9447 - R_ave 1.7344\n",
      "Epoch [209/1000]\n"
     ]
    },
    {
     "name": "stderr",
     "output_type": "stream",
     "text": [
      "100%|██████████| 60/60 [00:24<00:00,  2.46it/s, loss=0.000103]\n",
      "100%|██████████| 26/26 [00:16<00:00,  1.54it/s, val_loss=0.000136, SDR=0.955, R_ave=1.62]\n",
      "  0%|          | 0/60 [00:00<?, ?it/s]"
     ]
    },
    {
     "name": "stdout",
     "output_type": "stream",
     "text": [
      "loss 0.0001 - val_loss 0.0001 - SDR 0.9549 - R_ave 1.6176\n",
      "Epoch [210/1000]\n"
     ]
    },
    {
     "name": "stderr",
     "output_type": "stream",
     "text": [
      "100%|██████████| 60/60 [00:24<00:00,  2.43it/s, loss=0.000102]\n",
      "100%|██████████| 26/26 [00:17<00:00,  1.52it/s, val_loss=0.00011, SDR=0.962, R_ave=1.49] \n"
     ]
    },
    {
     "name": "stdout",
     "output_type": "stream",
     "text": [
      "loss 0.0001 - val_loss 0.0001 - SDR 0.9618 - R_ave 1.4874\n"
     ]
    },
    {
     "name": "stderr",
     "output_type": "stream",
     "text": [
      "\r",
      "  0%|          | 0/60 [00:00<?, ?it/s]"
     ]
    },
    {
     "name": "stdout",
     "output_type": "stream",
     "text": [
      "Epoch [211/1000]\n"
     ]
    },
    {
     "name": "stderr",
     "output_type": "stream",
     "text": [
      "100%|██████████| 60/60 [00:24<00:00,  2.46it/s, loss=9.87e-5]\n",
      "100%|██████████| 26/26 [00:16<00:00,  1.55it/s, val_loss=0.000109, SDR=0.962, R_ave=1.49]\n",
      "  0%|          | 0/60 [00:00<?, ?it/s]"
     ]
    },
    {
     "name": "stdout",
     "output_type": "stream",
     "text": [
      "loss 0.0001 - val_loss 0.0001 - SDR 0.9618 - R_ave 1.4909\n",
      "Epoch [212/1000]\n"
     ]
    },
    {
     "name": "stderr",
     "output_type": "stream",
     "text": [
      "100%|██████████| 60/60 [00:24<00:00,  2.46it/s, loss=0.000113]\n",
      "100%|██████████| 26/26 [00:16<00:00,  1.53it/s, val_loss=0.000136, SDR=0.957, R_ave=1.59]\n",
      "  0%|          | 0/60 [00:00<?, ?it/s]"
     ]
    },
    {
     "name": "stdout",
     "output_type": "stream",
     "text": [
      "loss 0.0001 - val_loss 0.0001 - SDR 0.9566 - R_ave 1.5890\n",
      "Epoch [213/1000]\n"
     ]
    },
    {
     "name": "stderr",
     "output_type": "stream",
     "text": [
      "100%|██████████| 60/60 [00:24<00:00,  2.43it/s, loss=0.000102]\n",
      "100%|██████████| 26/26 [00:16<00:00,  1.53it/s, val_loss=0.000115, SDR=0.961, R_ave=1.48]\n",
      "  0%|          | 0/60 [00:00<?, ?it/s]"
     ]
    },
    {
     "name": "stdout",
     "output_type": "stream",
     "text": [
      "loss 0.0001 - val_loss 0.0001 - SDR 0.9614 - R_ave 1.4821\n",
      "Epoch [214/1000]\n"
     ]
    },
    {
     "name": "stderr",
     "output_type": "stream",
     "text": [
      "100%|██████████| 60/60 [00:24<00:00,  2.46it/s, loss=0.000106]\n",
      "100%|██████████| 26/26 [00:16<00:00,  1.55it/s, val_loss=0.00012, SDR=0.96, R_ave=1.52]  \n",
      "  0%|          | 0/60 [00:00<?, ?it/s]"
     ]
    },
    {
     "name": "stdout",
     "output_type": "stream",
     "text": [
      "loss 0.0001 - val_loss 0.0001 - SDR 0.9603 - R_ave 1.5172\n",
      "Epoch [215/1000]\n"
     ]
    },
    {
     "name": "stderr",
     "output_type": "stream",
     "text": [
      "100%|██████████| 60/60 [00:24<00:00,  2.46it/s, loss=0.000103]\n",
      "100%|██████████| 26/26 [00:16<00:00,  1.55it/s, val_loss=0.00011, SDR=0.961, R_ave=1.48] \n",
      "  0%|          | 0/60 [00:00<?, ?it/s]"
     ]
    },
    {
     "name": "stdout",
     "output_type": "stream",
     "text": [
      "loss 0.0001 - val_loss 0.0001 - SDR 0.9610 - R_ave 1.4779\n",
      "Epoch [216/1000]\n"
     ]
    },
    {
     "name": "stderr",
     "output_type": "stream",
     "text": [
      "100%|██████████| 60/60 [00:24<00:00,  2.43it/s, loss=9.87e-5] \n",
      "100%|██████████| 26/26 [00:16<00:00,  1.54it/s, val_loss=0.000112, SDR=0.961, R_ave=1.52]\n",
      "  0%|          | 0/60 [00:00<?, ?it/s]"
     ]
    },
    {
     "name": "stdout",
     "output_type": "stream",
     "text": [
      "loss 0.0001 - val_loss 0.0001 - SDR 0.9613 - R_ave 1.5191\n",
      "Epoch [217/1000]\n"
     ]
    },
    {
     "name": "stderr",
     "output_type": "stream",
     "text": [
      "100%|██████████| 60/60 [00:24<00:00,  2.45it/s, loss=0.000101]\n",
      "100%|██████████| 26/26 [00:16<00:00,  1.55it/s, val_loss=0.000125, SDR=0.955, R_ave=1.6] \n",
      "  0%|          | 0/60 [00:00<?, ?it/s]"
     ]
    },
    {
     "name": "stdout",
     "output_type": "stream",
     "text": [
      "loss 0.0001 - val_loss 0.0001 - SDR 0.9553 - R_ave 1.5993\n",
      "Epoch [218/1000]\n"
     ]
    },
    {
     "name": "stderr",
     "output_type": "stream",
     "text": [
      "100%|██████████| 60/60 [00:24<00:00,  2.46it/s, loss=0.000103]\n",
      "100%|██████████| 26/26 [00:16<00:00,  1.53it/s, val_loss=0.000103, SDR=0.961, R_ave=1.46]\n",
      "  0%|          | 0/60 [00:00<?, ?it/s]"
     ]
    },
    {
     "name": "stdout",
     "output_type": "stream",
     "text": [
      "loss 0.0001 - val_loss 0.0001 - SDR 0.9614 - R_ave 1.4567\n",
      "Epoch [219/1000]\n"
     ]
    },
    {
     "name": "stderr",
     "output_type": "stream",
     "text": [
      "100%|██████████| 60/60 [00:24<00:00,  2.43it/s, loss=9.33e-5]\n",
      "100%|██████████| 26/26 [00:17<00:00,  1.50it/s, val_loss=0.000109, SDR=0.964, R_ave=1.48]\n",
      "  0%|          | 0/60 [00:00<?, ?it/s]"
     ]
    },
    {
     "name": "stdout",
     "output_type": "stream",
     "text": [
      "loss 0.0001 - val_loss 0.0001 - SDR 0.9637 - R_ave 1.4758\n",
      "Epoch [220/1000]\n"
     ]
    },
    {
     "name": "stderr",
     "output_type": "stream",
     "text": [
      "100%|██████████| 60/60 [00:24<00:00,  2.46it/s, loss=9.43e-5]\n",
      "100%|██████████| 26/26 [00:16<00:00,  1.55it/s, val_loss=0.000102, SDR=0.966, R_ave=1.44]\n",
      "  0%|          | 0/60 [00:00<?, ?it/s]"
     ]
    },
    {
     "name": "stdout",
     "output_type": "stream",
     "text": [
      "loss 0.0001 - val_loss 0.0001 - SDR 0.9656 - R_ave 1.4373\n",
      "=> saved best model\n",
      "Epoch [221/1000]\n"
     ]
    },
    {
     "name": "stderr",
     "output_type": "stream",
     "text": [
      "100%|██████████| 60/60 [00:24<00:00,  2.43it/s, loss=9.66e-5]\n",
      "100%|██████████| 26/26 [00:17<00:00,  1.51it/s, val_loss=0.000109, SDR=0.967, R_ave=1.44]\n",
      "  0%|          | 0/60 [00:00<?, ?it/s]"
     ]
    },
    {
     "name": "stdout",
     "output_type": "stream",
     "text": [
      "loss 0.0001 - val_loss 0.0001 - SDR 0.9666 - R_ave 1.4423\n",
      "Epoch [222/1000]\n"
     ]
    },
    {
     "name": "stderr",
     "output_type": "stream",
     "text": [
      "100%|██████████| 60/60 [00:24<00:00,  2.42it/s, loss=0.000118]\n",
      "100%|██████████| 26/26 [00:16<00:00,  1.55it/s, val_loss=0.000127, SDR=0.958, R_ave=1.52]\n",
      "  0%|          | 0/60 [00:00<?, ?it/s]"
     ]
    },
    {
     "name": "stdout",
     "output_type": "stream",
     "text": [
      "loss 0.0001 - val_loss 0.0001 - SDR 0.9576 - R_ave 1.5249\n",
      "Epoch [223/1000]\n"
     ]
    },
    {
     "name": "stderr",
     "output_type": "stream",
     "text": [
      "100%|██████████| 60/60 [00:24<00:00,  2.47it/s, loss=0.000103]\n",
      "100%|██████████| 26/26 [00:16<00:00,  1.54it/s, val_loss=0.000113, SDR=0.961, R_ave=1.48]\n",
      "  0%|          | 0/60 [00:00<?, ?it/s]"
     ]
    },
    {
     "name": "stdout",
     "output_type": "stream",
     "text": [
      "loss 0.0001 - val_loss 0.0001 - SDR 0.9611 - R_ave 1.4817\n",
      "Epoch [224/1000]\n"
     ]
    },
    {
     "name": "stderr",
     "output_type": "stream",
     "text": [
      "100%|██████████| 60/60 [00:24<00:00,  2.46it/s, loss=9.96e-5] \n",
      "100%|██████████| 26/26 [00:17<00:00,  1.51it/s, val_loss=0.000138, SDR=0.956, R_ave=1.59]\n",
      "  0%|          | 0/60 [00:00<?, ?it/s]"
     ]
    },
    {
     "name": "stdout",
     "output_type": "stream",
     "text": [
      "loss 0.0001 - val_loss 0.0001 - SDR 0.9557 - R_ave 1.5895\n",
      "Epoch [225/1000]\n"
     ]
    },
    {
     "name": "stderr",
     "output_type": "stream",
     "text": [
      "100%|██████████| 60/60 [00:24<00:00,  2.44it/s, loss=9.65e-5] \n",
      "100%|██████████| 26/26 [00:16<00:00,  1.54it/s, val_loss=0.000105, SDR=0.964, R_ave=1.47]\n",
      "  0%|          | 0/60 [00:00<?, ?it/s]"
     ]
    },
    {
     "name": "stdout",
     "output_type": "stream",
     "text": [
      "loss 0.0001 - val_loss 0.0001 - SDR 0.9645 - R_ave 1.4683\n",
      "Epoch [226/1000]\n"
     ]
    },
    {
     "name": "stderr",
     "output_type": "stream",
     "text": [
      "100%|██████████| 60/60 [00:24<00:00,  2.46it/s, loss=0.000108]\n",
      "100%|██████████| 26/26 [00:16<00:00,  1.55it/s, val_loss=0.000172, SDR=0.954, R_ave=1.98]\n",
      "  0%|          | 0/60 [00:00<?, ?it/s]"
     ]
    },
    {
     "name": "stdout",
     "output_type": "stream",
     "text": [
      "loss 0.0001 - val_loss 0.0002 - SDR 0.9539 - R_ave 1.9784\n",
      "Epoch [227/1000]\n"
     ]
    },
    {
     "name": "stderr",
     "output_type": "stream",
     "text": [
      "100%|██████████| 60/60 [00:24<00:00,  2.45it/s, loss=0.000103]\n",
      "100%|██████████| 26/26 [00:17<00:00,  1.51it/s, val_loss=0.000108, SDR=0.964, R_ave=1.51]\n",
      "  0%|          | 0/60 [00:00<?, ?it/s]"
     ]
    },
    {
     "name": "stdout",
     "output_type": "stream",
     "text": [
      "loss 0.0001 - val_loss 0.0001 - SDR 0.9635 - R_ave 1.5122\n",
      "Epoch [228/1000]\n"
     ]
    },
    {
     "name": "stderr",
     "output_type": "stream",
     "text": [
      "100%|██████████| 60/60 [00:24<00:00,  2.46it/s, loss=0.000101]\n",
      "100%|██████████| 26/26 [00:16<00:00,  1.55it/s, val_loss=0.000114, SDR=0.96, R_ave=1.53] \n",
      "  0%|          | 0/60 [00:00<?, ?it/s]"
     ]
    },
    {
     "name": "stdout",
     "output_type": "stream",
     "text": [
      "loss 0.0001 - val_loss 0.0001 - SDR 0.9605 - R_ave 1.5322\n",
      "Epoch [229/1000]\n"
     ]
    },
    {
     "name": "stderr",
     "output_type": "stream",
     "text": [
      "100%|██████████| 60/60 [00:24<00:00,  2.45it/s, loss=0.000111]\n",
      "100%|██████████| 26/26 [00:16<00:00,  1.54it/s, val_loss=0.000126, SDR=0.957, R_ave=1.6] \n",
      "  0%|          | 0/60 [00:00<?, ?it/s]"
     ]
    },
    {
     "name": "stdout",
     "output_type": "stream",
     "text": [
      "loss 0.0001 - val_loss 0.0001 - SDR 0.9566 - R_ave 1.5984\n",
      "Epoch [230/1000]\n"
     ]
    },
    {
     "name": "stderr",
     "output_type": "stream",
     "text": [
      "100%|██████████| 60/60 [00:24<00:00,  2.44it/s, loss=0.000103]\n",
      "100%|██████████| 26/26 [00:17<00:00,  1.51it/s, val_loss=0.0001, SDR=0.965, R_ave=1.41] \n",
      "  0%|          | 0/60 [00:00<?, ?it/s]"
     ]
    },
    {
     "name": "stdout",
     "output_type": "stream",
     "text": [
      "loss 0.0001 - val_loss 0.0001 - SDR 0.9653 - R_ave 1.4052\n",
      "=> saved best model\n",
      "Epoch [231/1000]\n"
     ]
    },
    {
     "name": "stderr",
     "output_type": "stream",
     "text": [
      "100%|██████████| 60/60 [00:24<00:00,  2.44it/s, loss=9.75e-5] \n",
      "100%|██████████| 26/26 [00:17<00:00,  1.51it/s, val_loss=0.000122, SDR=0.958, R_ave=1.53]\n",
      "  0%|          | 0/60 [00:00<?, ?it/s]"
     ]
    },
    {
     "name": "stdout",
     "output_type": "stream",
     "text": [
      "loss 0.0001 - val_loss 0.0001 - SDR 0.9582 - R_ave 1.5329\n",
      "Epoch [232/1000]\n"
     ]
    },
    {
     "name": "stderr",
     "output_type": "stream",
     "text": [
      "100%|██████████| 60/60 [00:24<00:00,  2.45it/s, loss=0.000101]\n",
      "100%|██████████| 26/26 [00:16<00:00,  1.54it/s, val_loss=0.000122, SDR=0.954, R_ave=1.52]\n",
      "  0%|          | 0/60 [00:00<?, ?it/s]"
     ]
    },
    {
     "name": "stdout",
     "output_type": "stream",
     "text": [
      "loss 0.0001 - val_loss 0.0001 - SDR 0.9542 - R_ave 1.5207\n",
      "Epoch [233/1000]\n"
     ]
    },
    {
     "name": "stderr",
     "output_type": "stream",
     "text": [
      "100%|██████████| 60/60 [00:24<00:00,  2.44it/s, loss=9.74e-5] \n",
      "100%|██████████| 26/26 [00:17<00:00,  1.52it/s, val_loss=0.000108, SDR=0.962, R_ave=1.47]\n",
      "  0%|          | 0/60 [00:00<?, ?it/s]"
     ]
    },
    {
     "name": "stdout",
     "output_type": "stream",
     "text": [
      "loss 0.0001 - val_loss 0.0001 - SDR 0.9624 - R_ave 1.4726\n",
      "Epoch [234/1000]\n"
     ]
    },
    {
     "name": "stderr",
     "output_type": "stream",
     "text": [
      "100%|██████████| 60/60 [00:24<00:00,  2.45it/s, loss=9.69e-5]\n",
      "100%|██████████| 26/26 [00:16<00:00,  1.54it/s, val_loss=0.000153, SDR=0.952, R_ave=1.76]\n",
      "  0%|          | 0/60 [00:00<?, ?it/s]"
     ]
    },
    {
     "name": "stdout",
     "output_type": "stream",
     "text": [
      "loss 0.0001 - val_loss 0.0002 - SDR 0.9518 - R_ave 1.7638\n",
      "Epoch [235/1000]\n"
     ]
    },
    {
     "name": "stderr",
     "output_type": "stream",
     "text": [
      "100%|██████████| 60/60 [00:24<00:00,  2.45it/s, loss=9.73e-5]\n",
      "100%|██████████| 26/26 [00:16<00:00,  1.55it/s, val_loss=0.000126, SDR=0.95, R_ave=1.59] \n",
      "  0%|          | 0/60 [00:00<?, ?it/s]"
     ]
    },
    {
     "name": "stdout",
     "output_type": "stream",
     "text": [
      "loss 0.0001 - val_loss 0.0001 - SDR 0.9496 - R_ave 1.5949\n",
      "Epoch [236/1000]\n"
     ]
    },
    {
     "name": "stderr",
     "output_type": "stream",
     "text": [
      "100%|██████████| 60/60 [00:24<00:00,  2.43it/s, loss=9.73e-5] \n",
      "100%|██████████| 26/26 [00:16<00:00,  1.53it/s, val_loss=0.000117, SDR=0.959, R_ave=1.55]\n",
      "  0%|          | 0/60 [00:00<?, ?it/s]"
     ]
    },
    {
     "name": "stdout",
     "output_type": "stream",
     "text": [
      "loss 0.0001 - val_loss 0.0001 - SDR 0.9587 - R_ave 1.5515\n",
      "Epoch [237/1000]\n"
     ]
    },
    {
     "name": "stderr",
     "output_type": "stream",
     "text": [
      "100%|██████████| 60/60 [00:24<00:00,  2.46it/s, loss=0.000102]\n",
      "100%|██████████| 26/26 [00:16<00:00,  1.55it/s, val_loss=0.00026, SDR=0.911, R_ave=2.5]  \n",
      "  0%|          | 0/60 [00:00<?, ?it/s]"
     ]
    },
    {
     "name": "stdout",
     "output_type": "stream",
     "text": [
      "loss 0.0001 - val_loss 0.0003 - SDR 0.9115 - R_ave 2.5029\n",
      "Epoch [238/1000]\n"
     ]
    },
    {
     "name": "stderr",
     "output_type": "stream",
     "text": [
      "100%|██████████| 60/60 [00:24<00:00,  2.47it/s, loss=0.000105]\n",
      "100%|██████████| 26/26 [00:16<00:00,  1.54it/s, val_loss=0.000131, SDR=0.954, R_ave=1.68]\n",
      "  0%|          | 0/60 [00:00<?, ?it/s]"
     ]
    },
    {
     "name": "stdout",
     "output_type": "stream",
     "text": [
      "loss 0.0001 - val_loss 0.0001 - SDR 0.9542 - R_ave 1.6814\n",
      "Epoch [239/1000]\n"
     ]
    },
    {
     "name": "stderr",
     "output_type": "stream",
     "text": [
      "100%|██████████| 60/60 [00:24<00:00,  2.43it/s, loss=9.75e-5]\n",
      "100%|██████████| 26/26 [00:16<00:00,  1.54it/s, val_loss=0.000108, SDR=0.96, R_ave=1.47] \n",
      "  0%|          | 0/60 [00:00<?, ?it/s]"
     ]
    },
    {
     "name": "stdout",
     "output_type": "stream",
     "text": [
      "loss 0.0001 - val_loss 0.0001 - SDR 0.9605 - R_ave 1.4664\n",
      "Epoch [240/1000]\n"
     ]
    },
    {
     "name": "stderr",
     "output_type": "stream",
     "text": [
      "100%|██████████| 60/60 [00:24<00:00,  2.44it/s, loss=9.85e-5] \n",
      "100%|██████████| 26/26 [00:16<00:00,  1.55it/s, val_loss=0.000103, SDR=0.964, R_ave=1.46]\n",
      "  0%|          | 0/60 [00:00<?, ?it/s]"
     ]
    },
    {
     "name": "stdout",
     "output_type": "stream",
     "text": [
      "loss 0.0001 - val_loss 0.0001 - SDR 0.9645 - R_ave 1.4554\n",
      "Epoch [241/1000]\n"
     ]
    },
    {
     "name": "stderr",
     "output_type": "stream",
     "text": [
      "100%|██████████| 60/60 [00:24<00:00,  2.46it/s, loss=9.91e-5] \n",
      "100%|██████████| 26/26 [00:16<00:00,  1.53it/s, val_loss=0.00011, SDR=0.963, R_ave=1.48] \n",
      "  0%|          | 0/60 [00:00<?, ?it/s]"
     ]
    },
    {
     "name": "stdout",
     "output_type": "stream",
     "text": [
      "loss 0.0001 - val_loss 0.0001 - SDR 0.9627 - R_ave 1.4822\n",
      "Epoch [242/1000]\n"
     ]
    },
    {
     "name": "stderr",
     "output_type": "stream",
     "text": [
      "100%|██████████| 60/60 [00:24<00:00,  2.44it/s, loss=0.000104]\n",
      "100%|██████████| 26/26 [00:16<00:00,  1.55it/s, val_loss=0.000126, SDR=0.958, R_ave=1.52]\n",
      "  0%|          | 0/60 [00:00<?, ?it/s]"
     ]
    },
    {
     "name": "stdout",
     "output_type": "stream",
     "text": [
      "loss 0.0001 - val_loss 0.0001 - SDR 0.9582 - R_ave 1.5238\n",
      "Epoch [243/1000]\n"
     ]
    },
    {
     "name": "stderr",
     "output_type": "stream",
     "text": [
      "100%|██████████| 60/60 [00:24<00:00,  2.46it/s, loss=0.000103]\n",
      "100%|██████████| 26/26 [00:16<00:00,  1.55it/s, val_loss=0.000218, SDR=0.931, R_ave=2.24]\n",
      "  0%|          | 0/60 [00:00<?, ?it/s]"
     ]
    },
    {
     "name": "stdout",
     "output_type": "stream",
     "text": [
      "loss 0.0001 - val_loss 0.0002 - SDR 0.9308 - R_ave 2.2362\n",
      "Epoch [244/1000]\n"
     ]
    },
    {
     "name": "stderr",
     "output_type": "stream",
     "text": [
      "100%|██████████| 60/60 [00:24<00:00,  2.45it/s, loss=0.000106]\n",
      "100%|██████████| 26/26 [00:17<00:00,  1.50it/s, val_loss=0.000113, SDR=0.957, R_ave=1.5] \n",
      "  0%|          | 0/60 [00:00<?, ?it/s]"
     ]
    },
    {
     "name": "stdout",
     "output_type": "stream",
     "text": [
      "loss 0.0001 - val_loss 0.0001 - SDR 0.9571 - R_ave 1.5047\n",
      "Epoch [245/1000]\n"
     ]
    },
    {
     "name": "stderr",
     "output_type": "stream",
     "text": [
      "100%|██████████| 60/60 [00:24<00:00,  2.43it/s, loss=0.000106]\n",
      "100%|██████████| 26/26 [00:16<00:00,  1.54it/s, val_loss=0.000127, SDR=0.958, R_ave=1.57]\n",
      "  0%|          | 0/60 [00:00<?, ?it/s]"
     ]
    },
    {
     "name": "stdout",
     "output_type": "stream",
     "text": [
      "loss 0.0001 - val_loss 0.0001 - SDR 0.9579 - R_ave 1.5714\n",
      "Epoch [246/1000]\n"
     ]
    },
    {
     "name": "stderr",
     "output_type": "stream",
     "text": [
      "100%|██████████| 60/60 [00:24<00:00,  2.46it/s, loss=9.9e-5]  \n",
      "100%|██████████| 26/26 [00:16<00:00,  1.55it/s, val_loss=0.000136, SDR=0.953, R_ave=1.6] \n",
      "  0%|          | 0/60 [00:00<?, ?it/s]"
     ]
    },
    {
     "name": "stdout",
     "output_type": "stream",
     "text": [
      "loss 0.0001 - val_loss 0.0001 - SDR 0.9533 - R_ave 1.5959\n",
      "Epoch [247/1000]\n"
     ]
    },
    {
     "name": "stderr",
     "output_type": "stream",
     "text": [
      "100%|██████████| 60/60 [00:24<00:00,  2.46it/s, loss=9.75e-5]\n",
      "100%|██████████| 26/26 [00:17<00:00,  1.52it/s, val_loss=0.000123, SDR=0.963, R_ave=1.55]\n",
      "  0%|          | 0/60 [00:00<?, ?it/s]"
     ]
    },
    {
     "name": "stdout",
     "output_type": "stream",
     "text": [
      "loss 0.0001 - val_loss 0.0001 - SDR 0.9626 - R_ave 1.5521\n",
      "Epoch [248/1000]\n"
     ]
    },
    {
     "name": "stderr",
     "output_type": "stream",
     "text": [
      "100%|██████████| 60/60 [00:24<00:00,  2.43it/s, loss=9.9e-5]  \n",
      "100%|██████████| 26/26 [00:16<00:00,  1.54it/s, val_loss=0.00011, SDR=0.96, R_ave=1.52]  \n",
      "  0%|          | 0/60 [00:00<?, ?it/s]"
     ]
    },
    {
     "name": "stdout",
     "output_type": "stream",
     "text": [
      "loss 0.0001 - val_loss 0.0001 - SDR 0.9600 - R_ave 1.5205\n",
      "Epoch [249/1000]\n"
     ]
    },
    {
     "name": "stderr",
     "output_type": "stream",
     "text": [
      "100%|██████████| 60/60 [00:24<00:00,  2.46it/s, loss=9.73e-5] \n",
      "100%|██████████| 26/26 [00:16<00:00,  1.55it/s, val_loss=0.000114, SDR=0.965, R_ave=1.46]\n",
      "  0%|          | 0/60 [00:00<?, ?it/s]"
     ]
    },
    {
     "name": "stdout",
     "output_type": "stream",
     "text": [
      "loss 0.0001 - val_loss 0.0001 - SDR 0.9650 - R_ave 1.4614\n",
      "Epoch [250/1000]\n"
     ]
    },
    {
     "name": "stderr",
     "output_type": "stream",
     "text": [
      "100%|██████████| 60/60 [00:24<00:00,  2.46it/s, loss=9.57e-5]\n",
      "100%|██████████| 26/26 [00:17<00:00,  1.50it/s, val_loss=0.000168, SDR=0.941, R_ave=1.91]\n",
      "  0%|          | 0/60 [00:00<?, ?it/s]"
     ]
    },
    {
     "name": "stdout",
     "output_type": "stream",
     "text": [
      "loss 0.0001 - val_loss 0.0002 - SDR 0.9409 - R_ave 1.9096\n",
      "Epoch [251/1000]\n"
     ]
    },
    {
     "name": "stderr",
     "output_type": "stream",
     "text": [
      "100%|██████████| 60/60 [00:24<00:00,  2.42it/s, loss=9.5e-5] \n",
      "100%|██████████| 26/26 [00:16<00:00,  1.54it/s, val_loss=0.000104, SDR=0.964, R_ave=1.44]\n",
      "  0%|          | 0/60 [00:00<?, ?it/s]"
     ]
    },
    {
     "name": "stdout",
     "output_type": "stream",
     "text": [
      "loss 0.0001 - val_loss 0.0001 - SDR 0.9639 - R_ave 1.4415\n",
      "Epoch [252/1000]\n"
     ]
    },
    {
     "name": "stderr",
     "output_type": "stream",
     "text": [
      "100%|██████████| 60/60 [00:24<00:00,  2.46it/s, loss=0.000102]\n",
      "100%|██████████| 26/26 [00:16<00:00,  1.54it/s, val_loss=0.000127, SDR=0.958, R_ave=1.59]\n",
      "  0%|          | 0/60 [00:00<?, ?it/s]"
     ]
    },
    {
     "name": "stdout",
     "output_type": "stream",
     "text": [
      "loss 0.0001 - val_loss 0.0001 - SDR 0.9578 - R_ave 1.5885\n",
      "Epoch [253/1000]\n"
     ]
    },
    {
     "name": "stderr",
     "output_type": "stream",
     "text": [
      "100%|██████████| 60/60 [00:24<00:00,  2.44it/s, loss=0.000101]\n",
      "100%|██████████| 26/26 [00:17<00:00,  1.51it/s, val_loss=0.000128, SDR=0.951, R_ave=1.64]\n",
      "  0%|          | 0/60 [00:00<?, ?it/s]"
     ]
    },
    {
     "name": "stdout",
     "output_type": "stream",
     "text": [
      "loss 0.0001 - val_loss 0.0001 - SDR 0.9512 - R_ave 1.6378\n",
      "Epoch [254/1000]\n"
     ]
    },
    {
     "name": "stderr",
     "output_type": "stream",
     "text": [
      "100%|██████████| 60/60 [00:24<00:00,  2.45it/s, loss=9.78e-5] \n",
      "100%|██████████| 26/26 [00:16<00:00,  1.54it/s, val_loss=0.000104, SDR=0.962, R_ave=1.46]\n",
      "  0%|          | 0/60 [00:00<?, ?it/s]"
     ]
    },
    {
     "name": "stdout",
     "output_type": "stream",
     "text": [
      "loss 0.0001 - val_loss 0.0001 - SDR 0.9621 - R_ave 1.4568\n",
      "Epoch [255/1000]\n"
     ]
    },
    {
     "name": "stderr",
     "output_type": "stream",
     "text": [
      "100%|██████████| 60/60 [00:24<00:00,  2.45it/s, loss=9.54e-5]\n",
      "100%|██████████| 26/26 [00:16<00:00,  1.54it/s, val_loss=0.000113, SDR=0.962, R_ave=1.55]\n",
      "  0%|          | 0/60 [00:00<?, ?it/s]"
     ]
    },
    {
     "name": "stdout",
     "output_type": "stream",
     "text": [
      "loss 0.0001 - val_loss 0.0001 - SDR 0.9618 - R_ave 1.5532\n",
      "Epoch [256/1000]\n"
     ]
    },
    {
     "name": "stderr",
     "output_type": "stream",
     "text": [
      "100%|██████████| 60/60 [00:24<00:00,  2.46it/s, loss=9.46e-5]\n",
      "100%|██████████| 26/26 [00:17<00:00,  1.49it/s, val_loss=0.000112, SDR=0.962, R_ave=1.54]\n",
      "  0%|          | 0/60 [00:00<?, ?it/s]"
     ]
    },
    {
     "name": "stdout",
     "output_type": "stream",
     "text": [
      "loss 0.0001 - val_loss 0.0001 - SDR 0.9621 - R_ave 1.5355\n",
      "Epoch [257/1000]\n"
     ]
    },
    {
     "name": "stderr",
     "output_type": "stream",
     "text": [
      "100%|██████████| 60/60 [00:24<00:00,  2.46it/s, loss=0.000102]\n",
      "100%|██████████| 26/26 [00:16<00:00,  1.55it/s, val_loss=0.000126, SDR=0.959, R_ave=1.65]\n",
      "  0%|          | 0/60 [00:00<?, ?it/s]"
     ]
    },
    {
     "name": "stdout",
     "output_type": "stream",
     "text": [
      "loss 0.0001 - val_loss 0.0001 - SDR 0.9590 - R_ave 1.6476\n",
      "Epoch [258/1000]\n"
     ]
    },
    {
     "name": "stderr",
     "output_type": "stream",
     "text": [
      "100%|██████████| 60/60 [00:24<00:00,  2.45it/s, loss=0.000106]\n",
      "100%|██████████| 26/26 [00:16<00:00,  1.55it/s, val_loss=0.000159, SDR=0.951, R_ave=1.88]\n",
      "  0%|          | 0/60 [00:00<?, ?it/s]"
     ]
    },
    {
     "name": "stdout",
     "output_type": "stream",
     "text": [
      "loss 0.0001 - val_loss 0.0002 - SDR 0.9515 - R_ave 1.8831\n",
      "Epoch [259/1000]\n"
     ]
    },
    {
     "name": "stderr",
     "output_type": "stream",
     "text": [
      "100%|██████████| 60/60 [00:24<00:00,  2.45it/s, loss=9.72e-5] \n",
      "100%|██████████| 26/26 [00:17<00:00,  1.52it/s, val_loss=0.000107, SDR=0.963, R_ave=1.44]\n",
      "  0%|          | 0/60 [00:00<?, ?it/s]"
     ]
    },
    {
     "name": "stdout",
     "output_type": "stream",
     "text": [
      "loss 0.0001 - val_loss 0.0001 - SDR 0.9627 - R_ave 1.4400\n",
      "Epoch [260/1000]\n"
     ]
    },
    {
     "name": "stderr",
     "output_type": "stream",
     "text": [
      "100%|██████████| 60/60 [00:24<00:00,  2.46it/s, loss=9.86e-5] \n",
      "100%|██████████| 26/26 [00:16<00:00,  1.54it/s, val_loss=0.000146, SDR=0.954, R_ave=1.81]\n",
      "  0%|          | 0/60 [00:00<?, ?it/s]"
     ]
    },
    {
     "name": "stdout",
     "output_type": "stream",
     "text": [
      "loss 0.0001 - val_loss 0.0001 - SDR 0.9544 - R_ave 1.8130\n",
      "Epoch [261/1000]\n"
     ]
    },
    {
     "name": "stderr",
     "output_type": "stream",
     "text": [
      "100%|██████████| 60/60 [00:24<00:00,  2.46it/s, loss=0.000124]\n",
      "100%|██████████| 26/26 [00:16<00:00,  1.54it/s, val_loss=0.000123, SDR=0.953, R_ave=1.59]\n",
      "  0%|          | 0/60 [00:00<?, ?it/s]"
     ]
    },
    {
     "name": "stdout",
     "output_type": "stream",
     "text": [
      "loss 0.0001 - val_loss 0.0001 - SDR 0.9526 - R_ave 1.5871\n",
      "Epoch [262/1000]\n"
     ]
    },
    {
     "name": "stderr",
     "output_type": "stream",
     "text": [
      "100%|██████████| 60/60 [00:24<00:00,  2.44it/s, loss=0.000113]\n",
      "100%|██████████| 26/26 [00:17<00:00,  1.52it/s, val_loss=0.000109, SDR=0.962, R_ave=1.48]\n",
      "  0%|          | 0/60 [00:00<?, ?it/s]"
     ]
    },
    {
     "name": "stdout",
     "output_type": "stream",
     "text": [
      "loss 0.0001 - val_loss 0.0001 - SDR 0.9616 - R_ave 1.4769\n",
      "Epoch [263/1000]\n"
     ]
    },
    {
     "name": "stderr",
     "output_type": "stream",
     "text": [
      "100%|██████████| 60/60 [00:24<00:00,  2.45it/s, loss=9.88e-5]\n",
      "100%|██████████| 26/26 [00:16<00:00,  1.53it/s, val_loss=0.000117, SDR=0.961, R_ave=1.52]\n",
      "  0%|          | 0/60 [00:00<?, ?it/s]"
     ]
    },
    {
     "name": "stdout",
     "output_type": "stream",
     "text": [
      "loss 0.0001 - val_loss 0.0001 - SDR 0.9611 - R_ave 1.5200\n",
      "Epoch [264/1000]\n"
     ]
    },
    {
     "name": "stderr",
     "output_type": "stream",
     "text": [
      "100%|██████████| 60/60 [00:24<00:00,  2.44it/s, loss=9.51e-5] \n",
      "100%|██████████| 26/26 [00:16<00:00,  1.55it/s, val_loss=0.000104, SDR=0.963, R_ave=1.43]\n",
      "  0%|          | 0/60 [00:00<?, ?it/s]"
     ]
    },
    {
     "name": "stdout",
     "output_type": "stream",
     "text": [
      "loss 0.0001 - val_loss 0.0001 - SDR 0.9632 - R_ave 1.4348\n",
      "Epoch [265/1000]\n"
     ]
    },
    {
     "name": "stderr",
     "output_type": "stream",
     "text": [
      "100%|██████████| 60/60 [00:24<00:00,  2.44it/s, loss=9.91e-5] \n",
      "100%|██████████| 26/26 [00:16<00:00,  1.54it/s, val_loss=0.000143, SDR=0.962, R_ave=1.59]\n",
      "  0%|          | 0/60 [00:00<?, ?it/s]"
     ]
    },
    {
     "name": "stdout",
     "output_type": "stream",
     "text": [
      "loss 0.0001 - val_loss 0.0001 - SDR 0.9616 - R_ave 1.5930\n",
      "Epoch [266/1000]\n"
     ]
    },
    {
     "name": "stderr",
     "output_type": "stream",
     "text": [
      "100%|██████████| 60/60 [00:24<00:00,  2.46it/s, loss=9.58e-5]\n",
      "100%|██████████| 26/26 [00:16<00:00,  1.54it/s, val_loss=0.000101, SDR=0.968, R_ave=1.43]\n",
      "  0%|          | 0/60 [00:00<?, ?it/s]"
     ]
    },
    {
     "name": "stdout",
     "output_type": "stream",
     "text": [
      "loss 0.0001 - val_loss 0.0001 - SDR 0.9682 - R_ave 1.4285\n",
      "Epoch [267/1000]\n"
     ]
    },
    {
     "name": "stderr",
     "output_type": "stream",
     "text": [
      "100%|██████████| 60/60 [00:24<00:00,  2.47it/s, loss=9.76e-5]\n",
      "100%|██████████| 26/26 [00:16<00:00,  1.54it/s, val_loss=0.000107, SDR=0.961, R_ave=1.46]\n",
      "  0%|          | 0/60 [00:00<?, ?it/s]"
     ]
    },
    {
     "name": "stdout",
     "output_type": "stream",
     "text": [
      "loss 0.0001 - val_loss 0.0001 - SDR 0.9610 - R_ave 1.4587\n",
      "Epoch [268/1000]\n"
     ]
    },
    {
     "name": "stderr",
     "output_type": "stream",
     "text": [
      "100%|██████████| 60/60 [00:24<00:00,  2.43it/s, loss=0.000101]\n",
      "100%|██████████| 26/26 [00:16<00:00,  1.54it/s, val_loss=0.000129, SDR=0.951, R_ave=1.64]\n"
     ]
    },
    {
     "name": "stdout",
     "output_type": "stream",
     "text": [
      "loss 0.0001 - val_loss 0.0001 - SDR 0.9513 - R_ave 1.6435\n"
     ]
    },
    {
     "name": "stderr",
     "output_type": "stream",
     "text": [
      "\r",
      "  0%|          | 0/60 [00:00<?, ?it/s]"
     ]
    },
    {
     "name": "stdout",
     "output_type": "stream",
     "text": [
      "Epoch [269/1000]\n"
     ]
    },
    {
     "name": "stderr",
     "output_type": "stream",
     "text": [
      "100%|██████████| 60/60 [00:24<00:00,  2.46it/s, loss=0.000107]\n",
      "100%|██████████| 26/26 [00:16<00:00,  1.53it/s, val_loss=0.000142, SDR=0.951, R_ave=1.69]\n",
      "  0%|          | 0/60 [00:00<?, ?it/s]"
     ]
    },
    {
     "name": "stdout",
     "output_type": "stream",
     "text": [
      "loss 0.0001 - val_loss 0.0001 - SDR 0.9507 - R_ave 1.6861\n",
      "Epoch [270/1000]\n"
     ]
    },
    {
     "name": "stderr",
     "output_type": "stream",
     "text": [
      "100%|██████████| 60/60 [00:24<00:00,  2.46it/s, loss=9.7e-5]  \n",
      "100%|██████████| 26/26 [00:16<00:00,  1.54it/s, val_loss=0.000114, SDR=0.961, R_ave=1.49]\n",
      "  0%|          | 0/60 [00:00<?, ?it/s]"
     ]
    },
    {
     "name": "stdout",
     "output_type": "stream",
     "text": [
      "loss 0.0001 - val_loss 0.0001 - SDR 0.9606 - R_ave 1.4945\n",
      "Epoch [271/1000]\n"
     ]
    },
    {
     "name": "stderr",
     "output_type": "stream",
     "text": [
      "100%|██████████| 60/60 [00:24<00:00,  2.42it/s, loss=9.68e-5]\n",
      "100%|██████████| 26/26 [00:16<00:00,  1.54it/s, val_loss=0.000112, SDR=0.962, R_ave=1.44]\n",
      "  0%|          | 0/60 [00:00<?, ?it/s]"
     ]
    },
    {
     "name": "stdout",
     "output_type": "stream",
     "text": [
      "loss 0.0001 - val_loss 0.0001 - SDR 0.9619 - R_ave 1.4379\n",
      "Epoch [272/1000]\n"
     ]
    },
    {
     "name": "stderr",
     "output_type": "stream",
     "text": [
      "100%|██████████| 60/60 [00:24<00:00,  2.46it/s, loss=9.5e-5] \n",
      "100%|██████████| 26/26 [00:16<00:00,  1.54it/s, val_loss=0.000106, SDR=0.964, R_ave=1.48]\n",
      "  0%|          | 0/60 [00:00<?, ?it/s]"
     ]
    },
    {
     "name": "stdout",
     "output_type": "stream",
     "text": [
      "loss 0.0001 - val_loss 0.0001 - SDR 0.9645 - R_ave 1.4796\n",
      "Epoch [273/1000]\n"
     ]
    },
    {
     "name": "stderr",
     "output_type": "stream",
     "text": [
      "100%|██████████| 60/60 [00:24<00:00,  2.46it/s, loss=9.18e-5]\n",
      "100%|██████████| 26/26 [00:17<00:00,  1.52it/s, val_loss=0.000119, SDR=0.956, R_ave=1.58]\n",
      "  0%|          | 0/60 [00:00<?, ?it/s]"
     ]
    },
    {
     "name": "stdout",
     "output_type": "stream",
     "text": [
      "loss 0.0001 - val_loss 0.0001 - SDR 0.9558 - R_ave 1.5787\n",
      "Epoch [274/1000]\n"
     ]
    },
    {
     "name": "stderr",
     "output_type": "stream",
     "text": [
      "100%|██████████| 60/60 [00:24<00:00,  2.43it/s, loss=9.21e-5]\n",
      "100%|██████████| 26/26 [00:16<00:00,  1.54it/s, val_loss=0.000118, SDR=0.958, R_ave=1.53]\n",
      "  0%|          | 0/60 [00:00<?, ?it/s]"
     ]
    },
    {
     "name": "stdout",
     "output_type": "stream",
     "text": [
      "loss 0.0001 - val_loss 0.0001 - SDR 0.9581 - R_ave 1.5265\n",
      "Epoch [275/1000]\n"
     ]
    },
    {
     "name": "stderr",
     "output_type": "stream",
     "text": [
      "100%|██████████| 60/60 [00:24<00:00,  2.46it/s, loss=9.52e-5]\n",
      "100%|██████████| 26/26 [00:16<00:00,  1.54it/s, val_loss=0.000108, SDR=0.964, R_ave=1.43]\n"
     ]
    },
    {
     "name": "stdout",
     "output_type": "stream",
     "text": [
      "loss 0.0001 - val_loss 0.0001 - SDR 0.9639 - R_ave 1.4296\n"
     ]
    },
    {
     "name": "stderr",
     "output_type": "stream",
     "text": [
      "\r",
      "  0%|          | 0/60 [00:00<?, ?it/s]"
     ]
    },
    {
     "name": "stdout",
     "output_type": "stream",
     "text": [
      "Epoch [276/1000]\n"
     ]
    },
    {
     "name": "stderr",
     "output_type": "stream",
     "text": [
      "100%|██████████| 60/60 [00:24<00:00,  2.45it/s, loss=9.75e-5]\n",
      "100%|██████████| 26/26 [00:17<00:00,  1.52it/s, val_loss=0.000103, SDR=0.965, R_ave=1.46]\n",
      "  0%|          | 0/60 [00:00<?, ?it/s]"
     ]
    },
    {
     "name": "stdout",
     "output_type": "stream",
     "text": [
      "loss 0.0001 - val_loss 0.0001 - SDR 0.9648 - R_ave 1.4607\n",
      "Epoch [277/1000]\n"
     ]
    },
    {
     "name": "stderr",
     "output_type": "stream",
     "text": [
      "100%|██████████| 60/60 [00:24<00:00,  2.43it/s, loss=9.59e-5] \n",
      "100%|██████████| 26/26 [00:16<00:00,  1.53it/s, val_loss=0.000105, SDR=0.963, R_ave=1.45]\n",
      "  0%|          | 0/60 [00:00<?, ?it/s]"
     ]
    },
    {
     "name": "stdout",
     "output_type": "stream",
     "text": [
      "loss 0.0001 - val_loss 0.0001 - SDR 0.9631 - R_ave 1.4539\n",
      "Epoch [278/1000]\n"
     ]
    },
    {
     "name": "stderr",
     "output_type": "stream",
     "text": [
      "100%|██████████| 60/60 [00:24<00:00,  2.45it/s, loss=9.6e-5] \n",
      "100%|██████████| 26/26 [00:16<00:00,  1.54it/s, val_loss=0.000163, SDR=0.953, R_ave=1.78]\n",
      "  0%|          | 0/60 [00:00<?, ?it/s]"
     ]
    },
    {
     "name": "stdout",
     "output_type": "stream",
     "text": [
      "loss 0.0001 - val_loss 0.0002 - SDR 0.9526 - R_ave 1.7761\n",
      "Epoch [279/1000]\n"
     ]
    },
    {
     "name": "stderr",
     "output_type": "stream",
     "text": [
      "100%|██████████| 60/60 [00:24<00:00,  2.47it/s, loss=0.000114]\n",
      "100%|██████████| 26/26 [00:17<00:00,  1.50it/s, val_loss=0.000189, SDR=0.931, R_ave=2.25]\n",
      "  0%|          | 0/60 [00:00<?, ?it/s]"
     ]
    },
    {
     "name": "stdout",
     "output_type": "stream",
     "text": [
      "loss 0.0001 - val_loss 0.0002 - SDR 0.9308 - R_ave 2.2527\n",
      "Epoch [280/1000]\n"
     ]
    },
    {
     "name": "stderr",
     "output_type": "stream",
     "text": [
      "100%|██████████| 60/60 [00:24<00:00,  2.44it/s, loss=0.000101]\n",
      "100%|██████████| 26/26 [00:16<00:00,  1.53it/s, val_loss=0.000103, SDR=0.965, R_ave=1.44]\n",
      "  0%|          | 0/60 [00:00<?, ?it/s]"
     ]
    },
    {
     "name": "stdout",
     "output_type": "stream",
     "text": [
      "loss 0.0001 - val_loss 0.0001 - SDR 0.9655 - R_ave 1.4431\n",
      "Epoch [281/1000]\n"
     ]
    },
    {
     "name": "stderr",
     "output_type": "stream",
     "text": [
      "100%|██████████| 60/60 [00:24<00:00,  2.45it/s, loss=9.33e-5] \n",
      "100%|██████████| 26/26 [00:16<00:00,  1.55it/s, val_loss=0.000112, SDR=0.962, R_ave=1.53]\n",
      "  0%|          | 0/60 [00:00<?, ?it/s]"
     ]
    },
    {
     "name": "stdout",
     "output_type": "stream",
     "text": [
      "loss 0.0001 - val_loss 0.0001 - SDR 0.9624 - R_ave 1.5294\n",
      "Epoch [282/1000]\n"
     ]
    },
    {
     "name": "stderr",
     "output_type": "stream",
     "text": [
      "100%|██████████| 60/60 [00:24<00:00,  2.45it/s, loss=9.75e-5]\n",
      "100%|██████████| 26/26 [00:17<00:00,  1.52it/s, val_loss=0.000108, SDR=0.964, R_ave=1.46]\n",
      "  0%|          | 0/60 [00:00<?, ?it/s]"
     ]
    },
    {
     "name": "stdout",
     "output_type": "stream",
     "text": [
      "loss 0.0001 - val_loss 0.0001 - SDR 0.9642 - R_ave 1.4637\n",
      "Epoch [283/1000]\n"
     ]
    },
    {
     "name": "stderr",
     "output_type": "stream",
     "text": [
      "100%|██████████| 60/60 [00:24<00:00,  2.46it/s, loss=0.000102]\n",
      "100%|██████████| 26/26 [00:16<00:00,  1.54it/s, val_loss=0.000127, SDR=0.957, R_ave=1.59]\n",
      "  0%|          | 0/60 [00:00<?, ?it/s]"
     ]
    },
    {
     "name": "stdout",
     "output_type": "stream",
     "text": [
      "loss 0.0001 - val_loss 0.0001 - SDR 0.9569 - R_ave 1.5911\n",
      "Epoch [284/1000]\n"
     ]
    },
    {
     "name": "stderr",
     "output_type": "stream",
     "text": [
      "100%|██████████| 60/60 [00:24<00:00,  2.45it/s, loss=9.47e-5]\n",
      "100%|██████████| 26/26 [00:16<00:00,  1.54it/s, val_loss=0.000207, SDR=0.921, R_ave=2.23]\n",
      "  0%|          | 0/60 [00:00<?, ?it/s]"
     ]
    },
    {
     "name": "stdout",
     "output_type": "stream",
     "text": [
      "loss 0.0001 - val_loss 0.0002 - SDR 0.9213 - R_ave 2.2301\n",
      "Epoch [285/1000]\n"
     ]
    },
    {
     "name": "stderr",
     "output_type": "stream",
     "text": [
      "100%|██████████| 60/60 [00:24<00:00,  2.45it/s, loss=9.28e-5]\n",
      "100%|██████████| 26/26 [00:17<00:00,  1.51it/s, val_loss=0.000113, SDR=0.959, R_ave=1.52]\n",
      "  0%|          | 0/60 [00:00<?, ?it/s]"
     ]
    },
    {
     "name": "stdout",
     "output_type": "stream",
     "text": [
      "loss 0.0001 - val_loss 0.0001 - SDR 0.9587 - R_ave 1.5224\n",
      "Epoch [286/1000]\n"
     ]
    },
    {
     "name": "stderr",
     "output_type": "stream",
     "text": [
      "100%|██████████| 60/60 [00:24<00:00,  2.46it/s, loss=9.72e-5]\n",
      "100%|██████████| 26/26 [00:16<00:00,  1.55it/s, val_loss=0.000118, SDR=0.954, R_ave=1.51]\n",
      "  0%|          | 0/60 [00:00<?, ?it/s]"
     ]
    },
    {
     "name": "stdout",
     "output_type": "stream",
     "text": [
      "loss 0.0001 - val_loss 0.0001 - SDR 0.9542 - R_ave 1.5134\n",
      "Epoch [287/1000]\n"
     ]
    },
    {
     "name": "stderr",
     "output_type": "stream",
     "text": [
      "100%|██████████| 60/60 [00:24<00:00,  2.45it/s, loss=9.85e-5] \n",
      "100%|██████████| 26/26 [00:16<00:00,  1.54it/s, val_loss=9.63e-5, SDR=0.966, R_ave=1.42]\n",
      "  0%|          | 0/60 [00:00<?, ?it/s]"
     ]
    },
    {
     "name": "stdout",
     "output_type": "stream",
     "text": [
      "loss 0.0001 - val_loss 0.0001 - SDR 0.9658 - R_ave 1.4223\n",
      "Epoch [288/1000]\n"
     ]
    },
    {
     "name": "stderr",
     "output_type": "stream",
     "text": [
      "100%|██████████| 60/60 [00:24<00:00,  2.45it/s, loss=9.32e-5]\n",
      "100%|██████████| 26/26 [00:17<00:00,  1.52it/s, val_loss=0.000118, SDR=0.961, R_ave=1.48]\n",
      "  0%|          | 0/60 [00:00<?, ?it/s]"
     ]
    },
    {
     "name": "stdout",
     "output_type": "stream",
     "text": [
      "loss 0.0001 - val_loss 0.0001 - SDR 0.9614 - R_ave 1.4808\n",
      "Epoch [289/1000]\n"
     ]
    },
    {
     "name": "stderr",
     "output_type": "stream",
     "text": [
      "100%|██████████| 60/60 [00:24<00:00,  2.45it/s, loss=9.57e-5]\n",
      "100%|██████████| 26/26 [00:16<00:00,  1.54it/s, val_loss=0.00014, SDR=0.951, R_ave=1.7]  \n",
      "  0%|          | 0/60 [00:00<?, ?it/s]"
     ]
    },
    {
     "name": "stdout",
     "output_type": "stream",
     "text": [
      "loss 0.0001 - val_loss 0.0001 - SDR 0.9512 - R_ave 1.6985\n",
      "Epoch [290/1000]\n"
     ]
    },
    {
     "name": "stderr",
     "output_type": "stream",
     "text": [
      "100%|██████████| 60/60 [00:24<00:00,  2.46it/s, loss=9.41e-5] \n",
      "100%|██████████| 26/26 [00:16<00:00,  1.55it/s, val_loss=0.000104, SDR=0.962, R_ave=1.43]\n",
      "  0%|          | 0/60 [00:00<?, ?it/s]"
     ]
    },
    {
     "name": "stdout",
     "output_type": "stream",
     "text": [
      "loss 0.0001 - val_loss 0.0001 - SDR 0.9622 - R_ave 1.4301\n",
      "Epoch [291/1000]\n"
     ]
    },
    {
     "name": "stderr",
     "output_type": "stream",
     "text": [
      "100%|██████████| 60/60 [00:24<00:00,  2.44it/s, loss=9.52e-5] \n",
      "100%|██████████| 26/26 [00:17<00:00,  1.51it/s, val_loss=0.000165, SDR=0.952, R_ave=1.64]\n",
      "  0%|          | 0/60 [00:00<?, ?it/s]"
     ]
    },
    {
     "name": "stdout",
     "output_type": "stream",
     "text": [
      "loss 0.0001 - val_loss 0.0002 - SDR 0.9524 - R_ave 1.6353\n",
      "Epoch [292/1000]\n"
     ]
    },
    {
     "name": "stderr",
     "output_type": "stream",
     "text": [
      "100%|██████████| 60/60 [00:24<00:00,  2.47it/s, loss=9.62e-5]\n",
      "100%|██████████| 26/26 [00:16<00:00,  1.54it/s, val_loss=0.000134, SDR=0.96, R_ave=1.62] \n",
      "  0%|          | 0/60 [00:00<?, ?it/s]"
     ]
    },
    {
     "name": "stdout",
     "output_type": "stream",
     "text": [
      "loss 0.0001 - val_loss 0.0001 - SDR 0.9600 - R_ave 1.6246\n",
      "Epoch [293/1000]\n"
     ]
    },
    {
     "name": "stderr",
     "output_type": "stream",
     "text": [
      "100%|██████████| 60/60 [00:24<00:00,  2.46it/s, loss=0.000101]\n",
      "100%|██████████| 26/26 [00:16<00:00,  1.54it/s, val_loss=0.000189, SDR=0.933, R_ave=2.01]\n",
      "  0%|          | 0/60 [00:00<?, ?it/s]"
     ]
    },
    {
     "name": "stdout",
     "output_type": "stream",
     "text": [
      "loss 0.0001 - val_loss 0.0002 - SDR 0.9335 - R_ave 2.0114\n",
      "Epoch [294/1000]\n"
     ]
    },
    {
     "name": "stderr",
     "output_type": "stream",
     "text": [
      "100%|██████████| 60/60 [00:24<00:00,  2.43it/s, loss=9.89e-5] \n",
      "100%|██████████| 26/26 [00:16<00:00,  1.54it/s, val_loss=0.000124, SDR=0.959, R_ave=1.55]\n",
      "  0%|          | 0/60 [00:00<?, ?it/s]"
     ]
    },
    {
     "name": "stdout",
     "output_type": "stream",
     "text": [
      "loss 0.0001 - val_loss 0.0001 - SDR 0.9587 - R_ave 1.5468\n",
      "Epoch [295/1000]\n"
     ]
    },
    {
     "name": "stderr",
     "output_type": "stream",
     "text": [
      "100%|██████████| 60/60 [00:24<00:00,  2.46it/s, loss=0.000107]\n",
      "100%|██████████| 26/26 [00:16<00:00,  1.54it/s, val_loss=0.000166, SDR=0.944, R_ave=1.98]\n",
      "  0%|          | 0/60 [00:00<?, ?it/s]"
     ]
    },
    {
     "name": "stdout",
     "output_type": "stream",
     "text": [
      "loss 0.0001 - val_loss 0.0002 - SDR 0.9444 - R_ave 1.9842\n",
      "Epoch [296/1000]\n"
     ]
    },
    {
     "name": "stderr",
     "output_type": "stream",
     "text": [
      "100%|██████████| 60/60 [00:24<00:00,  2.46it/s, loss=0.0001]  \n",
      "100%|██████████| 26/26 [00:16<00:00,  1.54it/s, val_loss=0.000108, SDR=0.963, R_ave=1.47]\n",
      "  0%|          | 0/60 [00:00<?, ?it/s]"
     ]
    },
    {
     "name": "stdout",
     "output_type": "stream",
     "text": [
      "loss 0.0001 - val_loss 0.0001 - SDR 0.9632 - R_ave 1.4704\n",
      "Epoch [297/1000]\n"
     ]
    },
    {
     "name": "stderr",
     "output_type": "stream",
     "text": [
      "100%|██████████| 60/60 [00:24<00:00,  2.43it/s, loss=9.18e-5]\n",
      "100%|██████████| 26/26 [00:16<00:00,  1.54it/s, val_loss=0.000141, SDR=0.953, R_ave=1.64]\n",
      "  0%|          | 0/60 [00:00<?, ?it/s]"
     ]
    },
    {
     "name": "stdout",
     "output_type": "stream",
     "text": [
      "loss 0.0001 - val_loss 0.0001 - SDR 0.9528 - R_ave 1.6429\n",
      "Epoch [298/1000]\n"
     ]
    },
    {
     "name": "stderr",
     "output_type": "stream",
     "text": [
      "100%|██████████| 60/60 [00:24<00:00,  2.46it/s, loss=9.2e-5] \n",
      "100%|██████████| 26/26 [00:16<00:00,  1.54it/s, val_loss=0.000106, SDR=0.96, R_ave=1.46] \n",
      "  0%|          | 0/60 [00:00<?, ?it/s]"
     ]
    },
    {
     "name": "stdout",
     "output_type": "stream",
     "text": [
      "loss 0.0001 - val_loss 0.0001 - SDR 0.9605 - R_ave 1.4641\n",
      "Epoch [299/1000]\n"
     ]
    },
    {
     "name": "stderr",
     "output_type": "stream",
     "text": [
      "100%|██████████| 60/60 [00:24<00:00,  2.46it/s, loss=9.15e-5]\n",
      "100%|██████████| 26/26 [00:16<00:00,  1.54it/s, val_loss=0.000113, SDR=0.959, R_ave=1.5] \n",
      "  0%|          | 0/60 [00:00<?, ?it/s]"
     ]
    },
    {
     "name": "stdout",
     "output_type": "stream",
     "text": [
      "loss 0.0001 - val_loss 0.0001 - SDR 0.9594 - R_ave 1.4950\n",
      "Epoch [300/1000]\n"
     ]
    },
    {
     "name": "stderr",
     "output_type": "stream",
     "text": [
      "100%|██████████| 60/60 [00:24<00:00,  2.43it/s, loss=9.4e-5] \n",
      "100%|██████████| 26/26 [00:16<00:00,  1.55it/s, val_loss=0.000177, SDR=0.941, R_ave=1.94]\n",
      "  0%|          | 0/60 [00:00<?, ?it/s]"
     ]
    },
    {
     "name": "stdout",
     "output_type": "stream",
     "text": [
      "loss 0.0001 - val_loss 0.0002 - SDR 0.9410 - R_ave 1.9351\n",
      "Epoch [301/1000]\n"
     ]
    },
    {
     "name": "stderr",
     "output_type": "stream",
     "text": [
      "100%|██████████| 60/60 [00:24<00:00,  2.45it/s, loss=9.64e-5]\n",
      "100%|██████████| 26/26 [00:16<00:00,  1.55it/s, val_loss=0.000131, SDR=0.947, R_ave=1.66]\n",
      "  0%|          | 0/60 [00:00<?, ?it/s]"
     ]
    },
    {
     "name": "stdout",
     "output_type": "stream",
     "text": [
      "loss 0.0001 - val_loss 0.0001 - SDR 0.9470 - R_ave 1.6615\n",
      "Epoch [302/1000]\n"
     ]
    },
    {
     "name": "stderr",
     "output_type": "stream",
     "text": [
      "100%|██████████| 60/60 [00:24<00:00,  2.46it/s, loss=0.000104]\n",
      "100%|██████████| 26/26 [00:17<00:00,  1.52it/s, val_loss=0.000817, SDR=0.925, R_ave=3.22]\n",
      "  0%|          | 0/60 [00:00<?, ?it/s]"
     ]
    },
    {
     "name": "stdout",
     "output_type": "stream",
     "text": [
      "loss 0.0001 - val_loss 0.0008 - SDR 0.9255 - R_ave 3.2180\n",
      "Epoch [303/1000]\n"
     ]
    },
    {
     "name": "stderr",
     "output_type": "stream",
     "text": [
      "100%|██████████| 60/60 [00:24<00:00,  2.43it/s, loss=9.79e-5] \n",
      "100%|██████████| 26/26 [00:16<00:00,  1.54it/s, val_loss=0.000133, SDR=0.948, R_ave=1.6] \n",
      "  0%|          | 0/60 [00:00<?, ?it/s]"
     ]
    },
    {
     "name": "stdout",
     "output_type": "stream",
     "text": [
      "loss 0.0001 - val_loss 0.0001 - SDR 0.9483 - R_ave 1.6048\n",
      "Epoch [304/1000]\n"
     ]
    },
    {
     "name": "stderr",
     "output_type": "stream",
     "text": [
      "100%|██████████| 60/60 [00:24<00:00,  2.46it/s, loss=9.39e-5]\n",
      "100%|██████████| 26/26 [00:16<00:00,  1.55it/s, val_loss=0.000157, SDR=0.947, R_ave=1.79]\n",
      "  0%|          | 0/60 [00:00<?, ?it/s]"
     ]
    },
    {
     "name": "stdout",
     "output_type": "stream",
     "text": [
      "loss 0.0001 - val_loss 0.0002 - SDR 0.9471 - R_ave 1.7946\n",
      "Epoch [305/1000]\n"
     ]
    },
    {
     "name": "stderr",
     "output_type": "stream",
     "text": [
      "100%|██████████| 60/60 [00:24<00:00,  2.46it/s, loss=9.94e-5] \n",
      "100%|██████████| 26/26 [00:17<00:00,  1.51it/s, val_loss=0.000178, SDR=0.937, R_ave=2.28]\n",
      "  0%|          | 0/60 [00:00<?, ?it/s]"
     ]
    },
    {
     "name": "stdout",
     "output_type": "stream",
     "text": [
      "loss 0.0001 - val_loss 0.0002 - SDR 0.9372 - R_ave 2.2776\n",
      "Epoch [306/1000]\n"
     ]
    },
    {
     "name": "stderr",
     "output_type": "stream",
     "text": [
      "100%|██████████| 60/60 [00:24<00:00,  2.44it/s, loss=0.000103]\n",
      "100%|██████████| 26/26 [00:16<00:00,  1.54it/s, val_loss=0.000138, SDR=0.951, R_ave=1.67]\n",
      "  0%|          | 0/60 [00:00<?, ?it/s]"
     ]
    },
    {
     "name": "stdout",
     "output_type": "stream",
     "text": [
      "loss 0.0001 - val_loss 0.0001 - SDR 0.9510 - R_ave 1.6674\n",
      "Epoch [307/1000]\n"
     ]
    },
    {
     "name": "stderr",
     "output_type": "stream",
     "text": [
      "100%|██████████| 60/60 [00:24<00:00,  2.47it/s, loss=9.79e-5] \n",
      "100%|██████████| 26/26 [00:16<00:00,  1.54it/s, val_loss=0.000105, SDR=0.966, R_ave=1.5] \n",
      "  0%|          | 0/60 [00:00<?, ?it/s]"
     ]
    },
    {
     "name": "stdout",
     "output_type": "stream",
     "text": [
      "loss 0.0001 - val_loss 0.0001 - SDR 0.9661 - R_ave 1.5000\n",
      "Epoch [308/1000]\n"
     ]
    },
    {
     "name": "stderr",
     "output_type": "stream",
     "text": [
      "100%|██████████| 60/60 [00:24<00:00,  2.46it/s, loss=9.74e-5]\n",
      "100%|██████████| 26/26 [00:17<00:00,  1.51it/s, val_loss=0.00011, SDR=0.961, R_ave=1.47] \n",
      "  0%|          | 0/60 [00:00<?, ?it/s]"
     ]
    },
    {
     "name": "stdout",
     "output_type": "stream",
     "text": [
      "loss 0.0001 - val_loss 0.0001 - SDR 0.9611 - R_ave 1.4724\n",
      "Epoch [309/1000]\n"
     ]
    },
    {
     "name": "stderr",
     "output_type": "stream",
     "text": [
      "100%|██████████| 60/60 [00:24<00:00,  2.46it/s, loss=9.39e-5]\n",
      "100%|██████████| 26/26 [00:16<00:00,  1.54it/s, val_loss=0.000115, SDR=0.96, R_ave=1.49] \n",
      "  0%|          | 0/60 [00:00<?, ?it/s]"
     ]
    },
    {
     "name": "stdout",
     "output_type": "stream",
     "text": [
      "loss 0.0001 - val_loss 0.0001 - SDR 0.9597 - R_ave 1.4865\n",
      "Epoch [310/1000]\n"
     ]
    },
    {
     "name": "stderr",
     "output_type": "stream",
     "text": [
      "100%|██████████| 60/60 [00:24<00:00,  2.45it/s, loss=9.83e-5] \n",
      "100%|██████████| 26/26 [00:17<00:00,  1.53it/s, val_loss=0.000115, SDR=0.963, R_ave=1.49]\n",
      "  0%|          | 0/60 [00:00<?, ?it/s]"
     ]
    },
    {
     "name": "stdout",
     "output_type": "stream",
     "text": [
      "loss 0.0001 - val_loss 0.0001 - SDR 0.9634 - R_ave 1.4869\n",
      "Epoch [311/1000]\n"
     ]
    },
    {
     "name": "stderr",
     "output_type": "stream",
     "text": [
      "100%|██████████| 60/60 [00:24<00:00,  2.46it/s, loss=9.66e-5]\n",
      "100%|██████████| 26/26 [00:17<00:00,  1.51it/s, val_loss=0.000103, SDR=0.969, R_ave=1.42]\n",
      "  0%|          | 0/60 [00:00<?, ?it/s]"
     ]
    },
    {
     "name": "stdout",
     "output_type": "stream",
     "text": [
      "loss 0.0001 - val_loss 0.0001 - SDR 0.9685 - R_ave 1.4152\n",
      "Epoch [312/1000]\n"
     ]
    },
    {
     "name": "stderr",
     "output_type": "stream",
     "text": [
      "100%|██████████| 60/60 [00:24<00:00,  2.46it/s, loss=9.33e-5]\n",
      "100%|██████████| 26/26 [00:16<00:00,  1.54it/s, val_loss=0.000117, SDR=0.959, R_ave=1.54]\n",
      "  0%|          | 0/60 [00:00<?, ?it/s]"
     ]
    },
    {
     "name": "stdout",
     "output_type": "stream",
     "text": [
      "loss 0.0001 - val_loss 0.0001 - SDR 0.9586 - R_ave 1.5420\n",
      "Epoch [313/1000]\n"
     ]
    },
    {
     "name": "stderr",
     "output_type": "stream",
     "text": [
      "100%|██████████| 60/60 [00:24<00:00,  2.45it/s, loss=9.81e-5]\n",
      "100%|██████████| 26/26 [00:17<00:00,  1.52it/s, val_loss=0.000125, SDR=0.959, R_ave=1.54]\n",
      "  0%|          | 0/60 [00:00<?, ?it/s]"
     ]
    },
    {
     "name": "stdout",
     "output_type": "stream",
     "text": [
      "loss 0.0001 - val_loss 0.0001 - SDR 0.9594 - R_ave 1.5387\n",
      "Epoch [314/1000]\n"
     ]
    },
    {
     "name": "stderr",
     "output_type": "stream",
     "text": [
      "100%|██████████| 60/60 [00:24<00:00,  2.46it/s, loss=0.0001]  \n",
      "100%|██████████| 26/26 [00:17<00:00,  1.51it/s, val_loss=0.000103, SDR=0.964, R_ave=1.44]\n",
      "  0%|          | 0/60 [00:00<?, ?it/s]"
     ]
    },
    {
     "name": "stdout",
     "output_type": "stream",
     "text": [
      "loss 0.0001 - val_loss 0.0001 - SDR 0.9635 - R_ave 1.4441\n",
      "Epoch [315/1000]\n"
     ]
    },
    {
     "name": "stderr",
     "output_type": "stream",
     "text": [
      "100%|██████████| 60/60 [00:24<00:00,  2.46it/s, loss=9.57e-5] \n",
      "100%|██████████| 26/26 [00:16<00:00,  1.55it/s, val_loss=0.000102, SDR=0.965, R_ave=1.43]\n",
      "  0%|          | 0/60 [00:00<?, ?it/s]"
     ]
    },
    {
     "name": "stdout",
     "output_type": "stream",
     "text": [
      "loss 0.0001 - val_loss 0.0001 - SDR 0.9648 - R_ave 1.4327\n",
      "Epoch [316/1000]\n"
     ]
    },
    {
     "name": "stderr",
     "output_type": "stream",
     "text": [
      "100%|██████████| 60/60 [00:24<00:00,  2.46it/s, loss=9.74e-5]\n",
      "100%|██████████| 26/26 [00:16<00:00,  1.53it/s, val_loss=0.000147, SDR=0.947, R_ave=1.69]\n",
      "  0%|          | 0/60 [00:00<?, ?it/s]"
     ]
    },
    {
     "name": "stdout",
     "output_type": "stream",
     "text": [
      "loss 0.0001 - val_loss 0.0001 - SDR 0.9475 - R_ave 1.6864\n",
      "Epoch [317/1000]\n"
     ]
    },
    {
     "name": "stderr",
     "output_type": "stream",
     "text": [
      "100%|██████████| 60/60 [00:24<00:00,  2.43it/s, loss=9.46e-5]\n",
      "100%|██████████| 26/26 [00:17<00:00,  1.52it/s, val_loss=0.000238, SDR=0.882, R_ave=2.56]\n",
      "  0%|          | 0/60 [00:00<?, ?it/s]"
     ]
    },
    {
     "name": "stdout",
     "output_type": "stream",
     "text": [
      "loss 0.0001 - val_loss 0.0002 - SDR 0.8822 - R_ave 2.5586\n",
      "Epoch [318/1000]\n"
     ]
    },
    {
     "name": "stderr",
     "output_type": "stream",
     "text": [
      "100%|██████████| 60/60 [00:24<00:00,  2.45it/s, loss=9.43e-5]\n",
      "100%|██████████| 26/26 [00:16<00:00,  1.55it/s, val_loss=0.000107, SDR=0.963, R_ave=1.46]\n",
      "  0%|          | 0/60 [00:00<?, ?it/s]"
     ]
    },
    {
     "name": "stdout",
     "output_type": "stream",
     "text": [
      "loss 0.0001 - val_loss 0.0001 - SDR 0.9631 - R_ave 1.4579\n",
      "Epoch [319/1000]\n"
     ]
    },
    {
     "name": "stderr",
     "output_type": "stream",
     "text": [
      "100%|██████████| 60/60 [00:24<00:00,  2.47it/s, loss=9.48e-5]\n",
      "100%|██████████| 26/26 [00:16<00:00,  1.54it/s, val_loss=0.00032, SDR=0.897, R_ave=3.19] \n",
      "  0%|          | 0/60 [00:00<?, ?it/s]"
     ]
    },
    {
     "name": "stdout",
     "output_type": "stream",
     "text": [
      "loss 0.0001 - val_loss 0.0003 - SDR 0.8973 - R_ave 3.1941\n",
      "Epoch [320/1000]\n"
     ]
    },
    {
     "name": "stderr",
     "output_type": "stream",
     "text": [
      "100%|██████████| 60/60 [00:24<00:00,  2.41it/s, loss=0.000103]\n",
      "100%|██████████| 26/26 [00:16<00:00,  1.54it/s, val_loss=0.000202, SDR=0.935, R_ave=2.34]\n",
      "  0%|          | 0/60 [00:00<?, ?it/s]"
     ]
    },
    {
     "name": "stdout",
     "output_type": "stream",
     "text": [
      "loss 0.0001 - val_loss 0.0002 - SDR 0.9354 - R_ave 2.3421\n",
      "Epoch [321/1000]\n"
     ]
    },
    {
     "name": "stderr",
     "output_type": "stream",
     "text": [
      "100%|██████████| 60/60 [00:24<00:00,  2.46it/s, loss=9.61e-5]\n",
      "100%|██████████| 26/26 [00:17<00:00,  1.50it/s, val_loss=0.000101, SDR=0.964, R_ave=1.44]\n",
      "  0%|          | 0/60 [00:00<?, ?it/s]"
     ]
    },
    {
     "name": "stdout",
     "output_type": "stream",
     "text": [
      "loss 0.0001 - val_loss 0.0001 - SDR 0.9642 - R_ave 1.4427\n",
      "Epoch [322/1000]\n"
     ]
    },
    {
     "name": "stderr",
     "output_type": "stream",
     "text": [
      "100%|██████████| 60/60 [00:24<00:00,  2.45it/s, loss=9.1e-5] \n",
      "100%|██████████| 26/26 [00:16<00:00,  1.54it/s, val_loss=0.000116, SDR=0.964, R_ave=1.48]\n",
      "  0%|          | 0/60 [00:00<?, ?it/s]"
     ]
    },
    {
     "name": "stdout",
     "output_type": "stream",
     "text": [
      "loss 0.0001 - val_loss 0.0001 - SDR 0.9643 - R_ave 1.4814\n",
      "Epoch [323/1000]\n"
     ]
    },
    {
     "name": "stderr",
     "output_type": "stream",
     "text": [
      "100%|██████████| 60/60 [00:24<00:00,  2.43it/s, loss=9.25e-5]\n",
      "100%|██████████| 26/26 [00:16<00:00,  1.53it/s, val_loss=0.000107, SDR=0.966, R_ave=1.45]\n",
      "  0%|          | 0/60 [00:00<?, ?it/s]"
     ]
    },
    {
     "name": "stdout",
     "output_type": "stream",
     "text": [
      "loss 0.0001 - val_loss 0.0001 - SDR 0.9656 - R_ave 1.4524\n",
      "Epoch [324/1000]\n"
     ]
    },
    {
     "name": "stderr",
     "output_type": "stream",
     "text": [
      "100%|██████████| 60/60 [00:24<00:00,  2.46it/s, loss=0.000107]\n",
      "100%|██████████| 26/26 [00:16<00:00,  1.55it/s, val_loss=0.000125, SDR=0.956, R_ave=1.57]\n",
      "  0%|          | 0/60 [00:00<?, ?it/s]"
     ]
    },
    {
     "name": "stdout",
     "output_type": "stream",
     "text": [
      "loss 0.0001 - val_loss 0.0001 - SDR 0.9561 - R_ave 1.5660\n",
      "Epoch [325/1000]\n"
     ]
    },
    {
     "name": "stderr",
     "output_type": "stream",
     "text": [
      "100%|██████████| 60/60 [00:24<00:00,  2.45it/s, loss=9.8e-5] \n",
      "100%|██████████| 26/26 [00:16<00:00,  1.54it/s, val_loss=0.00011, SDR=0.958, R_ave=1.49] \n",
      "  0%|          | 0/60 [00:00<?, ?it/s]"
     ]
    },
    {
     "name": "stdout",
     "output_type": "stream",
     "text": [
      "loss 0.0001 - val_loss 0.0001 - SDR 0.9576 - R_ave 1.4946\n",
      "Epoch [326/1000]\n"
     ]
    },
    {
     "name": "stderr",
     "output_type": "stream",
     "text": [
      "100%|██████████| 60/60 [00:24<00:00,  2.42it/s, loss=9.29e-5]\n",
      "100%|██████████| 26/26 [00:16<00:00,  1.54it/s, val_loss=0.000124, SDR=0.959, R_ave=1.56]\n",
      "  0%|          | 0/60 [00:00<?, ?it/s]"
     ]
    },
    {
     "name": "stdout",
     "output_type": "stream",
     "text": [
      "loss 0.0001 - val_loss 0.0001 - SDR 0.9586 - R_ave 1.5603\n",
      "Epoch [327/1000]\n"
     ]
    },
    {
     "name": "stderr",
     "output_type": "stream",
     "text": [
      "100%|██████████| 60/60 [00:24<00:00,  2.45it/s, loss=9.36e-5]\n",
      "100%|██████████| 26/26 [00:16<00:00,  1.55it/s, val_loss=0.000119, SDR=0.963, R_ave=1.56]\n",
      "  0%|          | 0/60 [00:00<?, ?it/s]"
     ]
    },
    {
     "name": "stdout",
     "output_type": "stream",
     "text": [
      "loss 0.0001 - val_loss 0.0001 - SDR 0.9627 - R_ave 1.5555\n",
      "Epoch [328/1000]\n"
     ]
    },
    {
     "name": "stderr",
     "output_type": "stream",
     "text": [
      "100%|██████████| 60/60 [00:24<00:00,  2.45it/s, loss=9.01e-5]\n",
      "100%|██████████| 26/26 [00:17<00:00,  1.52it/s, val_loss=0.000163, SDR=0.947, R_ave=1.86]\n",
      "  0%|          | 0/60 [00:00<?, ?it/s]"
     ]
    },
    {
     "name": "stdout",
     "output_type": "stream",
     "text": [
      "loss 0.0001 - val_loss 0.0002 - SDR 0.9465 - R_ave 1.8557\n",
      "Epoch [329/1000]\n"
     ]
    },
    {
     "name": "stderr",
     "output_type": "stream",
     "text": [
      "100%|██████████| 60/60 [00:24<00:00,  2.42it/s, loss=9.46e-5]\n",
      "100%|██████████| 26/26 [00:16<00:00,  1.54it/s, val_loss=0.000113, SDR=0.955, R_ave=1.49]\n",
      "  0%|          | 0/60 [00:00<?, ?it/s]"
     ]
    },
    {
     "name": "stdout",
     "output_type": "stream",
     "text": [
      "loss 0.0001 - val_loss 0.0001 - SDR 0.9549 - R_ave 1.4874\n",
      "Epoch [330/1000]\n"
     ]
    },
    {
     "name": "stderr",
     "output_type": "stream",
     "text": [
      "100%|██████████| 60/60 [00:24<00:00,  2.46it/s, loss=9.42e-5]\n",
      "100%|██████████| 26/26 [00:16<00:00,  1.54it/s, val_loss=0.0002, SDR=0.941, R_ave=1.91]  \n",
      "  0%|          | 0/60 [00:00<?, ?it/s]"
     ]
    },
    {
     "name": "stdout",
     "output_type": "stream",
     "text": [
      "loss 0.0001 - val_loss 0.0002 - SDR 0.9412 - R_ave 1.9115\n",
      "Epoch [331/1000]\n"
     ]
    },
    {
     "name": "stderr",
     "output_type": "stream",
     "text": [
      "100%|██████████| 60/60 [00:24<00:00,  2.47it/s, loss=9.57e-5]\n",
      "100%|██████████| 26/26 [00:17<00:00,  1.52it/s, val_loss=0.00015, SDR=0.95, R_ave=1.86]  \n",
      "  0%|          | 0/60 [00:00<?, ?it/s]"
     ]
    },
    {
     "name": "stdout",
     "output_type": "stream",
     "text": [
      "loss 0.0001 - val_loss 0.0001 - SDR 0.9497 - R_ave 1.8596\n",
      "Epoch [332/1000]\n"
     ]
    },
    {
     "name": "stderr",
     "output_type": "stream",
     "text": [
      "100%|██████████| 60/60 [00:24<00:00,  2.42it/s, loss=9.89e-5] \n",
      "100%|██████████| 26/26 [00:17<00:00,  1.52it/s, val_loss=0.000162, SDR=0.953, R_ave=1.69]\n",
      "  0%|          | 0/60 [00:00<?, ?it/s]"
     ]
    },
    {
     "name": "stdout",
     "output_type": "stream",
     "text": [
      "loss 0.0001 - val_loss 0.0002 - SDR 0.9526 - R_ave 1.6927\n",
      "Epoch [333/1000]\n"
     ]
    },
    {
     "name": "stderr",
     "output_type": "stream",
     "text": [
      "100%|██████████| 60/60 [00:24<00:00,  2.47it/s, loss=9.53e-5]\n",
      "100%|██████████| 26/26 [00:16<00:00,  1.54it/s, val_loss=0.000119, SDR=0.961, R_ave=1.5] \n",
      "  0%|          | 0/60 [00:00<?, ?it/s]"
     ]
    },
    {
     "name": "stdout",
     "output_type": "stream",
     "text": [
      "loss 0.0001 - val_loss 0.0001 - SDR 0.9606 - R_ave 1.4983\n",
      "Epoch [334/1000]\n"
     ]
    },
    {
     "name": "stderr",
     "output_type": "stream",
     "text": [
      "100%|██████████| 60/60 [00:24<00:00,  2.46it/s, loss=9.71e-5]\n",
      "100%|██████████| 26/26 [00:17<00:00,  1.50it/s, val_loss=0.000113, SDR=0.96, R_ave=1.46] \n",
      "  0%|          | 0/60 [00:00<?, ?it/s]"
     ]
    },
    {
     "name": "stdout",
     "output_type": "stream",
     "text": [
      "loss 0.0001 - val_loss 0.0001 - SDR 0.9600 - R_ave 1.4606\n",
      "Epoch [335/1000]\n"
     ]
    },
    {
     "name": "stderr",
     "output_type": "stream",
     "text": [
      "100%|██████████| 60/60 [00:24<00:00,  2.45it/s, loss=9.15e-5]\n",
      "100%|██████████| 26/26 [00:16<00:00,  1.54it/s, val_loss=0.00011, SDR=0.961, R_ave=1.48] \n",
      "  0%|          | 0/60 [00:00<?, ?it/s]"
     ]
    },
    {
     "name": "stdout",
     "output_type": "stream",
     "text": [
      "loss 0.0001 - val_loss 0.0001 - SDR 0.9614 - R_ave 1.4785\n",
      "Epoch [336/1000]\n"
     ]
    },
    {
     "name": "stderr",
     "output_type": "stream",
     "text": [
      "100%|██████████| 60/60 [00:24<00:00,  2.46it/s, loss=9.12e-5]\n",
      "100%|██████████| 26/26 [00:16<00:00,  1.54it/s, val_loss=9.77e-5, SDR=0.964, R_ave=1.41]\n",
      "  0%|          | 0/60 [00:00<?, ?it/s]"
     ]
    },
    {
     "name": "stdout",
     "output_type": "stream",
     "text": [
      "loss 0.0001 - val_loss 0.0001 - SDR 0.9640 - R_ave 1.4132\n",
      "Epoch [337/1000]\n"
     ]
    },
    {
     "name": "stderr",
     "output_type": "stream",
     "text": [
      "100%|██████████| 60/60 [00:24<00:00,  2.46it/s, loss=9.06e-5]\n",
      "100%|██████████| 26/26 [00:17<00:00,  1.51it/s, val_loss=0.000127, SDR=0.962, R_ave=1.54]\n",
      "  0%|          | 0/60 [00:00<?, ?it/s]"
     ]
    },
    {
     "name": "stdout",
     "output_type": "stream",
     "text": [
      "loss 0.0001 - val_loss 0.0001 - SDR 0.9621 - R_ave 1.5403\n",
      "Epoch [338/1000]\n"
     ]
    },
    {
     "name": "stderr",
     "output_type": "stream",
     "text": [
      "100%|██████████| 60/60 [00:24<00:00,  2.46it/s, loss=9.29e-5]\n",
      "100%|██████████| 26/26 [00:17<00:00,  1.52it/s, val_loss=0.000107, SDR=0.963, R_ave=1.47]\n",
      "  0%|          | 0/60 [00:00<?, ?it/s]"
     ]
    },
    {
     "name": "stdout",
     "output_type": "stream",
     "text": [
      "loss 0.0001 - val_loss 0.0001 - SDR 0.9627 - R_ave 1.4674\n",
      "Epoch [339/1000]\n"
     ]
    },
    {
     "name": "stderr",
     "output_type": "stream",
     "text": [
      "100%|██████████| 60/60 [00:24<00:00,  2.46it/s, loss=8.93e-5]\n",
      "100%|██████████| 26/26 [00:16<00:00,  1.55it/s, val_loss=0.000113, SDR=0.962, R_ave=1.44]\n",
      "  0%|          | 0/60 [00:00<?, ?it/s]"
     ]
    },
    {
     "name": "stdout",
     "output_type": "stream",
     "text": [
      "loss 0.0001 - val_loss 0.0001 - SDR 0.9616 - R_ave 1.4403\n",
      "Epoch [340/1000]\n"
     ]
    },
    {
     "name": "stderr",
     "output_type": "stream",
     "text": [
      "100%|██████████| 60/60 [00:24<00:00,  2.45it/s, loss=8.87e-5]\n",
      "100%|██████████| 26/26 [00:17<00:00,  1.50it/s, val_loss=0.000134, SDR=0.96, R_ave=1.47] \n",
      "  0%|          | 0/60 [00:00<?, ?it/s]"
     ]
    },
    {
     "name": "stdout",
     "output_type": "stream",
     "text": [
      "loss 0.0001 - val_loss 0.0001 - SDR 0.9605 - R_ave 1.4750\n",
      "Epoch [341/1000]\n"
     ]
    },
    {
     "name": "stderr",
     "output_type": "stream",
     "text": [
      "100%|██████████| 60/60 [00:24<00:00,  2.47it/s, loss=9.53e-5]\n",
      "100%|██████████| 26/26 [00:16<00:00,  1.54it/s, val_loss=0.000164, SDR=0.95, R_ave=1.85] \n",
      "  0%|          | 0/60 [00:00<?, ?it/s]"
     ]
    },
    {
     "name": "stdout",
     "output_type": "stream",
     "text": [
      "loss 0.0001 - val_loss 0.0002 - SDR 0.9502 - R_ave 1.8470\n",
      "Epoch [342/1000]\n"
     ]
    },
    {
     "name": "stderr",
     "output_type": "stream",
     "text": [
      "100%|██████████| 60/60 [00:24<00:00,  2.45it/s, loss=9.31e-5]\n",
      "100%|██████████| 26/26 [00:16<00:00,  1.55it/s, val_loss=0.000105, SDR=0.962, R_ave=1.47]\n",
      "  0%|          | 0/60 [00:00<?, ?it/s]"
     ]
    },
    {
     "name": "stdout",
     "output_type": "stream",
     "text": [
      "loss 0.0001 - val_loss 0.0001 - SDR 0.9624 - R_ave 1.4682\n",
      "Epoch [343/1000]\n"
     ]
    },
    {
     "name": "stderr",
     "output_type": "stream",
     "text": [
      "100%|██████████| 60/60 [00:24<00:00,  2.45it/s, loss=9.98e-5]\n",
      "100%|██████████| 26/26 [00:18<00:00,  1.44it/s, val_loss=0.00015, SDR=0.955, R_ave=1.72] \n",
      "  0%|          | 0/60 [00:00<?, ?it/s]"
     ]
    },
    {
     "name": "stdout",
     "output_type": "stream",
     "text": [
      "loss 0.0001 - val_loss 0.0001 - SDR 0.9547 - R_ave 1.7187\n",
      "Epoch [344/1000]\n"
     ]
    },
    {
     "name": "stderr",
     "output_type": "stream",
     "text": [
      "100%|██████████| 60/60 [00:24<00:00,  2.47it/s, loss=9.48e-5]\n",
      "100%|██████████| 26/26 [00:16<00:00,  1.55it/s, val_loss=0.000206, SDR=0.928, R_ave=2.24]\n",
      "  0%|          | 0/60 [00:00<?, ?it/s]"
     ]
    },
    {
     "name": "stdout",
     "output_type": "stream",
     "text": [
      "loss 0.0001 - val_loss 0.0002 - SDR 0.9279 - R_ave 2.2447\n",
      "Epoch [345/1000]\n"
     ]
    },
    {
     "name": "stderr",
     "output_type": "stream",
     "text": [
      "100%|██████████| 60/60 [00:24<00:00,  2.45it/s, loss=9.76e-5] \n",
      "100%|██████████| 26/26 [00:16<00:00,  1.54it/s, val_loss=0.000127, SDR=0.952, R_ave=1.6] \n",
      "  0%|          | 0/60 [00:00<?, ?it/s]"
     ]
    },
    {
     "name": "stdout",
     "output_type": "stream",
     "text": [
      "loss 0.0001 - val_loss 0.0001 - SDR 0.9518 - R_ave 1.5991\n",
      "Epoch [346/1000]\n"
     ]
    },
    {
     "name": "stderr",
     "output_type": "stream",
     "text": [
      "100%|██████████| 60/60 [00:24<00:00,  2.44it/s, loss=0.000103]\n",
      "100%|██████████| 26/26 [00:16<00:00,  1.53it/s, val_loss=0.000109, SDR=0.962, R_ave=1.48]\n",
      "  0%|          | 0/60 [00:00<?, ?it/s]"
     ]
    },
    {
     "name": "stdout",
     "output_type": "stream",
     "text": [
      "loss 0.0001 - val_loss 0.0001 - SDR 0.9624 - R_ave 1.4785\n",
      "Epoch [347/1000]\n"
     ]
    },
    {
     "name": "stderr",
     "output_type": "stream",
     "text": [
      "100%|██████████| 60/60 [00:24<00:00,  2.45it/s, loss=9.67e-5]\n",
      "100%|██████████| 26/26 [00:16<00:00,  1.54it/s, val_loss=0.000103, SDR=0.968, R_ave=1.43]\n",
      "  0%|          | 0/60 [00:00<?, ?it/s]"
     ]
    },
    {
     "name": "stdout",
     "output_type": "stream",
     "text": [
      "loss 0.0001 - val_loss 0.0001 - SDR 0.9679 - R_ave 1.4260\n",
      "Epoch [348/1000]\n"
     ]
    },
    {
     "name": "stderr",
     "output_type": "stream",
     "text": [
      "100%|██████████| 60/60 [00:24<00:00,  2.46it/s, loss=9.79e-5] \n",
      "100%|██████████| 26/26 [00:16<00:00,  1.54it/s, val_loss=0.000137, SDR=0.95, R_ave=1.61] \n",
      "  0%|          | 0/60 [00:00<?, ?it/s]"
     ]
    },
    {
     "name": "stdout",
     "output_type": "stream",
     "text": [
      "loss 0.0001 - val_loss 0.0001 - SDR 0.9497 - R_ave 1.6128\n",
      "Epoch [349/1000]\n"
     ]
    },
    {
     "name": "stderr",
     "output_type": "stream",
     "text": [
      "100%|██████████| 60/60 [00:24<00:00,  2.43it/s, loss=9.28e-5]\n",
      "100%|██████████| 26/26 [00:16<00:00,  1.54it/s, val_loss=0.000107, SDR=0.961, R_ave=1.48]\n",
      "  0%|          | 0/60 [00:00<?, ?it/s]"
     ]
    },
    {
     "name": "stdout",
     "output_type": "stream",
     "text": [
      "loss 0.0001 - val_loss 0.0001 - SDR 0.9610 - R_ave 1.4794\n",
      "Epoch [350/1000]\n"
     ]
    },
    {
     "name": "stderr",
     "output_type": "stream",
     "text": [
      "100%|██████████| 60/60 [00:24<00:00,  2.46it/s, loss=9.51e-5]\n",
      "100%|██████████| 26/26 [00:16<00:00,  1.54it/s, val_loss=0.000176, SDR=0.932, R_ave=2.02]\n",
      "  0%|          | 0/60 [00:00<?, ?it/s]"
     ]
    },
    {
     "name": "stdout",
     "output_type": "stream",
     "text": [
      "loss 0.0001 - val_loss 0.0002 - SDR 0.9319 - R_ave 2.0243\n",
      "Epoch [351/1000]\n"
     ]
    },
    {
     "name": "stderr",
     "output_type": "stream",
     "text": [
      "100%|██████████| 60/60 [00:24<00:00,  2.45it/s, loss=9.22e-5]\n",
      "100%|██████████| 26/26 [00:16<00:00,  1.54it/s, val_loss=0.000116, SDR=0.962, R_ave=1.57]\n",
      "  0%|          | 0/60 [00:00<?, ?it/s]"
     ]
    },
    {
     "name": "stdout",
     "output_type": "stream",
     "text": [
      "loss 0.0001 - val_loss 0.0001 - SDR 0.9616 - R_ave 1.5687\n",
      "Epoch [352/1000]\n"
     ]
    },
    {
     "name": "stderr",
     "output_type": "stream",
     "text": [
      "100%|██████████| 60/60 [00:24<00:00,  2.43it/s, loss=9.14e-5] \n",
      "100%|██████████| 26/26 [00:16<00:00,  1.55it/s, val_loss=9.87e-5, SDR=0.966, R_ave=1.42]\n",
      "  0%|          | 0/60 [00:00<?, ?it/s]"
     ]
    },
    {
     "name": "stdout",
     "output_type": "stream",
     "text": [
      "loss 0.0001 - val_loss 0.0001 - SDR 0.9661 - R_ave 1.4197\n",
      "Epoch [353/1000]\n"
     ]
    },
    {
     "name": "stderr",
     "output_type": "stream",
     "text": [
      "100%|██████████| 60/60 [00:24<00:00,  2.47it/s, loss=8.94e-5]\n",
      "100%|██████████| 26/26 [00:16<00:00,  1.54it/s, val_loss=0.000108, SDR=0.959, R_ave=1.49]\n",
      "  0%|          | 0/60 [00:00<?, ?it/s]"
     ]
    },
    {
     "name": "stdout",
     "output_type": "stream",
     "text": [
      "loss 0.0001 - val_loss 0.0001 - SDR 0.9590 - R_ave 1.4852\n",
      "Epoch [354/1000]\n"
     ]
    },
    {
     "name": "stderr",
     "output_type": "stream",
     "text": [
      "100%|██████████| 60/60 [00:24<00:00,  2.46it/s, loss=8.86e-5]\n",
      "100%|██████████| 26/26 [00:16<00:00,  1.53it/s, val_loss=0.000122, SDR=0.957, R_ave=1.48]\n",
      "  0%|          | 0/60 [00:00<?, ?it/s]"
     ]
    },
    {
     "name": "stdout",
     "output_type": "stream",
     "text": [
      "loss 0.0001 - val_loss 0.0001 - SDR 0.9571 - R_ave 1.4846\n",
      "Epoch [355/1000]\n"
     ]
    },
    {
     "name": "stderr",
     "output_type": "stream",
     "text": [
      "100%|██████████| 60/60 [00:24<00:00,  2.42it/s, loss=9.03e-5]\n",
      "100%|██████████| 26/26 [00:16<00:00,  1.54it/s, val_loss=0.0001, SDR=0.964, R_ave=1.42] \n",
      "  0%|          | 0/60 [00:00<?, ?it/s]"
     ]
    },
    {
     "name": "stdout",
     "output_type": "stream",
     "text": [
      "loss 0.0001 - val_loss 0.0001 - SDR 0.9637 - R_ave 1.4170\n",
      "Epoch [356/1000]\n"
     ]
    },
    {
     "name": "stderr",
     "output_type": "stream",
     "text": [
      "100%|██████████| 60/60 [00:24<00:00,  2.46it/s, loss=9.73e-5]\n",
      "100%|██████████| 26/26 [00:16<00:00,  1.55it/s, val_loss=0.000247, SDR=0.93, R_ave=2.53] \n",
      "  0%|          | 0/60 [00:00<?, ?it/s]"
     ]
    },
    {
     "name": "stdout",
     "output_type": "stream",
     "text": [
      "loss 0.0001 - val_loss 0.0002 - SDR 0.9298 - R_ave 2.5257\n",
      "Epoch [357/1000]\n"
     ]
    },
    {
     "name": "stderr",
     "output_type": "stream",
     "text": [
      "100%|██████████| 60/60 [00:24<00:00,  2.46it/s, loss=9.91e-5] \n",
      "100%|██████████| 26/26 [00:17<00:00,  1.51it/s, val_loss=0.000108, SDR=0.963, R_ave=1.5] \n",
      "  0%|          | 0/60 [00:00<?, ?it/s]"
     ]
    },
    {
     "name": "stdout",
     "output_type": "stream",
     "text": [
      "loss 0.0001 - val_loss 0.0001 - SDR 0.9634 - R_ave 1.5023\n",
      "Epoch [358/1000]\n"
     ]
    },
    {
     "name": "stderr",
     "output_type": "stream",
     "text": [
      "100%|██████████| 60/60 [00:24<00:00,  2.43it/s, loss=9.25e-5]\n",
      "100%|██████████| 26/26 [00:16<00:00,  1.53it/s, val_loss=0.000107, SDR=0.968, R_ave=1.48]\n",
      "  0%|          | 0/60 [00:00<?, ?it/s]"
     ]
    },
    {
     "name": "stdout",
     "output_type": "stream",
     "text": [
      "loss 0.0001 - val_loss 0.0001 - SDR 0.9679 - R_ave 1.4838\n",
      "Epoch [359/1000]\n"
     ]
    },
    {
     "name": "stderr",
     "output_type": "stream",
     "text": [
      "100%|██████████| 60/60 [00:24<00:00,  2.46it/s, loss=9.23e-5]\n",
      "100%|██████████| 26/26 [00:16<00:00,  1.54it/s, val_loss=0.000133, SDR=0.96, R_ave=1.58] \n",
      "  0%|          | 0/60 [00:00<?, ?it/s]"
     ]
    },
    {
     "name": "stdout",
     "output_type": "stream",
     "text": [
      "loss 0.0001 - val_loss 0.0001 - SDR 0.9600 - R_ave 1.5846\n",
      "Epoch [360/1000]\n"
     ]
    },
    {
     "name": "stderr",
     "output_type": "stream",
     "text": [
      "100%|██████████| 60/60 [00:24<00:00,  2.45it/s, loss=0.000102]\n",
      "100%|██████████| 26/26 [00:17<00:00,  1.52it/s, val_loss=0.000137, SDR=0.948, R_ave=1.66]\n",
      "  0%|          | 0/60 [00:00<?, ?it/s]"
     ]
    },
    {
     "name": "stdout",
     "output_type": "stream",
     "text": [
      "loss 0.0001 - val_loss 0.0001 - SDR 0.9476 - R_ave 1.6587\n",
      "Epoch [361/1000]\n"
     ]
    },
    {
     "name": "stderr",
     "output_type": "stream",
     "text": [
      "100%|██████████| 60/60 [00:24<00:00,  2.44it/s, loss=9.47e-5] \n",
      "100%|██████████| 26/26 [00:16<00:00,  1.54it/s, val_loss=0.000103, SDR=0.965, R_ave=1.42]\n",
      "  0%|          | 0/60 [00:00<?, ?it/s]"
     ]
    },
    {
     "name": "stdout",
     "output_type": "stream",
     "text": [
      "loss 0.0001 - val_loss 0.0001 - SDR 0.9655 - R_ave 1.4161\n",
      "Epoch [362/1000]\n"
     ]
    },
    {
     "name": "stderr",
     "output_type": "stream",
     "text": [
      "100%|██████████| 60/60 [00:24<00:00,  2.47it/s, loss=9.07e-5]\n",
      "100%|██████████| 26/26 [00:16<00:00,  1.54it/s, val_loss=0.000109, SDR=0.967, R_ave=1.45]\n",
      "  0%|          | 0/60 [00:00<?, ?it/s]"
     ]
    },
    {
     "name": "stdout",
     "output_type": "stream",
     "text": [
      "loss 0.0001 - val_loss 0.0001 - SDR 0.9666 - R_ave 1.4478\n",
      "Epoch [363/1000]\n"
     ]
    },
    {
     "name": "stderr",
     "output_type": "stream",
     "text": [
      "100%|██████████| 60/60 [00:24<00:00,  2.46it/s, loss=8.87e-5]\n",
      "100%|██████████| 26/26 [00:17<00:00,  1.51it/s, val_loss=0.000102, SDR=0.966, R_ave=1.43]\n",
      "  0%|          | 0/60 [00:00<?, ?it/s]"
     ]
    },
    {
     "name": "stdout",
     "output_type": "stream",
     "text": [
      "loss 0.0001 - val_loss 0.0001 - SDR 0.9659 - R_ave 1.4315\n",
      "Epoch [364/1000]\n"
     ]
    },
    {
     "name": "stderr",
     "output_type": "stream",
     "text": [
      "100%|██████████| 60/60 [00:24<00:00,  2.44it/s, loss=9.01e-5]\n",
      "100%|██████████| 26/26 [00:16<00:00,  1.54it/s, val_loss=0.000105, SDR=0.964, R_ave=1.47]\n",
      "  0%|          | 0/60 [00:00<?, ?it/s]"
     ]
    },
    {
     "name": "stdout",
     "output_type": "stream",
     "text": [
      "loss 0.0001 - val_loss 0.0001 - SDR 0.9643 - R_ave 1.4705\n",
      "Epoch [365/1000]\n"
     ]
    },
    {
     "name": "stderr",
     "output_type": "stream",
     "text": [
      "100%|██████████| 60/60 [00:24<00:00,  2.47it/s, loss=0.000101]\n",
      "100%|██████████| 26/26 [00:16<00:00,  1.54it/s, val_loss=0.000448, SDR=0.903, R_ave=4.3] \n",
      "  0%|          | 0/60 [00:00<?, ?it/s]"
     ]
    },
    {
     "name": "stdout",
     "output_type": "stream",
     "text": [
      "loss 0.0001 - val_loss 0.0004 - SDR 0.9028 - R_ave 4.3007\n",
      "Epoch [366/1000]\n"
     ]
    },
    {
     "name": "stderr",
     "output_type": "stream",
     "text": [
      "100%|██████████| 60/60 [00:24<00:00,  2.46it/s, loss=9.36e-5]\n",
      "100%|██████████| 26/26 [00:17<00:00,  1.52it/s, val_loss=0.000139, SDR=0.954, R_ave=1.77]\n",
      "  0%|          | 0/60 [00:00<?, ?it/s]"
     ]
    },
    {
     "name": "stdout",
     "output_type": "stream",
     "text": [
      "loss 0.0001 - val_loss 0.0001 - SDR 0.9536 - R_ave 1.7709\n",
      "Epoch [367/1000]\n"
     ]
    },
    {
     "name": "stderr",
     "output_type": "stream",
     "text": [
      "100%|██████████| 60/60 [00:24<00:00,  2.45it/s, loss=9.17e-5]\n",
      "100%|██████████| 26/26 [00:16<00:00,  1.54it/s, val_loss=0.000128, SDR=0.954, R_ave=1.54]\n",
      "  0%|          | 0/60 [00:00<?, ?it/s]"
     ]
    },
    {
     "name": "stdout",
     "output_type": "stream",
     "text": [
      "loss 0.0001 - val_loss 0.0001 - SDR 0.9541 - R_ave 1.5358\n",
      "Epoch [368/1000]\n"
     ]
    },
    {
     "name": "stderr",
     "output_type": "stream",
     "text": [
      "100%|██████████| 60/60 [00:24<00:00,  2.46it/s, loss=8.94e-5]\n",
      "100%|██████████| 26/26 [00:16<00:00,  1.54it/s, val_loss=0.000139, SDR=0.956, R_ave=1.56]\n",
      "  0%|          | 0/60 [00:00<?, ?it/s]"
     ]
    },
    {
     "name": "stdout",
     "output_type": "stream",
     "text": [
      "loss 0.0001 - val_loss 0.0001 - SDR 0.9565 - R_ave 1.5632\n",
      "Epoch [369/1000]\n"
     ]
    },
    {
     "name": "stderr",
     "output_type": "stream",
     "text": [
      "100%|██████████| 60/60 [00:24<00:00,  2.45it/s, loss=9.02e-5]\n",
      "100%|██████████| 26/26 [00:17<00:00,  1.52it/s, val_loss=0.000241, SDR=0.924, R_ave=2.76]\n",
      "  0%|          | 0/60 [00:00<?, ?it/s]"
     ]
    },
    {
     "name": "stdout",
     "output_type": "stream",
     "text": [
      "loss 0.0001 - val_loss 0.0002 - SDR 0.9239 - R_ave 2.7577\n",
      "Epoch [370/1000]\n"
     ]
    },
    {
     "name": "stderr",
     "output_type": "stream",
     "text": [
      "100%|██████████| 60/60 [00:24<00:00,  2.45it/s, loss=9.31e-5]\n",
      "100%|██████████| 26/26 [00:16<00:00,  1.54it/s, val_loss=0.000136, SDR=0.953, R_ave=1.66]\n",
      "  0%|          | 0/60 [00:00<?, ?it/s]"
     ]
    },
    {
     "name": "stdout",
     "output_type": "stream",
     "text": [
      "loss 0.0001 - val_loss 0.0001 - SDR 0.9534 - R_ave 1.6615\n",
      "Epoch [371/1000]\n"
     ]
    },
    {
     "name": "stderr",
     "output_type": "stream",
     "text": [
      "100%|██████████| 60/60 [00:24<00:00,  2.45it/s, loss=8.95e-5]\n",
      "100%|██████████| 26/26 [00:17<00:00,  1.53it/s, val_loss=0.000334, SDR=0.946, R_ave=2.12]\n",
      "  0%|          | 0/60 [00:00<?, ?it/s]"
     ]
    },
    {
     "name": "stdout",
     "output_type": "stream",
     "text": [
      "loss 0.0001 - val_loss 0.0003 - SDR 0.9457 - R_ave 2.1240\n",
      "Epoch [372/1000]\n"
     ]
    },
    {
     "name": "stderr",
     "output_type": "stream",
     "text": [
      "100%|██████████| 60/60 [00:24<00:00,  2.44it/s, loss=9.46e-5]\n",
      "100%|██████████| 26/26 [00:17<00:00,  1.53it/s, val_loss=0.000135, SDR=0.955, R_ave=1.65]\n",
      "  0%|          | 0/60 [00:00<?, ?it/s]"
     ]
    },
    {
     "name": "stdout",
     "output_type": "stream",
     "text": [
      "loss 0.0001 - val_loss 0.0001 - SDR 0.9550 - R_ave 1.6498\n",
      "Epoch [373/1000]\n"
     ]
    },
    {
     "name": "stderr",
     "output_type": "stream",
     "text": [
      "100%|██████████| 60/60 [00:24<00:00,  2.46it/s, loss=9.11e-5]\n",
      "100%|██████████| 26/26 [00:16<00:00,  1.54it/s, val_loss=0.000114, SDR=0.957, R_ave=1.49]\n",
      "  0%|          | 0/60 [00:00<?, ?it/s]"
     ]
    },
    {
     "name": "stdout",
     "output_type": "stream",
     "text": [
      "loss 0.0001 - val_loss 0.0001 - SDR 0.9573 - R_ave 1.4857\n",
      "Epoch [374/1000]\n"
     ]
    },
    {
     "name": "stderr",
     "output_type": "stream",
     "text": [
      "100%|██████████| 60/60 [00:24<00:00,  2.46it/s, loss=9.21e-5]\n",
      "100%|██████████| 26/26 [00:16<00:00,  1.55it/s, val_loss=0.000108, SDR=0.962, R_ave=1.51]\n",
      "  0%|          | 0/60 [00:00<?, ?it/s]"
     ]
    },
    {
     "name": "stdout",
     "output_type": "stream",
     "text": [
      "loss 0.0001 - val_loss 0.0001 - SDR 0.9621 - R_ave 1.5150\n",
      "Epoch [375/1000]\n"
     ]
    },
    {
     "name": "stderr",
     "output_type": "stream",
     "text": [
      "100%|██████████| 60/60 [00:24<00:00,  2.45it/s, loss=9e-5]   \n",
      "100%|██████████| 26/26 [00:16<00:00,  1.54it/s, val_loss=0.000145, SDR=0.951, R_ave=1.72]\n",
      "  0%|          | 0/60 [00:00<?, ?it/s]"
     ]
    },
    {
     "name": "stdout",
     "output_type": "stream",
     "text": [
      "loss 0.0001 - val_loss 0.0001 - SDR 0.9515 - R_ave 1.7196\n",
      "Epoch [376/1000]\n"
     ]
    },
    {
     "name": "stderr",
     "output_type": "stream",
     "text": [
      "100%|██████████| 60/60 [00:24<00:00,  2.46it/s, loss=9.55e-5]\n",
      "100%|██████████| 26/26 [00:16<00:00,  1.54it/s, val_loss=0.000113, SDR=0.958, R_ave=1.52]\n",
      "  0%|          | 0/60 [00:00<?, ?it/s]"
     ]
    },
    {
     "name": "stdout",
     "output_type": "stream",
     "text": [
      "loss 0.0001 - val_loss 0.0001 - SDR 0.9584 - R_ave 1.5179\n",
      "Epoch [377/1000]\n"
     ]
    },
    {
     "name": "stderr",
     "output_type": "stream",
     "text": [
      "100%|██████████| 60/60 [00:24<00:00,  2.45it/s, loss=9.68e-5] \n",
      "100%|██████████| 26/26 [00:16<00:00,  1.55it/s, val_loss=0.000101, SDR=0.965, R_ave=1.41]\n",
      "  0%|          | 0/60 [00:00<?, ?it/s]"
     ]
    },
    {
     "name": "stdout",
     "output_type": "stream",
     "text": [
      "loss 0.0001 - val_loss 0.0001 - SDR 0.9655 - R_ave 1.4121\n",
      "Epoch [378/1000]\n"
     ]
    },
    {
     "name": "stderr",
     "output_type": "stream",
     "text": [
      "100%|██████████| 60/60 [00:24<00:00,  2.43it/s, loss=9.31e-5]\n",
      "100%|██████████| 26/26 [00:16<00:00,  1.55it/s, val_loss=0.00023, SDR=0.943, R_ave=2.07] \n",
      "  0%|          | 0/60 [00:00<?, ?it/s]"
     ]
    },
    {
     "name": "stdout",
     "output_type": "stream",
     "text": [
      "loss 0.0001 - val_loss 0.0002 - SDR 0.9430 - R_ave 2.0742\n",
      "Epoch [379/1000]\n"
     ]
    },
    {
     "name": "stderr",
     "output_type": "stream",
     "text": [
      "100%|██████████| 60/60 [00:24<00:00,  2.46it/s, loss=9.32e-5]\n",
      "100%|██████████| 26/26 [00:16<00:00,  1.54it/s, val_loss=0.000106, SDR=0.963, R_ave=1.47]\n",
      "  0%|          | 0/60 [00:00<?, ?it/s]"
     ]
    },
    {
     "name": "stdout",
     "output_type": "stream",
     "text": [
      "loss 0.0001 - val_loss 0.0001 - SDR 0.9632 - R_ave 1.4736\n",
      "Epoch [380/1000]\n"
     ]
    },
    {
     "name": "stderr",
     "output_type": "stream",
     "text": [
      "100%|██████████| 60/60 [00:24<00:00,  2.46it/s, loss=9.23e-5]\n",
      "100%|██████████| 26/26 [00:16<00:00,  1.53it/s, val_loss=0.000128, SDR=0.954, R_ave=1.59]\n",
      "  0%|          | 0/60 [00:00<?, ?it/s]"
     ]
    },
    {
     "name": "stdout",
     "output_type": "stream",
     "text": [
      "loss 0.0001 - val_loss 0.0001 - SDR 0.9544 - R_ave 1.5900\n",
      "Epoch [381/1000]\n"
     ]
    },
    {
     "name": "stderr",
     "output_type": "stream",
     "text": [
      "100%|██████████| 60/60 [00:24<00:00,  2.43it/s, loss=9.25e-5]\n",
      "100%|██████████| 26/26 [00:16<00:00,  1.54it/s, val_loss=0.000107, SDR=0.96, R_ave=1.44] \n",
      "  0%|          | 0/60 [00:00<?, ?it/s]"
     ]
    },
    {
     "name": "stdout",
     "output_type": "stream",
     "text": [
      "loss 0.0001 - val_loss 0.0001 - SDR 0.9600 - R_ave 1.4438\n",
      "Epoch [382/1000]\n"
     ]
    },
    {
     "name": "stderr",
     "output_type": "stream",
     "text": [
      "100%|██████████| 60/60 [00:24<00:00,  2.46it/s, loss=9.24e-5]\n",
      "100%|██████████| 26/26 [00:16<00:00,  1.53it/s, val_loss=0.000124, SDR=0.964, R_ave=1.52]\n",
      "  0%|          | 0/60 [00:00<?, ?it/s]"
     ]
    },
    {
     "name": "stdout",
     "output_type": "stream",
     "text": [
      "loss 0.0001 - val_loss 0.0001 - SDR 0.9635 - R_ave 1.5218\n",
      "Epoch [383/1000]\n"
     ]
    },
    {
     "name": "stderr",
     "output_type": "stream",
     "text": [
      "100%|██████████| 60/60 [00:24<00:00,  2.46it/s, loss=9.53e-5]\n",
      "100%|██████████| 26/26 [00:16<00:00,  1.54it/s, val_loss=0.000173, SDR=0.946, R_ave=1.96]\n",
      "  0%|          | 0/60 [00:00<?, ?it/s]"
     ]
    },
    {
     "name": "stdout",
     "output_type": "stream",
     "text": [
      "loss 0.0001 - val_loss 0.0002 - SDR 0.9463 - R_ave 1.9579\n",
      "Epoch [384/1000]\n"
     ]
    },
    {
     "name": "stderr",
     "output_type": "stream",
     "text": [
      "100%|██████████| 60/60 [00:24<00:00,  2.43it/s, loss=9.97e-5] \n",
      "100%|██████████| 26/26 [00:16<00:00,  1.54it/s, val_loss=9.85e-5, SDR=0.966, R_ave=1.43]\n",
      "  0%|          | 0/60 [00:00<?, ?it/s]"
     ]
    },
    {
     "name": "stdout",
     "output_type": "stream",
     "text": [
      "loss 0.0001 - val_loss 0.0001 - SDR 0.9659 - R_ave 1.4290\n",
      "Epoch [385/1000]\n"
     ]
    },
    {
     "name": "stderr",
     "output_type": "stream",
     "text": [
      "100%|██████████| 60/60 [00:24<00:00,  2.46it/s, loss=8.85e-5]\n",
      "100%|██████████| 26/26 [00:16<00:00,  1.53it/s, val_loss=0.000107, SDR=0.964, R_ave=1.51]\n",
      "  0%|          | 0/60 [00:00<?, ?it/s]"
     ]
    },
    {
     "name": "stdout",
     "output_type": "stream",
     "text": [
      "loss 0.0001 - val_loss 0.0001 - SDR 0.9643 - R_ave 1.5084\n",
      "Epoch [386/1000]\n"
     ]
    },
    {
     "name": "stderr",
     "output_type": "stream",
     "text": [
      "100%|██████████| 60/60 [00:24<00:00,  2.45it/s, loss=9.28e-5]\n",
      "100%|██████████| 26/26 [00:17<00:00,  1.52it/s, val_loss=0.000113, SDR=0.962, R_ave=1.49]\n",
      "  0%|          | 0/60 [00:00<?, ?it/s]"
     ]
    },
    {
     "name": "stdout",
     "output_type": "stream",
     "text": [
      "loss 0.0001 - val_loss 0.0001 - SDR 0.9624 - R_ave 1.4912\n",
      "Epoch [387/1000]\n"
     ]
    },
    {
     "name": "stderr",
     "output_type": "stream",
     "text": [
      "100%|██████████| 60/60 [00:24<00:00,  2.43it/s, loss=9.28e-5]\n",
      "100%|██████████| 26/26 [00:16<00:00,  1.54it/s, val_loss=0.000187, SDR=0.933, R_ave=2.06]\n",
      "  0%|          | 0/60 [00:00<?, ?it/s]"
     ]
    },
    {
     "name": "stdout",
     "output_type": "stream",
     "text": [
      "loss 0.0001 - val_loss 0.0002 - SDR 0.9329 - R_ave 2.0552\n",
      "Epoch [388/1000]\n"
     ]
    },
    {
     "name": "stderr",
     "output_type": "stream",
     "text": [
      "100%|██████████| 60/60 [00:24<00:00,  2.46it/s, loss=9.06e-5]\n",
      "100%|██████████| 26/26 [00:16<00:00,  1.55it/s, val_loss=0.000135, SDR=0.954, R_ave=1.84]\n",
      "  0%|          | 0/60 [00:00<?, ?it/s]"
     ]
    },
    {
     "name": "stdout",
     "output_type": "stream",
     "text": [
      "loss 0.0001 - val_loss 0.0001 - SDR 0.9544 - R_ave 1.8444\n",
      "Epoch [389/1000]\n"
     ]
    },
    {
     "name": "stderr",
     "output_type": "stream",
     "text": [
      "100%|██████████| 60/60 [00:24<00:00,  2.46it/s, loss=9.22e-5]\n",
      "100%|██████████| 26/26 [00:17<00:00,  1.51it/s, val_loss=0.000148, SDR=0.949, R_ave=1.72]\n",
      "  0%|          | 0/60 [00:00<?, ?it/s]"
     ]
    },
    {
     "name": "stdout",
     "output_type": "stream",
     "text": [
      "loss 0.0001 - val_loss 0.0001 - SDR 0.9488 - R_ave 1.7226\n",
      "Epoch [390/1000]\n"
     ]
    },
    {
     "name": "stderr",
     "output_type": "stream",
     "text": [
      "100%|██████████| 60/60 [00:24<00:00,  2.43it/s, loss=9.09e-5]\n",
      "100%|██████████| 26/26 [00:16<00:00,  1.55it/s, val_loss=0.000142, SDR=0.952, R_ave=1.64]\n",
      "  0%|          | 0/60 [00:00<?, ?it/s]"
     ]
    },
    {
     "name": "stdout",
     "output_type": "stream",
     "text": [
      "loss 0.0001 - val_loss 0.0001 - SDR 0.9524 - R_ave 1.6421\n",
      "Epoch [391/1000]\n"
     ]
    },
    {
     "name": "stderr",
     "output_type": "stream",
     "text": [
      "100%|██████████| 60/60 [00:24<00:00,  2.46it/s, loss=8.87e-5]\n",
      "100%|██████████| 26/26 [00:16<00:00,  1.55it/s, val_loss=0.000163, SDR=0.944, R_ave=1.98]\n",
      "  0%|          | 0/60 [00:00<?, ?it/s]"
     ]
    },
    {
     "name": "stdout",
     "output_type": "stream",
     "text": [
      "loss 0.0001 - val_loss 0.0002 - SDR 0.9439 - R_ave 1.9812\n",
      "Epoch [392/1000]\n"
     ]
    },
    {
     "name": "stderr",
     "output_type": "stream",
     "text": [
      "100%|██████████| 60/60 [00:24<00:00,  2.45it/s, loss=9.06e-5]\n",
      "100%|██████████| 26/26 [00:17<00:00,  1.51it/s, val_loss=0.000114, SDR=0.961, R_ave=1.5] \n",
      "  0%|          | 0/60 [00:00<?, ?it/s]"
     ]
    },
    {
     "name": "stdout",
     "output_type": "stream",
     "text": [
      "loss 0.0001 - val_loss 0.0001 - SDR 0.9614 - R_ave 1.5019\n",
      "Epoch [393/1000]\n"
     ]
    },
    {
     "name": "stderr",
     "output_type": "stream",
     "text": [
      "100%|██████████| 60/60 [00:24<00:00,  2.45it/s, loss=9.18e-5]\n",
      "100%|██████████| 26/26 [00:16<00:00,  1.55it/s, val_loss=0.000104, SDR=0.965, R_ave=1.43]\n",
      "  0%|          | 0/60 [00:00<?, ?it/s]"
     ]
    },
    {
     "name": "stdout",
     "output_type": "stream",
     "text": [
      "loss 0.0001 - val_loss 0.0001 - SDR 0.9650 - R_ave 1.4347\n",
      "Epoch [394/1000]\n"
     ]
    },
    {
     "name": "stderr",
     "output_type": "stream",
     "text": [
      "100%|██████████| 60/60 [00:24<00:00,  2.45it/s, loss=8.87e-5]\n",
      "100%|██████████| 26/26 [00:17<00:00,  1.51it/s, val_loss=0.000197, SDR=0.933, R_ave=2.26]\n",
      "  0%|          | 0/60 [00:00<?, ?it/s]"
     ]
    },
    {
     "name": "stdout",
     "output_type": "stream",
     "text": [
      "loss 0.0001 - val_loss 0.0002 - SDR 0.9329 - R_ave 2.2608\n",
      "Epoch [395/1000]\n"
     ]
    },
    {
     "name": "stderr",
     "output_type": "stream",
     "text": [
      "100%|██████████| 60/60 [00:25<00:00,  2.38it/s, loss=8.99e-5]\n",
      "100%|██████████| 26/26 [00:17<00:00,  1.49it/s, val_loss=0.000129, SDR=0.948, R_ave=1.7] \n",
      "  0%|          | 0/60 [00:00<?, ?it/s]"
     ]
    },
    {
     "name": "stdout",
     "output_type": "stream",
     "text": [
      "loss 0.0001 - val_loss 0.0001 - SDR 0.9478 - R_ave 1.6977\n",
      "Epoch [396/1000]\n"
     ]
    },
    {
     "name": "stderr",
     "output_type": "stream",
     "text": [
      "100%|██████████| 60/60 [00:24<00:00,  2.46it/s, loss=9.53e-5]\n",
      "100%|██████████| 26/26 [00:16<00:00,  1.55it/s, val_loss=0.000121, SDR=0.962, R_ave=1.61]\n",
      "  0%|          | 0/60 [00:00<?, ?it/s]"
     ]
    },
    {
     "name": "stdout",
     "output_type": "stream",
     "text": [
      "loss 0.0001 - val_loss 0.0001 - SDR 0.9616 - R_ave 1.6105\n",
      "Epoch [397/1000]\n"
     ]
    },
    {
     "name": "stderr",
     "output_type": "stream",
     "text": [
      "100%|██████████| 60/60 [00:24<00:00,  2.46it/s, loss=9.11e-5]\n",
      "100%|██████████| 26/26 [00:16<00:00,  1.54it/s, val_loss=0.000103, SDR=0.966, R_ave=1.43]\n",
      "  0%|          | 0/60 [00:00<?, ?it/s]"
     ]
    },
    {
     "name": "stdout",
     "output_type": "stream",
     "text": [
      "loss 0.0001 - val_loss 0.0001 - SDR 0.9664 - R_ave 1.4273\n",
      "Epoch [398/1000]\n"
     ]
    },
    {
     "name": "stderr",
     "output_type": "stream",
     "text": [
      "100%|██████████| 60/60 [00:24<00:00,  2.45it/s, loss=9.01e-5]\n",
      "100%|██████████| 26/26 [00:17<00:00,  1.50it/s, val_loss=0.000196, SDR=0.925, R_ave=2.22]\n",
      "  0%|          | 0/60 [00:00<?, ?it/s]"
     ]
    },
    {
     "name": "stdout",
     "output_type": "stream",
     "text": [
      "loss 0.0001 - val_loss 0.0002 - SDR 0.9248 - R_ave 2.2213\n",
      "Epoch [399/1000]\n"
     ]
    },
    {
     "name": "stderr",
     "output_type": "stream",
     "text": [
      "100%|██████████| 60/60 [00:24<00:00,  2.46it/s, loss=8.97e-5]\n",
      "100%|██████████| 26/26 [00:16<00:00,  1.54it/s, val_loss=0.000114, SDR=0.958, R_ave=1.51]\n",
      "  0%|          | 0/60 [00:00<?, ?it/s]"
     ]
    },
    {
     "name": "stdout",
     "output_type": "stream",
     "text": [
      "loss 0.0001 - val_loss 0.0001 - SDR 0.9578 - R_ave 1.5128\n",
      "Epoch [400/1000]\n"
     ]
    },
    {
     "name": "stderr",
     "output_type": "stream",
     "text": [
      "100%|██████████| 60/60 [00:24<00:00,  2.46it/s, loss=8.78e-5]\n",
      "100%|██████████| 26/26 [00:16<00:00,  1.55it/s, val_loss=0.000117, SDR=0.956, R_ave=1.52]\n",
      "  0%|          | 0/60 [00:00<?, ?it/s]"
     ]
    },
    {
     "name": "stdout",
     "output_type": "stream",
     "text": [
      "loss 0.0001 - val_loss 0.0001 - SDR 0.9555 - R_ave 1.5225\n",
      "Epoch [401/1000]\n"
     ]
    },
    {
     "name": "stderr",
     "output_type": "stream",
     "text": [
      "100%|██████████| 60/60 [00:25<00:00,  2.40it/s, loss=9.17e-5]\n",
      "100%|██████████| 26/26 [00:17<00:00,  1.52it/s, val_loss=0.000146, SDR=0.953, R_ave=1.65]\n",
      "  0%|          | 0/60 [00:00<?, ?it/s]"
     ]
    },
    {
     "name": "stdout",
     "output_type": "stream",
     "text": [
      "loss 0.0001 - val_loss 0.0001 - SDR 0.9533 - R_ave 1.6472\n",
      "Epoch [402/1000]\n"
     ]
    },
    {
     "name": "stderr",
     "output_type": "stream",
     "text": [
      "100%|██████████| 60/60 [00:24<00:00,  2.46it/s, loss=9.3e-5] \n",
      "100%|██████████| 26/26 [00:16<00:00,  1.54it/s, val_loss=0.000115, SDR=0.961, R_ave=1.57]\n",
      "  0%|          | 0/60 [00:00<?, ?it/s]"
     ]
    },
    {
     "name": "stdout",
     "output_type": "stream",
     "text": [
      "loss 0.0001 - val_loss 0.0001 - SDR 0.9611 - R_ave 1.5706\n",
      "Epoch [403/1000]\n"
     ]
    },
    {
     "name": "stderr",
     "output_type": "stream",
     "text": [
      "100%|██████████| 60/60 [00:24<00:00,  2.48it/s, loss=9.42e-5] \n",
      "100%|██████████| 26/26 [00:16<00:00,  1.54it/s, val_loss=0.000128, SDR=0.954, R_ave=1.65]\n",
      "  0%|          | 0/60 [00:00<?, ?it/s]"
     ]
    },
    {
     "name": "stdout",
     "output_type": "stream",
     "text": [
      "loss 0.0001 - val_loss 0.0001 - SDR 0.9542 - R_ave 1.6534\n",
      "Epoch [404/1000]\n"
     ]
    },
    {
     "name": "stderr",
     "output_type": "stream",
     "text": [
      "100%|██████████| 60/60 [00:24<00:00,  2.42it/s, loss=9.35e-5]\n",
      "100%|██████████| 26/26 [00:17<00:00,  1.53it/s, val_loss=0.000106, SDR=0.963, R_ave=1.45]\n",
      "  0%|          | 0/60 [00:00<?, ?it/s]"
     ]
    },
    {
     "name": "stdout",
     "output_type": "stream",
     "text": [
      "loss 0.0001 - val_loss 0.0001 - SDR 0.9627 - R_ave 1.4454\n",
      "Epoch [405/1000]\n"
     ]
    },
    {
     "name": "stderr",
     "output_type": "stream",
     "text": [
      "100%|██████████| 60/60 [00:24<00:00,  2.46it/s, loss=9.62e-5]\n",
      "100%|██████████| 26/26 [00:16<00:00,  1.54it/s, val_loss=0.000133, SDR=0.958, R_ave=1.67]\n",
      "  0%|          | 0/60 [00:00<?, ?it/s]"
     ]
    },
    {
     "name": "stdout",
     "output_type": "stream",
     "text": [
      "loss 0.0001 - val_loss 0.0001 - SDR 0.9578 - R_ave 1.6709\n",
      "Epoch [406/1000]\n"
     ]
    },
    {
     "name": "stderr",
     "output_type": "stream",
     "text": [
      "100%|██████████| 60/60 [00:24<00:00,  2.46it/s, loss=9.42e-5] \n",
      "100%|██████████| 26/26 [00:17<00:00,  1.52it/s, val_loss=0.000162, SDR=0.948, R_ave=1.71]\n",
      "  0%|          | 0/60 [00:00<?, ?it/s]"
     ]
    },
    {
     "name": "stdout",
     "output_type": "stream",
     "text": [
      "loss 0.0001 - val_loss 0.0002 - SDR 0.9483 - R_ave 1.7070\n",
      "Epoch [407/1000]\n"
     ]
    },
    {
     "name": "stderr",
     "output_type": "stream",
     "text": [
      "100%|██████████| 60/60 [00:24<00:00,  2.43it/s, loss=9.5e-5]  \n",
      "100%|██████████| 26/26 [00:16<00:00,  1.53it/s, val_loss=0.00012, SDR=0.962, R_ave=1.52] \n",
      "  0%|          | 0/60 [00:00<?, ?it/s]"
     ]
    },
    {
     "name": "stdout",
     "output_type": "stream",
     "text": [
      "loss 0.0001 - val_loss 0.0001 - SDR 0.9624 - R_ave 1.5247\n",
      "Epoch [408/1000]\n"
     ]
    },
    {
     "name": "stderr",
     "output_type": "stream",
     "text": [
      "100%|██████████| 60/60 [00:24<00:00,  2.45it/s, loss=9.01e-5]\n",
      "100%|██████████| 26/26 [00:16<00:00,  1.54it/s, val_loss=0.000669, SDR=0.901, R_ave=4.84]\n",
      "  0%|          | 0/60 [00:00<?, ?it/s]"
     ]
    },
    {
     "name": "stdout",
     "output_type": "stream",
     "text": [
      "loss 0.0001 - val_loss 0.0007 - SDR 0.9012 - R_ave 4.8386\n",
      "Epoch [409/1000]\n"
     ]
    },
    {
     "name": "stderr",
     "output_type": "stream",
     "text": [
      "100%|██████████| 60/60 [00:24<00:00,  2.46it/s, loss=8.9e-5] \n",
      "100%|██████████| 26/26 [00:17<00:00,  1.51it/s, val_loss=0.000115, SDR=0.962, R_ave=1.47]\n",
      "  0%|          | 0/60 [00:00<?, ?it/s]"
     ]
    },
    {
     "name": "stdout",
     "output_type": "stream",
     "text": [
      "loss 0.0001 - val_loss 0.0001 - SDR 0.9616 - R_ave 1.4713\n",
      "Epoch [410/1000]\n"
     ]
    },
    {
     "name": "stderr",
     "output_type": "stream",
     "text": [
      "100%|██████████| 60/60 [00:24<00:00,  2.43it/s, loss=8.95e-5]\n",
      "100%|██████████| 26/26 [00:16<00:00,  1.53it/s, val_loss=0.000109, SDR=0.966, R_ave=1.47]\n",
      "  0%|          | 0/60 [00:00<?, ?it/s]"
     ]
    },
    {
     "name": "stdout",
     "output_type": "stream",
     "text": [
      "loss 0.0001 - val_loss 0.0001 - SDR 0.9661 - R_ave 1.4692\n",
      "Epoch [411/1000]\n"
     ]
    },
    {
     "name": "stderr",
     "output_type": "stream",
     "text": [
      "100%|██████████| 60/60 [00:24<00:00,  2.45it/s, loss=8.92e-5]\n",
      "100%|██████████| 26/26 [00:16<00:00,  1.54it/s, val_loss=0.000117, SDR=0.96, R_ave=1.55] \n",
      "  0%|          | 0/60 [00:00<?, ?it/s]"
     ]
    },
    {
     "name": "stdout",
     "output_type": "stream",
     "text": [
      "loss 0.0001 - val_loss 0.0001 - SDR 0.9602 - R_ave 1.5539\n",
      "Epoch [412/1000]\n"
     ]
    },
    {
     "name": "stderr",
     "output_type": "stream",
     "text": [
      "100%|██████████| 60/60 [00:24<00:00,  2.46it/s, loss=8.83e-5]\n",
      "100%|██████████| 26/26 [00:17<00:00,  1.52it/s, val_loss=9.77e-5, SDR=0.968, R_ave=1.41]\n",
      "  0%|          | 0/60 [00:00<?, ?it/s]"
     ]
    },
    {
     "name": "stdout",
     "output_type": "stream",
     "text": [
      "loss 0.0001 - val_loss 0.0001 - SDR 0.9684 - R_ave 1.4133\n",
      "Epoch [413/1000]\n"
     ]
    },
    {
     "name": "stderr",
     "output_type": "stream",
     "text": [
      "100%|██████████| 60/60 [00:24<00:00,  2.42it/s, loss=9.16e-5]\n",
      "100%|██████████| 26/26 [00:16<00:00,  1.54it/s, val_loss=0.000153, SDR=0.951, R_ave=1.81]\n",
      "  0%|          | 0/60 [00:00<?, ?it/s]"
     ]
    },
    {
     "name": "stdout",
     "output_type": "stream",
     "text": [
      "loss 0.0001 - val_loss 0.0002 - SDR 0.9512 - R_ave 1.8067\n",
      "Epoch [414/1000]\n"
     ]
    },
    {
     "name": "stderr",
     "output_type": "stream",
     "text": [
      "100%|██████████| 60/60 [00:24<00:00,  2.45it/s, loss=9.89e-5] \n",
      "100%|██████████| 26/26 [00:16<00:00,  1.54it/s, val_loss=0.000127, SDR=0.954, R_ave=1.58]\n",
      "  0%|          | 0/60 [00:00<?, ?it/s]"
     ]
    },
    {
     "name": "stdout",
     "output_type": "stream",
     "text": [
      "loss 0.0001 - val_loss 0.0001 - SDR 0.9539 - R_ave 1.5835\n",
      "Epoch [415/1000]\n"
     ]
    },
    {
     "name": "stderr",
     "output_type": "stream",
     "text": [
      "100%|██████████| 60/60 [00:24<00:00,  2.46it/s, loss=9.02e-5]\n",
      "100%|██████████| 26/26 [00:17<00:00,  1.51it/s, val_loss=0.000119, SDR=0.962, R_ave=1.52]\n",
      "  0%|          | 0/60 [00:00<?, ?it/s]"
     ]
    },
    {
     "name": "stdout",
     "output_type": "stream",
     "text": [
      "loss 0.0001 - val_loss 0.0001 - SDR 0.9622 - R_ave 1.5178\n",
      "Epoch [416/1000]\n"
     ]
    },
    {
     "name": "stderr",
     "output_type": "stream",
     "text": [
      "100%|██████████| 60/60 [00:24<00:00,  2.44it/s, loss=9e-5]   \n",
      "100%|██████████| 26/26 [00:16<00:00,  1.54it/s, val_loss=0.000122, SDR=0.954, R_ave=1.57]\n",
      "  0%|          | 0/60 [00:00<?, ?it/s]"
     ]
    },
    {
     "name": "stdout",
     "output_type": "stream",
     "text": [
      "loss 0.0001 - val_loss 0.0001 - SDR 0.9542 - R_ave 1.5702\n",
      "Epoch [417/1000]\n"
     ]
    },
    {
     "name": "stderr",
     "output_type": "stream",
     "text": [
      "100%|██████████| 60/60 [00:24<00:00,  2.46it/s, loss=9.03e-5]\n",
      "100%|██████████| 26/26 [00:16<00:00,  1.54it/s, val_loss=0.000115, SDR=0.963, R_ave=1.46]\n",
      "  0%|          | 0/60 [00:00<?, ?it/s]"
     ]
    },
    {
     "name": "stdout",
     "output_type": "stream",
     "text": [
      "loss 0.0001 - val_loss 0.0001 - SDR 0.9632 - R_ave 1.4647\n",
      "Epoch [418/1000]\n"
     ]
    },
    {
     "name": "stderr",
     "output_type": "stream",
     "text": [
      "100%|██████████| 60/60 [00:24<00:00,  2.46it/s, loss=8.93e-5]\n",
      "100%|██████████| 26/26 [00:17<00:00,  1.50it/s, val_loss=0.000107, SDR=0.967, R_ave=1.45]\n",
      "  0%|          | 0/60 [00:00<?, ?it/s]"
     ]
    },
    {
     "name": "stdout",
     "output_type": "stream",
     "text": [
      "loss 0.0001 - val_loss 0.0001 - SDR 0.9667 - R_ave 1.4452\n",
      "Epoch [419/1000]\n"
     ]
    },
    {
     "name": "stderr",
     "output_type": "stream",
     "text": [
      "100%|██████████| 60/60 [00:24<00:00,  2.45it/s, loss=8.82e-5]\n",
      "100%|██████████| 26/26 [00:16<00:00,  1.54it/s, val_loss=0.000122, SDR=0.958, R_ave=1.68]\n",
      "  0%|          | 0/60 [00:00<?, ?it/s]"
     ]
    },
    {
     "name": "stdout",
     "output_type": "stream",
     "text": [
      "loss 0.0001 - val_loss 0.0001 - SDR 0.9576 - R_ave 1.6803\n",
      "Epoch [420/1000]\n"
     ]
    },
    {
     "name": "stderr",
     "output_type": "stream",
     "text": [
      "100%|██████████| 60/60 [00:24<00:00,  2.46it/s, loss=8.9e-5] \n",
      "100%|██████████| 26/26 [00:16<00:00,  1.53it/s, val_loss=0.000116, SDR=0.957, R_ave=1.47]\n",
      "  0%|          | 0/60 [00:00<?, ?it/s]"
     ]
    },
    {
     "name": "stdout",
     "output_type": "stream",
     "text": [
      "loss 0.0001 - val_loss 0.0001 - SDR 0.9569 - R_ave 1.4731\n",
      "Epoch [421/1000]\n"
     ]
    },
    {
     "name": "stderr",
     "output_type": "stream",
     "text": [
      "100%|██████████| 60/60 [00:24<00:00,  2.46it/s, loss=8.8e-5] \n",
      "100%|██████████| 26/26 [00:19<00:00,  1.35it/s, val_loss=0.000117, SDR=0.957, R_ave=1.51]\n"
     ]
    },
    {
     "name": "stdout",
     "output_type": "stream",
     "text": [
      "loss 0.0001 - val_loss 0.0001 - SDR 0.9573 - R_ave 1.5067\n"
     ]
    },
    {
     "name": "stderr",
     "output_type": "stream",
     "text": [
      "\r",
      "  0%|          | 0/60 [00:00<?, ?it/s]"
     ]
    },
    {
     "name": "stdout",
     "output_type": "stream",
     "text": [
      "Epoch [422/1000]\n"
     ]
    },
    {
     "name": "stderr",
     "output_type": "stream",
     "text": [
      "100%|██████████| 60/60 [00:25<00:00,  2.36it/s, loss=8.92e-5]\n",
      "100%|██████████| 26/26 [00:34<00:00,  1.33s/it, val_loss=0.000107, SDR=0.967, R_ave=1.47]\n",
      "  0%|          | 0/60 [00:00<?, ?it/s]"
     ]
    },
    {
     "name": "stdout",
     "output_type": "stream",
     "text": [
      "loss 0.0001 - val_loss 0.0001 - SDR 0.9669 - R_ave 1.4702\n",
      "Epoch [423/1000]\n"
     ]
    },
    {
     "name": "stderr",
     "output_type": "stream",
     "text": [
      "100%|██████████| 60/60 [00:25<00:00,  2.39it/s, loss=8.82e-5]\n",
      "100%|██████████| 26/26 [00:17<00:00,  1.47it/s, val_loss=0.000104, SDR=0.965, R_ave=1.47]\n",
      "  0%|          | 0/60 [00:00<?, ?it/s]"
     ]
    },
    {
     "name": "stdout",
     "output_type": "stream",
     "text": [
      "loss 0.0001 - val_loss 0.0001 - SDR 0.9655 - R_ave 1.4654\n",
      "Epoch [424/1000]\n"
     ]
    },
    {
     "name": "stderr",
     "output_type": "stream",
     "text": [
      "100%|██████████| 60/60 [00:25<00:00,  2.39it/s, loss=9.17e-5]\n",
      "100%|██████████| 26/26 [00:17<00:00,  1.51it/s, val_loss=0.000117, SDR=0.964, R_ave=1.51]\n",
      "  0%|          | 0/60 [00:00<?, ?it/s]"
     ]
    },
    {
     "name": "stdout",
     "output_type": "stream",
     "text": [
      "loss 0.0001 - val_loss 0.0001 - SDR 0.9639 - R_ave 1.5070\n",
      "Epoch [425/1000]\n"
     ]
    },
    {
     "name": "stderr",
     "output_type": "stream",
     "text": [
      "100%|██████████| 60/60 [00:24<00:00,  2.42it/s, loss=9.2e-5] \n",
      "100%|██████████| 26/26 [00:17<00:00,  1.51it/s, val_loss=0.000131, SDR=0.958, R_ave=1.61]\n",
      "  0%|          | 0/60 [00:00<?, ?it/s]"
     ]
    },
    {
     "name": "stdout",
     "output_type": "stream",
     "text": [
      "loss 0.0001 - val_loss 0.0001 - SDR 0.9581 - R_ave 1.6149\n",
      "Epoch [426/1000]\n"
     ]
    },
    {
     "name": "stderr",
     "output_type": "stream",
     "text": [
      "100%|██████████| 60/60 [00:24<00:00,  2.41it/s, loss=8.78e-5]\n",
      "100%|██████████| 26/26 [00:17<00:00,  1.47it/s, val_loss=0.000104, SDR=0.962, R_ave=1.46]\n",
      "  0%|          | 0/60 [00:00<?, ?it/s]"
     ]
    },
    {
     "name": "stdout",
     "output_type": "stream",
     "text": [
      "loss 0.0001 - val_loss 0.0001 - SDR 0.9616 - R_ave 1.4555\n",
      "Epoch [427/1000]\n"
     ]
    },
    {
     "name": "stderr",
     "output_type": "stream",
     "text": [
      "100%|██████████| 60/60 [00:24<00:00,  2.41it/s, loss=8.72e-5]\n",
      "100%|██████████| 26/26 [00:17<00:00,  1.53it/s, val_loss=9.99e-5, SDR=0.967, R_ave=1.42]\n",
      "  0%|          | 0/60 [00:00<?, ?it/s]"
     ]
    },
    {
     "name": "stdout",
     "output_type": "stream",
     "text": [
      "loss 0.0001 - val_loss 0.0001 - SDR 0.9674 - R_ave 1.4222\n",
      "Epoch [428/1000]\n"
     ]
    },
    {
     "name": "stderr",
     "output_type": "stream",
     "text": [
      "100%|██████████| 60/60 [00:24<00:00,  2.44it/s, loss=8.63e-5]\n",
      "100%|██████████| 26/26 [00:17<00:00,  1.52it/s, val_loss=0.000108, SDR=0.964, R_ave=1.52]\n",
      "  0%|          | 0/60 [00:00<?, ?it/s]"
     ]
    },
    {
     "name": "stdout",
     "output_type": "stream",
     "text": [
      "loss 0.0001 - val_loss 0.0001 - SDR 0.9643 - R_ave 1.5187\n",
      "Epoch [429/1000]\n"
     ]
    },
    {
     "name": "stderr",
     "output_type": "stream",
     "text": [
      "100%|██████████| 60/60 [00:24<00:00,  2.43it/s, loss=8.99e-5]\n",
      "100%|██████████| 26/26 [00:17<00:00,  1.51it/s, val_loss=0.000143, SDR=0.946, R_ave=1.77]\n",
      "  0%|          | 0/60 [00:00<?, ?it/s]"
     ]
    },
    {
     "name": "stdout",
     "output_type": "stream",
     "text": [
      "loss 0.0001 - val_loss 0.0001 - SDR 0.9459 - R_ave 1.7709\n",
      "Epoch [430/1000]\n"
     ]
    },
    {
     "name": "stderr",
     "output_type": "stream",
     "text": [
      "100%|██████████| 60/60 [00:24<00:00,  2.43it/s, loss=9.22e-5]\n",
      "100%|██████████| 26/26 [00:16<00:00,  1.53it/s, val_loss=0.000122, SDR=0.958, R_ave=1.56]\n",
      "  0%|          | 0/60 [00:00<?, ?it/s]"
     ]
    },
    {
     "name": "stdout",
     "output_type": "stream",
     "text": [
      "loss 0.0001 - val_loss 0.0001 - SDR 0.9579 - R_ave 1.5553\n",
      "Epoch [431/1000]\n"
     ]
    },
    {
     "name": "stderr",
     "output_type": "stream",
     "text": [
      "100%|██████████| 60/60 [00:24<00:00,  2.45it/s, loss=8.84e-5]\n",
      "100%|██████████| 26/26 [00:17<00:00,  1.53it/s, val_loss=9.67e-5, SDR=0.968, R_ave=1.41]\n",
      "  0%|          | 0/60 [00:00<?, ?it/s]"
     ]
    },
    {
     "name": "stdout",
     "output_type": "stream",
     "text": [
      "loss 0.0001 - val_loss 0.0001 - SDR 0.9682 - R_ave 1.4115\n",
      "Epoch [432/1000]\n"
     ]
    },
    {
     "name": "stderr",
     "output_type": "stream",
     "text": [
      "100%|██████████| 60/60 [00:24<00:00,  2.45it/s, loss=8.67e-5]\n",
      "100%|██████████| 26/26 [00:17<00:00,  1.50it/s, val_loss=0.000109, SDR=0.959, R_ave=1.49]\n",
      "  0%|          | 0/60 [00:00<?, ?it/s]"
     ]
    },
    {
     "name": "stdout",
     "output_type": "stream",
     "text": [
      "loss 0.0001 - val_loss 0.0001 - SDR 0.9594 - R_ave 1.4852\n",
      "Epoch [433/1000]\n"
     ]
    },
    {
     "name": "stderr",
     "output_type": "stream",
     "text": [
      "100%|██████████| 60/60 [00:24<00:00,  2.46it/s, loss=8.63e-5]\n",
      "100%|██████████| 26/26 [00:16<00:00,  1.53it/s, val_loss=0.000102, SDR=0.966, R_ave=1.42]\n",
      "  0%|          | 0/60 [00:00<?, ?it/s]"
     ]
    },
    {
     "name": "stdout",
     "output_type": "stream",
     "text": [
      "loss 0.0001 - val_loss 0.0001 - SDR 0.9663 - R_ave 1.4180\n",
      "Epoch [434/1000]\n"
     ]
    },
    {
     "name": "stderr",
     "output_type": "stream",
     "text": [
      "100%|██████████| 60/60 [00:24<00:00,  2.45it/s, loss=9.1e-5] \n",
      "100%|██████████| 26/26 [00:16<00:00,  1.54it/s, val_loss=0.00014, SDR=0.945, R_ave=1.78] \n",
      "  0%|          | 0/60 [00:00<?, ?it/s]"
     ]
    },
    {
     "name": "stdout",
     "output_type": "stream",
     "text": [
      "loss 0.0001 - val_loss 0.0001 - SDR 0.9451 - R_ave 1.7840\n",
      "Epoch [435/1000]\n"
     ]
    },
    {
     "name": "stderr",
     "output_type": "stream",
     "text": [
      "100%|██████████| 60/60 [00:24<00:00,  2.43it/s, loss=9.66e-5]\n",
      "100%|██████████| 26/26 [00:17<00:00,  1.50it/s, val_loss=0.000421, SDR=0.885, R_ave=4.47]\n",
      "  0%|          | 0/60 [00:00<?, ?it/s]"
     ]
    },
    {
     "name": "stdout",
     "output_type": "stream",
     "text": [
      "loss 0.0001 - val_loss 0.0004 - SDR 0.8855 - R_ave 4.4652\n",
      "Epoch [436/1000]\n"
     ]
    },
    {
     "name": "stderr",
     "output_type": "stream",
     "text": [
      "100%|██████████| 60/60 [00:24<00:00,  2.46it/s, loss=0.000102]\n",
      "100%|██████████| 26/26 [00:16<00:00,  1.54it/s, val_loss=0.00017, SDR=0.946, R_ave=1.79] \n",
      "  0%|          | 0/60 [00:00<?, ?it/s]"
     ]
    },
    {
     "name": "stdout",
     "output_type": "stream",
     "text": [
      "loss 0.0001 - val_loss 0.0002 - SDR 0.9463 - R_ave 1.7892\n",
      "Epoch [437/1000]\n"
     ]
    },
    {
     "name": "stderr",
     "output_type": "stream",
     "text": [
      "100%|██████████| 60/60 [00:24<00:00,  2.46it/s, loss=9.41e-5]\n",
      "100%|██████████| 26/26 [00:16<00:00,  1.54it/s, val_loss=0.00011, SDR=0.965, R_ave=1.47] \n",
      "  0%|          | 0/60 [00:00<?, ?it/s]"
     ]
    },
    {
     "name": "stdout",
     "output_type": "stream",
     "text": [
      "loss 0.0001 - val_loss 0.0001 - SDR 0.9648 - R_ave 1.4669\n",
      "Epoch [438/1000]\n"
     ]
    },
    {
     "name": "stderr",
     "output_type": "stream",
     "text": [
      "100%|██████████| 60/60 [00:24<00:00,  2.44it/s, loss=8.84e-5]\n",
      "100%|██████████| 26/26 [00:16<00:00,  1.53it/s, val_loss=0.000119, SDR=0.959, R_ave=1.57]\n",
      "  0%|          | 0/60 [00:00<?, ?it/s]"
     ]
    },
    {
     "name": "stdout",
     "output_type": "stream",
     "text": [
      "loss 0.0001 - val_loss 0.0001 - SDR 0.9594 - R_ave 1.5685\n",
      "Epoch [439/1000]\n"
     ]
    },
    {
     "name": "stderr",
     "output_type": "stream",
     "text": [
      "100%|██████████| 60/60 [00:24<00:00,  2.46it/s, loss=8.64e-5]\n",
      "100%|██████████| 26/26 [00:16<00:00,  1.54it/s, val_loss=0.000104, SDR=0.964, R_ave=1.46]\n",
      "  0%|          | 0/60 [00:00<?, ?it/s]"
     ]
    },
    {
     "name": "stdout",
     "output_type": "stream",
     "text": [
      "loss 0.0001 - val_loss 0.0001 - SDR 0.9639 - R_ave 1.4641\n",
      "Epoch [440/1000]\n"
     ]
    },
    {
     "name": "stderr",
     "output_type": "stream",
     "text": [
      "100%|██████████| 60/60 [00:24<00:00,  2.45it/s, loss=8.78e-5]\n",
      "100%|██████████| 26/26 [00:16<00:00,  1.54it/s, val_loss=0.00011, SDR=0.961, R_ave=1.48] \n",
      "  0%|          | 0/60 [00:00<?, ?it/s]"
     ]
    },
    {
     "name": "stdout",
     "output_type": "stream",
     "text": [
      "loss 0.0001 - val_loss 0.0001 - SDR 0.9611 - R_ave 1.4774\n",
      "Epoch [441/1000]\n"
     ]
    },
    {
     "name": "stderr",
     "output_type": "stream",
     "text": [
      "100%|██████████| 60/60 [00:24<00:00,  2.43it/s, loss=8.67e-5]\n",
      "100%|██████████| 26/26 [00:16<00:00,  1.53it/s, val_loss=0.000101, SDR=0.966, R_ave=1.41]\n",
      "  0%|          | 0/60 [00:00<?, ?it/s]"
     ]
    },
    {
     "name": "stdout",
     "output_type": "stream",
     "text": [
      "loss 0.0001 - val_loss 0.0001 - SDR 0.9658 - R_ave 1.4132\n",
      "Epoch [442/1000]\n"
     ]
    },
    {
     "name": "stderr",
     "output_type": "stream",
     "text": [
      "100%|██████████| 60/60 [00:24<00:00,  2.46it/s, loss=8.63e-5]\n",
      "100%|██████████| 26/26 [00:16<00:00,  1.54it/s, val_loss=0.000104, SDR=0.966, R_ave=1.47]\n",
      "  0%|          | 0/60 [00:00<?, ?it/s]"
     ]
    },
    {
     "name": "stdout",
     "output_type": "stream",
     "text": [
      "loss 0.0001 - val_loss 0.0001 - SDR 0.9664 - R_ave 1.4722\n",
      "Epoch [443/1000]\n"
     ]
    },
    {
     "name": "stderr",
     "output_type": "stream",
     "text": [
      "100%|██████████| 60/60 [00:24<00:00,  2.46it/s, loss=8.6e-5] \n",
      "100%|██████████| 26/26 [00:16<00:00,  1.54it/s, val_loss=0.000132, SDR=0.947, R_ave=1.59]\n",
      "  0%|          | 0/60 [00:00<?, ?it/s]"
     ]
    },
    {
     "name": "stdout",
     "output_type": "stream",
     "text": [
      "loss 0.0001 - val_loss 0.0001 - SDR 0.9471 - R_ave 1.5934\n",
      "Epoch [444/1000]\n"
     ]
    },
    {
     "name": "stderr",
     "output_type": "stream",
     "text": [
      "100%|██████████| 60/60 [00:24<00:00,  2.43it/s, loss=8.62e-5]\n",
      "100%|██████████| 26/26 [00:16<00:00,  1.54it/s, val_loss=0.000112, SDR=0.958, R_ave=1.48]\n",
      "  0%|          | 0/60 [00:00<?, ?it/s]"
     ]
    },
    {
     "name": "stdout",
     "output_type": "stream",
     "text": [
      "loss 0.0001 - val_loss 0.0001 - SDR 0.9582 - R_ave 1.4780\n",
      "Epoch [445/1000]\n"
     ]
    },
    {
     "name": "stderr",
     "output_type": "stream",
     "text": [
      "100%|██████████| 60/60 [00:24<00:00,  2.46it/s, loss=8.93e-5]\n",
      "100%|██████████| 26/26 [00:16<00:00,  1.53it/s, val_loss=0.000125, SDR=0.96, R_ave=1.62] \n",
      "  0%|          | 0/60 [00:00<?, ?it/s]"
     ]
    },
    {
     "name": "stdout",
     "output_type": "stream",
     "text": [
      "loss 0.0001 - val_loss 0.0001 - SDR 0.9595 - R_ave 1.6240\n",
      "Epoch [446/1000]\n"
     ]
    },
    {
     "name": "stderr",
     "output_type": "stream",
     "text": [
      "100%|██████████| 60/60 [00:24<00:00,  2.47it/s, loss=8.73e-5]\n",
      "100%|██████████| 26/26 [00:16<00:00,  1.54it/s, val_loss=0.000168, SDR=0.945, R_ave=1.89]\n",
      "  0%|          | 0/60 [00:00<?, ?it/s]"
     ]
    },
    {
     "name": "stdout",
     "output_type": "stream",
     "text": [
      "loss 0.0001 - val_loss 0.0002 - SDR 0.9446 - R_ave 1.8943\n",
      "Epoch [447/1000]\n"
     ]
    },
    {
     "name": "stderr",
     "output_type": "stream",
     "text": [
      "100%|██████████| 60/60 [00:24<00:00,  2.42it/s, loss=8.75e-5]\n",
      "100%|██████████| 26/26 [00:16<00:00,  1.54it/s, val_loss=9.94e-5, SDR=0.966, R_ave=1.42] \n",
      "  0%|          | 0/60 [00:00<?, ?it/s]"
     ]
    },
    {
     "name": "stdout",
     "output_type": "stream",
     "text": [
      "loss 0.0001 - val_loss 0.0001 - SDR 0.9661 - R_ave 1.4248\n",
      "Epoch [448/1000]\n"
     ]
    },
    {
     "name": "stderr",
     "output_type": "stream",
     "text": [
      "100%|██████████| 60/60 [00:24<00:00,  2.46it/s, loss=8.45e-5]\n",
      "100%|██████████| 26/26 [00:16<00:00,  1.55it/s, val_loss=0.00012, SDR=0.957, R_ave=1.56] \n",
      "  0%|          | 0/60 [00:00<?, ?it/s]"
     ]
    },
    {
     "name": "stdout",
     "output_type": "stream",
     "text": [
      "loss 0.0001 - val_loss 0.0001 - SDR 0.9573 - R_ave 1.5637\n",
      "Epoch [449/1000]\n"
     ]
    },
    {
     "name": "stderr",
     "output_type": "stream",
     "text": [
      "100%|██████████| 60/60 [00:24<00:00,  2.46it/s, loss=8.69e-5]\n",
      "100%|██████████| 26/26 [00:16<00:00,  1.53it/s, val_loss=0.000132, SDR=0.955, R_ave=1.68]\n",
      "  0%|          | 0/60 [00:00<?, ?it/s]"
     ]
    },
    {
     "name": "stdout",
     "output_type": "stream",
     "text": [
      "loss 0.0001 - val_loss 0.0001 - SDR 0.9552 - R_ave 1.6785\n",
      "Epoch [450/1000]\n"
     ]
    },
    {
     "name": "stderr",
     "output_type": "stream",
     "text": [
      "100%|██████████| 60/60 [00:24<00:00,  2.44it/s, loss=9.13e-5]\n",
      "100%|██████████| 26/26 [00:16<00:00,  1.54it/s, val_loss=0.00013, SDR=0.958, R_ave=1.55] \n",
      "  0%|          | 0/60 [00:00<?, ?it/s]"
     ]
    },
    {
     "name": "stdout",
     "output_type": "stream",
     "text": [
      "loss 0.0001 - val_loss 0.0001 - SDR 0.9576 - R_ave 1.5547\n",
      "Epoch [451/1000]\n"
     ]
    },
    {
     "name": "stderr",
     "output_type": "stream",
     "text": [
      "100%|██████████| 60/60 [00:24<00:00,  2.44it/s, loss=9.24e-5]\n",
      "100%|██████████| 26/26 [00:16<00:00,  1.55it/s, val_loss=0.000116, SDR=0.961, R_ave=1.51]\n",
      "  0%|          | 0/60 [00:00<?, ?it/s]"
     ]
    },
    {
     "name": "stdout",
     "output_type": "stream",
     "text": [
      "loss 0.0001 - val_loss 0.0001 - SDR 0.9614 - R_ave 1.5066\n",
      "Epoch [452/1000]\n"
     ]
    },
    {
     "name": "stderr",
     "output_type": "stream",
     "text": [
      "100%|██████████| 60/60 [00:24<00:00,  2.46it/s, loss=9.27e-5]\n",
      "100%|██████████| 26/26 [00:17<00:00,  1.51it/s, val_loss=0.000114, SDR=0.962, R_ave=1.54]\n",
      "  0%|          | 0/60 [00:00<?, ?it/s]"
     ]
    },
    {
     "name": "stdout",
     "output_type": "stream",
     "text": [
      "loss 0.0001 - val_loss 0.0001 - SDR 0.9616 - R_ave 1.5412\n",
      "Epoch [453/1000]\n"
     ]
    },
    {
     "name": "stderr",
     "output_type": "stream",
     "text": [
      "100%|██████████| 60/60 [00:24<00:00,  2.44it/s, loss=8.99e-5]\n",
      "100%|██████████| 26/26 [00:16<00:00,  1.54it/s, val_loss=0.000107, SDR=0.965, R_ave=1.49]\n",
      "  0%|          | 0/60 [00:00<?, ?it/s]"
     ]
    },
    {
     "name": "stdout",
     "output_type": "stream",
     "text": [
      "loss 0.0001 - val_loss 0.0001 - SDR 0.9655 - R_ave 1.4860\n",
      "Epoch [454/1000]\n"
     ]
    },
    {
     "name": "stderr",
     "output_type": "stream",
     "text": [
      "100%|██████████| 60/60 [00:24<00:00,  2.46it/s, loss=8.64e-5]\n",
      "100%|██████████| 26/26 [00:16<00:00,  1.55it/s, val_loss=0.000108, SDR=0.964, R_ave=1.46]\n",
      "  0%|          | 0/60 [00:00<?, ?it/s]"
     ]
    },
    {
     "name": "stdout",
     "output_type": "stream",
     "text": [
      "loss 0.0001 - val_loss 0.0001 - SDR 0.9643 - R_ave 1.4559\n",
      "Epoch [455/1000]\n"
     ]
    },
    {
     "name": "stderr",
     "output_type": "stream",
     "text": [
      "100%|██████████| 60/60 [00:24<00:00,  2.46it/s, loss=8.69e-5]\n",
      "100%|██████████| 26/26 [00:17<00:00,  1.51it/s, val_loss=0.00012, SDR=0.957, R_ave=1.59] \n",
      "  0%|          | 0/60 [00:00<?, ?it/s]"
     ]
    },
    {
     "name": "stdout",
     "output_type": "stream",
     "text": [
      "loss 0.0001 - val_loss 0.0001 - SDR 0.9574 - R_ave 1.5920\n",
      "Epoch [456/1000]\n"
     ]
    },
    {
     "name": "stderr",
     "output_type": "stream",
     "text": [
      "100%|██████████| 60/60 [00:24<00:00,  2.45it/s, loss=8.92e-5]\n",
      "100%|██████████| 26/26 [00:16<00:00,  1.53it/s, val_loss=0.000102, SDR=0.963, R_ave=1.41]\n",
      "  0%|          | 0/60 [00:00<?, ?it/s]"
     ]
    },
    {
     "name": "stdout",
     "output_type": "stream",
     "text": [
      "loss 0.0001 - val_loss 0.0001 - SDR 0.9627 - R_ave 1.4126\n",
      "Epoch [457/1000]\n"
     ]
    },
    {
     "name": "stderr",
     "output_type": "stream",
     "text": [
      "100%|██████████| 60/60 [00:24<00:00,  2.45it/s, loss=9.37e-5]\n",
      "100%|██████████| 26/26 [00:16<00:00,  1.54it/s, val_loss=0.000113, SDR=0.961, R_ave=1.55]\n",
      "  0%|          | 0/60 [00:00<?, ?it/s]"
     ]
    },
    {
     "name": "stdout",
     "output_type": "stream",
     "text": [
      "loss 0.0001 - val_loss 0.0001 - SDR 0.9608 - R_ave 1.5465\n",
      "Epoch [458/1000]\n"
     ]
    },
    {
     "name": "stderr",
     "output_type": "stream",
     "text": [
      "100%|██████████| 60/60 [00:24<00:00,  2.45it/s, loss=8.96e-5]\n",
      "100%|██████████| 26/26 [00:17<00:00,  1.51it/s, val_loss=0.000103, SDR=0.967, R_ave=1.43]\n",
      "  0%|          | 0/60 [00:00<?, ?it/s]"
     ]
    },
    {
     "name": "stdout",
     "output_type": "stream",
     "text": [
      "loss 0.0001 - val_loss 0.0001 - SDR 0.9671 - R_ave 1.4288\n",
      "Epoch [459/1000]\n"
     ]
    },
    {
     "name": "stderr",
     "output_type": "stream",
     "text": [
      "100%|██████████| 60/60 [00:24<00:00,  2.45it/s, loss=8.81e-5]\n",
      "100%|██████████| 26/26 [00:16<00:00,  1.55it/s, val_loss=0.000132, SDR=0.954, R_ave=1.59]\n",
      "  0%|          | 0/60 [00:00<?, ?it/s]"
     ]
    },
    {
     "name": "stdout",
     "output_type": "stream",
     "text": [
      "loss 0.0001 - val_loss 0.0001 - SDR 0.9544 - R_ave 1.5873\n",
      "Epoch [460/1000]\n"
     ]
    },
    {
     "name": "stderr",
     "output_type": "stream",
     "text": [
      "100%|██████████| 60/60 [00:24<00:00,  2.46it/s, loss=8.36e-5]\n",
      "100%|██████████| 26/26 [00:16<00:00,  1.54it/s, val_loss=0.000104, SDR=0.962, R_ave=1.41]\n",
      "  0%|          | 0/60 [00:00<?, ?it/s]"
     ]
    },
    {
     "name": "stdout",
     "output_type": "stream",
     "text": [
      "loss 0.0001 - val_loss 0.0001 - SDR 0.9624 - R_ave 1.4135\n",
      "Epoch [461/1000]\n"
     ]
    },
    {
     "name": "stderr",
     "output_type": "stream",
     "text": [
      "100%|██████████| 60/60 [00:24<00:00,  2.44it/s, loss=8.85e-5]\n",
      "100%|██████████| 26/26 [00:17<00:00,  1.51it/s, val_loss=0.000116, SDR=0.963, R_ave=1.59]\n",
      "  0%|          | 0/60 [00:00<?, ?it/s]"
     ]
    },
    {
     "name": "stdout",
     "output_type": "stream",
     "text": [
      "loss 0.0001 - val_loss 0.0001 - SDR 0.9629 - R_ave 1.5909\n",
      "Epoch [462/1000]\n"
     ]
    },
    {
     "name": "stderr",
     "output_type": "stream",
     "text": [
      "100%|██████████| 60/60 [00:24<00:00,  2.46it/s, loss=9.06e-5]\n",
      "100%|██████████| 26/26 [00:16<00:00,  1.55it/s, val_loss=0.000109, SDR=0.966, R_ave=1.43]\n",
      "  0%|          | 0/60 [00:00<?, ?it/s]"
     ]
    },
    {
     "name": "stdout",
     "output_type": "stream",
     "text": [
      "loss 0.0001 - val_loss 0.0001 - SDR 0.9663 - R_ave 1.4327\n",
      "Epoch [463/1000]\n"
     ]
    },
    {
     "name": "stderr",
     "output_type": "stream",
     "text": [
      "100%|██████████| 60/60 [00:24<00:00,  2.46it/s, loss=9.13e-5]\n",
      "100%|██████████| 26/26 [00:16<00:00,  1.54it/s, val_loss=0.00015, SDR=0.957, R_ave=1.65] \n",
      "  0%|          | 0/60 [00:00<?, ?it/s]"
     ]
    },
    {
     "name": "stdout",
     "output_type": "stream",
     "text": [
      "loss 0.0001 - val_loss 0.0001 - SDR 0.9573 - R_ave 1.6500\n",
      "Epoch [464/1000]\n"
     ]
    },
    {
     "name": "stderr",
     "output_type": "stream",
     "text": [
      "100%|██████████| 60/60 [00:24<00:00,  2.44it/s, loss=9.22e-5]\n",
      "100%|██████████| 26/26 [00:17<00:00,  1.53it/s, val_loss=0.000218, SDR=0.924, R_ave=2.64]\n",
      "  0%|          | 0/60 [00:00<?, ?it/s]"
     ]
    },
    {
     "name": "stdout",
     "output_type": "stream",
     "text": [
      "loss 0.0001 - val_loss 0.0002 - SDR 0.9239 - R_ave 2.6425\n",
      "Epoch [465/1000]\n"
     ]
    },
    {
     "name": "stderr",
     "output_type": "stream",
     "text": [
      "100%|██████████| 60/60 [00:24<00:00,  2.46it/s, loss=8.42e-5]\n",
      "100%|██████████| 26/26 [00:16<00:00,  1.55it/s, val_loss=0.000173, SDR=0.952, R_ave=1.76]\n",
      "  0%|          | 0/60 [00:00<?, ?it/s]"
     ]
    },
    {
     "name": "stdout",
     "output_type": "stream",
     "text": [
      "loss 0.0001 - val_loss 0.0002 - SDR 0.9524 - R_ave 1.7572\n",
      "Epoch [466/1000]\n"
     ]
    },
    {
     "name": "stderr",
     "output_type": "stream",
     "text": [
      "100%|██████████| 60/60 [00:24<00:00,  2.46it/s, loss=8.38e-5]\n",
      "100%|██████████| 26/26 [00:16<00:00,  1.54it/s, val_loss=0.000116, SDR=0.957, R_ave=1.52]\n",
      "  0%|          | 0/60 [00:00<?, ?it/s]"
     ]
    },
    {
     "name": "stdout",
     "output_type": "stream",
     "text": [
      "loss 0.0001 - val_loss 0.0001 - SDR 0.9574 - R_ave 1.5221\n",
      "Epoch [467/1000]\n"
     ]
    },
    {
     "name": "stderr",
     "output_type": "stream",
     "text": [
      "100%|██████████| 60/60 [00:24<00:00,  2.43it/s, loss=8.62e-5]\n",
      "100%|██████████| 26/26 [00:16<00:00,  1.54it/s, val_loss=0.00012, SDR=0.958, R_ave=1.56] \n",
      "  0%|          | 0/60 [00:00<?, ?it/s]"
     ]
    },
    {
     "name": "stdout",
     "output_type": "stream",
     "text": [
      "loss 0.0001 - val_loss 0.0001 - SDR 0.9582 - R_ave 1.5605\n",
      "Epoch [468/1000]\n"
     ]
    },
    {
     "name": "stderr",
     "output_type": "stream",
     "text": [
      "100%|██████████| 60/60 [00:24<00:00,  2.45it/s, loss=8.53e-5]\n",
      "100%|██████████| 26/26 [00:16<00:00,  1.54it/s, val_loss=0.000104, SDR=0.967, R_ave=1.45]\n",
      "  0%|          | 0/60 [00:00<?, ?it/s]"
     ]
    },
    {
     "name": "stdout",
     "output_type": "stream",
     "text": [
      "loss 0.0001 - val_loss 0.0001 - SDR 0.9671 - R_ave 1.4473\n",
      "Epoch [469/1000]\n"
     ]
    },
    {
     "name": "stderr",
     "output_type": "stream",
     "text": [
      "100%|██████████| 60/60 [00:24<00:00,  2.45it/s, loss=8.58e-5]\n",
      "100%|██████████| 26/26 [00:16<00:00,  1.53it/s, val_loss=9.92e-5, SDR=0.966, R_ave=1.41]\n",
      "  0%|          | 0/60 [00:00<?, ?it/s]"
     ]
    },
    {
     "name": "stdout",
     "output_type": "stream",
     "text": [
      "loss 0.0001 - val_loss 0.0001 - SDR 0.9663 - R_ave 1.4146\n",
      "Epoch [470/1000]\n"
     ]
    },
    {
     "name": "stderr",
     "output_type": "stream",
     "text": [
      "100%|██████████| 60/60 [00:24<00:00,  2.42it/s, loss=8.71e-5]\n",
      "100%|██████████| 26/26 [00:16<00:00,  1.54it/s, val_loss=0.000126, SDR=0.958, R_ave=1.6] \n",
      "  0%|          | 0/60 [00:00<?, ?it/s]"
     ]
    },
    {
     "name": "stdout",
     "output_type": "stream",
     "text": [
      "loss 0.0001 - val_loss 0.0001 - SDR 0.9584 - R_ave 1.5951\n",
      "Epoch [471/1000]\n"
     ]
    },
    {
     "name": "stderr",
     "output_type": "stream",
     "text": [
      "100%|██████████| 60/60 [00:24<00:00,  2.45it/s, loss=8.54e-5]\n",
      "100%|██████████| 26/26 [00:16<00:00,  1.54it/s, val_loss=0.000111, SDR=0.963, R_ave=1.48]\n",
      "  0%|          | 0/60 [00:00<?, ?it/s]"
     ]
    },
    {
     "name": "stdout",
     "output_type": "stream",
     "text": [
      "loss 0.0001 - val_loss 0.0001 - SDR 0.9627 - R_ave 1.4809\n",
      "Epoch [472/1000]\n"
     ]
    },
    {
     "name": "stderr",
     "output_type": "stream",
     "text": [
      "100%|██████████| 60/60 [00:24<00:00,  2.47it/s, loss=8.73e-5]\n",
      "100%|██████████| 26/26 [00:17<00:00,  1.53it/s, val_loss=0.000103, SDR=0.967, R_ave=1.44]\n",
      "  0%|          | 0/60 [00:00<?, ?it/s]"
     ]
    },
    {
     "name": "stdout",
     "output_type": "stream",
     "text": [
      "loss 0.0001 - val_loss 0.0001 - SDR 0.9672 - R_ave 1.4428\n",
      "Epoch [473/1000]\n"
     ]
    },
    {
     "name": "stderr",
     "output_type": "stream",
     "text": [
      "100%|██████████| 60/60 [00:24<00:00,  2.43it/s, loss=9.03e-5]\n",
      "100%|██████████| 26/26 [00:16<00:00,  1.54it/s, val_loss=0.000114, SDR=0.963, R_ave=1.47]\n",
      "  0%|          | 0/60 [00:00<?, ?it/s]"
     ]
    },
    {
     "name": "stdout",
     "output_type": "stream",
     "text": [
      "loss 0.0001 - val_loss 0.0001 - SDR 0.9627 - R_ave 1.4685\n",
      "Epoch [474/1000]\n"
     ]
    },
    {
     "name": "stderr",
     "output_type": "stream",
     "text": [
      "100%|██████████| 60/60 [00:24<00:00,  2.47it/s, loss=8.86e-5]\n",
      "100%|██████████| 26/26 [00:16<00:00,  1.54it/s, val_loss=0.000103, SDR=0.965, R_ave=1.44]\n",
      "  0%|          | 0/60 [00:00<?, ?it/s]"
     ]
    },
    {
     "name": "stdout",
     "output_type": "stream",
     "text": [
      "loss 0.0001 - val_loss 0.0001 - SDR 0.9651 - R_ave 1.4431\n",
      "Epoch [475/1000]\n"
     ]
    },
    {
     "name": "stderr",
     "output_type": "stream",
     "text": [
      "100%|██████████| 60/60 [00:24<00:00,  2.46it/s, loss=8.92e-5]\n",
      "100%|██████████| 26/26 [00:17<00:00,  1.51it/s, val_loss=0.000107, SDR=0.961, R_ave=1.48]\n",
      "  0%|          | 0/60 [00:00<?, ?it/s]"
     ]
    },
    {
     "name": "stdout",
     "output_type": "stream",
     "text": [
      "loss 0.0001 - val_loss 0.0001 - SDR 0.9606 - R_ave 1.4768\n",
      "Epoch [476/1000]\n"
     ]
    },
    {
     "name": "stderr",
     "output_type": "stream",
     "text": [
      "100%|██████████| 60/60 [00:24<00:00,  2.42it/s, loss=8.64e-5]\n",
      "100%|██████████| 26/26 [00:16<00:00,  1.54it/s, val_loss=0.000138, SDR=0.949, R_ave=1.65]\n",
      "  0%|          | 0/60 [00:00<?, ?it/s]"
     ]
    },
    {
     "name": "stdout",
     "output_type": "stream",
     "text": [
      "loss 0.0001 - val_loss 0.0001 - SDR 0.9492 - R_ave 1.6464\n",
      "Epoch [477/1000]\n"
     ]
    },
    {
     "name": "stderr",
     "output_type": "stream",
     "text": [
      "100%|██████████| 60/60 [00:24<00:00,  2.46it/s, loss=8.76e-5]\n",
      "100%|██████████| 26/26 [00:16<00:00,  1.55it/s, val_loss=0.000139, SDR=0.947, R_ave=1.65]\n",
      "  0%|          | 0/60 [00:00<?, ?it/s]"
     ]
    },
    {
     "name": "stdout",
     "output_type": "stream",
     "text": [
      "loss 0.0001 - val_loss 0.0001 - SDR 0.9475 - R_ave 1.6478\n",
      "Epoch [478/1000]\n"
     ]
    },
    {
     "name": "stderr",
     "output_type": "stream",
     "text": [
      "100%|██████████| 60/60 [00:24<00:00,  2.46it/s, loss=8.76e-5]\n",
      "100%|██████████| 26/26 [00:17<00:00,  1.50it/s, val_loss=0.000114, SDR=0.96, R_ave=1.55] \n",
      "  0%|          | 0/60 [00:00<?, ?it/s]"
     ]
    },
    {
     "name": "stdout",
     "output_type": "stream",
     "text": [
      "loss 0.0001 - val_loss 0.0001 - SDR 0.9595 - R_ave 1.5482\n",
      "Epoch [479/1000]\n"
     ]
    },
    {
     "name": "stderr",
     "output_type": "stream",
     "text": [
      "100%|██████████| 60/60 [00:24<00:00,  2.43it/s, loss=8.91e-5]\n",
      "100%|██████████| 26/26 [00:16<00:00,  1.54it/s, val_loss=9.58e-5, SDR=0.969, R_ave=1.39]\n",
      "  0%|          | 0/60 [00:00<?, ?it/s]"
     ]
    },
    {
     "name": "stdout",
     "output_type": "stream",
     "text": [
      "loss 0.0001 - val_loss 0.0001 - SDR 0.9685 - R_ave 1.3867\n",
      "=> saved best model\n",
      "Epoch [480/1000]\n"
     ]
    },
    {
     "name": "stderr",
     "output_type": "stream",
     "text": [
      "100%|██████████| 60/60 [00:24<00:00,  2.44it/s, loss=8.39e-5]\n",
      "100%|██████████| 26/26 [00:17<00:00,  1.53it/s, val_loss=0.000121, SDR=0.958, R_ave=1.52]\n",
      "  0%|          | 0/60 [00:00<?, ?it/s]"
     ]
    },
    {
     "name": "stdout",
     "output_type": "stream",
     "text": [
      "loss 0.0001 - val_loss 0.0001 - SDR 0.9579 - R_ave 1.5153\n",
      "Epoch [481/1000]\n"
     ]
    },
    {
     "name": "stderr",
     "output_type": "stream",
     "text": [
      "100%|██████████| 60/60 [00:24<00:00,  2.45it/s, loss=8.4e-5] \n",
      "100%|██████████| 26/26 [00:17<00:00,  1.51it/s, val_loss=0.000105, SDR=0.967, R_ave=1.43]\n",
      "  0%|          | 0/60 [00:00<?, ?it/s]"
     ]
    },
    {
     "name": "stdout",
     "output_type": "stream",
     "text": [
      "loss 0.0001 - val_loss 0.0001 - SDR 0.9671 - R_ave 1.4336\n",
      "Epoch [482/1000]\n"
     ]
    },
    {
     "name": "stderr",
     "output_type": "stream",
     "text": [
      "100%|██████████| 60/60 [00:24<00:00,  2.46it/s, loss=8.64e-5]\n",
      "100%|██████████| 26/26 [00:16<00:00,  1.54it/s, val_loss=0.000206, SDR=0.935, R_ave=2.3] \n",
      "  0%|          | 0/60 [00:00<?, ?it/s]"
     ]
    },
    {
     "name": "stdout",
     "output_type": "stream",
     "text": [
      "loss 0.0001 - val_loss 0.0002 - SDR 0.9354 - R_ave 2.3012\n",
      "Epoch [483/1000]\n"
     ]
    },
    {
     "name": "stderr",
     "output_type": "stream",
     "text": [
      "100%|██████████| 60/60 [00:24<00:00,  2.46it/s, loss=8.96e-5]\n",
      "100%|██████████| 26/26 [00:16<00:00,  1.54it/s, val_loss=0.000114, SDR=0.962, R_ave=1.53]\n",
      "  0%|          | 0/60 [00:00<?, ?it/s]"
     ]
    },
    {
     "name": "stdout",
     "output_type": "stream",
     "text": [
      "loss 0.0001 - val_loss 0.0001 - SDR 0.9619 - R_ave 1.5318\n",
      "Epoch [484/1000]\n"
     ]
    },
    {
     "name": "stderr",
     "output_type": "stream",
     "text": [
      "100%|██████████| 60/60 [00:24<00:00,  2.44it/s, loss=9.3e-5] \n",
      "100%|██████████| 26/26 [00:17<00:00,  1.50it/s, val_loss=0.000165, SDR=0.947, R_ave=1.95]\n",
      "  0%|          | 0/60 [00:00<?, ?it/s]"
     ]
    },
    {
     "name": "stdout",
     "output_type": "stream",
     "text": [
      "loss 0.0001 - val_loss 0.0002 - SDR 0.9465 - R_ave 1.9527\n",
      "Epoch [485/1000]\n"
     ]
    },
    {
     "name": "stderr",
     "output_type": "stream",
     "text": [
      "100%|██████████| 60/60 [00:24<00:00,  2.45it/s, loss=8.99e-5]\n",
      "100%|██████████| 26/26 [00:16<00:00,  1.55it/s, val_loss=0.000154, SDR=0.946, R_ave=1.95]\n",
      "  0%|          | 0/60 [00:00<?, ?it/s]"
     ]
    },
    {
     "name": "stdout",
     "output_type": "stream",
     "text": [
      "loss 0.0001 - val_loss 0.0002 - SDR 0.9460 - R_ave 1.9454\n",
      "Epoch [486/1000]\n"
     ]
    },
    {
     "name": "stderr",
     "output_type": "stream",
     "text": [
      "100%|██████████| 60/60 [00:24<00:00,  2.46it/s, loss=8.56e-5]\n",
      "100%|██████████| 26/26 [00:16<00:00,  1.54it/s, val_loss=0.000125, SDR=0.964, R_ave=1.47]\n",
      "  0%|          | 0/60 [00:00<?, ?it/s]"
     ]
    },
    {
     "name": "stdout",
     "output_type": "stream",
     "text": [
      "loss 0.0001 - val_loss 0.0001 - SDR 0.9640 - R_ave 1.4748\n",
      "Epoch [487/1000]\n"
     ]
    },
    {
     "name": "stderr",
     "output_type": "stream",
     "text": [
      "100%|██████████| 60/60 [00:24<00:00,  2.45it/s, loss=8.68e-5]\n",
      "100%|██████████| 26/26 [00:17<00:00,  1.52it/s, val_loss=0.000111, SDR=0.96, R_ave=1.47] \n",
      "  0%|          | 0/60 [00:00<?, ?it/s]"
     ]
    },
    {
     "name": "stdout",
     "output_type": "stream",
     "text": [
      "loss 0.0001 - val_loss 0.0001 - SDR 0.9602 - R_ave 1.4705\n",
      "Epoch [488/1000]\n"
     ]
    },
    {
     "name": "stderr",
     "output_type": "stream",
     "text": [
      "100%|██████████| 60/60 [00:24<00:00,  2.46it/s, loss=8.83e-5]\n",
      "100%|██████████| 26/26 [00:16<00:00,  1.53it/s, val_loss=0.0001, SDR=0.964, R_ave=1.42] \n",
      "  0%|          | 0/60 [00:00<?, ?it/s]"
     ]
    },
    {
     "name": "stdout",
     "output_type": "stream",
     "text": [
      "loss 0.0001 - val_loss 0.0001 - SDR 0.9645 - R_ave 1.4215\n",
      "Epoch [489/1000]\n"
     ]
    },
    {
     "name": "stderr",
     "output_type": "stream",
     "text": [
      "100%|██████████| 60/60 [00:24<00:00,  2.46it/s, loss=8.4e-5] \n",
      "100%|██████████| 26/26 [00:16<00:00,  1.54it/s, val_loss=0.000102, SDR=0.966, R_ave=1.41]\n",
      "  0%|          | 0/60 [00:00<?, ?it/s]"
     ]
    },
    {
     "name": "stdout",
     "output_type": "stream",
     "text": [
      "loss 0.0001 - val_loss 0.0001 - SDR 0.9663 - R_ave 1.4054\n",
      "Epoch [490/1000]\n"
     ]
    },
    {
     "name": "stderr",
     "output_type": "stream",
     "text": [
      "100%|██████████| 60/60 [00:24<00:00,  2.44it/s, loss=8.54e-5]\n",
      "100%|██████████| 26/26 [00:17<00:00,  1.52it/s, val_loss=9.89e-5, SDR=0.968, R_ave=1.41]\n",
      "  0%|          | 0/60 [00:00<?, ?it/s]"
     ]
    },
    {
     "name": "stdout",
     "output_type": "stream",
     "text": [
      "loss 0.0001 - val_loss 0.0001 - SDR 0.9676 - R_ave 1.4070\n",
      "Epoch [491/1000]\n"
     ]
    },
    {
     "name": "stderr",
     "output_type": "stream",
     "text": [
      "100%|██████████| 60/60 [00:24<00:00,  2.46it/s, loss=8.36e-5]\n",
      "100%|██████████| 26/26 [00:16<00:00,  1.54it/s, val_loss=9.94e-5, SDR=0.967, R_ave=1.44]\n",
      "  0%|          | 0/60 [00:00<?, ?it/s]"
     ]
    },
    {
     "name": "stdout",
     "output_type": "stream",
     "text": [
      "loss 0.0001 - val_loss 0.0001 - SDR 0.9666 - R_ave 1.4419\n",
      "Epoch [492/1000]\n"
     ]
    },
    {
     "name": "stderr",
     "output_type": "stream",
     "text": [
      "100%|██████████| 60/60 [00:24<00:00,  2.46it/s, loss=8.42e-5]\n",
      "100%|██████████| 26/26 [00:16<00:00,  1.54it/s, val_loss=0.000106, SDR=0.963, R_ave=1.44]\n",
      "  0%|          | 0/60 [00:00<?, ?it/s]"
     ]
    },
    {
     "name": "stdout",
     "output_type": "stream",
     "text": [
      "loss 0.0001 - val_loss 0.0001 - SDR 0.9627 - R_ave 1.4442\n",
      "Epoch [493/1000]\n"
     ]
    },
    {
     "name": "stderr",
     "output_type": "stream",
     "text": [
      "100%|██████████| 60/60 [00:24<00:00,  2.43it/s, loss=8.63e-5]\n",
      "100%|██████████| 26/26 [00:16<00:00,  1.54it/s, val_loss=0.000127, SDR=0.959, R_ave=1.56]\n",
      "  0%|          | 0/60 [00:00<?, ?it/s]"
     ]
    },
    {
     "name": "stdout",
     "output_type": "stream",
     "text": [
      "loss 0.0001 - val_loss 0.0001 - SDR 0.9594 - R_ave 1.5570\n",
      "Epoch [494/1000]\n"
     ]
    },
    {
     "name": "stderr",
     "output_type": "stream",
     "text": [
      "100%|██████████| 60/60 [00:24<00:00,  2.46it/s, loss=8.49e-5]\n",
      "100%|██████████| 26/26 [00:16<00:00,  1.54it/s, val_loss=0.000107, SDR=0.964, R_ave=1.46]\n",
      "  0%|          | 0/60 [00:00<?, ?it/s]"
     ]
    },
    {
     "name": "stdout",
     "output_type": "stream",
     "text": [
      "loss 0.0001 - val_loss 0.0001 - SDR 0.9643 - R_ave 1.4559\n",
      "Epoch [495/1000]\n"
     ]
    },
    {
     "name": "stderr",
     "output_type": "stream",
     "text": [
      "100%|██████████| 60/60 [00:24<00:00,  2.45it/s, loss=8.71e-5]\n",
      "100%|██████████| 26/26 [00:17<00:00,  1.53it/s, val_loss=0.000121, SDR=0.954, R_ave=1.53]\n",
      "  0%|          | 0/60 [00:00<?, ?it/s]"
     ]
    },
    {
     "name": "stdout",
     "output_type": "stream",
     "text": [
      "loss 0.0001 - val_loss 0.0001 - SDR 0.9544 - R_ave 1.5285\n",
      "Epoch [496/1000]\n"
     ]
    },
    {
     "name": "stderr",
     "output_type": "stream",
     "text": [
      "100%|██████████| 60/60 [00:24<00:00,  2.42it/s, loss=8.5e-5]  \n",
      "100%|██████████| 26/26 [00:17<00:00,  1.50it/s, val_loss=0.00011, SDR=0.965, R_ave=1.48] \n",
      "  0%|          | 0/60 [00:00<?, ?it/s]"
     ]
    },
    {
     "name": "stdout",
     "output_type": "stream",
     "text": [
      "loss 0.0001 - val_loss 0.0001 - SDR 0.9647 - R_ave 1.4793\n",
      "Epoch [497/1000]\n"
     ]
    },
    {
     "name": "stderr",
     "output_type": "stream",
     "text": [
      "100%|██████████| 60/60 [00:24<00:00,  2.46it/s, loss=8.36e-5]\n",
      "100%|██████████| 26/26 [00:16<00:00,  1.55it/s, val_loss=0.000111, SDR=0.962, R_ave=1.46]\n",
      "  0%|          | 0/60 [00:00<?, ?it/s]"
     ]
    },
    {
     "name": "stdout",
     "output_type": "stream",
     "text": [
      "loss 0.0001 - val_loss 0.0001 - SDR 0.9621 - R_ave 1.4645\n",
      "Epoch [498/1000]\n"
     ]
    },
    {
     "name": "stderr",
     "output_type": "stream",
     "text": [
      "100%|██████████| 60/60 [00:24<00:00,  2.44it/s, loss=8.71e-5]\n",
      "100%|██████████| 26/26 [00:16<00:00,  1.54it/s, val_loss=0.000122, SDR=0.956, R_ave=1.57]\n",
      "  0%|          | 0/60 [00:00<?, ?it/s]"
     ]
    },
    {
     "name": "stdout",
     "output_type": "stream",
     "text": [
      "loss 0.0001 - val_loss 0.0001 - SDR 0.9555 - R_ave 1.5695\n",
      "Epoch [499/1000]\n"
     ]
    },
    {
     "name": "stderr",
     "output_type": "stream",
     "text": [
      "100%|██████████| 60/60 [00:24<00:00,  2.43it/s, loss=8.61e-5]\n",
      "100%|██████████| 26/26 [00:16<00:00,  1.55it/s, val_loss=0.000147, SDR=0.956, R_ave=1.66]\n",
      "  0%|          | 0/60 [00:00<?, ?it/s]"
     ]
    },
    {
     "name": "stdout",
     "output_type": "stream",
     "text": [
      "loss 0.0001 - val_loss 0.0001 - SDR 0.9558 - R_ave 1.6570\n",
      "Epoch [500/1000]\n"
     ]
    },
    {
     "name": "stderr",
     "output_type": "stream",
     "text": [
      "100%|██████████| 60/60 [00:24<00:00,  2.46it/s, loss=9.02e-5]\n",
      "100%|██████████| 26/26 [00:16<00:00,  1.53it/s, val_loss=0.000116, SDR=0.961, R_ave=1.5] \n",
      "  0%|          | 0/60 [00:00<?, ?it/s]"
     ]
    },
    {
     "name": "stdout",
     "output_type": "stream",
     "text": [
      "loss 0.0001 - val_loss 0.0001 - SDR 0.9608 - R_ave 1.4976\n",
      "Epoch [501/1000]\n"
     ]
    },
    {
     "name": "stderr",
     "output_type": "stream",
     "text": [
      "100%|██████████| 60/60 [00:24<00:00,  2.47it/s, loss=8.96e-5]\n",
      "100%|██████████| 26/26 [00:17<00:00,  1.53it/s, val_loss=0.000111, SDR=0.962, R_ave=1.49]\n",
      "  0%|          | 0/60 [00:00<?, ?it/s]"
     ]
    },
    {
     "name": "stdout",
     "output_type": "stream",
     "text": [
      "loss 0.0001 - val_loss 0.0001 - SDR 0.9622 - R_ave 1.4935\n",
      "Epoch [502/1000]\n"
     ]
    },
    {
     "name": "stderr",
     "output_type": "stream",
     "text": [
      "100%|██████████| 60/60 [00:24<00:00,  2.43it/s, loss=8.63e-5]\n",
      "100%|██████████| 26/26 [00:17<00:00,  1.53it/s, val_loss=0.000108, SDR=0.961, R_ave=1.45]\n",
      "  0%|          | 0/60 [00:00<?, ?it/s]"
     ]
    },
    {
     "name": "stdout",
     "output_type": "stream",
     "text": [
      "loss 0.0001 - val_loss 0.0001 - SDR 0.9613 - R_ave 1.4519\n",
      "Epoch [503/1000]\n"
     ]
    },
    {
     "name": "stderr",
     "output_type": "stream",
     "text": [
      "100%|██████████| 60/60 [00:24<00:00,  2.46it/s, loss=8.53e-5]\n",
      "100%|██████████| 26/26 [00:17<00:00,  1.52it/s, val_loss=0.000122, SDR=0.955, R_ave=1.54]\n",
      "  0%|          | 0/60 [00:00<?, ?it/s]"
     ]
    },
    {
     "name": "stdout",
     "output_type": "stream",
     "text": [
      "loss 0.0001 - val_loss 0.0001 - SDR 0.9553 - R_ave 1.5435\n",
      "Epoch [504/1000]\n"
     ]
    },
    {
     "name": "stderr",
     "output_type": "stream",
     "text": [
      "100%|██████████| 60/60 [00:24<00:00,  2.46it/s, loss=8.47e-5]\n",
      "100%|██████████| 26/26 [00:17<00:00,  1.51it/s, val_loss=0.0001, SDR=0.963, R_ave=1.45]  \n",
      "  0%|          | 0/60 [00:00<?, ?it/s]"
     ]
    },
    {
     "name": "stdout",
     "output_type": "stream",
     "text": [
      "loss 0.0001 - val_loss 0.0001 - SDR 0.9627 - R_ave 1.4451\n",
      "Epoch [505/1000]\n"
     ]
    },
    {
     "name": "stderr",
     "output_type": "stream",
     "text": [
      "100%|██████████| 60/60 [00:24<00:00,  2.43it/s, loss=8.68e-5]\n",
      "100%|██████████| 26/26 [00:16<00:00,  1.54it/s, val_loss=0.000107, SDR=0.962, R_ave=1.48]\n",
      "  0%|          | 0/60 [00:00<?, ?it/s]"
     ]
    },
    {
     "name": "stdout",
     "output_type": "stream",
     "text": [
      "loss 0.0001 - val_loss 0.0001 - SDR 0.9616 - R_ave 1.4756\n",
      "Epoch [506/1000]\n"
     ]
    },
    {
     "name": "stderr",
     "output_type": "stream",
     "text": [
      "100%|██████████| 60/60 [00:24<00:00,  2.46it/s, loss=8.72e-5]\n",
      "100%|██████████| 26/26 [00:16<00:00,  1.54it/s, val_loss=0.000108, SDR=0.963, R_ave=1.52]\n",
      "  0%|          | 0/60 [00:00<?, ?it/s]"
     ]
    },
    {
     "name": "stdout",
     "output_type": "stream",
     "text": [
      "loss 0.0001 - val_loss 0.0001 - SDR 0.9634 - R_ave 1.5150\n",
      "Epoch [507/1000]\n"
     ]
    },
    {
     "name": "stderr",
     "output_type": "stream",
     "text": [
      "100%|██████████| 60/60 [00:24<00:00,  2.45it/s, loss=8.92e-5]\n",
      "100%|██████████| 26/26 [00:17<00:00,  1.50it/s, val_loss=0.000121, SDR=0.958, R_ave=1.55]\n",
      "  0%|          | 0/60 [00:00<?, ?it/s]"
     ]
    },
    {
     "name": "stdout",
     "output_type": "stream",
     "text": [
      "loss 0.0001 - val_loss 0.0001 - SDR 0.9584 - R_ave 1.5455\n",
      "Epoch [508/1000]\n"
     ]
    },
    {
     "name": "stderr",
     "output_type": "stream",
     "text": [
      "100%|██████████| 60/60 [00:24<00:00,  2.43it/s, loss=8.5e-5] \n",
      "100%|██████████| 26/26 [00:16<00:00,  1.54it/s, val_loss=0.00014, SDR=0.952, R_ave=1.72] \n",
      "  0%|          | 0/60 [00:00<?, ?it/s]"
     ]
    },
    {
     "name": "stdout",
     "output_type": "stream",
     "text": [
      "loss 0.0001 - val_loss 0.0001 - SDR 0.9523 - R_ave 1.7246\n",
      "Epoch [509/1000]\n"
     ]
    },
    {
     "name": "stderr",
     "output_type": "stream",
     "text": [
      "100%|██████████| 60/60 [00:24<00:00,  2.46it/s, loss=8.45e-5]\n",
      "100%|██████████| 26/26 [00:17<00:00,  1.52it/s, val_loss=0.000111, SDR=0.965, R_ave=1.46]\n",
      "  0%|          | 0/60 [00:00<?, ?it/s]"
     ]
    },
    {
     "name": "stdout",
     "output_type": "stream",
     "text": [
      "loss 0.0001 - val_loss 0.0001 - SDR 0.9648 - R_ave 1.4583\n",
      "Epoch [510/1000]\n"
     ]
    },
    {
     "name": "stderr",
     "output_type": "stream",
     "text": [
      "100%|██████████| 60/60 [00:24<00:00,  2.47it/s, loss=8.4e-5] \n",
      "100%|██████████| 26/26 [00:17<00:00,  1.50it/s, val_loss=0.000115, SDR=0.959, R_ave=1.56]\n",
      "  0%|          | 0/60 [00:00<?, ?it/s]"
     ]
    },
    {
     "name": "stdout",
     "output_type": "stream",
     "text": [
      "loss 0.0001 - val_loss 0.0001 - SDR 0.9594 - R_ave 1.5580\n",
      "Epoch [511/1000]\n"
     ]
    },
    {
     "name": "stderr",
     "output_type": "stream",
     "text": [
      "100%|██████████| 60/60 [00:24<00:00,  2.45it/s, loss=8.39e-5]\n",
      "100%|██████████| 26/26 [00:16<00:00,  1.54it/s, val_loss=0.000133, SDR=0.953, R_ave=1.69]\n",
      "  0%|          | 0/60 [00:00<?, ?it/s]"
     ]
    },
    {
     "name": "stdout",
     "output_type": "stream",
     "text": [
      "loss 0.0001 - val_loss 0.0001 - SDR 0.9528 - R_ave 1.6903\n",
      "Epoch [512/1000]\n"
     ]
    },
    {
     "name": "stderr",
     "output_type": "stream",
     "text": [
      "100%|██████████| 60/60 [00:24<00:00,  2.46it/s, loss=8.25e-5]\n",
      "100%|██████████| 26/26 [00:16<00:00,  1.54it/s, val_loss=0.000121, SDR=0.954, R_ave=1.58]\n",
      "  0%|          | 0/60 [00:00<?, ?it/s]"
     ]
    },
    {
     "name": "stdout",
     "output_type": "stream",
     "text": [
      "loss 0.0001 - val_loss 0.0001 - SDR 0.9544 - R_ave 1.5769\n",
      "Epoch [513/1000]\n"
     ]
    },
    {
     "name": "stderr",
     "output_type": "stream",
     "text": [
      "100%|██████████| 60/60 [00:24<00:00,  2.45it/s, loss=8.45e-5]\n",
      "100%|██████████| 26/26 [00:17<00:00,  1.51it/s, val_loss=0.000122, SDR=0.964, R_ave=1.49]\n",
      "  0%|          | 0/60 [00:00<?, ?it/s]"
     ]
    },
    {
     "name": "stdout",
     "output_type": "stream",
     "text": [
      "loss 0.0001 - val_loss 0.0001 - SDR 0.9645 - R_ave 1.4893\n",
      "Epoch [514/1000]\n"
     ]
    },
    {
     "name": "stderr",
     "output_type": "stream",
     "text": [
      "100%|██████████| 60/60 [00:24<00:00,  2.46it/s, loss=8.39e-5]\n",
      "100%|██████████| 26/26 [00:16<00:00,  1.54it/s, val_loss=9.61e-5, SDR=0.968, R_ave=1.4] \n",
      "  0%|          | 0/60 [00:00<?, ?it/s]"
     ]
    },
    {
     "name": "stdout",
     "output_type": "stream",
     "text": [
      "loss 0.0001 - val_loss 0.0001 - SDR 0.9679 - R_ave 1.3976\n",
      "Epoch [515/1000]\n"
     ]
    },
    {
     "name": "stderr",
     "output_type": "stream",
     "text": [
      "100%|██████████| 60/60 [00:24<00:00,  2.46it/s, loss=8.23e-5]\n",
      "100%|██████████| 26/26 [00:16<00:00,  1.54it/s, val_loss=0.000115, SDR=0.959, R_ave=1.51]\n",
      "  0%|          | 0/60 [00:00<?, ?it/s]"
     ]
    },
    {
     "name": "stdout",
     "output_type": "stream",
     "text": [
      "loss 0.0001 - val_loss 0.0001 - SDR 0.9587 - R_ave 1.5109\n",
      "Epoch [516/1000]\n"
     ]
    },
    {
     "name": "stderr",
     "output_type": "stream",
     "text": [
      "100%|██████████| 60/60 [00:24<00:00,  2.44it/s, loss=8.51e-5]\n",
      "100%|██████████| 26/26 [00:17<00:00,  1.51it/s, val_loss=0.000107, SDR=0.964, R_ave=1.47]\n"
     ]
    },
    {
     "name": "stdout",
     "output_type": "stream",
     "text": [
      "loss 0.0001 - val_loss 0.0001 - SDR 0.9643 - R_ave 1.4683\n"
     ]
    },
    {
     "name": "stderr",
     "output_type": "stream",
     "text": [
      "\r",
      "  0%|          | 0/60 [00:00<?, ?it/s]"
     ]
    },
    {
     "name": "stdout",
     "output_type": "stream",
     "text": [
      "Epoch [517/1000]\n"
     ]
    },
    {
     "name": "stderr",
     "output_type": "stream",
     "text": [
      "100%|██████████| 60/60 [00:24<00:00,  2.46it/s, loss=8.33e-5]\n",
      "100%|██████████| 26/26 [00:16<00:00,  1.54it/s, val_loss=0.000101, SDR=0.964, R_ave=1.44]\n",
      "  0%|          | 0/60 [00:00<?, ?it/s]"
     ]
    },
    {
     "name": "stdout",
     "output_type": "stream",
     "text": [
      "loss 0.0001 - val_loss 0.0001 - SDR 0.9643 - R_ave 1.4430\n",
      "Epoch [518/1000]\n"
     ]
    },
    {
     "name": "stderr",
     "output_type": "stream",
     "text": [
      "100%|██████████| 60/60 [00:24<00:00,  2.46it/s, loss=8.39e-5]\n",
      "100%|██████████| 26/26 [00:16<00:00,  1.54it/s, val_loss=9.63e-5, SDR=0.966, R_ave=1.4] \n",
      "  0%|          | 0/60 [00:00<?, ?it/s]"
     ]
    },
    {
     "name": "stdout",
     "output_type": "stream",
     "text": [
      "loss 0.0001 - val_loss 0.0001 - SDR 0.9664 - R_ave 1.4000\n",
      "Epoch [519/1000]\n"
     ]
    },
    {
     "name": "stderr",
     "output_type": "stream",
     "text": [
      "100%|██████████| 60/60 [00:24<00:00,  2.42it/s, loss=8.48e-5]\n",
      "100%|██████████| 26/26 [00:17<00:00,  1.52it/s, val_loss=0.000118, SDR=0.963, R_ave=1.54]\n",
      "  0%|          | 0/60 [00:00<?, ?it/s]"
     ]
    },
    {
     "name": "stdout",
     "output_type": "stream",
     "text": [
      "loss 0.0001 - val_loss 0.0001 - SDR 0.9626 - R_ave 1.5378\n",
      "Epoch [520/1000]\n"
     ]
    },
    {
     "name": "stderr",
     "output_type": "stream",
     "text": [
      "100%|██████████| 60/60 [00:24<00:00,  2.46it/s, loss=8.42e-5]\n",
      "100%|██████████| 26/26 [00:16<00:00,  1.54it/s, val_loss=0.000104, SDR=0.966, R_ave=1.45]\n",
      "  0%|          | 0/60 [00:00<?, ?it/s]"
     ]
    },
    {
     "name": "stdout",
     "output_type": "stream",
     "text": [
      "loss 0.0001 - val_loss 0.0001 - SDR 0.9663 - R_ave 1.4457\n",
      "Epoch [521/1000]\n"
     ]
    },
    {
     "name": "stderr",
     "output_type": "stream",
     "text": [
      "100%|██████████| 60/60 [00:24<00:00,  2.46it/s, loss=8.42e-5]\n",
      "100%|██████████| 26/26 [00:16<00:00,  1.54it/s, val_loss=9.86e-5, SDR=0.966, R_ave=1.42]\n",
      "  0%|          | 0/60 [00:00<?, ?it/s]"
     ]
    },
    {
     "name": "stdout",
     "output_type": "stream",
     "text": [
      "loss 0.0001 - val_loss 0.0001 - SDR 0.9664 - R_ave 1.4228\n",
      "Epoch [522/1000]\n"
     ]
    },
    {
     "name": "stderr",
     "output_type": "stream",
     "text": [
      "100%|██████████| 60/60 [00:24<00:00,  2.42it/s, loss=9.25e-5]\n",
      "100%|██████████| 26/26 [00:16<00:00,  1.54it/s, val_loss=0.000134, SDR=0.959, R_ave=1.59]\n",
      "  0%|          | 0/60 [00:00<?, ?it/s]"
     ]
    },
    {
     "name": "stdout",
     "output_type": "stream",
     "text": [
      "loss 0.0001 - val_loss 0.0001 - SDR 0.9592 - R_ave 1.5948\n",
      "Epoch [523/1000]\n"
     ]
    },
    {
     "name": "stderr",
     "output_type": "stream",
     "text": [
      "100%|██████████| 60/60 [00:24<00:00,  2.45it/s, loss=8.81e-5]\n",
      "100%|██████████| 26/26 [00:16<00:00,  1.55it/s, val_loss=0.000151, SDR=0.955, R_ave=1.66]\n",
      "  0%|          | 0/60 [00:00<?, ?it/s]"
     ]
    },
    {
     "name": "stdout",
     "output_type": "stream",
     "text": [
      "loss 0.0001 - val_loss 0.0002 - SDR 0.9545 - R_ave 1.6649\n",
      "Epoch [524/1000]\n"
     ]
    },
    {
     "name": "stderr",
     "output_type": "stream",
     "text": [
      "100%|██████████| 60/60 [00:24<00:00,  2.45it/s, loss=8.29e-5]\n",
      "100%|██████████| 26/26 [00:16<00:00,  1.53it/s, val_loss=0.000129, SDR=0.955, R_ave=1.57]\n",
      "  0%|          | 0/60 [00:00<?, ?it/s]"
     ]
    },
    {
     "name": "stdout",
     "output_type": "stream",
     "text": [
      "loss 0.0001 - val_loss 0.0001 - SDR 0.9545 - R_ave 1.5740\n",
      "Epoch [525/1000]\n"
     ]
    },
    {
     "name": "stderr",
     "output_type": "stream",
     "text": [
      "100%|██████████| 60/60 [00:24<00:00,  2.44it/s, loss=8.36e-5]\n",
      "100%|██████████| 26/26 [00:16<00:00,  1.53it/s, val_loss=0.000178, SDR=0.938, R_ave=2.05]\n",
      "  0%|          | 0/60 [00:00<?, ?it/s]"
     ]
    },
    {
     "name": "stdout",
     "output_type": "stream",
     "text": [
      "loss 0.0001 - val_loss 0.0002 - SDR 0.9382 - R_ave 2.0485\n",
      "Epoch [526/1000]\n"
     ]
    },
    {
     "name": "stderr",
     "output_type": "stream",
     "text": [
      "100%|██████████| 60/60 [00:24<00:00,  2.46it/s, loss=8.25e-5]\n",
      "100%|██████████| 26/26 [00:16<00:00,  1.54it/s, val_loss=0.000111, SDR=0.962, R_ave=1.49]\n",
      "  0%|          | 0/60 [00:00<?, ?it/s]"
     ]
    },
    {
     "name": "stdout",
     "output_type": "stream",
     "text": [
      "loss 0.0001 - val_loss 0.0001 - SDR 0.9618 - R_ave 1.4883\n",
      "Epoch [527/1000]\n"
     ]
    },
    {
     "name": "stderr",
     "output_type": "stream",
     "text": [
      "100%|██████████| 60/60 [00:24<00:00,  2.46it/s, loss=8.38e-5]\n",
      "100%|██████████| 26/26 [00:17<00:00,  1.52it/s, val_loss=0.000154, SDR=0.955, R_ave=1.91]\n",
      "  0%|          | 0/60 [00:00<?, ?it/s]"
     ]
    },
    {
     "name": "stdout",
     "output_type": "stream",
     "text": [
      "loss 0.0001 - val_loss 0.0002 - SDR 0.9550 - R_ave 1.9108\n",
      "Epoch [528/1000]\n"
     ]
    },
    {
     "name": "stderr",
     "output_type": "stream",
     "text": [
      "100%|██████████| 60/60 [00:24<00:00,  2.43it/s, loss=8.34e-5]\n",
      "100%|██████████| 26/26 [00:16<00:00,  1.54it/s, val_loss=0.000111, SDR=0.964, R_ave=1.48]\n",
      "  0%|          | 0/60 [00:00<?, ?it/s]"
     ]
    },
    {
     "name": "stdout",
     "output_type": "stream",
     "text": [
      "loss 0.0001 - val_loss 0.0001 - SDR 0.9635 - R_ave 1.4800\n",
      "Epoch [529/1000]\n"
     ]
    },
    {
     "name": "stderr",
     "output_type": "stream",
     "text": [
      "100%|██████████| 60/60 [00:24<00:00,  2.47it/s, loss=8.39e-5]\n",
      "100%|██████████| 26/26 [00:16<00:00,  1.54it/s, val_loss=0.000107, SDR=0.962, R_ave=1.45]\n",
      "  0%|          | 0/60 [00:00<?, ?it/s]"
     ]
    },
    {
     "name": "stdout",
     "output_type": "stream",
     "text": [
      "loss 0.0001 - val_loss 0.0001 - SDR 0.9621 - R_ave 1.4512\n",
      "Epoch [530/1000]\n"
     ]
    },
    {
     "name": "stderr",
     "output_type": "stream",
     "text": [
      "100%|██████████| 60/60 [00:24<00:00,  2.45it/s, loss=8.38e-5]\n",
      "100%|██████████| 26/26 [00:17<00:00,  1.51it/s, val_loss=0.000173, SDR=0.942, R_ave=2.12]\n",
      "  0%|          | 0/60 [00:00<?, ?it/s]"
     ]
    },
    {
     "name": "stdout",
     "output_type": "stream",
     "text": [
      "loss 0.0001 - val_loss 0.0002 - SDR 0.9415 - R_ave 2.1191\n",
      "Epoch [531/1000]\n"
     ]
    },
    {
     "name": "stderr",
     "output_type": "stream",
     "text": [
      "100%|██████████| 60/60 [00:24<00:00,  2.44it/s, loss=8.62e-5]\n",
      "100%|██████████| 26/26 [00:16<00:00,  1.54it/s, val_loss=0.000122, SDR=0.961, R_ave=1.46]\n",
      "  0%|          | 0/60 [00:00<?, ?it/s]"
     ]
    },
    {
     "name": "stdout",
     "output_type": "stream",
     "text": [
      "loss 0.0001 - val_loss 0.0001 - SDR 0.9610 - R_ave 1.4592\n",
      "Epoch [532/1000]\n"
     ]
    },
    {
     "name": "stderr",
     "output_type": "stream",
     "text": [
      "100%|██████████| 60/60 [00:24<00:00,  2.47it/s, loss=8.6e-5] \n",
      "100%|██████████| 26/26 [00:16<00:00,  1.54it/s, val_loss=0.000108, SDR=0.966, R_ave=1.47]\n",
      "  0%|          | 0/60 [00:00<?, ?it/s]"
     ]
    },
    {
     "name": "stdout",
     "output_type": "stream",
     "text": [
      "loss 0.0001 - val_loss 0.0001 - SDR 0.9663 - R_ave 1.4727\n",
      "Epoch [533/1000]\n"
     ]
    },
    {
     "name": "stderr",
     "output_type": "stream",
     "text": [
      "100%|██████████| 60/60 [00:24<00:00,  2.46it/s, loss=8.69e-5]\n",
      "100%|██████████| 26/26 [00:21<00:00,  1.20it/s, val_loss=0.000104, SDR=0.966, R_ave=1.44]\n",
      "  0%|          | 0/60 [00:00<?, ?it/s]"
     ]
    },
    {
     "name": "stdout",
     "output_type": "stream",
     "text": [
      "loss 0.0001 - val_loss 0.0001 - SDR 0.9658 - R_ave 1.4441\n",
      "Epoch [534/1000]\n"
     ]
    },
    {
     "name": "stderr",
     "output_type": "stream",
     "text": [
      "100%|██████████| 60/60 [00:24<00:00,  2.44it/s, loss=8.3e-5] \n",
      "100%|██████████| 26/26 [00:16<00:00,  1.54it/s, val_loss=9.97e-5, SDR=0.968, R_ave=1.41]\n",
      "  0%|          | 0/60 [00:00<?, ?it/s]"
     ]
    },
    {
     "name": "stdout",
     "output_type": "stream",
     "text": [
      "loss 0.0001 - val_loss 0.0001 - SDR 0.9679 - R_ave 1.4148\n",
      "Epoch [535/1000]\n"
     ]
    },
    {
     "name": "stderr",
     "output_type": "stream",
     "text": [
      "100%|██████████| 60/60 [00:24<00:00,  2.46it/s, loss=8.41e-5]\n",
      "100%|██████████| 26/26 [00:16<00:00,  1.54it/s, val_loss=0.000112, SDR=0.963, R_ave=1.44]\n",
      "  0%|          | 0/60 [00:00<?, ?it/s]"
     ]
    },
    {
     "name": "stdout",
     "output_type": "stream",
     "text": [
      "loss 0.0001 - val_loss 0.0001 - SDR 0.9631 - R_ave 1.4365\n",
      "Epoch [536/1000]\n"
     ]
    },
    {
     "name": "stderr",
     "output_type": "stream",
     "text": [
      "100%|██████████| 60/60 [00:24<00:00,  2.45it/s, loss=8.34e-5]\n",
      "100%|██████████| 26/26 [00:17<00:00,  1.50it/s, val_loss=0.000102, SDR=0.965, R_ave=1.42]\n",
      "  0%|          | 0/60 [00:00<?, ?it/s]"
     ]
    },
    {
     "name": "stdout",
     "output_type": "stream",
     "text": [
      "loss 0.0001 - val_loss 0.0001 - SDR 0.9655 - R_ave 1.4202\n",
      "Epoch [537/1000]\n"
     ]
    },
    {
     "name": "stderr",
     "output_type": "stream",
     "text": [
      "100%|██████████| 60/60 [00:24<00:00,  2.46it/s, loss=8.32e-5]\n",
      "100%|██████████| 26/26 [00:16<00:00,  1.54it/s, val_loss=9.78e-5, SDR=0.966, R_ave=1.43]\n",
      "  0%|          | 0/60 [00:00<?, ?it/s]"
     ]
    },
    {
     "name": "stdout",
     "output_type": "stream",
     "text": [
      "loss 0.0001 - val_loss 0.0001 - SDR 0.9663 - R_ave 1.4330\n",
      "Epoch [538/1000]\n"
     ]
    },
    {
     "name": "stderr",
     "output_type": "stream",
     "text": [
      "100%|██████████| 60/60 [00:24<00:00,  2.46it/s, loss=8.48e-5]\n",
      "100%|██████████| 26/26 [00:18<00:00,  1.41it/s, val_loss=0.000254, SDR=0.912, R_ave=2.96]\n",
      "  0%|          | 0/60 [00:00<?, ?it/s]"
     ]
    },
    {
     "name": "stdout",
     "output_type": "stream",
     "text": [
      "loss 0.0001 - val_loss 0.0003 - SDR 0.9120 - R_ave 2.9611\n",
      "Epoch [539/1000]\n"
     ]
    },
    {
     "name": "stderr",
     "output_type": "stream",
     "text": [
      "100%|██████████| 60/60 [00:24<00:00,  2.42it/s, loss=8.33e-5]\n",
      "100%|██████████| 26/26 [00:17<00:00,  1.52it/s, val_loss=9.57e-5, SDR=0.967, R_ave=1.41]\n",
      "  0%|          | 0/60 [00:00<?, ?it/s]"
     ]
    },
    {
     "name": "stdout",
     "output_type": "stream",
     "text": [
      "loss 0.0001 - val_loss 0.0001 - SDR 0.9667 - R_ave 1.4100\n",
      "Epoch [540/1000]\n"
     ]
    },
    {
     "name": "stderr",
     "output_type": "stream",
     "text": [
      "100%|██████████| 60/60 [00:24<00:00,  2.45it/s, loss=8.51e-5]\n",
      "100%|██████████| 26/26 [00:16<00:00,  1.54it/s, val_loss=0.000115, SDR=0.959, R_ave=1.54]\n",
      "  0%|          | 0/60 [00:00<?, ?it/s]"
     ]
    },
    {
     "name": "stdout",
     "output_type": "stream",
     "text": [
      "loss 0.0001 - val_loss 0.0001 - SDR 0.9587 - R_ave 1.5426\n",
      "Epoch [541/1000]\n"
     ]
    },
    {
     "name": "stderr",
     "output_type": "stream",
     "text": [
      "100%|██████████| 60/60 [00:24<00:00,  2.46it/s, loss=8.4e-5] \n",
      "100%|██████████| 26/26 [00:16<00:00,  1.54it/s, val_loss=0.00014, SDR=0.949, R_ave=1.69] \n",
      "  0%|          | 0/60 [00:00<?, ?it/s]"
     ]
    },
    {
     "name": "stdout",
     "output_type": "stream",
     "text": [
      "loss 0.0001 - val_loss 0.0001 - SDR 0.9486 - R_ave 1.6866\n",
      "Epoch [542/1000]\n"
     ]
    },
    {
     "name": "stderr",
     "output_type": "stream",
     "text": [
      "100%|██████████| 60/60 [00:24<00:00,  2.43it/s, loss=8.49e-5]\n",
      "100%|██████████| 26/26 [00:16<00:00,  1.53it/s, val_loss=0.000124, SDR=0.959, R_ave=1.57]\n",
      "  0%|          | 0/60 [00:00<?, ?it/s]"
     ]
    },
    {
     "name": "stdout",
     "output_type": "stream",
     "text": [
      "loss 0.0001 - val_loss 0.0001 - SDR 0.9586 - R_ave 1.5746\n",
      "Epoch [543/1000]\n"
     ]
    },
    {
     "name": "stderr",
     "output_type": "stream",
     "text": [
      "100%|██████████| 60/60 [00:24<00:00,  2.45it/s, loss=8.17e-5]\n",
      "100%|██████████| 26/26 [00:16<00:00,  1.54it/s, val_loss=0.000112, SDR=0.963, R_ave=1.53]\n",
      "  0%|          | 0/60 [00:00<?, ?it/s]"
     ]
    },
    {
     "name": "stdout",
     "output_type": "stream",
     "text": [
      "loss 0.0001 - val_loss 0.0001 - SDR 0.9626 - R_ave 1.5333\n",
      "Epoch [544/1000]\n"
     ]
    },
    {
     "name": "stderr",
     "output_type": "stream",
     "text": [
      "100%|██████████| 60/60 [00:24<00:00,  2.46it/s, loss=8.26e-5]\n",
      "100%|██████████| 26/26 [00:16<00:00,  1.54it/s, val_loss=9.65e-5, SDR=0.968, R_ave=1.41]\n",
      "  0%|          | 0/60 [00:00<?, ?it/s]"
     ]
    },
    {
     "name": "stdout",
     "output_type": "stream",
     "text": [
      "loss 0.0001 - val_loss 0.0001 - SDR 0.9682 - R_ave 1.4111\n",
      "Epoch [545/1000]\n"
     ]
    },
    {
     "name": "stderr",
     "output_type": "stream",
     "text": [
      "100%|██████████| 60/60 [00:24<00:00,  2.43it/s, loss=8.39e-5]\n",
      "100%|██████████| 26/26 [00:16<00:00,  1.54it/s, val_loss=0.000105, SDR=0.963, R_ave=1.42]\n",
      "  0%|          | 0/60 [00:00<?, ?it/s]"
     ]
    },
    {
     "name": "stdout",
     "output_type": "stream",
     "text": [
      "loss 0.0001 - val_loss 0.0001 - SDR 0.9627 - R_ave 1.4244\n",
      "Epoch [546/1000]\n"
     ]
    },
    {
     "name": "stderr",
     "output_type": "stream",
     "text": [
      "100%|██████████| 60/60 [00:24<00:00,  2.45it/s, loss=8.63e-5]\n",
      "100%|██████████| 26/26 [00:16<00:00,  1.55it/s, val_loss=0.000133, SDR=0.955, R_ave=1.59]\n",
      "  0%|          | 0/60 [00:00<?, ?it/s]"
     ]
    },
    {
     "name": "stdout",
     "output_type": "stream",
     "text": [
      "loss 0.0001 - val_loss 0.0001 - SDR 0.9550 - R_ave 1.5866\n",
      "Epoch [547/1000]\n"
     ]
    },
    {
     "name": "stderr",
     "output_type": "stream",
     "text": [
      "100%|██████████| 60/60 [00:24<00:00,  2.46it/s, loss=8.28e-5]\n",
      "100%|██████████| 26/26 [00:16<00:00,  1.53it/s, val_loss=9.88e-5, SDR=0.965, R_ave=1.41]\n",
      "  0%|          | 0/60 [00:00<?, ?it/s]"
     ]
    },
    {
     "name": "stdout",
     "output_type": "stream",
     "text": [
      "loss 0.0001 - val_loss 0.0001 - SDR 0.9648 - R_ave 1.4060\n",
      "Epoch [548/1000]\n"
     ]
    },
    {
     "name": "stderr",
     "output_type": "stream",
     "text": [
      "100%|██████████| 60/60 [00:24<00:00,  2.43it/s, loss=8.14e-5]\n",
      "100%|██████████| 26/26 [00:16<00:00,  1.54it/s, val_loss=0.000107, SDR=0.963, R_ave=1.48]\n",
      "  0%|          | 0/60 [00:00<?, ?it/s]"
     ]
    },
    {
     "name": "stdout",
     "output_type": "stream",
     "text": [
      "loss 0.0001 - val_loss 0.0001 - SDR 0.9629 - R_ave 1.4841\n",
      "Epoch [549/1000]\n"
     ]
    },
    {
     "name": "stderr",
     "output_type": "stream",
     "text": [
      "100%|██████████| 60/60 [00:24<00:00,  2.46it/s, loss=8.23e-5]\n",
      "100%|██████████| 26/26 [00:16<00:00,  1.54it/s, val_loss=9.82e-5, SDR=0.966, R_ave=1.39]\n",
      "  0%|          | 0/60 [00:00<?, ?it/s]"
     ]
    },
    {
     "name": "stdout",
     "output_type": "stream",
     "text": [
      "loss 0.0001 - val_loss 0.0001 - SDR 0.9663 - R_ave 1.3891\n",
      "Epoch [550/1000]\n"
     ]
    },
    {
     "name": "stderr",
     "output_type": "stream",
     "text": [
      "100%|██████████| 60/60 [00:24<00:00,  2.46it/s, loss=8.25e-5]\n",
      "100%|██████████| 26/26 [00:17<00:00,  1.52it/s, val_loss=0.000137, SDR=0.953, R_ave=1.68]\n",
      "  0%|          | 0/60 [00:00<?, ?it/s]"
     ]
    },
    {
     "name": "stdout",
     "output_type": "stream",
     "text": [
      "loss 0.0001 - val_loss 0.0001 - SDR 0.9533 - R_ave 1.6786\n",
      "Epoch [551/1000]\n"
     ]
    },
    {
     "name": "stderr",
     "output_type": "stream",
     "text": [
      "100%|██████████| 60/60 [00:24<00:00,  2.42it/s, loss=8.32e-5]\n",
      "100%|██████████| 26/26 [00:16<00:00,  1.54it/s, val_loss=0.000115, SDR=0.96, R_ave=1.53] \n",
      "  0%|          | 0/60 [00:00<?, ?it/s]"
     ]
    },
    {
     "name": "stdout",
     "output_type": "stream",
     "text": [
      "loss 0.0001 - val_loss 0.0001 - SDR 0.9603 - R_ave 1.5330\n",
      "Epoch [552/1000]\n"
     ]
    },
    {
     "name": "stderr",
     "output_type": "stream",
     "text": [
      "100%|██████████| 60/60 [00:24<00:00,  2.46it/s, loss=8.56e-5]\n",
      "100%|██████████| 26/26 [00:16<00:00,  1.54it/s, val_loss=0.000131, SDR=0.957, R_ave=1.6] \n",
      "  0%|          | 0/60 [00:00<?, ?it/s]"
     ]
    },
    {
     "name": "stdout",
     "output_type": "stream",
     "text": [
      "loss 0.0001 - val_loss 0.0001 - SDR 0.9569 - R_ave 1.5979\n",
      "Epoch [553/1000]\n"
     ]
    },
    {
     "name": "stderr",
     "output_type": "stream",
     "text": [
      "100%|██████████| 60/60 [00:24<00:00,  2.46it/s, loss=8.29e-5]\n",
      "100%|██████████| 26/26 [00:17<00:00,  1.53it/s, val_loss=0.000109, SDR=0.964, R_ave=1.45]\n",
      "  0%|          | 0/60 [00:00<?, ?it/s]"
     ]
    },
    {
     "name": "stdout",
     "output_type": "stream",
     "text": [
      "loss 0.0001 - val_loss 0.0001 - SDR 0.9635 - R_ave 1.4454\n",
      "Epoch [554/1000]\n"
     ]
    },
    {
     "name": "stderr",
     "output_type": "stream",
     "text": [
      "100%|██████████| 60/60 [00:24<00:00,  2.43it/s, loss=8.12e-5]\n",
      "100%|██████████| 26/26 [00:17<00:00,  1.50it/s, val_loss=0.000106, SDR=0.966, R_ave=1.46]\n",
      "  0%|          | 0/60 [00:00<?, ?it/s]"
     ]
    },
    {
     "name": "stdout",
     "output_type": "stream",
     "text": [
      "loss 0.0001 - val_loss 0.0001 - SDR 0.9663 - R_ave 1.4579\n",
      "Epoch [555/1000]\n"
     ]
    },
    {
     "name": "stderr",
     "output_type": "stream",
     "text": [
      "100%|██████████| 60/60 [00:24<00:00,  2.47it/s, loss=8.28e-5]\n",
      "100%|██████████| 26/26 [00:16<00:00,  1.54it/s, val_loss=0.000101, SDR=0.965, R_ave=1.43]\n",
      "  0%|          | 0/60 [00:00<?, ?it/s]"
     ]
    },
    {
     "name": "stdout",
     "output_type": "stream",
     "text": [
      "loss 0.0001 - val_loss 0.0001 - SDR 0.9648 - R_ave 1.4339\n",
      "Epoch [556/1000]\n"
     ]
    },
    {
     "name": "stderr",
     "output_type": "stream",
     "text": [
      "100%|██████████| 60/60 [00:24<00:00,  2.45it/s, loss=8.38e-5]\n",
      "100%|██████████| 26/26 [00:17<00:00,  1.48it/s, val_loss=0.000102, SDR=0.966, R_ave=1.43]\n",
      "  0%|          | 0/60 [00:00<?, ?it/s]"
     ]
    },
    {
     "name": "stdout",
     "output_type": "stream",
     "text": [
      "loss 0.0001 - val_loss 0.0001 - SDR 0.9663 - R_ave 1.4337\n",
      "Epoch [557/1000]\n"
     ]
    },
    {
     "name": "stderr",
     "output_type": "stream",
     "text": [
      "100%|██████████| 60/60 [00:24<00:00,  2.44it/s, loss=8.26e-5]\n",
      "100%|██████████| 26/26 [00:16<00:00,  1.54it/s, val_loss=0.000159, SDR=0.965, R_ave=1.49]\n",
      "  0%|          | 0/60 [00:00<?, ?it/s]"
     ]
    },
    {
     "name": "stdout",
     "output_type": "stream",
     "text": [
      "loss 0.0001 - val_loss 0.0002 - SDR 0.9651 - R_ave 1.4949\n",
      "Epoch [558/1000]\n"
     ]
    },
    {
     "name": "stderr",
     "output_type": "stream",
     "text": [
      "100%|██████████| 60/60 [00:24<00:00,  2.46it/s, loss=8e-5]   \n",
      "100%|██████████| 26/26 [00:16<00:00,  1.54it/s, val_loss=0.00011, SDR=0.965, R_ave=1.45] \n",
      "  0%|          | 0/60 [00:00<?, ?it/s]"
     ]
    },
    {
     "name": "stdout",
     "output_type": "stream",
     "text": [
      "loss 0.0001 - val_loss 0.0001 - SDR 0.9651 - R_ave 1.4476\n",
      "Epoch [559/1000]\n"
     ]
    },
    {
     "name": "stderr",
     "output_type": "stream",
     "text": [
      "100%|██████████| 60/60 [00:24<00:00,  2.46it/s, loss=8.25e-5]\n",
      "100%|██████████| 26/26 [00:17<00:00,  1.50it/s, val_loss=0.000121, SDR=0.952, R_ave=1.56]\n",
      "  0%|          | 0/60 [00:00<?, ?it/s]"
     ]
    },
    {
     "name": "stdout",
     "output_type": "stream",
     "text": [
      "loss 0.0001 - val_loss 0.0001 - SDR 0.9516 - R_ave 1.5635\n",
      "Epoch [560/1000]\n"
     ]
    },
    {
     "name": "stderr",
     "output_type": "stream",
     "text": [
      "100%|██████████| 60/60 [00:24<00:00,  2.44it/s, loss=8.07e-5]\n",
      "100%|██████████| 26/26 [00:16<00:00,  1.54it/s, val_loss=9.5e-5, SDR=0.967, R_ave=1.38] \n",
      "  0%|          | 0/60 [00:00<?, ?it/s]"
     ]
    },
    {
     "name": "stdout",
     "output_type": "stream",
     "text": [
      "loss 0.0001 - val_loss 0.0001 - SDR 0.9667 - R_ave 1.3837\n",
      "=> saved best model\n",
      "Epoch [561/1000]\n"
     ]
    },
    {
     "name": "stderr",
     "output_type": "stream",
     "text": [
      "100%|██████████| 60/60 [00:24<00:00,  2.44it/s, loss=8.54e-5]\n",
      "100%|██████████| 26/26 [00:17<00:00,  1.53it/s, val_loss=0.000159, SDR=0.954, R_ave=1.74]\n",
      "  0%|          | 0/60 [00:00<?, ?it/s]"
     ]
    },
    {
     "name": "stdout",
     "output_type": "stream",
     "text": [
      "loss 0.0001 - val_loss 0.0002 - SDR 0.9539 - R_ave 1.7413\n",
      "Epoch [562/1000]\n"
     ]
    },
    {
     "name": "stderr",
     "output_type": "stream",
     "text": [
      "100%|██████████| 60/60 [00:24<00:00,  2.46it/s, loss=8.65e-5]\n",
      "100%|██████████| 26/26 [00:17<00:00,  1.51it/s, val_loss=0.000106, SDR=0.964, R_ave=1.48]\n",
      "  0%|          | 0/60 [00:00<?, ?it/s]"
     ]
    },
    {
     "name": "stdout",
     "output_type": "stream",
     "text": [
      "loss 0.0001 - val_loss 0.0001 - SDR 0.9640 - R_ave 1.4840\n",
      "Epoch [563/1000]\n"
     ]
    },
    {
     "name": "stderr",
     "output_type": "stream",
     "text": [
      "100%|██████████| 60/60 [00:24<00:00,  2.45it/s, loss=8.33e-5]\n",
      "100%|██████████| 26/26 [00:16<00:00,  1.54it/s, val_loss=0.000104, SDR=0.965, R_ave=1.43]\n",
      "  0%|          | 0/60 [00:00<?, ?it/s]"
     ]
    },
    {
     "name": "stdout",
     "output_type": "stream",
     "text": [
      "loss 0.0001 - val_loss 0.0001 - SDR 0.9655 - R_ave 1.4316\n",
      "Epoch [564/1000]\n"
     ]
    },
    {
     "name": "stderr",
     "output_type": "stream",
     "text": [
      "100%|██████████| 60/60 [00:24<00:00,  2.46it/s, loss=8.39e-5]\n",
      "100%|██████████| 26/26 [00:16<00:00,  1.54it/s, val_loss=0.000115, SDR=0.955, R_ave=1.51]\n",
      "  0%|          | 0/60 [00:00<?, ?it/s]"
     ]
    },
    {
     "name": "stdout",
     "output_type": "stream",
     "text": [
      "loss 0.0001 - val_loss 0.0001 - SDR 0.9549 - R_ave 1.5135\n",
      "Epoch [565/1000]\n"
     ]
    },
    {
     "name": "stderr",
     "output_type": "stream",
     "text": [
      "100%|██████████| 60/60 [00:24<00:00,  2.45it/s, loss=8.15e-5]\n",
      "100%|██████████| 26/26 [00:17<00:00,  1.51it/s, val_loss=0.000103, SDR=0.966, R_ave=1.43]\n",
      "  0%|          | 0/60 [00:00<?, ?it/s]"
     ]
    },
    {
     "name": "stdout",
     "output_type": "stream",
     "text": [
      "loss 0.0001 - val_loss 0.0001 - SDR 0.9658 - R_ave 1.4331\n",
      "Epoch [566/1000]\n"
     ]
    },
    {
     "name": "stderr",
     "output_type": "stream",
     "text": [
      "100%|██████████| 60/60 [00:24<00:00,  2.46it/s, loss=8.17e-5]\n",
      "100%|██████████| 26/26 [00:16<00:00,  1.54it/s, val_loss=0.000107, SDR=0.96, R_ave=1.47] \n",
      "  0%|          | 0/60 [00:00<?, ?it/s]"
     ]
    },
    {
     "name": "stdout",
     "output_type": "stream",
     "text": [
      "loss 0.0001 - val_loss 0.0001 - SDR 0.9602 - R_ave 1.4734\n",
      "Epoch [567/1000]\n"
     ]
    },
    {
     "name": "stderr",
     "output_type": "stream",
     "text": [
      "100%|██████████| 60/60 [00:24<00:00,  2.45it/s, loss=8.19e-5]\n",
      "100%|██████████| 26/26 [00:16<00:00,  1.54it/s, val_loss=9.46e-5, SDR=0.969, R_ave=1.39]\n",
      "  0%|          | 0/60 [00:00<?, ?it/s]"
     ]
    },
    {
     "name": "stdout",
     "output_type": "stream",
     "text": [
      "loss 0.0001 - val_loss 0.0001 - SDR 0.9693 - R_ave 1.3932\n",
      "Epoch [568/1000]\n"
     ]
    },
    {
     "name": "stderr",
     "output_type": "stream",
     "text": [
      "100%|██████████| 60/60 [00:24<00:00,  2.43it/s, loss=7.85e-5]\n",
      "100%|██████████| 26/26 [00:17<00:00,  1.53it/s, val_loss=0.000104, SDR=0.966, R_ave=1.44]\n",
      "  0%|          | 0/60 [00:00<?, ?it/s]"
     ]
    },
    {
     "name": "stdout",
     "output_type": "stream",
     "text": [
      "loss 0.0001 - val_loss 0.0001 - SDR 0.9663 - R_ave 1.4367\n",
      "Epoch [569/1000]\n"
     ]
    },
    {
     "name": "stderr",
     "output_type": "stream",
     "text": [
      "100%|██████████| 60/60 [00:24<00:00,  2.46it/s, loss=8.13e-5]\n",
      "100%|██████████| 26/26 [00:16<00:00,  1.53it/s, val_loss=0.000105, SDR=0.965, R_ave=1.45]\n",
      "  0%|          | 0/60 [00:00<?, ?it/s]"
     ]
    },
    {
     "name": "stdout",
     "output_type": "stream",
     "text": [
      "loss 0.0001 - val_loss 0.0001 - SDR 0.9651 - R_ave 1.4473\n",
      "Epoch [570/1000]\n"
     ]
    },
    {
     "name": "stderr",
     "output_type": "stream",
     "text": [
      "100%|██████████| 60/60 [00:24<00:00,  2.46it/s, loss=8.05e-5]\n",
      "100%|██████████| 26/26 [00:16<00:00,  1.54it/s, val_loss=0.000109, SDR=0.961, R_ave=1.49]\n",
      "  0%|          | 0/60 [00:00<?, ?it/s]"
     ]
    },
    {
     "name": "stdout",
     "output_type": "stream",
     "text": [
      "loss 0.0001 - val_loss 0.0001 - SDR 0.9608 - R_ave 1.4943\n",
      "Epoch [571/1000]\n"
     ]
    },
    {
     "name": "stderr",
     "output_type": "stream",
     "text": [
      "100%|██████████| 60/60 [00:24<00:00,  2.44it/s, loss=8.46e-5]\n",
      "100%|██████████| 26/26 [00:16<00:00,  1.53it/s, val_loss=0.000104, SDR=0.967, R_ave=1.42]\n",
      "  0%|          | 0/60 [00:00<?, ?it/s]"
     ]
    },
    {
     "name": "stdout",
     "output_type": "stream",
     "text": [
      "loss 0.0001 - val_loss 0.0001 - SDR 0.9669 - R_ave 1.4241\n",
      "Epoch [572/1000]\n"
     ]
    },
    {
     "name": "stderr",
     "output_type": "stream",
     "text": [
      "100%|██████████| 60/60 [00:24<00:00,  2.45it/s, loss=8.14e-5]\n",
      "100%|██████████| 26/26 [00:16<00:00,  1.54it/s, val_loss=0.000108, SDR=0.964, R_ave=1.46]\n",
      "  0%|          | 0/60 [00:00<?, ?it/s]"
     ]
    },
    {
     "name": "stdout",
     "output_type": "stream",
     "text": [
      "loss 0.0001 - val_loss 0.0001 - SDR 0.9643 - R_ave 1.4567\n",
      "Epoch [573/1000]\n"
     ]
    },
    {
     "name": "stderr",
     "output_type": "stream",
     "text": [
      "100%|██████████| 60/60 [00:24<00:00,  2.47it/s, loss=8.3e-5] \n",
      "100%|██████████| 26/26 [00:16<00:00,  1.53it/s, val_loss=0.000112, SDR=0.962, R_ave=1.51]\n",
      "  0%|          | 0/60 [00:00<?, ?it/s]"
     ]
    },
    {
     "name": "stdout",
     "output_type": "stream",
     "text": [
      "loss 0.0001 - val_loss 0.0001 - SDR 0.9619 - R_ave 1.5059\n",
      "Epoch [574/1000]\n"
     ]
    },
    {
     "name": "stderr",
     "output_type": "stream",
     "text": [
      "100%|██████████| 60/60 [00:24<00:00,  2.44it/s, loss=8.14e-5]\n",
      "100%|██████████| 26/26 [00:16<00:00,  1.54it/s, val_loss=0.000114, SDR=0.962, R_ave=1.48]\n",
      "  0%|          | 0/60 [00:00<?, ?it/s]"
     ]
    },
    {
     "name": "stdout",
     "output_type": "stream",
     "text": [
      "loss 0.0001 - val_loss 0.0001 - SDR 0.9624 - R_ave 1.4764\n",
      "Epoch [575/1000]\n"
     ]
    },
    {
     "name": "stderr",
     "output_type": "stream",
     "text": [
      "100%|██████████| 60/60 [00:24<00:00,  2.46it/s, loss=8.34e-5]\n",
      "100%|██████████| 26/26 [00:16<00:00,  1.55it/s, val_loss=0.000108, SDR=0.965, R_ave=1.45]\n",
      "  0%|          | 0/60 [00:00<?, ?it/s]"
     ]
    },
    {
     "name": "stdout",
     "output_type": "stream",
     "text": [
      "loss 0.0001 - val_loss 0.0001 - SDR 0.9650 - R_ave 1.4454\n",
      "Epoch [576/1000]\n"
     ]
    },
    {
     "name": "stderr",
     "output_type": "stream",
     "text": [
      "100%|██████████| 60/60 [00:24<00:00,  2.46it/s, loss=8.56e-5]\n",
      "100%|██████████| 26/26 [00:16<00:00,  1.53it/s, val_loss=9.94e-5, SDR=0.966, R_ave=1.42]\n",
      "  0%|          | 0/60 [00:00<?, ?it/s]"
     ]
    },
    {
     "name": "stdout",
     "output_type": "stream",
     "text": [
      "loss 0.0001 - val_loss 0.0001 - SDR 0.9659 - R_ave 1.4211\n",
      "Epoch [577/1000]\n"
     ]
    },
    {
     "name": "stderr",
     "output_type": "stream",
     "text": [
      "100%|██████████| 60/60 [00:24<00:00,  2.41it/s, loss=8.39e-5]\n",
      "100%|██████████| 26/26 [00:16<00:00,  1.54it/s, val_loss=9.92e-5, SDR=0.967, R_ave=1.42]\n",
      "  0%|          | 0/60 [00:00<?, ?it/s]"
     ]
    },
    {
     "name": "stdout",
     "output_type": "stream",
     "text": [
      "loss 0.0001 - val_loss 0.0001 - SDR 0.9671 - R_ave 1.4190\n",
      "Epoch [578/1000]\n"
     ]
    },
    {
     "name": "stderr",
     "output_type": "stream",
     "text": [
      "100%|██████████| 60/60 [00:24<00:00,  2.44it/s, loss=8.32e-5]\n",
      "100%|██████████| 26/26 [00:16<00:00,  1.54it/s, val_loss=0.000124, SDR=0.956, R_ave=1.61]\n",
      "  0%|          | 0/60 [00:00<?, ?it/s]"
     ]
    },
    {
     "name": "stdout",
     "output_type": "stream",
     "text": [
      "loss 0.0001 - val_loss 0.0001 - SDR 0.9561 - R_ave 1.6054\n",
      "Epoch [579/1000]\n"
     ]
    },
    {
     "name": "stderr",
     "output_type": "stream",
     "text": [
      "100%|██████████| 60/60 [00:24<00:00,  2.46it/s, loss=8.25e-5]\n",
      "100%|██████████| 26/26 [00:17<00:00,  1.51it/s, val_loss=9.68e-5, SDR=0.966, R_ave=1.4] \n",
      "  0%|          | 0/60 [00:00<?, ?it/s]"
     ]
    },
    {
     "name": "stdout",
     "output_type": "stream",
     "text": [
      "loss 0.0001 - val_loss 0.0001 - SDR 0.9659 - R_ave 1.3973\n",
      "Epoch [580/1000]\n"
     ]
    },
    {
     "name": "stderr",
     "output_type": "stream",
     "text": [
      "100%|██████████| 60/60 [00:24<00:00,  2.43it/s, loss=8.12e-5]\n",
      "100%|██████████| 26/26 [00:17<00:00,  1.53it/s, val_loss=9.49e-5, SDR=0.968, R_ave=1.4] \n",
      "  0%|          | 0/60 [00:00<?, ?it/s]"
     ]
    },
    {
     "name": "stdout",
     "output_type": "stream",
     "text": [
      "loss 0.0001 - val_loss 0.0001 - SDR 0.9680 - R_ave 1.4024\n",
      "Epoch [581/1000]\n"
     ]
    },
    {
     "name": "stderr",
     "output_type": "stream",
     "text": [
      "100%|██████████| 60/60 [00:24<00:00,  2.46it/s, loss=8.06e-5]\n",
      "100%|██████████| 26/26 [00:16<00:00,  1.54it/s, val_loss=9.86e-5, SDR=0.966, R_ave=1.42]\n",
      "  0%|          | 0/60 [00:00<?, ?it/s]"
     ]
    },
    {
     "name": "stdout",
     "output_type": "stream",
     "text": [
      "loss 0.0001 - val_loss 0.0001 - SDR 0.9658 - R_ave 1.4227\n",
      "Epoch [582/1000]\n"
     ]
    },
    {
     "name": "stderr",
     "output_type": "stream",
     "text": [
      "100%|██████████| 60/60 [00:24<00:00,  2.46it/s, loss=7.92e-5]\n",
      "100%|██████████| 26/26 [00:17<00:00,  1.51it/s, val_loss=9.55e-5, SDR=0.966, R_ave=1.4] \n",
      "  0%|          | 0/60 [00:00<?, ?it/s]"
     ]
    },
    {
     "name": "stdout",
     "output_type": "stream",
     "text": [
      "loss 0.0001 - val_loss 0.0001 - SDR 0.9661 - R_ave 1.4050\n",
      "Epoch [583/1000]\n"
     ]
    },
    {
     "name": "stderr",
     "output_type": "stream",
     "text": [
      "100%|██████████| 60/60 [00:24<00:00,  2.44it/s, loss=8.13e-5]\n",
      "100%|██████████| 26/26 [00:16<00:00,  1.54it/s, val_loss=0.000102, SDR=0.962, R_ave=1.42]\n",
      "  0%|          | 0/60 [00:00<?, ?it/s]"
     ]
    },
    {
     "name": "stdout",
     "output_type": "stream",
     "text": [
      "loss 0.0001 - val_loss 0.0001 - SDR 0.9622 - R_ave 1.4170\n",
      "Epoch [584/1000]\n"
     ]
    },
    {
     "name": "stderr",
     "output_type": "stream",
     "text": [
      "100%|██████████| 60/60 [00:24<00:00,  2.47it/s, loss=8.21e-5]\n",
      "100%|██████████| 26/26 [00:16<00:00,  1.54it/s, val_loss=0.000113, SDR=0.965, R_ave=1.51]\n",
      "  0%|          | 0/60 [00:00<?, ?it/s]"
     ]
    },
    {
     "name": "stdout",
     "output_type": "stream",
     "text": [
      "loss 0.0001 - val_loss 0.0001 - SDR 0.9653 - R_ave 1.5092\n",
      "Epoch [585/1000]\n"
     ]
    },
    {
     "name": "stderr",
     "output_type": "stream",
     "text": [
      "100%|██████████| 60/60 [00:24<00:00,  2.45it/s, loss=8.37e-5]\n",
      "100%|██████████| 26/26 [00:17<00:00,  1.51it/s, val_loss=0.000102, SDR=0.964, R_ave=1.43]\n",
      "  0%|          | 0/60 [00:00<?, ?it/s]"
     ]
    },
    {
     "name": "stdout",
     "output_type": "stream",
     "text": [
      "loss 0.0001 - val_loss 0.0001 - SDR 0.9640 - R_ave 1.4346\n",
      "Epoch [586/1000]\n"
     ]
    },
    {
     "name": "stderr",
     "output_type": "stream",
     "text": [
      "100%|██████████| 60/60 [00:24<00:00,  2.45it/s, loss=7.85e-5]\n",
      "100%|██████████| 26/26 [00:16<00:00,  1.54it/s, val_loss=0.000106, SDR=0.962, R_ave=1.46]\n",
      "  0%|          | 0/60 [00:00<?, ?it/s]"
     ]
    },
    {
     "name": "stdout",
     "output_type": "stream",
     "text": [
      "loss 0.0001 - val_loss 0.0001 - SDR 0.9619 - R_ave 1.4557\n",
      "Epoch [587/1000]\n"
     ]
    },
    {
     "name": "stderr",
     "output_type": "stream",
     "text": [
      "100%|██████████| 60/60 [00:24<00:00,  2.46it/s, loss=8.1e-5] \n",
      "100%|██████████| 26/26 [00:16<00:00,  1.54it/s, val_loss=0.000122, SDR=0.956, R_ave=1.56]\n",
      "  0%|          | 0/60 [00:00<?, ?it/s]"
     ]
    },
    {
     "name": "stdout",
     "output_type": "stream",
     "text": [
      "loss 0.0001 - val_loss 0.0001 - SDR 0.9555 - R_ave 1.5615\n",
      "Epoch [588/1000]\n"
     ]
    },
    {
     "name": "stderr",
     "output_type": "stream",
     "text": [
      "100%|██████████| 60/60 [00:24<00:00,  2.45it/s, loss=8.06e-5]\n",
      "100%|██████████| 26/26 [00:17<00:00,  1.51it/s, val_loss=9.89e-5, SDR=0.965, R_ave=1.42]\n",
      "  0%|          | 0/60 [00:00<?, ?it/s]"
     ]
    },
    {
     "name": "stdout",
     "output_type": "stream",
     "text": [
      "loss 0.0001 - val_loss 0.0001 - SDR 0.9651 - R_ave 1.4168\n",
      "Epoch [589/1000]\n"
     ]
    },
    {
     "name": "stderr",
     "output_type": "stream",
     "text": [
      "100%|██████████| 60/60 [00:24<00:00,  2.45it/s, loss=8.1e-5] \n",
      "100%|██████████| 26/26 [00:16<00:00,  1.54it/s, val_loss=0.000101, SDR=0.966, R_ave=1.42]\n",
      "  0%|          | 0/60 [00:00<?, ?it/s]"
     ]
    },
    {
     "name": "stdout",
     "output_type": "stream",
     "text": [
      "loss 0.0001 - val_loss 0.0001 - SDR 0.9659 - R_ave 1.4237\n",
      "Epoch [590/1000]\n"
     ]
    },
    {
     "name": "stderr",
     "output_type": "stream",
     "text": [
      "100%|██████████| 60/60 [00:24<00:00,  2.47it/s, loss=8e-5]   \n",
      "100%|██████████| 26/26 [00:16<00:00,  1.54it/s, val_loss=0.000102, SDR=0.965, R_ave=1.49]\n",
      "  0%|          | 0/60 [00:00<?, ?it/s]"
     ]
    },
    {
     "name": "stdout",
     "output_type": "stream",
     "text": [
      "loss 0.0001 - val_loss 0.0001 - SDR 0.9653 - R_ave 1.4928\n",
      "Epoch [591/1000]\n"
     ]
    },
    {
     "name": "stderr",
     "output_type": "stream",
     "text": [
      "100%|██████████| 60/60 [00:24<00:00,  2.46it/s, loss=7.76e-5]\n",
      "100%|██████████| 26/26 [00:17<00:00,  1.51it/s, val_loss=0.000105, SDR=0.967, R_ave=1.45]\n",
      "  0%|          | 0/60 [00:00<?, ?it/s]"
     ]
    },
    {
     "name": "stdout",
     "output_type": "stream",
     "text": [
      "loss 0.0001 - val_loss 0.0001 - SDR 0.9671 - R_ave 1.4481\n",
      "Epoch [592/1000]\n"
     ]
    },
    {
     "name": "stderr",
     "output_type": "stream",
     "text": [
      "100%|██████████| 60/60 [00:24<00:00,  2.46it/s, loss=8.18e-5]\n",
      "100%|██████████| 26/26 [00:16<00:00,  1.54it/s, val_loss=9.49e-5, SDR=0.967, R_ave=1.39]\n",
      "  0%|          | 0/60 [00:00<?, ?it/s]"
     ]
    },
    {
     "name": "stdout",
     "output_type": "stream",
     "text": [
      "loss 0.0001 - val_loss 0.0001 - SDR 0.9674 - R_ave 1.3870\n",
      "Epoch [593/1000]\n"
     ]
    },
    {
     "name": "stderr",
     "output_type": "stream",
     "text": [
      "100%|██████████| 60/60 [00:24<00:00,  2.44it/s, loss=8e-5]   \n",
      "100%|██████████| 26/26 [00:16<00:00,  1.54it/s, val_loss=9.87e-5, SDR=0.968, R_ave=1.42]\n",
      "  0%|          | 0/60 [00:00<?, ?it/s]"
     ]
    },
    {
     "name": "stdout",
     "output_type": "stream",
     "text": [
      "loss 0.0001 - val_loss 0.0001 - SDR 0.9676 - R_ave 1.4205\n",
      "Epoch [594/1000]\n"
     ]
    },
    {
     "name": "stderr",
     "output_type": "stream",
     "text": [
      "100%|██████████| 60/60 [00:24<00:00,  2.43it/s, loss=8.05e-5]\n",
      "100%|██████████| 26/26 [00:17<00:00,  1.50it/s, val_loss=9.64e-5, SDR=0.965, R_ave=1.39]\n",
      "  0%|          | 0/60 [00:00<?, ?it/s]"
     ]
    },
    {
     "name": "stdout",
     "output_type": "stream",
     "text": [
      "loss 0.0001 - val_loss 0.0001 - SDR 0.9650 - R_ave 1.3919\n",
      "Epoch [595/1000]\n"
     ]
    },
    {
     "name": "stderr",
     "output_type": "stream",
     "text": [
      "100%|██████████| 60/60 [00:24<00:00,  2.44it/s, loss=7.91e-5]\n",
      "100%|██████████| 26/26 [00:16<00:00,  1.54it/s, val_loss=0.0001, SDR=0.964, R_ave=1.43]  \n",
      "  0%|          | 0/60 [00:00<?, ?it/s]"
     ]
    },
    {
     "name": "stdout",
     "output_type": "stream",
     "text": [
      "loss 0.0001 - val_loss 0.0001 - SDR 0.9639 - R_ave 1.4252\n",
      "Epoch [596/1000]\n"
     ]
    },
    {
     "name": "stderr",
     "output_type": "stream",
     "text": [
      "100%|██████████| 60/60 [00:24<00:00,  2.42it/s, loss=7.76e-5]\n",
      "100%|██████████| 26/26 [00:16<00:00,  1.54it/s, val_loss=9.93e-5, SDR=0.967, R_ave=1.42]\n",
      "  0%|          | 0/60 [00:00<?, ?it/s]"
     ]
    },
    {
     "name": "stdout",
     "output_type": "stream",
     "text": [
      "loss 0.0001 - val_loss 0.0001 - SDR 0.9674 - R_ave 1.4243\n",
      "Epoch [597/1000]\n"
     ]
    },
    {
     "name": "stderr",
     "output_type": "stream",
     "text": [
      "100%|██████████| 60/60 [00:24<00:00,  2.42it/s, loss=8e-5]   \n",
      "100%|██████████| 26/26 [00:16<00:00,  1.53it/s, val_loss=0.000104, SDR=0.965, R_ave=1.47]\n",
      "  0%|          | 0/60 [00:00<?, ?it/s]"
     ]
    },
    {
     "name": "stdout",
     "output_type": "stream",
     "text": [
      "loss 0.0001 - val_loss 0.0001 - SDR 0.9651 - R_ave 1.4702\n",
      "Epoch [598/1000]\n"
     ]
    },
    {
     "name": "stderr",
     "output_type": "stream",
     "text": [
      "100%|██████████| 60/60 [00:24<00:00,  2.46it/s, loss=7.91e-5]\n",
      "100%|██████████| 26/26 [00:16<00:00,  1.54it/s, val_loss=0.00011, SDR=0.963, R_ave=1.44] \n",
      "  0%|          | 0/60 [00:00<?, ?it/s]"
     ]
    },
    {
     "name": "stdout",
     "output_type": "stream",
     "text": [
      "loss 0.0001 - val_loss 0.0001 - SDR 0.9626 - R_ave 1.4409\n",
      "Epoch [599/1000]\n"
     ]
    },
    {
     "name": "stderr",
     "output_type": "stream",
     "text": [
      "100%|██████████| 60/60 [00:24<00:00,  2.46it/s, loss=8.1e-5] \n",
      "100%|██████████| 26/26 [00:16<00:00,  1.54it/s, val_loss=9.8e-5, SDR=0.968, R_ave=1.4]  \n",
      "  0%|          | 0/60 [00:00<?, ?it/s]"
     ]
    },
    {
     "name": "stdout",
     "output_type": "stream",
     "text": [
      "loss 0.0001 - val_loss 0.0001 - SDR 0.9676 - R_ave 1.4026\n",
      "Epoch [600/1000]\n"
     ]
    },
    {
     "name": "stderr",
     "output_type": "stream",
     "text": [
      "100%|██████████| 60/60 [00:24<00:00,  2.43it/s, loss=8.12e-5]\n",
      "100%|██████████| 26/26 [00:16<00:00,  1.54it/s, val_loss=0.000105, SDR=0.968, R_ave=1.41]\n",
      "  0%|          | 0/60 [00:00<?, ?it/s]"
     ]
    },
    {
     "name": "stdout",
     "output_type": "stream",
     "text": [
      "loss 0.0001 - val_loss 0.0001 - SDR 0.9680 - R_ave 1.4052\n",
      "Epoch [601/1000]\n"
     ]
    },
    {
     "name": "stderr",
     "output_type": "stream",
     "text": [
      "100%|██████████| 60/60 [00:24<00:00,  2.46it/s, loss=7.96e-5]\n",
      "100%|██████████| 26/26 [00:16<00:00,  1.54it/s, val_loss=9.83e-5, SDR=0.968, R_ave=1.4] \n",
      "  0%|          | 0/60 [00:00<?, ?it/s]"
     ]
    },
    {
     "name": "stdout",
     "output_type": "stream",
     "text": [
      "loss 0.0001 - val_loss 0.0001 - SDR 0.9680 - R_ave 1.3960\n",
      "Epoch [602/1000]\n"
     ]
    },
    {
     "name": "stderr",
     "output_type": "stream",
     "text": [
      "100%|██████████| 60/60 [00:24<00:00,  2.46it/s, loss=8.15e-5]\n",
      "100%|██████████| 26/26 [00:17<00:00,  1.53it/s, val_loss=9.47e-5, SDR=0.968, R_ave=1.4] \n",
      "  0%|          | 0/60 [00:00<?, ?it/s]"
     ]
    },
    {
     "name": "stdout",
     "output_type": "stream",
     "text": [
      "loss 0.0001 - val_loss 0.0001 - SDR 0.9680 - R_ave 1.3964\n",
      "Epoch [603/1000]\n"
     ]
    },
    {
     "name": "stderr",
     "output_type": "stream",
     "text": [
      "100%|██████████| 60/60 [00:24<00:00,  2.43it/s, loss=8e-5]   \n",
      "100%|██████████| 26/26 [00:16<00:00,  1.54it/s, val_loss=0.000108, SDR=0.962, R_ave=1.48]\n",
      "  0%|          | 0/60 [00:00<?, ?it/s]"
     ]
    },
    {
     "name": "stdout",
     "output_type": "stream",
     "text": [
      "loss 0.0001 - val_loss 0.0001 - SDR 0.9624 - R_ave 1.4764\n",
      "Epoch [604/1000]\n"
     ]
    },
    {
     "name": "stderr",
     "output_type": "stream",
     "text": [
      "100%|██████████| 60/60 [00:24<00:00,  2.45it/s, loss=7.9e-5] \n",
      "100%|██████████| 26/26 [00:16<00:00,  1.54it/s, val_loss=0.000102, SDR=0.965, R_ave=1.44]\n",
      "  0%|          | 0/60 [00:00<?, ?it/s]"
     ]
    },
    {
     "name": "stdout",
     "output_type": "stream",
     "text": [
      "loss 0.0001 - val_loss 0.0001 - SDR 0.9650 - R_ave 1.4355\n",
      "Epoch [605/1000]\n"
     ]
    },
    {
     "name": "stderr",
     "output_type": "stream",
     "text": [
      "100%|██████████| 60/60 [00:24<00:00,  2.46it/s, loss=8e-5]   \n",
      "100%|██████████| 26/26 [00:17<00:00,  1.52it/s, val_loss=9.66e-5, SDR=0.968, R_ave=1.41]\n",
      "  0%|          | 0/60 [00:00<?, ?it/s]"
     ]
    },
    {
     "name": "stdout",
     "output_type": "stream",
     "text": [
      "loss 0.0001 - val_loss 0.0001 - SDR 0.9676 - R_ave 1.4064\n",
      "Epoch [606/1000]\n"
     ]
    },
    {
     "name": "stderr",
     "output_type": "stream",
     "text": [
      "100%|██████████| 60/60 [00:24<00:00,  2.43it/s, loss=8.18e-5]\n",
      "100%|██████████| 26/26 [00:16<00:00,  1.54it/s, val_loss=0.000117, SDR=0.96, R_ave=1.51] \n",
      "  0%|          | 0/60 [00:00<?, ?it/s]"
     ]
    },
    {
     "name": "stdout",
     "output_type": "stream",
     "text": [
      "loss 0.0001 - val_loss 0.0001 - SDR 0.9603 - R_ave 1.5114\n",
      "Epoch [607/1000]\n"
     ]
    },
    {
     "name": "stderr",
     "output_type": "stream",
     "text": [
      "100%|██████████| 60/60 [00:24<00:00,  2.46it/s, loss=8.07e-5]\n",
      "100%|██████████| 26/26 [00:16<00:00,  1.54it/s, val_loss=0.000119, SDR=0.96, R_ave=1.57] \n",
      "  0%|          | 0/60 [00:00<?, ?it/s]"
     ]
    },
    {
     "name": "stdout",
     "output_type": "stream",
     "text": [
      "loss 0.0001 - val_loss 0.0001 - SDR 0.9600 - R_ave 1.5722\n",
      "Epoch [608/1000]\n"
     ]
    },
    {
     "name": "stderr",
     "output_type": "stream",
     "text": [
      "100%|██████████| 60/60 [00:24<00:00,  2.45it/s, loss=8.14e-5]\n",
      "100%|██████████| 26/26 [00:17<00:00,  1.50it/s, val_loss=9.58e-5, SDR=0.969, R_ave=1.39]\n",
      "  0%|          | 0/60 [00:00<?, ?it/s]"
     ]
    },
    {
     "name": "stdout",
     "output_type": "stream",
     "text": [
      "loss 0.0001 - val_loss 0.0001 - SDR 0.9692 - R_ave 1.3937\n",
      "Epoch [609/1000]\n"
     ]
    },
    {
     "name": "stderr",
     "output_type": "stream",
     "text": [
      "100%|██████████| 60/60 [00:24<00:00,  2.44it/s, loss=8.21e-5]\n",
      "100%|██████████| 26/26 [00:16<00:00,  1.54it/s, val_loss=0.000104, SDR=0.964, R_ave=1.43]\n",
      "  0%|          | 0/60 [00:00<?, ?it/s]"
     ]
    },
    {
     "name": "stdout",
     "output_type": "stream",
     "text": [
      "loss 0.0001 - val_loss 0.0001 - SDR 0.9639 - R_ave 1.4303\n",
      "Epoch [610/1000]\n"
     ]
    },
    {
     "name": "stderr",
     "output_type": "stream",
     "text": [
      "100%|██████████| 60/60 [00:24<00:00,  2.46it/s, loss=7.99e-5]\n",
      "100%|██████████| 26/26 [00:16<00:00,  1.55it/s, val_loss=0.000101, SDR=0.967, R_ave=1.43]\n",
      "  0%|          | 0/60 [00:00<?, ?it/s]"
     ]
    },
    {
     "name": "stdout",
     "output_type": "stream",
     "text": [
      "loss 0.0001 - val_loss 0.0001 - SDR 0.9674 - R_ave 1.4256\n",
      "Epoch [611/1000]\n"
     ]
    },
    {
     "name": "stderr",
     "output_type": "stream",
     "text": [
      "100%|██████████| 60/60 [00:24<00:00,  2.46it/s, loss=7.86e-5]\n",
      "100%|██████████| 26/26 [00:17<00:00,  1.50it/s, val_loss=9.43e-5, SDR=0.968, R_ave=1.41]\n",
      "  0%|          | 0/60 [00:00<?, ?it/s]"
     ]
    },
    {
     "name": "stdout",
     "output_type": "stream",
     "text": [
      "loss 0.0001 - val_loss 0.0001 - SDR 0.9676 - R_ave 1.4110\n",
      "Epoch [612/1000]\n"
     ]
    },
    {
     "name": "stderr",
     "output_type": "stream",
     "text": [
      "100%|██████████| 60/60 [00:24<00:00,  2.45it/s, loss=7.89e-5]\n",
      "100%|██████████| 26/26 [00:16<00:00,  1.54it/s, val_loss=9.19e-5, SDR=0.97, R_ave=1.37] \n",
      "  0%|          | 0/60 [00:00<?, ?it/s]"
     ]
    },
    {
     "name": "stdout",
     "output_type": "stream",
     "text": [
      "loss 0.0001 - val_loss 0.0001 - SDR 0.9696 - R_ave 1.3730\n",
      "=> saved best model\n",
      "Epoch [613/1000]\n"
     ]
    },
    {
     "name": "stderr",
     "output_type": "stream",
     "text": [
      "100%|██████████| 60/60 [00:24<00:00,  2.44it/s, loss=7.89e-5]\n",
      "100%|██████████| 26/26 [00:17<00:00,  1.53it/s, val_loss=0.000103, SDR=0.964, R_ave=1.44]\n",
      "  0%|          | 0/60 [00:00<?, ?it/s]"
     ]
    },
    {
     "name": "stdout",
     "output_type": "stream",
     "text": [
      "loss 0.0001 - val_loss 0.0001 - SDR 0.9645 - R_ave 1.4413\n",
      "Epoch [614/1000]\n"
     ]
    },
    {
     "name": "stderr",
     "output_type": "stream",
     "text": [
      "100%|██████████| 60/60 [00:24<00:00,  2.45it/s, loss=7.89e-5]\n",
      "100%|██████████| 26/26 [00:17<00:00,  1.51it/s, val_loss=9.57e-5, SDR=0.966, R_ave=1.41]\n",
      "  0%|          | 0/60 [00:00<?, ?it/s]"
     ]
    },
    {
     "name": "stdout",
     "output_type": "stream",
     "text": [
      "loss 0.0001 - val_loss 0.0001 - SDR 0.9664 - R_ave 1.4050\n",
      "Epoch [615/1000]\n"
     ]
    },
    {
     "name": "stderr",
     "output_type": "stream",
     "text": [
      "100%|██████████| 60/60 [00:24<00:00,  2.45it/s, loss=7.81e-5]\n",
      "100%|██████████| 26/26 [00:16<00:00,  1.54it/s, val_loss=9.67e-5, SDR=0.968, R_ave=1.42]\n",
      "  0%|          | 0/60 [00:00<?, ?it/s]"
     ]
    },
    {
     "name": "stdout",
     "output_type": "stream",
     "text": [
      "loss 0.0001 - val_loss 0.0001 - SDR 0.9676 - R_ave 1.4201\n",
      "Epoch [616/1000]\n"
     ]
    },
    {
     "name": "stderr",
     "output_type": "stream",
     "text": [
      "100%|██████████| 60/60 [00:24<00:00,  2.46it/s, loss=7.76e-5]\n",
      "100%|██████████| 26/26 [00:16<00:00,  1.54it/s, val_loss=9.91e-5, SDR=0.969, R_ave=1.4]  \n",
      "  0%|          | 0/60 [00:00<?, ?it/s]"
     ]
    },
    {
     "name": "stdout",
     "output_type": "stream",
     "text": [
      "loss 0.0001 - val_loss 0.0001 - SDR 0.9685 - R_ave 1.4008\n",
      "Epoch [617/1000]\n"
     ]
    },
    {
     "name": "stderr",
     "output_type": "stream",
     "text": [
      "100%|██████████| 60/60 [00:24<00:00,  2.46it/s, loss=7.86e-5]\n",
      "100%|██████████| 26/26 [00:17<00:00,  1.52it/s, val_loss=9.89e-5, SDR=0.964, R_ave=1.42]\n",
      "  0%|          | 0/60 [00:00<?, ?it/s]"
     ]
    },
    {
     "name": "stdout",
     "output_type": "stream",
     "text": [
      "loss 0.0001 - val_loss 0.0001 - SDR 0.9635 - R_ave 1.4225\n",
      "Epoch [618/1000]\n"
     ]
    },
    {
     "name": "stderr",
     "output_type": "stream",
     "text": [
      "100%|██████████| 60/60 [00:24<00:00,  2.43it/s, loss=8.22e-5]\n",
      "100%|██████████| 26/26 [00:16<00:00,  1.54it/s, val_loss=0.000105, SDR=0.963, R_ave=1.44]\n",
      "  0%|          | 0/60 [00:00<?, ?it/s]"
     ]
    },
    {
     "name": "stdout",
     "output_type": "stream",
     "text": [
      "loss 0.0001 - val_loss 0.0001 - SDR 0.9627 - R_ave 1.4381\n",
      "Epoch [619/1000]\n"
     ]
    },
    {
     "name": "stderr",
     "output_type": "stream",
     "text": [
      "100%|██████████| 60/60 [00:24<00:00,  2.46it/s, loss=7.96e-5]\n",
      "100%|██████████| 26/26 [00:16<00:00,  1.54it/s, val_loss=0.000101, SDR=0.963, R_ave=1.43]\n",
      "  0%|          | 0/60 [00:00<?, ?it/s]"
     ]
    },
    {
     "name": "stdout",
     "output_type": "stream",
     "text": [
      "loss 0.0001 - val_loss 0.0001 - SDR 0.9629 - R_ave 1.4310\n",
      "Epoch [620/1000]\n"
     ]
    },
    {
     "name": "stderr",
     "output_type": "stream",
     "text": [
      "100%|██████████| 60/60 [00:24<00:00,  2.44it/s, loss=7.92e-5]\n",
      "100%|██████████| 26/26 [00:17<00:00,  1.51it/s, val_loss=0.000105, SDR=0.965, R_ave=1.47]\n",
      "  0%|          | 0/60 [00:00<?, ?it/s]"
     ]
    },
    {
     "name": "stdout",
     "output_type": "stream",
     "text": [
      "loss 0.0001 - val_loss 0.0001 - SDR 0.9651 - R_ave 1.4741\n",
      "Epoch [621/1000]\n"
     ]
    },
    {
     "name": "stderr",
     "output_type": "stream",
     "text": [
      "100%|██████████| 60/60 [00:24<00:00,  2.45it/s, loss=8.19e-5]\n",
      "100%|██████████| 26/26 [00:16<00:00,  1.55it/s, val_loss=0.000129, SDR=0.958, R_ave=1.59]\n",
      "  0%|          | 0/60 [00:00<?, ?it/s]"
     ]
    },
    {
     "name": "stdout",
     "output_type": "stream",
     "text": [
      "loss 0.0001 - val_loss 0.0001 - SDR 0.9576 - R_ave 1.5907\n",
      "Epoch [622/1000]\n"
     ]
    },
    {
     "name": "stderr",
     "output_type": "stream",
     "text": [
      "100%|██████████| 60/60 [00:24<00:00,  2.46it/s, loss=7.91e-5]\n",
      "100%|██████████| 26/26 [00:16<00:00,  1.54it/s, val_loss=0.00012, SDR=0.96, R_ave=1.54]  \n",
      "  0%|          | 0/60 [00:00<?, ?it/s]"
     ]
    },
    {
     "name": "stdout",
     "output_type": "stream",
     "text": [
      "loss 0.0001 - val_loss 0.0001 - SDR 0.9602 - R_ave 1.5366\n",
      "Epoch [623/1000]\n"
     ]
    },
    {
     "name": "stderr",
     "output_type": "stream",
     "text": [
      "100%|██████████| 60/60 [00:24<00:00,  2.43it/s, loss=8.27e-5]\n",
      "100%|██████████| 26/26 [00:16<00:00,  1.54it/s, val_loss=0.000105, SDR=0.963, R_ave=1.45]\n",
      "  0%|          | 0/60 [00:00<?, ?it/s]"
     ]
    },
    {
     "name": "stdout",
     "output_type": "stream",
     "text": [
      "loss 0.0001 - val_loss 0.0001 - SDR 0.9629 - R_ave 1.4547\n",
      "Epoch [624/1000]\n"
     ]
    },
    {
     "name": "stderr",
     "output_type": "stream",
     "text": [
      "100%|██████████| 60/60 [00:24<00:00,  2.46it/s, loss=8.02e-5]\n",
      "100%|██████████| 26/26 [00:16<00:00,  1.54it/s, val_loss=9.95e-5, SDR=0.966, R_ave=1.43]\n",
      "  0%|          | 0/60 [00:00<?, ?it/s]"
     ]
    },
    {
     "name": "stdout",
     "output_type": "stream",
     "text": [
      "loss 0.0001 - val_loss 0.0001 - SDR 0.9656 - R_ave 1.4346\n",
      "Epoch [625/1000]\n"
     ]
    },
    {
     "name": "stderr",
     "output_type": "stream",
     "text": [
      "100%|██████████| 60/60 [00:24<00:00,  2.45it/s, loss=7.88e-5]\n",
      "100%|██████████| 26/26 [00:16<00:00,  1.54it/s, val_loss=9.65e-5, SDR=0.966, R_ave=1.41]\n",
      "  0%|          | 0/60 [00:00<?, ?it/s]"
     ]
    },
    {
     "name": "stdout",
     "output_type": "stream",
     "text": [
      "loss 0.0001 - val_loss 0.0001 - SDR 0.9659 - R_ave 1.4054\n",
      "Epoch [626/1000]\n"
     ]
    },
    {
     "name": "stderr",
     "output_type": "stream",
     "text": [
      "100%|██████████| 60/60 [00:24<00:00,  2.42it/s, loss=7.85e-5]\n",
      "100%|██████████| 26/26 [00:16<00:00,  1.54it/s, val_loss=9.38e-5, SDR=0.967, R_ave=1.42]\n",
      "  0%|          | 0/60 [00:00<?, ?it/s]"
     ]
    },
    {
     "name": "stdout",
     "output_type": "stream",
     "text": [
      "loss 0.0001 - val_loss 0.0001 - SDR 0.9674 - R_ave 1.4166\n",
      "Epoch [627/1000]\n"
     ]
    },
    {
     "name": "stderr",
     "output_type": "stream",
     "text": [
      "100%|██████████| 60/60 [00:24<00:00,  2.45it/s, loss=8e-5]   \n",
      "100%|██████████| 26/26 [00:16<00:00,  1.55it/s, val_loss=9.89e-5, SDR=0.967, R_ave=1.42]\n",
      "  0%|          | 0/60 [00:00<?, ?it/s]"
     ]
    },
    {
     "name": "stdout",
     "output_type": "stream",
     "text": [
      "loss 0.0001 - val_loss 0.0001 - SDR 0.9671 - R_ave 1.4197\n",
      "Epoch [628/1000]\n"
     ]
    },
    {
     "name": "stderr",
     "output_type": "stream",
     "text": [
      "100%|██████████| 60/60 [00:24<00:00,  2.46it/s, loss=7.88e-5]\n",
      "100%|██████████| 26/26 [00:16<00:00,  1.54it/s, val_loss=0.000103, SDR=0.963, R_ave=1.45]\n",
      "  0%|          | 0/60 [00:00<?, ?it/s]"
     ]
    },
    {
     "name": "stdout",
     "output_type": "stream",
     "text": [
      "loss 0.0001 - val_loss 0.0001 - SDR 0.9626 - R_ave 1.4459\n",
      "Epoch [629/1000]\n"
     ]
    },
    {
     "name": "stderr",
     "output_type": "stream",
     "text": [
      "100%|██████████| 60/60 [00:24<00:00,  2.42it/s, loss=7.96e-5]\n",
      "100%|██████████| 26/26 [00:16<00:00,  1.54it/s, val_loss=9.92e-5, SDR=0.966, R_ave=1.43]\n",
      "  0%|          | 0/60 [00:00<?, ?it/s]"
     ]
    },
    {
     "name": "stdout",
     "output_type": "stream",
     "text": [
      "loss 0.0001 - val_loss 0.0001 - SDR 0.9658 - R_ave 1.4304\n",
      "Epoch [630/1000]\n"
     ]
    },
    {
     "name": "stderr",
     "output_type": "stream",
     "text": [
      "100%|██████████| 60/60 [00:24<00:00,  2.46it/s, loss=7.81e-5]\n",
      "100%|██████████| 26/26 [00:16<00:00,  1.54it/s, val_loss=9.49e-5, SDR=0.968, R_ave=1.39]\n"
     ]
    },
    {
     "name": "stdout",
     "output_type": "stream",
     "text": [
      "loss 0.0001 - val_loss 0.0001 - SDR 0.9677 - R_ave 1.3860\n"
     ]
    },
    {
     "name": "stderr",
     "output_type": "stream",
     "text": [
      "\r",
      "  0%|          | 0/60 [00:00<?, ?it/s]"
     ]
    },
    {
     "name": "stdout",
     "output_type": "stream",
     "text": [
      "Epoch [631/1000]\n"
     ]
    },
    {
     "name": "stderr",
     "output_type": "stream",
     "text": [
      "100%|██████████| 60/60 [00:24<00:00,  2.46it/s, loss=7.85e-5]\n",
      "100%|██████████| 26/26 [00:17<00:00,  1.52it/s, val_loss=9.46e-5, SDR=0.967, R_ave=1.38]\n",
      "  0%|          | 0/60 [00:00<?, ?it/s]"
     ]
    },
    {
     "name": "stdout",
     "output_type": "stream",
     "text": [
      "loss 0.0001 - val_loss 0.0001 - SDR 0.9667 - R_ave 1.3848\n",
      "Epoch [632/1000]\n"
     ]
    },
    {
     "name": "stderr",
     "output_type": "stream",
     "text": [
      "100%|██████████| 60/60 [00:24<00:00,  2.43it/s, loss=7.84e-5]\n",
      "100%|██████████| 26/26 [00:16<00:00,  1.55it/s, val_loss=0.000102, SDR=0.965, R_ave=1.43]\n",
      "  0%|          | 0/60 [00:00<?, ?it/s]"
     ]
    },
    {
     "name": "stdout",
     "output_type": "stream",
     "text": [
      "loss 0.0001 - val_loss 0.0001 - SDR 0.9647 - R_ave 1.4250\n",
      "Epoch [633/1000]\n"
     ]
    },
    {
     "name": "stderr",
     "output_type": "stream",
     "text": [
      "100%|██████████| 60/60 [00:24<00:00,  2.47it/s, loss=7.85e-5]\n",
      "100%|██████████| 26/26 [00:16<00:00,  1.54it/s, val_loss=9.72e-5, SDR=0.968, R_ave=1.41]\n",
      "  0%|          | 0/60 [00:00<?, ?it/s]"
     ]
    },
    {
     "name": "stdout",
     "output_type": "stream",
     "text": [
      "loss 0.0001 - val_loss 0.0001 - SDR 0.9682 - R_ave 1.4140\n",
      "Epoch [634/1000]\n"
     ]
    },
    {
     "name": "stderr",
     "output_type": "stream",
     "text": [
      "100%|██████████| 60/60 [00:24<00:00,  2.45it/s, loss=7.78e-5]\n",
      "100%|██████████| 26/26 [00:17<00:00,  1.52it/s, val_loss=9.82e-5, SDR=0.965, R_ave=1.43]\n",
      "  0%|          | 0/60 [00:00<?, ?it/s]"
     ]
    },
    {
     "name": "stdout",
     "output_type": "stream",
     "text": [
      "loss 0.0001 - val_loss 0.0001 - SDR 0.9655 - R_ave 1.4304\n",
      "Epoch [635/1000]\n"
     ]
    },
    {
     "name": "stderr",
     "output_type": "stream",
     "text": [
      "100%|██████████| 60/60 [00:24<00:00,  2.43it/s, loss=7.89e-5]\n",
      "100%|██████████| 26/26 [00:16<00:00,  1.54it/s, val_loss=9.89e-5, SDR=0.965, R_ave=1.41]\n",
      "  0%|          | 0/60 [00:00<?, ?it/s]"
     ]
    },
    {
     "name": "stdout",
     "output_type": "stream",
     "text": [
      "loss 0.0001 - val_loss 0.0001 - SDR 0.9650 - R_ave 1.4088\n",
      "Epoch [636/1000]\n"
     ]
    },
    {
     "name": "stderr",
     "output_type": "stream",
     "text": [
      "100%|██████████| 60/60 [00:24<00:00,  2.46it/s, loss=7.81e-5]\n",
      "100%|██████████| 26/26 [00:16<00:00,  1.54it/s, val_loss=9.56e-5, SDR=0.969, R_ave=1.39]\n",
      "  0%|          | 0/60 [00:00<?, ?it/s]"
     ]
    },
    {
     "name": "stdout",
     "output_type": "stream",
     "text": [
      "loss 0.0001 - val_loss 0.0001 - SDR 0.9690 - R_ave 1.3949\n",
      "Epoch [637/1000]\n"
     ]
    },
    {
     "name": "stderr",
     "output_type": "stream",
     "text": [
      "100%|██████████| 60/60 [00:24<00:00,  2.45it/s, loss=7.59e-5]\n",
      "100%|██████████| 26/26 [00:17<00:00,  1.50it/s, val_loss=9.35e-5, SDR=0.968, R_ave=1.39]\n",
      "  0%|          | 0/60 [00:00<?, ?it/s]"
     ]
    },
    {
     "name": "stdout",
     "output_type": "stream",
     "text": [
      "loss 0.0001 - val_loss 0.0001 - SDR 0.9684 - R_ave 1.3863\n",
      "Epoch [638/1000]\n"
     ]
    },
    {
     "name": "stderr",
     "output_type": "stream",
     "text": [
      "100%|██████████| 60/60 [00:24<00:00,  2.45it/s, loss=7.71e-5]\n",
      "100%|██████████| 26/26 [00:16<00:00,  1.54it/s, val_loss=9.95e-5, SDR=0.963, R_ave=1.42]\n",
      "  0%|          | 0/60 [00:00<?, ?it/s]"
     ]
    },
    {
     "name": "stdout",
     "output_type": "stream",
     "text": [
      "loss 0.0001 - val_loss 0.0001 - SDR 0.9632 - R_ave 1.4232\n",
      "Epoch [639/1000]\n"
     ]
    },
    {
     "name": "stderr",
     "output_type": "stream",
     "text": [
      "100%|██████████| 60/60 [00:24<00:00,  2.45it/s, loss=7.91e-5]\n",
      "100%|██████████| 26/26 [00:16<00:00,  1.55it/s, val_loss=9.79e-5, SDR=0.968, R_ave=1.38]\n",
      "  0%|          | 0/60 [00:00<?, ?it/s]"
     ]
    },
    {
     "name": "stdout",
     "output_type": "stream",
     "text": [
      "loss 0.0001 - val_loss 0.0001 - SDR 0.9684 - R_ave 1.3848\n",
      "Epoch [640/1000]\n"
     ]
    },
    {
     "name": "stderr",
     "output_type": "stream",
     "text": [
      "100%|██████████| 60/60 [00:24<00:00,  2.46it/s, loss=7.78e-5]\n",
      "100%|██████████| 26/26 [00:17<00:00,  1.51it/s, val_loss=9.81e-5, SDR=0.968, R_ave=1.41]\n",
      "  0%|          | 0/60 [00:00<?, ?it/s]"
     ]
    },
    {
     "name": "stdout",
     "output_type": "stream",
     "text": [
      "loss 0.0001 - val_loss 0.0001 - SDR 0.9684 - R_ave 1.4148\n",
      "Epoch [641/1000]\n"
     ]
    },
    {
     "name": "stderr",
     "output_type": "stream",
     "text": [
      "100%|██████████| 60/60 [00:24<00:00,  2.47it/s, loss=7.84e-5]\n",
      "100%|██████████| 26/26 [00:16<00:00,  1.54it/s, val_loss=9.32e-5, SDR=0.969, R_ave=1.37]\n",
      "  0%|          | 0/60 [00:00<?, ?it/s]"
     ]
    },
    {
     "name": "stdout",
     "output_type": "stream",
     "text": [
      "loss 0.0001 - val_loss 0.0001 - SDR 0.9690 - R_ave 1.3726\n",
      "=> saved best model\n",
      "Epoch [642/1000]\n"
     ]
    },
    {
     "name": "stderr",
     "output_type": "stream",
     "text": [
      "100%|██████████| 60/60 [00:24<00:00,  2.44it/s, loss=7.8e-5] \n",
      "100%|██████████| 26/26 [00:17<00:00,  1.52it/s, val_loss=9.58e-5, SDR=0.968, R_ave=1.39]\n",
      "  0%|          | 0/60 [00:00<?, ?it/s]"
     ]
    },
    {
     "name": "stdout",
     "output_type": "stream",
     "text": [
      "loss 0.0001 - val_loss 0.0001 - SDR 0.9679 - R_ave 1.3917\n",
      "Epoch [643/1000]\n"
     ]
    },
    {
     "name": "stderr",
     "output_type": "stream",
     "text": [
      "100%|██████████| 60/60 [00:24<00:00,  2.46it/s, loss=7.73e-5]\n",
      "100%|██████████| 26/26 [00:17<00:00,  1.51it/s, val_loss=9.64e-5, SDR=0.967, R_ave=1.39]\n",
      "  0%|          | 0/60 [00:00<?, ?it/s]"
     ]
    },
    {
     "name": "stdout",
     "output_type": "stream",
     "text": [
      "loss 0.0001 - val_loss 0.0001 - SDR 0.9672 - R_ave 1.3898\n",
      "Epoch [644/1000]\n"
     ]
    },
    {
     "name": "stderr",
     "output_type": "stream",
     "text": [
      "100%|██████████| 60/60 [00:24<00:00,  2.46it/s, loss=8.32e-5]\n",
      "100%|██████████| 26/26 [00:16<00:00,  1.54it/s, val_loss=0.000103, SDR=0.966, R_ave=1.46]\n",
      "  0%|          | 0/60 [00:00<?, ?it/s]"
     ]
    },
    {
     "name": "stdout",
     "output_type": "stream",
     "text": [
      "loss 0.0001 - val_loss 0.0001 - SDR 0.9658 - R_ave 1.4568\n",
      "Epoch [645/1000]\n"
     ]
    },
    {
     "name": "stderr",
     "output_type": "stream",
     "text": [
      "100%|██████████| 60/60 [00:24<00:00,  2.43it/s, loss=8.1e-5] \n",
      "100%|██████████| 26/26 [00:16<00:00,  1.54it/s, val_loss=9.8e-5, SDR=0.966, R_ave=1.41] \n",
      "  0%|          | 0/60 [00:00<?, ?it/s]"
     ]
    },
    {
     "name": "stdout",
     "output_type": "stream",
     "text": [
      "loss 0.0001 - val_loss 0.0001 - SDR 0.9663 - R_ave 1.4104\n",
      "Epoch [646/1000]\n"
     ]
    },
    {
     "name": "stderr",
     "output_type": "stream",
     "text": [
      "100%|██████████| 60/60 [00:24<00:00,  2.44it/s, loss=7.79e-5]\n",
      "100%|██████████| 26/26 [00:17<00:00,  1.51it/s, val_loss=0.0001, SDR=0.965, R_ave=1.48]  \n",
      "  0%|          | 0/60 [00:00<?, ?it/s]"
     ]
    },
    {
     "name": "stdout",
     "output_type": "stream",
     "text": [
      "loss 0.0001 - val_loss 0.0001 - SDR 0.9651 - R_ave 1.4757\n",
      "Epoch [647/1000]\n"
     ]
    },
    {
     "name": "stderr",
     "output_type": "stream",
     "text": [
      "100%|██████████| 60/60 [00:24<00:00,  2.45it/s, loss=7.92e-5]\n",
      "100%|██████████| 26/26 [00:16<00:00,  1.54it/s, val_loss=9.91e-5, SDR=0.967, R_ave=1.41]\n",
      "  0%|          | 0/60 [00:00<?, ?it/s]"
     ]
    },
    {
     "name": "stdout",
     "output_type": "stream",
     "text": [
      "loss 0.0001 - val_loss 0.0001 - SDR 0.9667 - R_ave 1.4103\n",
      "Epoch [648/1000]\n"
     ]
    },
    {
     "name": "stderr",
     "output_type": "stream",
     "text": [
      "100%|██████████| 60/60 [00:24<00:00,  2.46it/s, loss=7.87e-5]\n",
      "100%|██████████| 26/26 [00:16<00:00,  1.55it/s, val_loss=0.000101, SDR=0.964, R_ave=1.43]\n",
      "  0%|          | 0/60 [00:00<?, ?it/s]"
     ]
    },
    {
     "name": "stdout",
     "output_type": "stream",
     "text": [
      "loss 0.0001 - val_loss 0.0001 - SDR 0.9635 - R_ave 1.4265\n",
      "Epoch [649/1000]\n"
     ]
    },
    {
     "name": "stderr",
     "output_type": "stream",
     "text": [
      "100%|██████████| 60/60 [00:24<00:00,  2.45it/s, loss=7.94e-5]\n",
      "100%|██████████| 26/26 [00:17<00:00,  1.52it/s, val_loss=9.59e-5, SDR=0.966, R_ave=1.39]\n",
      "  0%|          | 0/60 [00:00<?, ?it/s]"
     ]
    },
    {
     "name": "stdout",
     "output_type": "stream",
     "text": [
      "loss 0.0001 - val_loss 0.0001 - SDR 0.9663 - R_ave 1.3938\n",
      "Epoch [650/1000]\n"
     ]
    },
    {
     "name": "stderr",
     "output_type": "stream",
     "text": [
      "100%|██████████| 60/60 [00:24<00:00,  2.46it/s, loss=7.7e-5] \n",
      "100%|██████████| 26/26 [00:16<00:00,  1.55it/s, val_loss=9.44e-5, SDR=0.967, R_ave=1.4] \n",
      "  0%|          | 0/60 [00:00<?, ?it/s]"
     ]
    },
    {
     "name": "stdout",
     "output_type": "stream",
     "text": [
      "loss 0.0001 - val_loss 0.0001 - SDR 0.9674 - R_ave 1.4042\n",
      "Epoch [651/1000]\n"
     ]
    },
    {
     "name": "stderr",
     "output_type": "stream",
     "text": [
      "100%|██████████| 60/60 [00:24<00:00,  2.46it/s, loss=7.65e-5]\n",
      "100%|██████████| 26/26 [00:16<00:00,  1.54it/s, val_loss=9.53e-5, SDR=0.969, R_ave=1.39]\n",
      "  0%|          | 0/60 [00:00<?, ?it/s]"
     ]
    },
    {
     "name": "stdout",
     "output_type": "stream",
     "text": [
      "loss 0.0001 - val_loss 0.0001 - SDR 0.9687 - R_ave 1.3912\n",
      "Epoch [652/1000]\n"
     ]
    },
    {
     "name": "stderr",
     "output_type": "stream",
     "text": [
      "100%|██████████| 60/60 [00:24<00:00,  2.43it/s, loss=7.79e-5]\n",
      "100%|██████████| 26/26 [00:16<00:00,  1.54it/s, val_loss=9.62e-5, SDR=0.966, R_ave=1.4] \n",
      "  0%|          | 0/60 [00:00<?, ?it/s]"
     ]
    },
    {
     "name": "stdout",
     "output_type": "stream",
     "text": [
      "loss 0.0001 - val_loss 0.0001 - SDR 0.9664 - R_ave 1.3984\n",
      "Epoch [653/1000]\n"
     ]
    },
    {
     "name": "stderr",
     "output_type": "stream",
     "text": [
      "100%|██████████| 60/60 [00:24<00:00,  2.46it/s, loss=7.76e-5]\n",
      "100%|██████████| 26/26 [00:16<00:00,  1.55it/s, val_loss=9.75e-5, SDR=0.966, R_ave=1.41]\n",
      "  0%|          | 0/60 [00:00<?, ?it/s]"
     ]
    },
    {
     "name": "stdout",
     "output_type": "stream",
     "text": [
      "loss 0.0001 - val_loss 0.0001 - SDR 0.9664 - R_ave 1.4057\n",
      "Epoch [654/1000]\n"
     ]
    },
    {
     "name": "stderr",
     "output_type": "stream",
     "text": [
      "100%|██████████| 60/60 [00:24<00:00,  2.46it/s, loss=7.57e-5]\n",
      "100%|██████████| 26/26 [00:16<00:00,  1.54it/s, val_loss=9.31e-5, SDR=0.97, R_ave=1.37] \n",
      "  0%|          | 0/60 [00:00<?, ?it/s]"
     ]
    },
    {
     "name": "stdout",
     "output_type": "stream",
     "text": [
      "loss 0.0001 - val_loss 0.0001 - SDR 0.9700 - R_ave 1.3748\n",
      "Epoch [655/1000]\n"
     ]
    },
    {
     "name": "stderr",
     "output_type": "stream",
     "text": [
      "100%|██████████| 60/60 [00:24<00:00,  2.43it/s, loss=7.56e-5]\n",
      "100%|██████████| 26/26 [00:16<00:00,  1.54it/s, val_loss=0.000108, SDR=0.965, R_ave=1.43]\n",
      "  0%|          | 0/60 [00:00<?, ?it/s]"
     ]
    },
    {
     "name": "stdout",
     "output_type": "stream",
     "text": [
      "loss 0.0001 - val_loss 0.0001 - SDR 0.9655 - R_ave 1.4262\n",
      "Epoch [656/1000]\n"
     ]
    },
    {
     "name": "stderr",
     "output_type": "stream",
     "text": [
      "100%|██████████| 60/60 [00:24<00:00,  2.46it/s, loss=7.92e-5]\n",
      "100%|██████████| 26/26 [00:16<00:00,  1.54it/s, val_loss=9.75e-5, SDR=0.965, R_ave=1.4] \n",
      "  0%|          | 0/60 [00:00<?, ?it/s]"
     ]
    },
    {
     "name": "stdout",
     "output_type": "stream",
     "text": [
      "loss 0.0001 - val_loss 0.0001 - SDR 0.9650 - R_ave 1.4025\n",
      "Epoch [657/1000]\n"
     ]
    },
    {
     "name": "stderr",
     "output_type": "stream",
     "text": [
      "100%|██████████| 60/60 [00:24<00:00,  2.46it/s, loss=7.89e-5]\n",
      "100%|██████████| 26/26 [00:17<00:00,  1.53it/s, val_loss=0.000101, SDR=0.969, R_ave=1.4] \n",
      "  0%|          | 0/60 [00:00<?, ?it/s]"
     ]
    },
    {
     "name": "stdout",
     "output_type": "stream",
     "text": [
      "loss 0.0001 - val_loss 0.0001 - SDR 0.9695 - R_ave 1.4031\n",
      "Epoch [658/1000]\n"
     ]
    },
    {
     "name": "stderr",
     "output_type": "stream",
     "text": [
      "100%|██████████| 60/60 [00:24<00:00,  2.43it/s, loss=7.63e-5]\n",
      "100%|██████████| 26/26 [00:16<00:00,  1.53it/s, val_loss=9.8e-5, SDR=0.966, R_ave=1.4]  \n",
      "  0%|          | 0/60 [00:00<?, ?it/s]"
     ]
    },
    {
     "name": "stdout",
     "output_type": "stream",
     "text": [
      "loss 0.0001 - val_loss 0.0001 - SDR 0.9658 - R_ave 1.3978\n",
      "Epoch [659/1000]\n"
     ]
    },
    {
     "name": "stderr",
     "output_type": "stream",
     "text": [
      "100%|██████████| 60/60 [00:24<00:00,  2.47it/s, loss=7.76e-5]\n",
      "100%|██████████| 26/26 [00:16<00:00,  1.54it/s, val_loss=9.63e-5, SDR=0.964, R_ave=1.41]\n",
      "  0%|          | 0/60 [00:00<?, ?it/s]"
     ]
    },
    {
     "name": "stdout",
     "output_type": "stream",
     "text": [
      "loss 0.0001 - val_loss 0.0001 - SDR 0.9642 - R_ave 1.4051\n",
      "Epoch [660/1000]\n"
     ]
    },
    {
     "name": "stderr",
     "output_type": "stream",
     "text": [
      "100%|██████████| 60/60 [00:24<00:00,  2.46it/s, loss=7.8e-5] \n",
      "100%|██████████| 26/26 [00:17<00:00,  1.51it/s, val_loss=9.48e-5, SDR=0.968, R_ave=1.38]\n",
      "  0%|          | 0/60 [00:00<?, ?it/s]"
     ]
    },
    {
     "name": "stdout",
     "output_type": "stream",
     "text": [
      "loss 0.0001 - val_loss 0.0001 - SDR 0.9677 - R_ave 1.3804\n",
      "Epoch [661/1000]\n"
     ]
    },
    {
     "name": "stderr",
     "output_type": "stream",
     "text": [
      "100%|██████████| 60/60 [00:24<00:00,  2.41it/s, loss=7.73e-5]\n",
      "100%|██████████| 26/26 [00:16<00:00,  1.54it/s, val_loss=9.78e-5, SDR=0.969, R_ave=1.38]\n",
      "  0%|          | 0/60 [00:00<?, ?it/s]"
     ]
    },
    {
     "name": "stdout",
     "output_type": "stream",
     "text": [
      "loss 0.0001 - val_loss 0.0001 - SDR 0.9685 - R_ave 1.3818\n",
      "Epoch [662/1000]\n"
     ]
    },
    {
     "name": "stderr",
     "output_type": "stream",
     "text": [
      "100%|██████████| 60/60 [00:24<00:00,  2.46it/s, loss=7.69e-5]\n",
      "100%|██████████| 26/26 [00:16<00:00,  1.54it/s, val_loss=9.34e-5, SDR=0.969, R_ave=1.37]\n",
      "  0%|          | 0/60 [00:00<?, ?it/s]"
     ]
    },
    {
     "name": "stdout",
     "output_type": "stream",
     "text": [
      "loss 0.0001 - val_loss 0.0001 - SDR 0.9690 - R_ave 1.3701\n",
      "=> saved best model\n",
      "Epoch [663/1000]\n"
     ]
    },
    {
     "name": "stderr",
     "output_type": "stream",
     "text": [
      "100%|██████████| 60/60 [00:24<00:00,  2.44it/s, loss=7.7e-5] \n",
      "100%|██████████| 26/26 [00:17<00:00,  1.49it/s, val_loss=9.44e-5, SDR=0.966, R_ave=1.39]\n",
      "  0%|          | 0/60 [00:00<?, ?it/s]"
     ]
    },
    {
     "name": "stdout",
     "output_type": "stream",
     "text": [
      "loss 0.0001 - val_loss 0.0001 - SDR 0.9664 - R_ave 1.3901\n",
      "Epoch [664/1000]\n"
     ]
    },
    {
     "name": "stderr",
     "output_type": "stream",
     "text": [
      "100%|██████████| 60/60 [00:24<00:00,  2.43it/s, loss=7.58e-5]\n",
      "100%|██████████| 26/26 [00:16<00:00,  1.54it/s, val_loss=9.33e-5, SDR=0.967, R_ave=1.38]\n",
      "  0%|          | 0/60 [00:00<?, ?it/s]"
     ]
    },
    {
     "name": "stdout",
     "output_type": "stream",
     "text": [
      "loss 0.0001 - val_loss 0.0001 - SDR 0.9667 - R_ave 1.3825\n",
      "Epoch [665/1000]\n"
     ]
    },
    {
     "name": "stderr",
     "output_type": "stream",
     "text": [
      "100%|██████████| 60/60 [00:24<00:00,  2.46it/s, loss=7.75e-5]\n",
      "100%|██████████| 26/26 [00:16<00:00,  1.54it/s, val_loss=9.55e-5, SDR=0.97, R_ave=1.37] \n",
      "  0%|          | 0/60 [00:00<?, ?it/s]"
     ]
    },
    {
     "name": "stdout",
     "output_type": "stream",
     "text": [
      "loss 0.0001 - val_loss 0.0001 - SDR 0.9696 - R_ave 1.3731\n",
      "Epoch [666/1000]\n"
     ]
    },
    {
     "name": "stderr",
     "output_type": "stream",
     "text": [
      "100%|██████████| 60/60 [00:24<00:00,  2.45it/s, loss=7.83e-5]\n",
      "100%|██████████| 26/26 [00:17<00:00,  1.51it/s, val_loss=9.44e-5, SDR=0.968, R_ave=1.39]\n",
      "  0%|          | 0/60 [00:00<?, ?it/s]"
     ]
    },
    {
     "name": "stdout",
     "output_type": "stream",
     "text": [
      "loss 0.0001 - val_loss 0.0001 - SDR 0.9680 - R_ave 1.3929\n",
      "Epoch [667/1000]\n"
     ]
    },
    {
     "name": "stderr",
     "output_type": "stream",
     "text": [
      "100%|██████████| 60/60 [00:24<00:00,  2.45it/s, loss=7.6e-5] \n",
      "100%|██████████| 26/26 [00:16<00:00,  1.54it/s, val_loss=9.98e-5, SDR=0.964, R_ave=1.42] \n",
      "  0%|          | 0/60 [00:00<?, ?it/s]"
     ]
    },
    {
     "name": "stdout",
     "output_type": "stream",
     "text": [
      "loss 0.0001 - val_loss 0.0001 - SDR 0.9640 - R_ave 1.4178\n",
      "Epoch [668/1000]\n"
     ]
    },
    {
     "name": "stderr",
     "output_type": "stream",
     "text": [
      "100%|██████████| 60/60 [00:24<00:00,  2.46it/s, loss=7.75e-5]\n",
      "100%|██████████| 26/26 [00:16<00:00,  1.54it/s, val_loss=9.92e-5, SDR=0.969, R_ave=1.41] \n",
      "  0%|          | 0/60 [00:00<?, ?it/s]"
     ]
    },
    {
     "name": "stdout",
     "output_type": "stream",
     "text": [
      "loss 0.0001 - val_loss 0.0001 - SDR 0.9685 - R_ave 1.4083\n",
      "Epoch [669/1000]\n"
     ]
    },
    {
     "name": "stderr",
     "output_type": "stream",
     "text": [
      "100%|██████████| 60/60 [00:24<00:00,  2.45it/s, loss=7.62e-5]\n",
      "100%|██████████| 26/26 [00:17<00:00,  1.51it/s, val_loss=9.83e-5, SDR=0.965, R_ave=1.42]\n",
      "  0%|          | 0/60 [00:00<?, ?it/s]"
     ]
    },
    {
     "name": "stdout",
     "output_type": "stream",
     "text": [
      "loss 0.0001 - val_loss 0.0001 - SDR 0.9651 - R_ave 1.4174\n",
      "Epoch [670/1000]\n"
     ]
    },
    {
     "name": "stderr",
     "output_type": "stream",
     "text": [
      "100%|██████████| 60/60 [00:24<00:00,  2.46it/s, loss=7.88e-5]\n",
      "100%|██████████| 26/26 [00:16<00:00,  1.54it/s, val_loss=9.63e-5, SDR=0.966, R_ave=1.38]\n",
      "  0%|          | 0/60 [00:00<?, ?it/s]"
     ]
    },
    {
     "name": "stdout",
     "output_type": "stream",
     "text": [
      "loss 0.0001 - val_loss 0.0001 - SDR 0.9658 - R_ave 1.3837\n",
      "Epoch [671/1000]\n"
     ]
    },
    {
     "name": "stderr",
     "output_type": "stream",
     "text": [
      "100%|██████████| 60/60 [00:24<00:00,  2.46it/s, loss=7.62e-5]\n",
      "100%|██████████| 26/26 [00:16<00:00,  1.54it/s, val_loss=9.61e-5, SDR=0.967, R_ave=1.39]\n",
      "  0%|          | 0/60 [00:00<?, ?it/s]"
     ]
    },
    {
     "name": "stdout",
     "output_type": "stream",
     "text": [
      "loss 0.0001 - val_loss 0.0001 - SDR 0.9672 - R_ave 1.3863\n",
      "Epoch [672/1000]\n"
     ]
    },
    {
     "name": "stderr",
     "output_type": "stream",
     "text": [
      "100%|██████████| 60/60 [00:24<00:00,  2.44it/s, loss=7.7e-5] \n",
      "100%|██████████| 26/26 [00:17<00:00,  1.52it/s, val_loss=9.49e-5, SDR=0.969, R_ave=1.38]\n",
      "  0%|          | 0/60 [00:00<?, ?it/s]"
     ]
    },
    {
     "name": "stdout",
     "output_type": "stream",
     "text": [
      "loss 0.0001 - val_loss 0.0001 - SDR 0.9690 - R_ave 1.3829\n",
      "Epoch [673/1000]\n"
     ]
    },
    {
     "name": "stderr",
     "output_type": "stream",
     "text": [
      "100%|██████████| 60/60 [00:24<00:00,  2.46it/s, loss=7.76e-5]\n",
      "100%|██████████| 26/26 [00:16<00:00,  1.54it/s, val_loss=9.48e-5, SDR=0.968, R_ave=1.38]\n",
      "  0%|          | 0/60 [00:00<?, ?it/s]"
     ]
    },
    {
     "name": "stdout",
     "output_type": "stream",
     "text": [
      "loss 0.0001 - val_loss 0.0001 - SDR 0.9680 - R_ave 1.3848\n",
      "Epoch [674/1000]\n"
     ]
    },
    {
     "name": "stderr",
     "output_type": "stream",
     "text": [
      "100%|██████████| 60/60 [00:24<00:00,  2.45it/s, loss=7.66e-5]\n",
      "100%|██████████| 26/26 [00:16<00:00,  1.54it/s, val_loss=9.46e-5, SDR=0.968, R_ave=1.4] \n",
      "  0%|          | 0/60 [00:00<?, ?it/s]"
     ]
    },
    {
     "name": "stdout",
     "output_type": "stream",
     "text": [
      "loss 0.0001 - val_loss 0.0001 - SDR 0.9682 - R_ave 1.3998\n",
      "Epoch [675/1000]\n"
     ]
    },
    {
     "name": "stderr",
     "output_type": "stream",
     "text": [
      "100%|██████████| 60/60 [00:24<00:00,  2.44it/s, loss=7.8e-5] \n",
      "100%|██████████| 26/26 [00:17<00:00,  1.52it/s, val_loss=9.55e-5, SDR=0.965, R_ave=1.4] \n",
      "  0%|          | 0/60 [00:00<?, ?it/s]"
     ]
    },
    {
     "name": "stdout",
     "output_type": "stream",
     "text": [
      "loss 0.0001 - val_loss 0.0001 - SDR 0.9653 - R_ave 1.3951\n",
      "Epoch [676/1000]\n"
     ]
    },
    {
     "name": "stderr",
     "output_type": "stream",
     "text": [
      "100%|██████████| 60/60 [00:24<00:00,  2.46it/s, loss=7.63e-5]\n",
      "100%|██████████| 26/26 [00:16<00:00,  1.54it/s, val_loss=9.33e-5, SDR=0.969, R_ave=1.39]\n",
      "  0%|          | 0/60 [00:00<?, ?it/s]"
     ]
    },
    {
     "name": "stdout",
     "output_type": "stream",
     "text": [
      "loss 0.0001 - val_loss 0.0001 - SDR 0.9685 - R_ave 1.3872\n",
      "Epoch [677/1000]\n"
     ]
    },
    {
     "name": "stderr",
     "output_type": "stream",
     "text": [
      "100%|██████████| 60/60 [00:24<00:00,  2.46it/s, loss=7.52e-5]\n",
      "100%|██████████| 26/26 [00:16<00:00,  1.54it/s, val_loss=9.36e-5, SDR=0.968, R_ave=1.38]\n",
      "  0%|          | 0/60 [00:00<?, ?it/s]"
     ]
    },
    {
     "name": "stdout",
     "output_type": "stream",
     "text": [
      "loss 0.0001 - val_loss 0.0001 - SDR 0.9680 - R_ave 1.3816\n",
      "Epoch [678/1000]\n"
     ]
    },
    {
     "name": "stderr",
     "output_type": "stream",
     "text": [
      "100%|██████████| 60/60 [00:24<00:00,  2.43it/s, loss=7.79e-5]\n",
      "100%|██████████| 26/26 [00:17<00:00,  1.53it/s, val_loss=9.48e-5, SDR=0.969, R_ave=1.4] \n",
      "  0%|          | 0/60 [00:00<?, ?it/s]"
     ]
    },
    {
     "name": "stdout",
     "output_type": "stream",
     "text": [
      "loss 0.0001 - val_loss 0.0001 - SDR 0.9695 - R_ave 1.4012\n",
      "Epoch [679/1000]\n"
     ]
    },
    {
     "name": "stderr",
     "output_type": "stream",
     "text": [
      "100%|██████████| 60/60 [00:24<00:00,  2.46it/s, loss=7.6e-5] \n",
      "100%|██████████| 26/26 [00:16<00:00,  1.54it/s, val_loss=9.42e-5, SDR=0.967, R_ave=1.38]\n",
      "  0%|          | 0/60 [00:00<?, ?it/s]"
     ]
    },
    {
     "name": "stdout",
     "output_type": "stream",
     "text": [
      "loss 0.0001 - val_loss 0.0001 - SDR 0.9666 - R_ave 1.3759\n",
      "Epoch [680/1000]\n"
     ]
    },
    {
     "name": "stderr",
     "output_type": "stream",
     "text": [
      "100%|██████████| 60/60 [00:24<00:00,  2.46it/s, loss=7.47e-5]\n",
      "100%|██████████| 26/26 [00:16<00:00,  1.54it/s, val_loss=9.66e-5, SDR=0.965, R_ave=1.39]\n",
      "  0%|          | 0/60 [00:00<?, ?it/s]"
     ]
    },
    {
     "name": "stdout",
     "output_type": "stream",
     "text": [
      "loss 0.0001 - val_loss 0.0001 - SDR 0.9655 - R_ave 1.3866\n",
      "Epoch [681/1000]\n"
     ]
    },
    {
     "name": "stderr",
     "output_type": "stream",
     "text": [
      "100%|██████████| 60/60 [00:24<00:00,  2.42it/s, loss=7.67e-5]\n",
      "100%|██████████| 26/26 [00:17<00:00,  1.49it/s, val_loss=9.53e-5, SDR=0.967, R_ave=1.39]\n",
      "  0%|          | 0/60 [00:00<?, ?it/s]"
     ]
    },
    {
     "name": "stdout",
     "output_type": "stream",
     "text": [
      "loss 0.0001 - val_loss 0.0001 - SDR 0.9671 - R_ave 1.3919\n",
      "Epoch [682/1000]\n"
     ]
    },
    {
     "name": "stderr",
     "output_type": "stream",
     "text": [
      "100%|██████████| 60/60 [00:24<00:00,  2.47it/s, loss=7.67e-5]\n",
      "100%|██████████| 26/26 [00:16<00:00,  1.54it/s, val_loss=9.96e-5, SDR=0.968, R_ave=1.43]\n",
      "  0%|          | 0/60 [00:00<?, ?it/s]"
     ]
    },
    {
     "name": "stdout",
     "output_type": "stream",
     "text": [
      "loss 0.0001 - val_loss 0.0001 - SDR 0.9676 - R_ave 1.4255\n",
      "Epoch [683/1000]\n"
     ]
    },
    {
     "name": "stderr",
     "output_type": "stream",
     "text": [
      "100%|██████████| 60/60 [00:24<00:00,  2.45it/s, loss=7.61e-5]\n",
      "100%|██████████| 26/26 [00:16<00:00,  1.53it/s, val_loss=9.22e-5, SDR=0.968, R_ave=1.39]\n",
      "  0%|          | 0/60 [00:00<?, ?it/s]"
     ]
    },
    {
     "name": "stdout",
     "output_type": "stream",
     "text": [
      "loss 0.0001 - val_loss 0.0001 - SDR 0.9684 - R_ave 1.3906\n",
      "Epoch [684/1000]\n"
     ]
    },
    {
     "name": "stderr",
     "output_type": "stream",
     "text": [
      "100%|██████████| 60/60 [00:24<00:00,  2.42it/s, loss=7.45e-5]\n",
      "100%|██████████| 26/26 [00:16<00:00,  1.54it/s, val_loss=9.29e-5, SDR=0.969, R_ave=1.38]\n",
      "  0%|          | 0/60 [00:00<?, ?it/s]"
     ]
    },
    {
     "name": "stdout",
     "output_type": "stream",
     "text": [
      "loss 0.0001 - val_loss 0.0001 - SDR 0.9688 - R_ave 1.3757\n",
      "Epoch [685/1000]\n"
     ]
    },
    {
     "name": "stderr",
     "output_type": "stream",
     "text": [
      "100%|██████████| 60/60 [00:24<00:00,  2.45it/s, loss=7.58e-5]\n",
      "100%|██████████| 26/26 [00:16<00:00,  1.54it/s, val_loss=9.39e-5, SDR=0.967, R_ave=1.39]\n",
      "  0%|          | 0/60 [00:00<?, ?it/s]"
     ]
    },
    {
     "name": "stdout",
     "output_type": "stream",
     "text": [
      "loss 0.0001 - val_loss 0.0001 - SDR 0.9669 - R_ave 1.3919\n",
      "Epoch [686/1000]\n"
     ]
    },
    {
     "name": "stderr",
     "output_type": "stream",
     "text": [
      "100%|██████████| 60/60 [00:24<00:00,  2.46it/s, loss=7.76e-5]\n",
      "100%|██████████| 26/26 [00:17<00:00,  1.52it/s, val_loss=0.000103, SDR=0.964, R_ave=1.44]\n",
      "  0%|          | 0/60 [00:00<?, ?it/s]"
     ]
    },
    {
     "name": "stdout",
     "output_type": "stream",
     "text": [
      "loss 0.0001 - val_loss 0.0001 - SDR 0.9645 - R_ave 1.4401\n",
      "Epoch [687/1000]\n"
     ]
    },
    {
     "name": "stderr",
     "output_type": "stream",
     "text": [
      "100%|██████████| 60/60 [00:24<00:00,  2.42it/s, loss=7.57e-5]\n",
      "100%|██████████| 26/26 [00:16<00:00,  1.54it/s, val_loss=9.38e-5, SDR=0.968, R_ave=1.38]\n",
      "  0%|          | 0/60 [00:00<?, ?it/s]"
     ]
    },
    {
     "name": "stdout",
     "output_type": "stream",
     "text": [
      "loss 0.0001 - val_loss 0.0001 - SDR 0.9682 - R_ave 1.3789\n",
      "Epoch [688/1000]\n"
     ]
    },
    {
     "name": "stderr",
     "output_type": "stream",
     "text": [
      "100%|██████████| 60/60 [00:24<00:00,  2.46it/s, loss=7.46e-5]\n",
      "100%|██████████| 26/26 [00:16<00:00,  1.54it/s, val_loss=9.54e-5, SDR=0.965, R_ave=1.39]\n",
      "  0%|          | 0/60 [00:00<?, ?it/s]"
     ]
    },
    {
     "name": "stdout",
     "output_type": "stream",
     "text": [
      "loss 0.0001 - val_loss 0.0001 - SDR 0.9650 - R_ave 1.3858\n",
      "Epoch [689/1000]\n"
     ]
    },
    {
     "name": "stderr",
     "output_type": "stream",
     "text": [
      "100%|██████████| 60/60 [00:24<00:00,  2.45it/s, loss=7.4e-5] \n",
      "100%|██████████| 26/26 [00:17<00:00,  1.51it/s, val_loss=9.66e-5, SDR=0.968, R_ave=1.37]\n",
      "  0%|          | 0/60 [00:00<?, ?it/s]"
     ]
    },
    {
     "name": "stdout",
     "output_type": "stream",
     "text": [
      "loss 0.0001 - val_loss 0.0001 - SDR 0.9677 - R_ave 1.3691\n",
      "=> saved best model\n",
      "Epoch [690/1000]\n"
     ]
    },
    {
     "name": "stderr",
     "output_type": "stream",
     "text": [
      "100%|██████████| 60/60 [00:24<00:00,  2.41it/s, loss=7.42e-5]\n",
      "100%|██████████| 26/26 [00:17<00:00,  1.53it/s, val_loss=9.84e-5, SDR=0.965, R_ave=1.41]\n",
      "  0%|          | 0/60 [00:00<?, ?it/s]"
     ]
    },
    {
     "name": "stdout",
     "output_type": "stream",
     "text": [
      "loss 0.0001 - val_loss 0.0001 - SDR 0.9650 - R_ave 1.4127\n",
      "Epoch [691/1000]\n"
     ]
    },
    {
     "name": "stderr",
     "output_type": "stream",
     "text": [
      "100%|██████████| 60/60 [00:24<00:00,  2.45it/s, loss=7.73e-5]\n",
      "100%|██████████| 26/26 [00:16<00:00,  1.55it/s, val_loss=9.41e-5, SDR=0.967, R_ave=1.36]\n",
      "  0%|          | 0/60 [00:00<?, ?it/s]"
     ]
    },
    {
     "name": "stdout",
     "output_type": "stream",
     "text": [
      "loss 0.0001 - val_loss 0.0001 - SDR 0.9674 - R_ave 1.3641\n",
      "=> saved best model\n",
      "Epoch [692/1000]\n"
     ]
    },
    {
     "name": "stderr",
     "output_type": "stream",
     "text": [
      "100%|██████████| 60/60 [00:24<00:00,  2.43it/s, loss=7.72e-5]\n",
      "100%|██████████| 26/26 [00:17<00:00,  1.50it/s, val_loss=0.000102, SDR=0.964, R_ave=1.43]\n",
      "  0%|          | 0/60 [00:00<?, ?it/s]"
     ]
    },
    {
     "name": "stdout",
     "output_type": "stream",
     "text": [
      "loss 0.0001 - val_loss 0.0001 - SDR 0.9637 - R_ave 1.4289\n",
      "Epoch [693/1000]\n"
     ]
    },
    {
     "name": "stderr",
     "output_type": "stream",
     "text": [
      "100%|██████████| 60/60 [00:24<00:00,  2.45it/s, loss=7.75e-5]\n",
      "100%|██████████| 26/26 [00:16<00:00,  1.54it/s, val_loss=9.64e-5, SDR=0.966, R_ave=1.4] \n",
      "  0%|          | 0/60 [00:00<?, ?it/s]"
     ]
    },
    {
     "name": "stdout",
     "output_type": "stream",
     "text": [
      "loss 0.0001 - val_loss 0.0001 - SDR 0.9661 - R_ave 1.3957\n",
      "Epoch [694/1000]\n"
     ]
    },
    {
     "name": "stderr",
     "output_type": "stream",
     "text": [
      "100%|██████████| 60/60 [00:24<00:00,  2.46it/s, loss=7.71e-5]\n",
      "100%|██████████| 26/26 [00:16<00:00,  1.54it/s, val_loss=9.52e-5, SDR=0.968, R_ave=1.41]\n",
      "  0%|          | 0/60 [00:00<?, ?it/s]"
     ]
    },
    {
     "name": "stdout",
     "output_type": "stream",
     "text": [
      "loss 0.0001 - val_loss 0.0001 - SDR 0.9676 - R_ave 1.4084\n",
      "Epoch [695/1000]\n"
     ]
    },
    {
     "name": "stderr",
     "output_type": "stream",
     "text": [
      "100%|██████████| 60/60 [00:24<00:00,  2.45it/s, loss=7.54e-5]\n",
      "100%|██████████| 26/26 [00:17<00:00,  1.51it/s, val_loss=9.55e-5, SDR=0.971, R_ave=1.39]\n",
      "  0%|          | 0/60 [00:00<?, ?it/s]"
     ]
    },
    {
     "name": "stdout",
     "output_type": "stream",
     "text": [
      "loss 0.0001 - val_loss 0.0001 - SDR 0.9708 - R_ave 1.3891\n",
      "Epoch [696/1000]\n"
     ]
    },
    {
     "name": "stderr",
     "output_type": "stream",
     "text": [
      "100%|██████████| 60/60 [00:24<00:00,  2.46it/s, loss=7.7e-5] \n",
      "100%|██████████| 26/26 [00:16<00:00,  1.55it/s, val_loss=9.71e-5, SDR=0.966, R_ave=1.4] \n",
      "  0%|          | 0/60 [00:00<?, ?it/s]"
     ]
    },
    {
     "name": "stdout",
     "output_type": "stream",
     "text": [
      "loss 0.0001 - val_loss 0.0001 - SDR 0.9659 - R_ave 1.3995\n",
      "Epoch [697/1000]\n"
     ]
    },
    {
     "name": "stderr",
     "output_type": "stream",
     "text": [
      "100%|██████████| 60/60 [00:24<00:00,  2.46it/s, loss=7.53e-5]\n",
      "100%|██████████| 26/26 [00:16<00:00,  1.54it/s, val_loss=9.63e-5, SDR=0.969, R_ave=1.38]\n",
      "  0%|          | 0/60 [00:00<?, ?it/s]"
     ]
    },
    {
     "name": "stdout",
     "output_type": "stream",
     "text": [
      "loss 0.0001 - val_loss 0.0001 - SDR 0.9695 - R_ave 1.3831\n",
      "Epoch [698/1000]\n"
     ]
    },
    {
     "name": "stderr",
     "output_type": "stream",
     "text": [
      "100%|██████████| 60/60 [00:24<00:00,  2.45it/s, loss=7.46e-5]\n",
      "100%|██████████| 26/26 [00:17<00:00,  1.51it/s, val_loss=9.7e-5, SDR=0.965, R_ave=1.42] \n",
      "  0%|          | 0/60 [00:00<?, ?it/s]"
     ]
    },
    {
     "name": "stdout",
     "output_type": "stream",
     "text": [
      "loss 0.0001 - val_loss 0.0001 - SDR 0.9647 - R_ave 1.4175\n",
      "Epoch [699/1000]\n"
     ]
    },
    {
     "name": "stderr",
     "output_type": "stream",
     "text": [
      "100%|██████████| 60/60 [00:24<00:00,  2.45it/s, loss=7.71e-5]\n",
      "100%|██████████| 26/26 [00:16<00:00,  1.54it/s, val_loss=9.56e-5, SDR=0.966, R_ave=1.4] \n",
      "  0%|          | 0/60 [00:00<?, ?it/s]"
     ]
    },
    {
     "name": "stdout",
     "output_type": "stream",
     "text": [
      "loss 0.0001 - val_loss 0.0001 - SDR 0.9659 - R_ave 1.3984\n",
      "Epoch [700/1000]\n"
     ]
    },
    {
     "name": "stderr",
     "output_type": "stream",
     "text": [
      "100%|██████████| 60/60 [00:24<00:00,  2.45it/s, loss=7.67e-5]\n",
      "100%|██████████| 26/26 [00:16<00:00,  1.54it/s, val_loss=9.86e-5, SDR=0.967, R_ave=1.41]\n",
      "  0%|          | 0/60 [00:00<?, ?it/s]"
     ]
    },
    {
     "name": "stdout",
     "output_type": "stream",
     "text": [
      "loss 0.0001 - val_loss 0.0001 - SDR 0.9669 - R_ave 1.4080\n",
      "Epoch [701/1000]\n"
     ]
    },
    {
     "name": "stderr",
     "output_type": "stream",
     "text": [
      "100%|██████████| 60/60 [00:25<00:00,  2.40it/s, loss=7.78e-5]\n",
      "100%|██████████| 26/26 [00:17<00:00,  1.52it/s, val_loss=9.7e-5, SDR=0.966, R_ave=1.39] \n",
      "  0%|          | 0/60 [00:00<?, ?it/s]"
     ]
    },
    {
     "name": "stdout",
     "output_type": "stream",
     "text": [
      "loss 0.0001 - val_loss 0.0001 - SDR 0.9664 - R_ave 1.3948\n",
      "Epoch [702/1000]\n"
     ]
    },
    {
     "name": "stderr",
     "output_type": "stream",
     "text": [
      "100%|██████████| 60/60 [00:24<00:00,  2.45it/s, loss=7.62e-5]\n",
      "100%|██████████| 26/26 [00:16<00:00,  1.53it/s, val_loss=9.35e-5, SDR=0.969, R_ave=1.39]\n",
      "  0%|          | 0/60 [00:00<?, ?it/s]"
     ]
    },
    {
     "name": "stdout",
     "output_type": "stream",
     "text": [
      "loss 0.0001 - val_loss 0.0001 - SDR 0.9687 - R_ave 1.3860\n",
      "Epoch [703/1000]\n"
     ]
    },
    {
     "name": "stderr",
     "output_type": "stream",
     "text": [
      "100%|██████████| 60/60 [00:24<00:00,  2.44it/s, loss=7.48e-5]\n",
      "100%|██████████| 26/26 [00:16<00:00,  1.53it/s, val_loss=9.25e-5, SDR=0.967, R_ave=1.39]\n",
      "  0%|          | 0/60 [00:00<?, ?it/s]"
     ]
    },
    {
     "name": "stdout",
     "output_type": "stream",
     "text": [
      "loss 0.0001 - val_loss 0.0001 - SDR 0.9669 - R_ave 1.3902\n",
      "Epoch [704/1000]\n"
     ]
    },
    {
     "name": "stderr",
     "output_type": "stream",
     "text": [
      "100%|██████████| 60/60 [00:24<00:00,  2.42it/s, loss=7.46e-5]\n",
      "100%|██████████| 26/26 [00:16<00:00,  1.54it/s, val_loss=9.82e-5, SDR=0.964, R_ave=1.41]\n",
      "  0%|          | 0/60 [00:00<?, ?it/s]"
     ]
    },
    {
     "name": "stdout",
     "output_type": "stream",
     "text": [
      "loss 0.0001 - val_loss 0.0001 - SDR 0.9640 - R_ave 1.4143\n",
      "Epoch [705/1000]\n"
     ]
    },
    {
     "name": "stderr",
     "output_type": "stream",
     "text": [
      "100%|██████████| 60/60 [00:24<00:00,  2.45it/s, loss=7.47e-5]\n",
      "100%|██████████| 26/26 [00:16<00:00,  1.54it/s, val_loss=9.44e-5, SDR=0.969, R_ave=1.38]\n",
      "  0%|          | 0/60 [00:00<?, ?it/s]"
     ]
    },
    {
     "name": "stdout",
     "output_type": "stream",
     "text": [
      "loss 0.0001 - val_loss 0.0001 - SDR 0.9693 - R_ave 1.3831\n",
      "Epoch [706/1000]\n"
     ]
    },
    {
     "name": "stderr",
     "output_type": "stream",
     "text": [
      "100%|██████████| 60/60 [00:24<00:00,  2.47it/s, loss=7.52e-5]\n",
      "100%|██████████| 26/26 [00:16<00:00,  1.53it/s, val_loss=9.4e-5, SDR=0.966, R_ave=1.38] \n",
      "  0%|          | 0/60 [00:00<?, ?it/s]"
     ]
    },
    {
     "name": "stdout",
     "output_type": "stream",
     "text": [
      "loss 0.0001 - val_loss 0.0001 - SDR 0.9663 - R_ave 1.3793\n",
      "Epoch [707/1000]\n"
     ]
    },
    {
     "name": "stderr",
     "output_type": "stream",
     "text": [
      "100%|██████████| 60/60 [00:24<00:00,  2.44it/s, loss=7.64e-5]\n",
      "100%|██████████| 26/26 [00:16<00:00,  1.54it/s, val_loss=9.88e-5, SDR=0.967, R_ave=1.4] \n",
      "  0%|          | 0/60 [00:00<?, ?it/s]"
     ]
    },
    {
     "name": "stdout",
     "output_type": "stream",
     "text": [
      "loss 0.0001 - val_loss 0.0001 - SDR 0.9671 - R_ave 1.3966\n",
      "Epoch [708/1000]\n"
     ]
    },
    {
     "name": "stderr",
     "output_type": "stream",
     "text": [
      "100%|██████████| 60/60 [00:24<00:00,  2.46it/s, loss=7.51e-5]\n",
      "100%|██████████| 26/26 [00:16<00:00,  1.54it/s, val_loss=9.29e-5, SDR=0.969, R_ave=1.37]\n",
      "  0%|          | 0/60 [00:00<?, ?it/s]"
     ]
    },
    {
     "name": "stdout",
     "output_type": "stream",
     "text": [
      "loss 0.0001 - val_loss 0.0001 - SDR 0.9688 - R_ave 1.3670\n",
      "Epoch [709/1000]\n"
     ]
    },
    {
     "name": "stderr",
     "output_type": "stream",
     "text": [
      "100%|██████████| 60/60 [00:24<00:00,  2.47it/s, loss=7.43e-5]\n",
      "100%|██████████| 26/26 [00:17<00:00,  1.53it/s, val_loss=9.42e-5, SDR=0.969, R_ave=1.38]\n",
      "  0%|          | 0/60 [00:00<?, ?it/s]"
     ]
    },
    {
     "name": "stdout",
     "output_type": "stream",
     "text": [
      "loss 0.0001 - val_loss 0.0001 - SDR 0.9688 - R_ave 1.3761\n",
      "Epoch [710/1000]\n"
     ]
    },
    {
     "name": "stderr",
     "output_type": "stream",
     "text": [
      "100%|██████████| 60/60 [00:24<00:00,  2.42it/s, loss=7.49e-5]\n",
      "100%|██████████| 26/26 [00:16<00:00,  1.55it/s, val_loss=9.8e-5, SDR=0.966, R_ave=1.41] \n",
      "  0%|          | 0/60 [00:00<?, ?it/s]"
     ]
    },
    {
     "name": "stdout",
     "output_type": "stream",
     "text": [
      "loss 0.0001 - val_loss 0.0001 - SDR 0.9664 - R_ave 1.4077\n",
      "Epoch [711/1000]\n"
     ]
    },
    {
     "name": "stderr",
     "output_type": "stream",
     "text": [
      "100%|██████████| 60/60 [00:24<00:00,  2.45it/s, loss=7.62e-5]\n",
      "100%|██████████| 26/26 [00:16<00:00,  1.55it/s, val_loss=9.46e-5, SDR=0.965, R_ave=1.39]\n",
      "  0%|          | 0/60 [00:00<?, ?it/s]"
     ]
    },
    {
     "name": "stdout",
     "output_type": "stream",
     "text": [
      "loss 0.0001 - val_loss 0.0001 - SDR 0.9647 - R_ave 1.3870\n",
      "Epoch [712/1000]\n"
     ]
    },
    {
     "name": "stderr",
     "output_type": "stream",
     "text": [
      "100%|██████████| 60/60 [00:24<00:00,  2.46it/s, loss=7.33e-5]\n",
      "100%|██████████| 26/26 [00:17<00:00,  1.53it/s, val_loss=9.6e-5, SDR=0.966, R_ave=1.38] \n",
      "  0%|          | 0/60 [00:00<?, ?it/s]"
     ]
    },
    {
     "name": "stdout",
     "output_type": "stream",
     "text": [
      "loss 0.0001 - val_loss 0.0001 - SDR 0.9658 - R_ave 1.3762\n",
      "Epoch [713/1000]\n"
     ]
    },
    {
     "name": "stderr",
     "output_type": "stream",
     "text": [
      "100%|██████████| 60/60 [00:24<00:00,  2.43it/s, loss=7.51e-5]\n",
      "100%|██████████| 26/26 [00:16<00:00,  1.54it/s, val_loss=9.57e-5, SDR=0.969, R_ave=1.39]\n",
      "  0%|          | 0/60 [00:00<?, ?it/s]"
     ]
    },
    {
     "name": "stdout",
     "output_type": "stream",
     "text": [
      "loss 0.0001 - val_loss 0.0001 - SDR 0.9693 - R_ave 1.3853\n",
      "Epoch [714/1000]\n"
     ]
    },
    {
     "name": "stderr",
     "output_type": "stream",
     "text": [
      "100%|██████████| 60/60 [00:24<00:00,  2.46it/s, loss=7.56e-5]\n",
      "100%|██████████| 26/26 [00:16<00:00,  1.54it/s, val_loss=9.56e-5, SDR=0.966, R_ave=1.39]\n",
      "  0%|          | 0/60 [00:00<?, ?it/s]"
     ]
    },
    {
     "name": "stdout",
     "output_type": "stream",
     "text": [
      "loss 0.0001 - val_loss 0.0001 - SDR 0.9661 - R_ave 1.3935\n",
      "Epoch [715/1000]\n"
     ]
    },
    {
     "name": "stderr",
     "output_type": "stream",
     "text": [
      "100%|██████████| 60/60 [00:24<00:00,  2.46it/s, loss=7.44e-5]\n",
      "100%|██████████| 26/26 [00:17<00:00,  1.51it/s, val_loss=9.12e-5, SDR=0.968, R_ave=1.37]\n",
      "  0%|          | 0/60 [00:00<?, ?it/s]"
     ]
    },
    {
     "name": "stdout",
     "output_type": "stream",
     "text": [
      "loss 0.0001 - val_loss 0.0001 - SDR 0.9682 - R_ave 1.3723\n",
      "Epoch [716/1000]\n"
     ]
    },
    {
     "name": "stderr",
     "output_type": "stream",
     "text": [
      "100%|██████████| 60/60 [00:24<00:00,  2.42it/s, loss=7.29e-5]\n",
      "100%|██████████| 26/26 [00:16<00:00,  1.54it/s, val_loss=9.42e-5, SDR=0.969, R_ave=1.37]\n",
      "  0%|          | 0/60 [00:00<?, ?it/s]"
     ]
    },
    {
     "name": "stdout",
     "output_type": "stream",
     "text": [
      "loss 0.0001 - val_loss 0.0001 - SDR 0.9688 - R_ave 1.3733\n",
      "Epoch [717/1000]\n"
     ]
    },
    {
     "name": "stderr",
     "output_type": "stream",
     "text": [
      "100%|██████████| 60/60 [00:24<00:00,  2.46it/s, loss=7.47e-5]\n",
      "100%|██████████| 26/26 [00:16<00:00,  1.54it/s, val_loss=9.51e-5, SDR=0.968, R_ave=1.39]\n",
      "  0%|          | 0/60 [00:00<?, ?it/s]"
     ]
    },
    {
     "name": "stdout",
     "output_type": "stream",
     "text": [
      "loss 0.0001 - val_loss 0.0001 - SDR 0.9680 - R_ave 1.3898\n",
      "Epoch [718/1000]\n"
     ]
    },
    {
     "name": "stderr",
     "output_type": "stream",
     "text": [
      "100%|██████████| 60/60 [00:24<00:00,  2.47it/s, loss=7.42e-5]\n",
      "100%|██████████| 26/26 [00:17<00:00,  1.50it/s, val_loss=9.15e-5, SDR=0.968, R_ave=1.38]\n",
      "  0%|          | 0/60 [00:00<?, ?it/s]"
     ]
    },
    {
     "name": "stdout",
     "output_type": "stream",
     "text": [
      "loss 0.0001 - val_loss 0.0001 - SDR 0.9680 - R_ave 1.3750\n",
      "Epoch [719/1000]\n"
     ]
    },
    {
     "name": "stderr",
     "output_type": "stream",
     "text": [
      "100%|██████████| 60/60 [00:24<00:00,  2.45it/s, loss=7.34e-5]\n",
      "100%|██████████| 26/26 [00:16<00:00,  1.54it/s, val_loss=0.000102, SDR=0.965, R_ave=1.41]\n",
      "  0%|          | 0/60 [00:00<?, ?it/s]"
     ]
    },
    {
     "name": "stdout",
     "output_type": "stream",
     "text": [
      "loss 0.0001 - val_loss 0.0001 - SDR 0.9653 - R_ave 1.4085\n",
      "Epoch [720/1000]\n"
     ]
    },
    {
     "name": "stderr",
     "output_type": "stream",
     "text": [
      "100%|██████████| 60/60 [00:24<00:00,  2.46it/s, loss=7.4e-5] \n",
      "100%|██████████| 26/26 [00:16<00:00,  1.54it/s, val_loss=9.86e-5, SDR=0.966, R_ave=1.41]\n",
      "  0%|          | 0/60 [00:00<?, ?it/s]"
     ]
    },
    {
     "name": "stdout",
     "output_type": "stream",
     "text": [
      "loss 0.0001 - val_loss 0.0001 - SDR 0.9659 - R_ave 1.4062\n",
      "Epoch [721/1000]\n"
     ]
    },
    {
     "name": "stderr",
     "output_type": "stream",
     "text": [
      "100%|██████████| 60/60 [00:24<00:00,  2.45it/s, loss=7.36e-5]\n",
      "100%|██████████| 26/26 [00:17<00:00,  1.51it/s, val_loss=9.67e-5, SDR=0.967, R_ave=1.42]\n",
      "  0%|          | 0/60 [00:00<?, ?it/s]"
     ]
    },
    {
     "name": "stdout",
     "output_type": "stream",
     "text": [
      "loss 0.0001 - val_loss 0.0001 - SDR 0.9672 - R_ave 1.4231\n",
      "Epoch [722/1000]\n"
     ]
    },
    {
     "name": "stderr",
     "output_type": "stream",
     "text": [
      "100%|██████████| 60/60 [00:24<00:00,  2.45it/s, loss=7.41e-5]\n",
      "100%|██████████| 26/26 [00:16<00:00,  1.54it/s, val_loss=9.37e-5, SDR=0.97, R_ave=1.38] \n",
      "  0%|          | 0/60 [00:00<?, ?it/s]"
     ]
    },
    {
     "name": "stdout",
     "output_type": "stream",
     "text": [
      "loss 0.0001 - val_loss 0.0001 - SDR 0.9696 - R_ave 1.3822\n",
      "Epoch [723/1000]\n"
     ]
    },
    {
     "name": "stderr",
     "output_type": "stream",
     "text": [
      "100%|██████████| 60/60 [00:24<00:00,  2.45it/s, loss=7.54e-5]\n",
      "100%|██████████| 26/26 [00:16<00:00,  1.55it/s, val_loss=0.0001, SDR=0.967, R_ave=1.41] \n",
      "  0%|          | 0/60 [00:00<?, ?it/s]"
     ]
    },
    {
     "name": "stdout",
     "output_type": "stream",
     "text": [
      "loss 0.0001 - val_loss 0.0001 - SDR 0.9671 - R_ave 1.4059\n",
      "Epoch [724/1000]\n"
     ]
    },
    {
     "name": "stderr",
     "output_type": "stream",
     "text": [
      "100%|██████████| 60/60 [00:24<00:00,  2.45it/s, loss=7.49e-5]\n",
      "100%|██████████| 26/26 [00:17<00:00,  1.50it/s, val_loss=9.66e-5, SDR=0.968, R_ave=1.42]\n",
      "  0%|          | 0/60 [00:00<?, ?it/s]"
     ]
    },
    {
     "name": "stdout",
     "output_type": "stream",
     "text": [
      "loss 0.0001 - val_loss 0.0001 - SDR 0.9679 - R_ave 1.4163\n",
      "Epoch [725/1000]\n"
     ]
    },
    {
     "name": "stderr",
     "output_type": "stream",
     "text": [
      "100%|██████████| 60/60 [00:24<00:00,  2.46it/s, loss=7.29e-5]\n",
      "100%|██████████| 26/26 [00:16<00:00,  1.54it/s, val_loss=9.56e-5, SDR=0.968, R_ave=1.4] \n",
      "  0%|          | 0/60 [00:00<?, ?it/s]"
     ]
    },
    {
     "name": "stdout",
     "output_type": "stream",
     "text": [
      "loss 0.0001 - val_loss 0.0001 - SDR 0.9676 - R_ave 1.3985\n",
      "Epoch [726/1000]\n"
     ]
    },
    {
     "name": "stderr",
     "output_type": "stream",
     "text": [
      "100%|██████████| 60/60 [00:24<00:00,  2.47it/s, loss=7.46e-5]\n",
      "100%|██████████| 26/26 [00:16<00:00,  1.54it/s, val_loss=9.39e-5, SDR=0.967, R_ave=1.37]\n",
      "  0%|          | 0/60 [00:00<?, ?it/s]"
     ]
    },
    {
     "name": "stdout",
     "output_type": "stream",
     "text": [
      "loss 0.0001 - val_loss 0.0001 - SDR 0.9674 - R_ave 1.3736\n",
      "Epoch [727/1000]\n"
     ]
    },
    {
     "name": "stderr",
     "output_type": "stream",
     "text": [
      "100%|██████████| 60/60 [00:24<00:00,  2.43it/s, loss=7.45e-5]\n",
      "100%|██████████| 26/26 [00:17<00:00,  1.52it/s, val_loss=9.47e-5, SDR=0.967, R_ave=1.38]\n",
      "  0%|          | 0/60 [00:00<?, ?it/s]"
     ]
    },
    {
     "name": "stdout",
     "output_type": "stream",
     "text": [
      "loss 0.0001 - val_loss 0.0001 - SDR 0.9674 - R_ave 1.3810\n",
      "Epoch [728/1000]\n"
     ]
    },
    {
     "name": "stderr",
     "output_type": "stream",
     "text": [
      "100%|██████████| 60/60 [00:24<00:00,  2.46it/s, loss=7.3e-5] \n",
      "100%|██████████| 26/26 [00:16<00:00,  1.54it/s, val_loss=9.61e-5, SDR=0.968, R_ave=1.38]\n",
      "  0%|          | 0/60 [00:00<?, ?it/s]"
     ]
    },
    {
     "name": "stdout",
     "output_type": "stream",
     "text": [
      "loss 0.0001 - val_loss 0.0001 - SDR 0.9676 - R_ave 1.3840\n",
      "Epoch [729/1000]\n"
     ]
    },
    {
     "name": "stderr",
     "output_type": "stream",
     "text": [
      "100%|██████████| 60/60 [00:24<00:00,  2.45it/s, loss=7.3e-5] \n",
      "100%|██████████| 26/26 [00:16<00:00,  1.54it/s, val_loss=9.42e-5, SDR=0.969, R_ave=1.37]\n",
      "  0%|          | 0/60 [00:00<?, ?it/s]"
     ]
    },
    {
     "name": "stdout",
     "output_type": "stream",
     "text": [
      "loss 0.0001 - val_loss 0.0001 - SDR 0.9685 - R_ave 1.3703\n",
      "Epoch [730/1000]\n"
     ]
    },
    {
     "name": "stderr",
     "output_type": "stream",
     "text": [
      "100%|██████████| 60/60 [00:24<00:00,  2.43it/s, loss=7.29e-5]\n",
      "100%|██████████| 26/26 [00:16<00:00,  1.53it/s, val_loss=9.42e-5, SDR=0.968, R_ave=1.38]\n",
      "  0%|          | 0/60 [00:00<?, ?it/s]"
     ]
    },
    {
     "name": "stdout",
     "output_type": "stream",
     "text": [
      "loss 0.0001 - val_loss 0.0001 - SDR 0.9679 - R_ave 1.3795\n",
      "Epoch [731/1000]\n"
     ]
    },
    {
     "name": "stderr",
     "output_type": "stream",
     "text": [
      "100%|██████████| 60/60 [00:24<00:00,  2.46it/s, loss=7.31e-5]\n",
      "100%|██████████| 26/26 [00:16<00:00,  1.54it/s, val_loss=9.24e-5, SDR=0.969, R_ave=1.37]\n",
      "  0%|          | 0/60 [00:00<?, ?it/s]"
     ]
    },
    {
     "name": "stdout",
     "output_type": "stream",
     "text": [
      "loss 0.0001 - val_loss 0.0001 - SDR 0.9688 - R_ave 1.3721\n",
      "Epoch [732/1000]\n"
     ]
    },
    {
     "name": "stderr",
     "output_type": "stream",
     "text": [
      "100%|██████████| 60/60 [00:24<00:00,  2.45it/s, loss=7.35e-5]\n",
      "100%|██████████| 26/26 [00:16<00:00,  1.55it/s, val_loss=9.33e-5, SDR=0.969, R_ave=1.37]\n",
      "  0%|          | 0/60 [00:00<?, ?it/s]"
     ]
    },
    {
     "name": "stdout",
     "output_type": "stream",
     "text": [
      "loss 0.0001 - val_loss 0.0001 - SDR 0.9690 - R_ave 1.3689\n",
      "Epoch [733/1000]\n"
     ]
    },
    {
     "name": "stderr",
     "output_type": "stream",
     "text": [
      "100%|██████████| 60/60 [00:24<00:00,  2.42it/s, loss=7.36e-5]\n",
      "100%|██████████| 26/26 [00:16<00:00,  1.54it/s, val_loss=9.59e-5, SDR=0.969, R_ave=1.39]\n",
      "  0%|          | 0/60 [00:00<?, ?it/s]"
     ]
    },
    {
     "name": "stdout",
     "output_type": "stream",
     "text": [
      "loss 0.0001 - val_loss 0.0001 - SDR 0.9692 - R_ave 1.3898\n",
      "Epoch [734/1000]\n"
     ]
    },
    {
     "name": "stderr",
     "output_type": "stream",
     "text": [
      "100%|██████████| 60/60 [00:24<00:00,  2.45it/s, loss=7.38e-5]\n",
      "100%|██████████| 26/26 [00:16<00:00,  1.55it/s, val_loss=9.53e-5, SDR=0.967, R_ave=1.4] \n",
      "  0%|          | 0/60 [00:00<?, ?it/s]"
     ]
    },
    {
     "name": "stdout",
     "output_type": "stream",
     "text": [
      "loss 0.0001 - val_loss 0.0001 - SDR 0.9671 - R_ave 1.4025\n",
      "Epoch [735/1000]\n"
     ]
    },
    {
     "name": "stderr",
     "output_type": "stream",
     "text": [
      "100%|██████████| 60/60 [00:24<00:00,  2.45it/s, loss=7.24e-5]\n",
      "100%|██████████| 26/26 [00:16<00:00,  1.53it/s, val_loss=9.62e-5, SDR=0.968, R_ave=1.41]\n",
      "  0%|          | 0/60 [00:00<?, ?it/s]"
     ]
    },
    {
     "name": "stdout",
     "output_type": "stream",
     "text": [
      "loss 0.0001 - val_loss 0.0001 - SDR 0.9679 - R_ave 1.4150\n",
      "Epoch [736/1000]\n"
     ]
    },
    {
     "name": "stderr",
     "output_type": "stream",
     "text": [
      "100%|██████████| 60/60 [00:24<00:00,  2.44it/s, loss=7.31e-5]\n",
      "100%|██████████| 26/26 [00:16<00:00,  1.54it/s, val_loss=9.32e-5, SDR=0.968, R_ave=1.39]\n",
      "  0%|          | 0/60 [00:00<?, ?it/s]"
     ]
    },
    {
     "name": "stdout",
     "output_type": "stream",
     "text": [
      "loss 0.0001 - val_loss 0.0001 - SDR 0.9677 - R_ave 1.3877\n",
      "Epoch [737/1000]\n"
     ]
    },
    {
     "name": "stderr",
     "output_type": "stream",
     "text": [
      "100%|██████████| 60/60 [00:24<00:00,  2.46it/s, loss=7.31e-5]\n",
      "100%|██████████| 26/26 [00:16<00:00,  1.54it/s, val_loss=9.43e-5, SDR=0.967, R_ave=1.38]\n",
      "  0%|          | 0/60 [00:00<?, ?it/s]"
     ]
    },
    {
     "name": "stdout",
     "output_type": "stream",
     "text": [
      "loss 0.0001 - val_loss 0.0001 - SDR 0.9672 - R_ave 1.3831\n",
      "Epoch [738/1000]\n"
     ]
    },
    {
     "name": "stderr",
     "output_type": "stream",
     "text": [
      "100%|██████████| 60/60 [00:24<00:00,  2.46it/s, loss=7.48e-5]\n",
      "100%|██████████| 26/26 [00:17<00:00,  1.52it/s, val_loss=9.93e-5, SDR=0.962, R_ave=1.45] \n",
      "  0%|          | 0/60 [00:00<?, ?it/s]"
     ]
    },
    {
     "name": "stdout",
     "output_type": "stream",
     "text": [
      "loss 0.0001 - val_loss 0.0001 - SDR 0.9624 - R_ave 1.4478\n",
      "Epoch [739/1000]\n"
     ]
    },
    {
     "name": "stderr",
     "output_type": "stream",
     "text": [
      "100%|██████████| 60/60 [00:24<00:00,  2.42it/s, loss=7.53e-5]\n",
      "100%|██████████| 26/26 [00:16<00:00,  1.54it/s, val_loss=9.75e-5, SDR=0.966, R_ave=1.4] \n",
      "  0%|          | 0/60 [00:00<?, ?it/s]"
     ]
    },
    {
     "name": "stdout",
     "output_type": "stream",
     "text": [
      "loss 0.0001 - val_loss 0.0001 - SDR 0.9656 - R_ave 1.3970\n",
      "Epoch [740/1000]\n"
     ]
    },
    {
     "name": "stderr",
     "output_type": "stream",
     "text": [
      "100%|██████████| 60/60 [00:24<00:00,  2.46it/s, loss=7.36e-5]\n",
      "100%|██████████| 26/26 [00:16<00:00,  1.54it/s, val_loss=9.57e-5, SDR=0.966, R_ave=1.39]\n",
      "  0%|          | 0/60 [00:00<?, ?it/s]"
     ]
    },
    {
     "name": "stdout",
     "output_type": "stream",
     "text": [
      "loss 0.0001 - val_loss 0.0001 - SDR 0.9658 - R_ave 1.3883\n",
      "Epoch [741/1000]\n"
     ]
    },
    {
     "name": "stderr",
     "output_type": "stream",
     "text": [
      "100%|██████████| 60/60 [00:24<00:00,  2.46it/s, loss=7.28e-5]\n",
      "100%|██████████| 26/26 [00:17<00:00,  1.51it/s, val_loss=9.47e-5, SDR=0.968, R_ave=1.39]\n",
      "  0%|          | 0/60 [00:00<?, ?it/s]"
     ]
    },
    {
     "name": "stdout",
     "output_type": "stream",
     "text": [
      "loss 0.0001 - val_loss 0.0001 - SDR 0.9684 - R_ave 1.3891\n",
      "Epoch [742/1000]\n"
     ]
    },
    {
     "name": "stderr",
     "output_type": "stream",
     "text": [
      "100%|██████████| 60/60 [00:24<00:00,  2.43it/s, loss=7.38e-5]\n",
      "100%|██████████| 26/26 [00:16<00:00,  1.54it/s, val_loss=9.23e-5, SDR=0.966, R_ave=1.39]\n",
      "  0%|          | 0/60 [00:00<?, ?it/s]"
     ]
    },
    {
     "name": "stdout",
     "output_type": "stream",
     "text": [
      "loss 0.0001 - val_loss 0.0001 - SDR 0.9664 - R_ave 1.3851\n",
      "Epoch [743/1000]\n"
     ]
    },
    {
     "name": "stderr",
     "output_type": "stream",
     "text": [
      "100%|██████████| 60/60 [00:24<00:00,  2.46it/s, loss=7.32e-5]\n",
      "100%|██████████| 26/26 [00:16<00:00,  1.54it/s, val_loss=9.3e-5, SDR=0.965, R_ave=1.38] \n",
      "  0%|          | 0/60 [00:00<?, ?it/s]"
     ]
    },
    {
     "name": "stdout",
     "output_type": "stream",
     "text": [
      "loss 0.0001 - val_loss 0.0001 - SDR 0.9650 - R_ave 1.3815\n",
      "Epoch [744/1000]\n"
     ]
    },
    {
     "name": "stderr",
     "output_type": "stream",
     "text": [
      "100%|██████████| 60/60 [00:24<00:00,  2.45it/s, loss=7.3e-5] \n",
      "100%|██████████| 26/26 [00:17<00:00,  1.50it/s, val_loss=9.54e-5, SDR=0.965, R_ave=1.39]\n",
      "  0%|          | 0/60 [00:00<?, ?it/s]"
     ]
    },
    {
     "name": "stdout",
     "output_type": "stream",
     "text": [
      "loss 0.0001 - val_loss 0.0001 - SDR 0.9653 - R_ave 1.3883\n",
      "Epoch [745/1000]\n"
     ]
    },
    {
     "name": "stderr",
     "output_type": "stream",
     "text": [
      "100%|██████████| 60/60 [00:24<00:00,  2.44it/s, loss=7.32e-5]\n",
      "100%|██████████| 26/26 [00:16<00:00,  1.55it/s, val_loss=9.59e-5, SDR=0.965, R_ave=1.4] \n",
      "  0%|          | 0/60 [00:00<?, ?it/s]"
     ]
    },
    {
     "name": "stdout",
     "output_type": "stream",
     "text": [
      "loss 0.0001 - val_loss 0.0001 - SDR 0.9653 - R_ave 1.4017\n",
      "Epoch [746/1000]\n"
     ]
    },
    {
     "name": "stderr",
     "output_type": "stream",
     "text": [
      "100%|██████████| 60/60 [00:24<00:00,  2.44it/s, loss=7.2e-5] \n",
      "100%|██████████| 26/26 [00:16<00:00,  1.54it/s, val_loss=9.49e-5, SDR=0.965, R_ave=1.39]\n",
      "  0%|          | 0/60 [00:00<?, ?it/s]"
     ]
    },
    {
     "name": "stdout",
     "output_type": "stream",
     "text": [
      "loss 0.0001 - val_loss 0.0001 - SDR 0.9648 - R_ave 1.3913\n",
      "Epoch [747/1000]\n"
     ]
    },
    {
     "name": "stderr",
     "output_type": "stream",
     "text": [
      "100%|██████████| 60/60 [00:24<00:00,  2.45it/s, loss=7.27e-5]\n",
      "100%|██████████| 26/26 [00:17<00:00,  1.50it/s, val_loss=9.39e-5, SDR=0.967, R_ave=1.38]\n",
      "  0%|          | 0/60 [00:00<?, ?it/s]"
     ]
    },
    {
     "name": "stdout",
     "output_type": "stream",
     "text": [
      "loss 0.0001 - val_loss 0.0001 - SDR 0.9671 - R_ave 1.3754\n",
      "Epoch [748/1000]\n"
     ]
    },
    {
     "name": "stderr",
     "output_type": "stream",
     "text": [
      "100%|██████████| 60/60 [00:24<00:00,  2.45it/s, loss=7.51e-5]\n",
      "100%|██████████| 26/26 [00:16<00:00,  1.54it/s, val_loss=0.0001, SDR=0.965, R_ave=1.41]  \n",
      "  0%|          | 0/60 [00:00<?, ?it/s]"
     ]
    },
    {
     "name": "stdout",
     "output_type": "stream",
     "text": [
      "loss 0.0001 - val_loss 0.0001 - SDR 0.9655 - R_ave 1.4148\n",
      "Epoch [749/1000]\n"
     ]
    },
    {
     "name": "stderr",
     "output_type": "stream",
     "text": [
      "100%|██████████| 60/60 [00:24<00:00,  2.46it/s, loss=7.22e-5]\n",
      "100%|██████████| 26/26 [00:16<00:00,  1.54it/s, val_loss=9.38e-5, SDR=0.968, R_ave=1.39]\n",
      "  0%|          | 0/60 [00:00<?, ?it/s]"
     ]
    },
    {
     "name": "stdout",
     "output_type": "stream",
     "text": [
      "loss 0.0001 - val_loss 0.0001 - SDR 0.9680 - R_ave 1.3942\n",
      "Epoch [750/1000]\n"
     ]
    },
    {
     "name": "stderr",
     "output_type": "stream",
     "text": [
      "100%|██████████| 60/60 [00:24<00:00,  2.45it/s, loss=7.22e-5]\n",
      "100%|██████████| 26/26 [00:17<00:00,  1.51it/s, val_loss=9.38e-5, SDR=0.966, R_ave=1.39]\n",
      "  0%|          | 0/60 [00:00<?, ?it/s]"
     ]
    },
    {
     "name": "stdout",
     "output_type": "stream",
     "text": [
      "loss 0.0001 - val_loss 0.0001 - SDR 0.9659 - R_ave 1.3878\n",
      "Epoch [751/1000]\n"
     ]
    },
    {
     "name": "stderr",
     "output_type": "stream",
     "text": [
      "100%|██████████| 60/60 [00:24<00:00,  2.46it/s, loss=7.46e-5]\n",
      "100%|██████████| 26/26 [00:16<00:00,  1.54it/s, val_loss=9.35e-5, SDR=0.967, R_ave=1.39]\n",
      "  0%|          | 0/60 [00:00<?, ?it/s]"
     ]
    },
    {
     "name": "stdout",
     "output_type": "stream",
     "text": [
      "loss 0.0001 - val_loss 0.0001 - SDR 0.9666 - R_ave 1.3864\n",
      "Epoch [752/1000]\n"
     ]
    },
    {
     "name": "stderr",
     "output_type": "stream",
     "text": [
      "100%|██████████| 60/60 [00:24<00:00,  2.45it/s, loss=7.17e-5]\n",
      "100%|██████████| 26/26 [00:16<00:00,  1.54it/s, val_loss=9.56e-5, SDR=0.968, R_ave=1.39]\n",
      "  0%|          | 0/60 [00:00<?, ?it/s]"
     ]
    },
    {
     "name": "stdout",
     "output_type": "stream",
     "text": [
      "loss 0.0001 - val_loss 0.0001 - SDR 0.9676 - R_ave 1.3851\n",
      "Epoch [753/1000]\n"
     ]
    },
    {
     "name": "stderr",
     "output_type": "stream",
     "text": [
      "100%|██████████| 60/60 [00:24<00:00,  2.42it/s, loss=7.24e-5]\n",
      "100%|██████████| 26/26 [00:17<00:00,  1.52it/s, val_loss=9.35e-5, SDR=0.965, R_ave=1.38]\n",
      "  0%|          | 0/60 [00:00<?, ?it/s]"
     ]
    },
    {
     "name": "stdout",
     "output_type": "stream",
     "text": [
      "loss 0.0001 - val_loss 0.0001 - SDR 0.9651 - R_ave 1.3831\n",
      "Epoch [754/1000]\n"
     ]
    },
    {
     "name": "stderr",
     "output_type": "stream",
     "text": [
      "100%|██████████| 60/60 [00:24<00:00,  2.46it/s, loss=7.28e-5]\n",
      "100%|██████████| 26/26 [00:16<00:00,  1.54it/s, val_loss=9.87e-5, SDR=0.965, R_ave=1.4] \n",
      "  0%|          | 0/60 [00:00<?, ?it/s]"
     ]
    },
    {
     "name": "stdout",
     "output_type": "stream",
     "text": [
      "loss 0.0001 - val_loss 0.0001 - SDR 0.9653 - R_ave 1.4012\n",
      "Epoch [755/1000]\n"
     ]
    },
    {
     "name": "stderr",
     "output_type": "stream",
     "text": [
      "100%|██████████| 60/60 [00:24<00:00,  2.45it/s, loss=7.37e-5]\n",
      "100%|██████████| 26/26 [00:16<00:00,  1.54it/s, val_loss=9.52e-5, SDR=0.967, R_ave=1.39]\n",
      "  0%|          | 0/60 [00:00<?, ?it/s]"
     ]
    },
    {
     "name": "stdout",
     "output_type": "stream",
     "text": [
      "loss 0.0001 - val_loss 0.0001 - SDR 0.9666 - R_ave 1.3921\n",
      "Epoch [756/1000]\n"
     ]
    },
    {
     "name": "stderr",
     "output_type": "stream",
     "text": [
      "100%|██████████| 60/60 [00:24<00:00,  2.43it/s, loss=7.22e-5]\n",
      "100%|██████████| 26/26 [00:17<00:00,  1.53it/s, val_loss=9.28e-5, SDR=0.968, R_ave=1.38]\n",
      "  0%|          | 0/60 [00:00<?, ?it/s]"
     ]
    },
    {
     "name": "stdout",
     "output_type": "stream",
     "text": [
      "loss 0.0001 - val_loss 0.0001 - SDR 0.9684 - R_ave 1.3820\n",
      "Epoch [757/1000]\n"
     ]
    },
    {
     "name": "stderr",
     "output_type": "stream",
     "text": [
      "100%|██████████| 60/60 [00:24<00:00,  2.45it/s, loss=7.37e-5]\n",
      "100%|██████████| 26/26 [00:16<00:00,  1.54it/s, val_loss=9.52e-5, SDR=0.966, R_ave=1.41]\n"
     ]
    },
    {
     "name": "stdout",
     "output_type": "stream",
     "text": [
      "loss 0.0001 - val_loss 0.0001 - SDR 0.9661 - R_ave 1.4051\n"
     ]
    },
    {
     "name": "stderr",
     "output_type": "stream",
     "text": [
      "\r",
      "  0%|          | 0/60 [00:00<?, ?it/s]"
     ]
    },
    {
     "name": "stdout",
     "output_type": "stream",
     "text": [
      "Epoch [758/1000]\n"
     ]
    },
    {
     "name": "stderr",
     "output_type": "stream",
     "text": [
      "100%|██████████| 60/60 [00:24<00:00,  2.46it/s, loss=7.11e-5]\n",
      "100%|██████████| 26/26 [00:16<00:00,  1.54it/s, val_loss=9.38e-5, SDR=0.969, R_ave=1.39]\n",
      "  0%|          | 0/60 [00:00<?, ?it/s]"
     ]
    },
    {
     "name": "stdout",
     "output_type": "stream",
     "text": [
      "loss 0.0001 - val_loss 0.0001 - SDR 0.9687 - R_ave 1.3896\n",
      "Epoch [759/1000]\n"
     ]
    },
    {
     "name": "stderr",
     "output_type": "stream",
     "text": [
      "100%|██████████| 60/60 [00:24<00:00,  2.42it/s, loss=7.22e-5]\n",
      "100%|██████████| 26/26 [00:16<00:00,  1.54it/s, val_loss=9.41e-5, SDR=0.968, R_ave=1.4] \n",
      "  0%|          | 0/60 [00:00<?, ?it/s]"
     ]
    },
    {
     "name": "stdout",
     "output_type": "stream",
     "text": [
      "loss 0.0001 - val_loss 0.0001 - SDR 0.9676 - R_ave 1.4022\n",
      "Epoch [760/1000]\n"
     ]
    },
    {
     "name": "stderr",
     "output_type": "stream",
     "text": [
      "100%|██████████| 60/60 [00:24<00:00,  2.46it/s, loss=7.04e-5]\n",
      "100%|██████████| 26/26 [00:16<00:00,  1.54it/s, val_loss=9.35e-5, SDR=0.969, R_ave=1.37]\n",
      "  0%|          | 0/60 [00:00<?, ?it/s]"
     ]
    },
    {
     "name": "stdout",
     "output_type": "stream",
     "text": [
      "loss 0.0001 - val_loss 0.0001 - SDR 0.9692 - R_ave 1.3736\n",
      "Epoch [761/1000]\n"
     ]
    },
    {
     "name": "stderr",
     "output_type": "stream",
     "text": [
      "100%|██████████| 60/60 [00:24<00:00,  2.42it/s, loss=7.27e-5]\n",
      "100%|██████████| 26/26 [00:16<00:00,  1.54it/s, val_loss=9.67e-5, SDR=0.965, R_ave=1.41]\n",
      "  0%|          | 0/60 [00:00<?, ?it/s]"
     ]
    },
    {
     "name": "stdout",
     "output_type": "stream",
     "text": [
      "loss 0.0001 - val_loss 0.0001 - SDR 0.9651 - R_ave 1.4071\n",
      "Epoch [762/1000]\n"
     ]
    },
    {
     "name": "stderr",
     "output_type": "stream",
     "text": [
      "100%|██████████| 60/60 [00:24<00:00,  2.42it/s, loss=7.37e-5]\n",
      "100%|██████████| 26/26 [00:16<00:00,  1.54it/s, val_loss=9.42e-5, SDR=0.967, R_ave=1.39]\n",
      "  0%|          | 0/60 [00:00<?, ?it/s]"
     ]
    },
    {
     "name": "stdout",
     "output_type": "stream",
     "text": [
      "loss 0.0001 - val_loss 0.0001 - SDR 0.9666 - R_ave 1.3894\n",
      "Epoch [763/1000]\n"
     ]
    },
    {
     "name": "stderr",
     "output_type": "stream",
     "text": [
      "100%|██████████| 60/60 [00:24<00:00,  2.46it/s, loss=7.21e-5]\n",
      "100%|██████████| 26/26 [00:16<00:00,  1.55it/s, val_loss=9.6e-5, SDR=0.967, R_ave=1.39] \n",
      "  0%|          | 0/60 [00:00<?, ?it/s]"
     ]
    },
    {
     "name": "stdout",
     "output_type": "stream",
     "text": [
      "loss 0.0001 - val_loss 0.0001 - SDR 0.9674 - R_ave 1.3867\n",
      "Epoch [764/1000]\n"
     ]
    },
    {
     "name": "stderr",
     "output_type": "stream",
     "text": [
      "100%|██████████| 60/60 [00:24<00:00,  2.47it/s, loss=7.22e-5]\n",
      "100%|██████████| 26/26 [00:17<00:00,  1.53it/s, val_loss=9.28e-5, SDR=0.967, R_ave=1.39]\n",
      "  0%|          | 0/60 [00:00<?, ?it/s]"
     ]
    },
    {
     "name": "stdout",
     "output_type": "stream",
     "text": [
      "loss 0.0001 - val_loss 0.0001 - SDR 0.9669 - R_ave 1.3850\n",
      "Epoch [765/1000]\n"
     ]
    },
    {
     "name": "stderr",
     "output_type": "stream",
     "text": [
      "100%|██████████| 60/60 [00:24<00:00,  2.41it/s, loss=7.17e-5]\n",
      "100%|██████████| 26/26 [00:16<00:00,  1.54it/s, val_loss=9.57e-5, SDR=0.969, R_ave=1.38]\n",
      "  0%|          | 0/60 [00:00<?, ?it/s]"
     ]
    },
    {
     "name": "stdout",
     "output_type": "stream",
     "text": [
      "loss 0.0001 - val_loss 0.0001 - SDR 0.9692 - R_ave 1.3785\n",
      "Epoch [766/1000]\n"
     ]
    },
    {
     "name": "stderr",
     "output_type": "stream",
     "text": [
      "100%|██████████| 60/60 [00:24<00:00,  2.45it/s, loss=7.21e-5]\n",
      "100%|██████████| 26/26 [00:16<00:00,  1.54it/s, val_loss=9.29e-5, SDR=0.967, R_ave=1.38]\n",
      "  0%|          | 0/60 [00:00<?, ?it/s]"
     ]
    },
    {
     "name": "stdout",
     "output_type": "stream",
     "text": [
      "loss 0.0001 - val_loss 0.0001 - SDR 0.9669 - R_ave 1.3849\n",
      "Epoch [767/1000]\n"
     ]
    },
    {
     "name": "stderr",
     "output_type": "stream",
     "text": [
      "100%|██████████| 60/60 [00:24<00:00,  2.46it/s, loss=7.43e-5]\n",
      "100%|██████████| 26/26 [00:17<00:00,  1.52it/s, val_loss=9.59e-5, SDR=0.967, R_ave=1.38]\n",
      "  0%|          | 0/60 [00:00<?, ?it/s]"
     ]
    },
    {
     "name": "stdout",
     "output_type": "stream",
     "text": [
      "loss 0.0001 - val_loss 0.0001 - SDR 0.9672 - R_ave 1.3842\n",
      "Epoch [768/1000]\n"
     ]
    },
    {
     "name": "stderr",
     "output_type": "stream",
     "text": [
      "100%|██████████| 60/60 [00:24<00:00,  2.42it/s, loss=7.39e-5]\n",
      "100%|██████████| 26/26 [00:16<00:00,  1.54it/s, val_loss=9.64e-5, SDR=0.968, R_ave=1.38]\n",
      "  0%|          | 0/60 [00:00<?, ?it/s]"
     ]
    },
    {
     "name": "stdout",
     "output_type": "stream",
     "text": [
      "loss 0.0001 - val_loss 0.0001 - SDR 0.9677 - R_ave 1.3820\n",
      "Epoch [769/1000]\n"
     ]
    },
    {
     "name": "stderr",
     "output_type": "stream",
     "text": [
      "100%|██████████| 60/60 [00:24<00:00,  2.45it/s, loss=7.29e-5]\n",
      "100%|██████████| 26/26 [00:16<00:00,  1.54it/s, val_loss=9.31e-5, SDR=0.968, R_ave=1.37]\n",
      "  0%|          | 0/60 [00:00<?, ?it/s]"
     ]
    },
    {
     "name": "stdout",
     "output_type": "stream",
     "text": [
      "loss 0.0001 - val_loss 0.0001 - SDR 0.9682 - R_ave 1.3738\n",
      "Epoch [770/1000]\n"
     ]
    },
    {
     "name": "stderr",
     "output_type": "stream",
     "text": [
      "100%|██████████| 60/60 [00:24<00:00,  2.46it/s, loss=7.06e-5]\n",
      "100%|██████████| 26/26 [00:17<00:00,  1.50it/s, val_loss=9.71e-5, SDR=0.967, R_ave=1.42]\n",
      "  0%|          | 0/60 [00:00<?, ?it/s]"
     ]
    },
    {
     "name": "stdout",
     "output_type": "stream",
     "text": [
      "loss 0.0001 - val_loss 0.0001 - SDR 0.9669 - R_ave 1.4204\n",
      "Epoch [771/1000]\n"
     ]
    },
    {
     "name": "stderr",
     "output_type": "stream",
     "text": [
      "100%|██████████| 60/60 [00:24<00:00,  2.43it/s, loss=6.99e-5]\n",
      "100%|██████████| 26/26 [00:16<00:00,  1.55it/s, val_loss=9.34e-5, SDR=0.968, R_ave=1.39]\n",
      "  0%|          | 0/60 [00:00<?, ?it/s]"
     ]
    },
    {
     "name": "stdout",
     "output_type": "stream",
     "text": [
      "loss 0.0001 - val_loss 0.0001 - SDR 0.9680 - R_ave 1.3872\n",
      "Epoch [772/1000]\n"
     ]
    },
    {
     "name": "stderr",
     "output_type": "stream",
     "text": [
      "100%|██████████| 60/60 [00:24<00:00,  2.46it/s, loss=7.19e-5]\n",
      "100%|██████████| 26/26 [00:16<00:00,  1.54it/s, val_loss=9.69e-5, SDR=0.965, R_ave=1.39]\n",
      "  0%|          | 0/60 [00:00<?, ?it/s]"
     ]
    },
    {
     "name": "stdout",
     "output_type": "stream",
     "text": [
      "loss 0.0001 - val_loss 0.0001 - SDR 0.9651 - R_ave 1.3882\n",
      "Epoch [773/1000]\n"
     ]
    },
    {
     "name": "stderr",
     "output_type": "stream",
     "text": [
      "100%|██████████| 60/60 [00:24<00:00,  2.46it/s, loss=7.2e-5] \n",
      "100%|██████████| 26/26 [00:17<00:00,  1.50it/s, val_loss=9.17e-5, SDR=0.969, R_ave=1.37]\n",
      "  0%|          | 0/60 [00:00<?, ?it/s]"
     ]
    },
    {
     "name": "stdout",
     "output_type": "stream",
     "text": [
      "loss 0.0001 - val_loss 0.0001 - SDR 0.9685 - R_ave 1.3724\n",
      "Epoch [774/1000]\n"
     ]
    },
    {
     "name": "stderr",
     "output_type": "stream",
     "text": [
      "100%|██████████| 60/60 [00:24<00:00,  2.42it/s, loss=7.3e-5] \n",
      "100%|██████████| 26/26 [00:16<00:00,  1.54it/s, val_loss=9.32e-5, SDR=0.967, R_ave=1.37]\n",
      "  0%|          | 0/60 [00:00<?, ?it/s]"
     ]
    },
    {
     "name": "stdout",
     "output_type": "stream",
     "text": [
      "loss 0.0001 - val_loss 0.0001 - SDR 0.9669 - R_ave 1.3741\n",
      "Epoch [775/1000]\n"
     ]
    },
    {
     "name": "stderr",
     "output_type": "stream",
     "text": [
      "100%|██████████| 60/60 [00:24<00:00,  2.45it/s, loss=7.19e-5]\n",
      "100%|██████████| 26/26 [00:16<00:00,  1.54it/s, val_loss=9.42e-5, SDR=0.966, R_ave=1.39]\n",
      "  0%|          | 0/60 [00:00<?, ?it/s]"
     ]
    },
    {
     "name": "stdout",
     "output_type": "stream",
     "text": [
      "loss 0.0001 - val_loss 0.0001 - SDR 0.9663 - R_ave 1.3893\n",
      "Epoch [776/1000]\n"
     ]
    },
    {
     "name": "stderr",
     "output_type": "stream",
     "text": [
      "100%|██████████| 60/60 [00:24<00:00,  2.41it/s, loss=7.28e-5]\n",
      "100%|██████████| 26/26 [00:17<00:00,  1.51it/s, val_loss=9.3e-5, SDR=0.968, R_ave=1.39] \n",
      "  0%|          | 0/60 [00:00<?, ?it/s]"
     ]
    },
    {
     "name": "stdout",
     "output_type": "stream",
     "text": [
      "loss 0.0001 - val_loss 0.0001 - SDR 0.9676 - R_ave 1.3912\n",
      "Epoch [777/1000]\n"
     ]
    },
    {
     "name": "stderr",
     "output_type": "stream",
     "text": [
      "100%|██████████| 60/60 [00:24<00:00,  2.46it/s, loss=7.13e-5]\n",
      "100%|██████████| 26/26 [00:16<00:00,  1.54it/s, val_loss=9.31e-5, SDR=0.968, R_ave=1.39]\n",
      "  0%|          | 0/60 [00:00<?, ?it/s]"
     ]
    },
    {
     "name": "stdout",
     "output_type": "stream",
     "text": [
      "loss 0.0001 - val_loss 0.0001 - SDR 0.9684 - R_ave 1.3896\n",
      "Epoch [778/1000]\n"
     ]
    },
    {
     "name": "stderr",
     "output_type": "stream",
     "text": [
      "100%|██████████| 60/60 [00:24<00:00,  2.46it/s, loss=7.14e-5]\n",
      "100%|██████████| 26/26 [00:16<00:00,  1.54it/s, val_loss=9.2e-5, SDR=0.966, R_ave=1.38] \n",
      "  0%|          | 0/60 [00:00<?, ?it/s]"
     ]
    },
    {
     "name": "stdout",
     "output_type": "stream",
     "text": [
      "loss 0.0001 - val_loss 0.0001 - SDR 0.9664 - R_ave 1.3803\n",
      "Epoch [779/1000]\n"
     ]
    },
    {
     "name": "stderr",
     "output_type": "stream",
     "text": [
      "100%|██████████| 60/60 [00:24<00:00,  2.43it/s, loss=7.15e-5]\n",
      "100%|██████████| 26/26 [00:17<00:00,  1.52it/s, val_loss=9.17e-5, SDR=0.969, R_ave=1.38]\n",
      "  0%|          | 0/60 [00:00<?, ?it/s]"
     ]
    },
    {
     "name": "stdout",
     "output_type": "stream",
     "text": [
      "loss 0.0001 - val_loss 0.0001 - SDR 0.9685 - R_ave 1.3779\n",
      "Epoch [780/1000]\n"
     ]
    },
    {
     "name": "stderr",
     "output_type": "stream",
     "text": [
      "100%|██████████| 60/60 [00:24<00:00,  2.46it/s, loss=7.1e-5] \n",
      "100%|██████████| 26/26 [00:16<00:00,  1.54it/s, val_loss=9.28e-5, SDR=0.969, R_ave=1.38]\n",
      "  0%|          | 0/60 [00:00<?, ?it/s]"
     ]
    },
    {
     "name": "stdout",
     "output_type": "stream",
     "text": [
      "loss 0.0001 - val_loss 0.0001 - SDR 0.9688 - R_ave 1.3798\n",
      "Epoch [781/1000]\n"
     ]
    },
    {
     "name": "stderr",
     "output_type": "stream",
     "text": [
      "100%|██████████| 60/60 [00:24<00:00,  2.46it/s, loss=7.1e-5] \n",
      "100%|██████████| 26/26 [00:16<00:00,  1.53it/s, val_loss=9.33e-5, SDR=0.968, R_ave=1.4] \n",
      "  0%|          | 0/60 [00:00<?, ?it/s]"
     ]
    },
    {
     "name": "stdout",
     "output_type": "stream",
     "text": [
      "loss 0.0001 - val_loss 0.0001 - SDR 0.9679 - R_ave 1.3958\n",
      "Epoch [782/1000]\n"
     ]
    },
    {
     "name": "stderr",
     "output_type": "stream",
     "text": [
      "100%|██████████| 60/60 [00:24<00:00,  2.43it/s, loss=7.17e-5]\n",
      "100%|██████████| 26/26 [00:17<00:00,  1.52it/s, val_loss=9.42e-5, SDR=0.968, R_ave=1.39]\n",
      "  0%|          | 0/60 [00:00<?, ?it/s]"
     ]
    },
    {
     "name": "stdout",
     "output_type": "stream",
     "text": [
      "loss 0.0001 - val_loss 0.0001 - SDR 0.9676 - R_ave 1.3903\n",
      "Epoch [783/1000]\n"
     ]
    },
    {
     "name": "stderr",
     "output_type": "stream",
     "text": [
      "100%|██████████| 60/60 [00:24<00:00,  2.45it/s, loss=7.19e-5]\n",
      "100%|██████████| 26/26 [00:16<00:00,  1.54it/s, val_loss=9.26e-5, SDR=0.969, R_ave=1.39]\n",
      "  0%|          | 0/60 [00:00<?, ?it/s]"
     ]
    },
    {
     "name": "stdout",
     "output_type": "stream",
     "text": [
      "loss 0.0001 - val_loss 0.0001 - SDR 0.9688 - R_ave 1.3880\n",
      "Epoch [784/1000]\n"
     ]
    },
    {
     "name": "stderr",
     "output_type": "stream",
     "text": [
      "100%|██████████| 60/60 [00:24<00:00,  2.46it/s, loss=7.15e-5]\n",
      "100%|██████████| 26/26 [00:16<00:00,  1.54it/s, val_loss=9.37e-5, SDR=0.968, R_ave=1.39]\n",
      "  0%|          | 0/60 [00:00<?, ?it/s]"
     ]
    },
    {
     "name": "stdout",
     "output_type": "stream",
     "text": [
      "loss 0.0001 - val_loss 0.0001 - SDR 0.9682 - R_ave 1.3880\n",
      "Epoch [785/1000]\n"
     ]
    },
    {
     "name": "stderr",
     "output_type": "stream",
     "text": [
      "100%|██████████| 60/60 [00:24<00:00,  2.43it/s, loss=7.13e-5]\n",
      "100%|██████████| 26/26 [00:16<00:00,  1.53it/s, val_loss=9.29e-5, SDR=0.967, R_ave=1.38]\n",
      "  0%|          | 0/60 [00:00<?, ?it/s]"
     ]
    },
    {
     "name": "stdout",
     "output_type": "stream",
     "text": [
      "loss 0.0001 - val_loss 0.0001 - SDR 0.9674 - R_ave 1.3836\n",
      "Epoch [786/1000]\n"
     ]
    },
    {
     "name": "stderr",
     "output_type": "stream",
     "text": [
      "100%|██████████| 60/60 [00:24<00:00,  2.45it/s, loss=7.14e-5]\n",
      "100%|██████████| 26/26 [00:16<00:00,  1.54it/s, val_loss=9.11e-5, SDR=0.969, R_ave=1.39]\n",
      "  0%|          | 0/60 [00:00<?, ?it/s]"
     ]
    },
    {
     "name": "stdout",
     "output_type": "stream",
     "text": [
      "loss 0.0001 - val_loss 0.0001 - SDR 0.9690 - R_ave 1.3896\n",
      "Epoch [787/1000]\n"
     ]
    },
    {
     "name": "stderr",
     "output_type": "stream",
     "text": [
      "100%|██████████| 60/60 [00:24<00:00,  2.45it/s, loss=7.11e-5]\n",
      "100%|██████████| 26/26 [00:16<00:00,  1.53it/s, val_loss=9.55e-5, SDR=0.965, R_ave=1.42]\n",
      "  0%|          | 0/60 [00:00<?, ?it/s]"
     ]
    },
    {
     "name": "stdout",
     "output_type": "stream",
     "text": [
      "loss 0.0001 - val_loss 0.0001 - SDR 0.9655 - R_ave 1.4169\n",
      "Epoch [788/1000]\n"
     ]
    },
    {
     "name": "stderr",
     "output_type": "stream",
     "text": [
      "100%|██████████| 60/60 [00:24<00:00,  2.43it/s, loss=7.11e-5]\n",
      "100%|██████████| 26/26 [00:16<00:00,  1.53it/s, val_loss=9.47e-5, SDR=0.968, R_ave=1.4] \n",
      "  0%|          | 0/60 [00:00<?, ?it/s]"
     ]
    },
    {
     "name": "stdout",
     "output_type": "stream",
     "text": [
      "loss 0.0001 - val_loss 0.0001 - SDR 0.9676 - R_ave 1.3974\n",
      "Epoch [789/1000]\n"
     ]
    },
    {
     "name": "stderr",
     "output_type": "stream",
     "text": [
      "100%|██████████| 60/60 [00:24<00:00,  2.45it/s, loss=7.07e-5]\n",
      "100%|██████████| 26/26 [00:16<00:00,  1.54it/s, val_loss=9.73e-5, SDR=0.965, R_ave=1.4] \n",
      "  0%|          | 0/60 [00:00<?, ?it/s]"
     ]
    },
    {
     "name": "stdout",
     "output_type": "stream",
     "text": [
      "loss 0.0001 - val_loss 0.0001 - SDR 0.9651 - R_ave 1.3962\n",
      "Epoch [790/1000]\n"
     ]
    },
    {
     "name": "stderr",
     "output_type": "stream",
     "text": [
      "100%|██████████| 60/60 [00:24<00:00,  2.45it/s, loss=7.17e-5]\n",
      "100%|██████████| 26/26 [00:17<00:00,  1.52it/s, val_loss=9.24e-5, SDR=0.969, R_ave=1.38]\n",
      "  0%|          | 0/60 [00:00<?, ?it/s]"
     ]
    },
    {
     "name": "stdout",
     "output_type": "stream",
     "text": [
      "loss 0.0001 - val_loss 0.0001 - SDR 0.9685 - R_ave 1.3836\n",
      "Epoch [791/1000]\n"
     ]
    },
    {
     "name": "stderr",
     "output_type": "stream",
     "text": [
      "100%|██████████| 60/60 [00:24<00:00,  2.42it/s, loss=7.06e-5]\n",
      "100%|██████████| 26/26 [00:16<00:00,  1.54it/s, val_loss=9.4e-5, SDR=0.969, R_ave=1.38] \n",
      "  0%|          | 0/60 [00:00<?, ?it/s]"
     ]
    },
    {
     "name": "stdout",
     "output_type": "stream",
     "text": [
      "loss 0.0001 - val_loss 0.0001 - SDR 0.9692 - R_ave 1.3791\n",
      "Epoch [792/1000]\n"
     ]
    },
    {
     "name": "stderr",
     "output_type": "stream",
     "text": [
      "100%|██████████| 60/60 [00:24<00:00,  2.46it/s, loss=7.2e-5] \n",
      "100%|██████████| 26/26 [00:16<00:00,  1.54it/s, val_loss=9.25e-5, SDR=0.968, R_ave=1.38]\n",
      "  0%|          | 0/60 [00:00<?, ?it/s]"
     ]
    },
    {
     "name": "stdout",
     "output_type": "stream",
     "text": [
      "loss 0.0001 - val_loss 0.0001 - SDR 0.9684 - R_ave 1.3797\n",
      "Epoch [793/1000]\n"
     ]
    },
    {
     "name": "stderr",
     "output_type": "stream",
     "text": [
      "100%|██████████| 60/60 [00:24<00:00,  2.45it/s, loss=7.02e-5]\n",
      "100%|██████████| 26/26 [00:17<00:00,  1.52it/s, val_loss=9.19e-5, SDR=0.967, R_ave=1.37]\n",
      "  0%|          | 0/60 [00:00<?, ?it/s]"
     ]
    },
    {
     "name": "stdout",
     "output_type": "stream",
     "text": [
      "loss 0.0001 - val_loss 0.0001 - SDR 0.9667 - R_ave 1.3721\n",
      "Epoch [794/1000]\n"
     ]
    },
    {
     "name": "stderr",
     "output_type": "stream",
     "text": [
      "100%|██████████| 60/60 [00:24<00:00,  2.42it/s, loss=7.13e-5]\n",
      "100%|██████████| 26/26 [00:16<00:00,  1.54it/s, val_loss=9.2e-5, SDR=0.97, R_ave=1.38]  \n",
      "  0%|          | 0/60 [00:00<?, ?it/s]"
     ]
    },
    {
     "name": "stdout",
     "output_type": "stream",
     "text": [
      "loss 0.0001 - val_loss 0.0001 - SDR 0.9700 - R_ave 1.3824\n",
      "Epoch [795/1000]\n"
     ]
    },
    {
     "name": "stderr",
     "output_type": "stream",
     "text": [
      "100%|██████████| 60/60 [00:24<00:00,  2.46it/s, loss=6.98e-5]\n",
      "100%|██████████| 26/26 [00:16<00:00,  1.54it/s, val_loss=9.42e-5, SDR=0.967, R_ave=1.39]\n",
      "  0%|          | 0/60 [00:00<?, ?it/s]"
     ]
    },
    {
     "name": "stdout",
     "output_type": "stream",
     "text": [
      "loss 0.0001 - val_loss 0.0001 - SDR 0.9666 - R_ave 1.3897\n",
      "Epoch [796/1000]\n"
     ]
    },
    {
     "name": "stderr",
     "output_type": "stream",
     "text": [
      "100%|██████████| 60/60 [00:24<00:00,  2.47it/s, loss=7.03e-5]\n",
      "100%|██████████| 26/26 [00:17<00:00,  1.50it/s, val_loss=9.12e-5, SDR=0.97, R_ave=1.38] \n",
      "  0%|          | 0/60 [00:00<?, ?it/s]"
     ]
    },
    {
     "name": "stdout",
     "output_type": "stream",
     "text": [
      "loss 0.0001 - val_loss 0.0001 - SDR 0.9698 - R_ave 1.3761\n",
      "Epoch [797/1000]\n"
     ]
    },
    {
     "name": "stderr",
     "output_type": "stream",
     "text": [
      "100%|██████████| 60/60 [00:24<00:00,  2.42it/s, loss=7.09e-5]\n",
      "100%|██████████| 26/26 [00:16<00:00,  1.54it/s, val_loss=9.46e-5, SDR=0.967, R_ave=1.4] \n",
      "  0%|          | 0/60 [00:00<?, ?it/s]"
     ]
    },
    {
     "name": "stdout",
     "output_type": "stream",
     "text": [
      "loss 0.0001 - val_loss 0.0001 - SDR 0.9672 - R_ave 1.3979\n",
      "Epoch [798/1000]\n"
     ]
    },
    {
     "name": "stderr",
     "output_type": "stream",
     "text": [
      "100%|██████████| 60/60 [00:24<00:00,  2.46it/s, loss=7.02e-5]\n",
      "100%|██████████| 26/26 [00:16<00:00,  1.54it/s, val_loss=9.38e-5, SDR=0.966, R_ave=1.39]\n",
      "  0%|          | 0/60 [00:00<?, ?it/s]"
     ]
    },
    {
     "name": "stdout",
     "output_type": "stream",
     "text": [
      "loss 0.0001 - val_loss 0.0001 - SDR 0.9664 - R_ave 1.3925\n",
      "Epoch [799/1000]\n"
     ]
    },
    {
     "name": "stderr",
     "output_type": "stream",
     "text": [
      "100%|██████████| 60/60 [00:24<00:00,  2.45it/s, loss=7.06e-5]\n",
      "100%|██████████| 26/26 [00:17<00:00,  1.50it/s, val_loss=9.23e-5, SDR=0.967, R_ave=1.38]\n",
      "  0%|          | 0/60 [00:00<?, ?it/s]"
     ]
    },
    {
     "name": "stdout",
     "output_type": "stream",
     "text": [
      "loss 0.0001 - val_loss 0.0001 - SDR 0.9666 - R_ave 1.3820\n",
      "Epoch [800/1000]\n"
     ]
    },
    {
     "name": "stderr",
     "output_type": "stream",
     "text": [
      "100%|██████████| 60/60 [00:24<00:00,  2.47it/s, loss=6.91e-5]\n",
      "100%|██████████| 26/26 [00:16<00:00,  1.54it/s, val_loss=9.29e-5, SDR=0.968, R_ave=1.38]\n",
      "  0%|          | 0/60 [00:00<?, ?it/s]"
     ]
    },
    {
     "name": "stdout",
     "output_type": "stream",
     "text": [
      "loss 0.0001 - val_loss 0.0001 - SDR 0.9679 - R_ave 1.3803\n",
      "Epoch [801/1000]\n"
     ]
    },
    {
     "name": "stderr",
     "output_type": "stream",
     "text": [
      "100%|██████████| 60/60 [00:24<00:00,  2.45it/s, loss=7.05e-5]\n",
      "100%|██████████| 26/26 [00:16<00:00,  1.53it/s, val_loss=9.3e-5, SDR=0.967, R_ave=1.38] \n",
      "  0%|          | 0/60 [00:00<?, ?it/s]"
     ]
    },
    {
     "name": "stdout",
     "output_type": "stream",
     "text": [
      "loss 0.0001 - val_loss 0.0001 - SDR 0.9672 - R_ave 1.3824\n",
      "Epoch [802/1000]\n"
     ]
    },
    {
     "name": "stderr",
     "output_type": "stream",
     "text": [
      "100%|██████████| 60/60 [00:24<00:00,  2.45it/s, loss=7.01e-5]\n",
      "100%|██████████| 26/26 [00:17<00:00,  1.51it/s, val_loss=9.29e-5, SDR=0.968, R_ave=1.38]\n",
      "  0%|          | 0/60 [00:00<?, ?it/s]"
     ]
    },
    {
     "name": "stdout",
     "output_type": "stream",
     "text": [
      "loss 0.0001 - val_loss 0.0001 - SDR 0.9676 - R_ave 1.3807\n",
      "Epoch [803/1000]\n"
     ]
    },
    {
     "name": "stderr",
     "output_type": "stream",
     "text": [
      "100%|██████████| 60/60 [00:24<00:00,  2.46it/s, loss=7.24e-5]\n",
      "100%|██████████| 26/26 [00:16<00:00,  1.53it/s, val_loss=9.28e-5, SDR=0.968, R_ave=1.38]\n",
      "  0%|          | 0/60 [00:00<?, ?it/s]"
     ]
    },
    {
     "name": "stdout",
     "output_type": "stream",
     "text": [
      "loss 0.0001 - val_loss 0.0001 - SDR 0.9676 - R_ave 1.3815\n",
      "Epoch [804/1000]\n"
     ]
    },
    {
     "name": "stderr",
     "output_type": "stream",
     "text": [
      "100%|██████████| 60/60 [00:24<00:00,  2.45it/s, loss=7e-5]   \n",
      "100%|██████████| 26/26 [00:16<00:00,  1.54it/s, val_loss=9.38e-5, SDR=0.968, R_ave=1.4] \n",
      "  0%|          | 0/60 [00:00<?, ?it/s]"
     ]
    },
    {
     "name": "stdout",
     "output_type": "stream",
     "text": [
      "loss 0.0001 - val_loss 0.0001 - SDR 0.9676 - R_ave 1.4017\n",
      "Epoch [805/1000]\n"
     ]
    },
    {
     "name": "stderr",
     "output_type": "stream",
     "text": [
      "100%|██████████| 60/60 [00:24<00:00,  2.45it/s, loss=7.11e-5]\n",
      "100%|██████████| 26/26 [00:17<00:00,  1.52it/s, val_loss=9.28e-5, SDR=0.966, R_ave=1.39]\n",
      "  0%|          | 0/60 [00:00<?, ?it/s]"
     ]
    },
    {
     "name": "stdout",
     "output_type": "stream",
     "text": [
      "loss 0.0001 - val_loss 0.0001 - SDR 0.9658 - R_ave 1.3911\n",
      "Epoch [806/1000]\n"
     ]
    },
    {
     "name": "stderr",
     "output_type": "stream",
     "text": [
      "100%|██████████| 60/60 [00:24<00:00,  2.45it/s, loss=7.12e-5]\n",
      "100%|██████████| 26/26 [00:16<00:00,  1.54it/s, val_loss=9.54e-5, SDR=0.968, R_ave=1.41]\n",
      "  0%|          | 0/60 [00:00<?, ?it/s]"
     ]
    },
    {
     "name": "stdout",
     "output_type": "stream",
     "text": [
      "loss 0.0001 - val_loss 0.0001 - SDR 0.9677 - R_ave 1.4115\n",
      "Epoch [807/1000]\n"
     ]
    },
    {
     "name": "stderr",
     "output_type": "stream",
     "text": [
      "100%|██████████| 60/60 [00:24<00:00,  2.45it/s, loss=7.05e-5]\n",
      "100%|██████████| 26/26 [00:16<00:00,  1.54it/s, val_loss=9.24e-5, SDR=0.967, R_ave=1.39]\n",
      "  0%|          | 0/60 [00:00<?, ?it/s]"
     ]
    },
    {
     "name": "stdout",
     "output_type": "stream",
     "text": [
      "loss 0.0001 - val_loss 0.0001 - SDR 0.9671 - R_ave 1.3863\n",
      "Epoch [808/1000]\n"
     ]
    },
    {
     "name": "stderr",
     "output_type": "stream",
     "text": [
      "100%|██████████| 60/60 [00:24<00:00,  2.44it/s, loss=6.96e-5]\n",
      "100%|██████████| 26/26 [00:17<00:00,  1.53it/s, val_loss=9.3e-5, SDR=0.968, R_ave=1.38] \n",
      "  0%|          | 0/60 [00:00<?, ?it/s]"
     ]
    },
    {
     "name": "stdout",
     "output_type": "stream",
     "text": [
      "loss 0.0001 - val_loss 0.0001 - SDR 0.9680 - R_ave 1.3800\n",
      "Epoch [809/1000]\n"
     ]
    },
    {
     "name": "stderr",
     "output_type": "stream",
     "text": [
      "100%|██████████| 60/60 [00:24<00:00,  2.46it/s, loss=7.01e-5]\n",
      "100%|██████████| 26/26 [00:16<00:00,  1.54it/s, val_loss=9.34e-5, SDR=0.967, R_ave=1.39]\n",
      "  0%|          | 0/60 [00:00<?, ?it/s]"
     ]
    },
    {
     "name": "stdout",
     "output_type": "stream",
     "text": [
      "loss 0.0001 - val_loss 0.0001 - SDR 0.9672 - R_ave 1.3901\n",
      "Epoch [810/1000]\n"
     ]
    },
    {
     "name": "stderr",
     "output_type": "stream",
     "text": [
      "100%|██████████| 60/60 [00:24<00:00,  2.46it/s, loss=7.13e-5]\n",
      "100%|██████████| 26/26 [00:16<00:00,  1.54it/s, val_loss=9.38e-5, SDR=0.968, R_ave=1.38]\n",
      "  0%|          | 0/60 [00:00<?, ?it/s]"
     ]
    },
    {
     "name": "stdout",
     "output_type": "stream",
     "text": [
      "loss 0.0001 - val_loss 0.0001 - SDR 0.9676 - R_ave 1.3775\n",
      "Epoch [811/1000]\n"
     ]
    },
    {
     "name": "stderr",
     "output_type": "stream",
     "text": [
      "100%|██████████| 60/60 [00:24<00:00,  2.42it/s, loss=6.9e-5] \n",
      "100%|██████████| 26/26 [00:16<00:00,  1.54it/s, val_loss=9.47e-5, SDR=0.966, R_ave=1.41]\n",
      "  0%|          | 0/60 [00:00<?, ?it/s]"
     ]
    },
    {
     "name": "stdout",
     "output_type": "stream",
     "text": [
      "loss 0.0001 - val_loss 0.0001 - SDR 0.9664 - R_ave 1.4095\n",
      "Epoch [812/1000]\n"
     ]
    },
    {
     "name": "stderr",
     "output_type": "stream",
     "text": [
      "100%|██████████| 60/60 [00:24<00:00,  2.46it/s, loss=7.04e-5]\n",
      "100%|██████████| 26/26 [00:16<00:00,  1.54it/s, val_loss=9.29e-5, SDR=0.968, R_ave=1.38]\n",
      "  0%|          | 0/60 [00:00<?, ?it/s]"
     ]
    },
    {
     "name": "stdout",
     "output_type": "stream",
     "text": [
      "loss 0.0001 - val_loss 0.0001 - SDR 0.9677 - R_ave 1.3784\n",
      "Epoch [813/1000]\n"
     ]
    },
    {
     "name": "stderr",
     "output_type": "stream",
     "text": [
      "100%|██████████| 60/60 [00:24<00:00,  2.46it/s, loss=6.9e-5] \n",
      "100%|██████████| 26/26 [00:16<00:00,  1.54it/s, val_loss=9.2e-5, SDR=0.969, R_ave=1.39] \n",
      "  0%|          | 0/60 [00:00<?, ?it/s]"
     ]
    },
    {
     "name": "stdout",
     "output_type": "stream",
     "text": [
      "loss 0.0001 - val_loss 0.0001 - SDR 0.9688 - R_ave 1.3894\n",
      "Epoch [814/1000]\n"
     ]
    },
    {
     "name": "stderr",
     "output_type": "stream",
     "text": [
      "100%|██████████| 60/60 [00:24<00:00,  2.42it/s, loss=6.94e-5]\n",
      "100%|██████████| 26/26 [00:16<00:00,  1.53it/s, val_loss=9.13e-5, SDR=0.967, R_ave=1.38]\n",
      "  0%|          | 0/60 [00:00<?, ?it/s]"
     ]
    },
    {
     "name": "stdout",
     "output_type": "stream",
     "text": [
      "loss 0.0001 - val_loss 0.0001 - SDR 0.9672 - R_ave 1.3828\n",
      "Epoch [815/1000]\n"
     ]
    },
    {
     "name": "stderr",
     "output_type": "stream",
     "text": [
      "100%|██████████| 60/60 [00:24<00:00,  2.46it/s, loss=6.89e-5]\n",
      "100%|██████████| 26/26 [00:16<00:00,  1.54it/s, val_loss=9.18e-5, SDR=0.967, R_ave=1.39]\n",
      "  0%|          | 0/60 [00:00<?, ?it/s]"
     ]
    },
    {
     "name": "stdout",
     "output_type": "stream",
     "text": [
      "loss 0.0001 - val_loss 0.0001 - SDR 0.9671 - R_ave 1.3880\n",
      "Epoch [816/1000]\n"
     ]
    },
    {
     "name": "stderr",
     "output_type": "stream",
     "text": [
      "100%|██████████| 60/60 [00:24<00:00,  2.46it/s, loss=6.98e-5]\n",
      "100%|██████████| 26/26 [00:17<00:00,  1.53it/s, val_loss=9.55e-5, SDR=0.966, R_ave=1.41]\n",
      "  0%|          | 0/60 [00:00<?, ?it/s]"
     ]
    },
    {
     "name": "stdout",
     "output_type": "stream",
     "text": [
      "loss 0.0001 - val_loss 0.0001 - SDR 0.9656 - R_ave 1.4073\n",
      "Epoch [817/1000]\n"
     ]
    },
    {
     "name": "stderr",
     "output_type": "stream",
     "text": [
      "100%|██████████| 60/60 [00:24<00:00,  2.43it/s, loss=7.04e-5]\n",
      "100%|██████████| 26/26 [00:16<00:00,  1.54it/s, val_loss=9.15e-5, SDR=0.969, R_ave=1.38]\n",
      "  0%|          | 0/60 [00:00<?, ?it/s]"
     ]
    },
    {
     "name": "stdout",
     "output_type": "stream",
     "text": [
      "loss 0.0001 - val_loss 0.0001 - SDR 0.9695 - R_ave 1.3775\n",
      "Epoch [818/1000]\n"
     ]
    },
    {
     "name": "stderr",
     "output_type": "stream",
     "text": [
      "100%|██████████| 60/60 [00:24<00:00,  2.46it/s, loss=6.98e-5]\n",
      "100%|██████████| 26/26 [00:16<00:00,  1.55it/s, val_loss=9.42e-5, SDR=0.968, R_ave=1.39]\n",
      "  0%|          | 0/60 [00:00<?, ?it/s]"
     ]
    },
    {
     "name": "stdout",
     "output_type": "stream",
     "text": [
      "loss 0.0001 - val_loss 0.0001 - SDR 0.9677 - R_ave 1.3907\n",
      "Epoch [819/1000]\n"
     ]
    },
    {
     "name": "stderr",
     "output_type": "stream",
     "text": [
      "100%|██████████| 60/60 [00:24<00:00,  2.46it/s, loss=6.98e-5]\n",
      "100%|██████████| 26/26 [00:17<00:00,  1.53it/s, val_loss=9.28e-5, SDR=0.969, R_ave=1.37]\n",
      "  0%|          | 0/60 [00:00<?, ?it/s]"
     ]
    },
    {
     "name": "stdout",
     "output_type": "stream",
     "text": [
      "loss 0.0001 - val_loss 0.0001 - SDR 0.9693 - R_ave 1.3708\n",
      "Epoch [820/1000]\n"
     ]
    },
    {
     "name": "stderr",
     "output_type": "stream",
     "text": [
      "100%|██████████| 60/60 [00:24<00:00,  2.43it/s, loss=7.08e-5]\n",
      "100%|██████████| 26/26 [00:16<00:00,  1.54it/s, val_loss=9.44e-5, SDR=0.966, R_ave=1.39]\n",
      "  0%|          | 0/60 [00:00<?, ?it/s]"
     ]
    },
    {
     "name": "stdout",
     "output_type": "stream",
     "text": [
      "loss 0.0001 - val_loss 0.0001 - SDR 0.9661 - R_ave 1.3905\n",
      "Epoch [821/1000]\n"
     ]
    },
    {
     "name": "stderr",
     "output_type": "stream",
     "text": [
      "100%|██████████| 60/60 [00:24<00:00,  2.45it/s, loss=6.92e-5]\n",
      "100%|██████████| 26/26 [00:16<00:00,  1.54it/s, val_loss=9.12e-5, SDR=0.97, R_ave=1.38] \n",
      "  0%|          | 0/60 [00:00<?, ?it/s]"
     ]
    },
    {
     "name": "stdout",
     "output_type": "stream",
     "text": [
      "loss 0.0001 - val_loss 0.0001 - SDR 0.9704 - R_ave 1.3756\n",
      "Epoch [822/1000]\n"
     ]
    },
    {
     "name": "stderr",
     "output_type": "stream",
     "text": [
      "100%|██████████| 60/60 [00:24<00:00,  2.45it/s, loss=6.93e-5]\n",
      "100%|██████████| 26/26 [00:17<00:00,  1.51it/s, val_loss=9.27e-5, SDR=0.967, R_ave=1.38]\n",
      "  0%|          | 0/60 [00:00<?, ?it/s]"
     ]
    },
    {
     "name": "stdout",
     "output_type": "stream",
     "text": [
      "loss 0.0001 - val_loss 0.0001 - SDR 0.9671 - R_ave 1.3786\n",
      "Epoch [823/1000]\n"
     ]
    },
    {
     "name": "stderr",
     "output_type": "stream",
     "text": [
      "100%|██████████| 60/60 [00:24<00:00,  2.44it/s, loss=6.95e-5]\n",
      "100%|██████████| 26/26 [00:16<00:00,  1.54it/s, val_loss=9.15e-5, SDR=0.97, R_ave=1.38] \n",
      "  0%|          | 0/60 [00:00<?, ?it/s]"
     ]
    },
    {
     "name": "stdout",
     "output_type": "stream",
     "text": [
      "loss 0.0001 - val_loss 0.0001 - SDR 0.9696 - R_ave 1.3757\n",
      "Epoch [824/1000]\n"
     ]
    },
    {
     "name": "stderr",
     "output_type": "stream",
     "text": [
      "100%|██████████| 60/60 [00:24<00:00,  2.46it/s, loss=7.1e-5] \n",
      "100%|██████████| 26/26 [00:16<00:00,  1.53it/s, val_loss=9.27e-5, SDR=0.966, R_ave=1.38]\n",
      "  0%|          | 0/60 [00:00<?, ?it/s]"
     ]
    },
    {
     "name": "stdout",
     "output_type": "stream",
     "text": [
      "loss 0.0001 - val_loss 0.0001 - SDR 0.9659 - R_ave 1.3834\n",
      "Epoch [825/1000]\n"
     ]
    },
    {
     "name": "stderr",
     "output_type": "stream",
     "text": [
      "100%|██████████| 60/60 [00:24<00:00,  2.45it/s, loss=6.99e-5]\n",
      "100%|██████████| 26/26 [00:17<00:00,  1.49it/s, val_loss=9.23e-5, SDR=0.968, R_ave=1.37]\n",
      "  0%|          | 0/60 [00:00<?, ?it/s]"
     ]
    },
    {
     "name": "stdout",
     "output_type": "stream",
     "text": [
      "loss 0.0001 - val_loss 0.0001 - SDR 0.9680 - R_ave 1.3683\n",
      "Epoch [826/1000]\n"
     ]
    },
    {
     "name": "stderr",
     "output_type": "stream",
     "text": [
      "100%|██████████| 60/60 [00:24<00:00,  2.45it/s, loss=6.96e-5]\n",
      "100%|██████████| 26/26 [00:16<00:00,  1.54it/s, val_loss=9.3e-5, SDR=0.966, R_ave=1.38] \n",
      "  0%|          | 0/60 [00:00<?, ?it/s]"
     ]
    },
    {
     "name": "stdout",
     "output_type": "stream",
     "text": [
      "loss 0.0001 - val_loss 0.0001 - SDR 0.9656 - R_ave 1.3805\n",
      "Epoch [827/1000]\n"
     ]
    },
    {
     "name": "stderr",
     "output_type": "stream",
     "text": [
      "100%|██████████| 60/60 [00:24<00:00,  2.46it/s, loss=7.03e-5]\n",
      "100%|██████████| 26/26 [00:16<00:00,  1.54it/s, val_loss=9.24e-5, SDR=0.967, R_ave=1.38]\n",
      "  0%|          | 0/60 [00:00<?, ?it/s]"
     ]
    },
    {
     "name": "stdout",
     "output_type": "stream",
     "text": [
      "loss 0.0001 - val_loss 0.0001 - SDR 0.9671 - R_ave 1.3810\n",
      "Epoch [828/1000]\n"
     ]
    },
    {
     "name": "stderr",
     "output_type": "stream",
     "text": [
      "100%|██████████| 60/60 [00:24<00:00,  2.46it/s, loss=6.99e-5]\n",
      "100%|██████████| 26/26 [00:17<00:00,  1.51it/s, val_loss=9.23e-5, SDR=0.967, R_ave=1.38]\n",
      "  0%|          | 0/60 [00:00<?, ?it/s]"
     ]
    },
    {
     "name": "stdout",
     "output_type": "stream",
     "text": [
      "loss 0.0001 - val_loss 0.0001 - SDR 0.9674 - R_ave 1.3761\n",
      "Epoch [829/1000]\n"
     ]
    },
    {
     "name": "stderr",
     "output_type": "stream",
     "text": [
      "100%|██████████| 60/60 [00:24<00:00,  2.45it/s, loss=7e-5]   \n",
      "100%|██████████| 26/26 [00:16<00:00,  1.53it/s, val_loss=9.24e-5, SDR=0.967, R_ave=1.37]\n",
      "  0%|          | 0/60 [00:00<?, ?it/s]"
     ]
    },
    {
     "name": "stdout",
     "output_type": "stream",
     "text": [
      "loss 0.0001 - val_loss 0.0001 - SDR 0.9669 - R_ave 1.3745\n",
      "Epoch [830/1000]\n"
     ]
    },
    {
     "name": "stderr",
     "output_type": "stream",
     "text": [
      "100%|██████████| 60/60 [00:24<00:00,  2.46it/s, loss=6.87e-5]\n",
      "100%|██████████| 26/26 [00:16<00:00,  1.54it/s, val_loss=9.46e-5, SDR=0.968, R_ave=1.39]\n",
      "  0%|          | 0/60 [00:00<?, ?it/s]"
     ]
    },
    {
     "name": "stdout",
     "output_type": "stream",
     "text": [
      "loss 0.0001 - val_loss 0.0001 - SDR 0.9680 - R_ave 1.3881\n",
      "Epoch [831/1000]\n"
     ]
    },
    {
     "name": "stderr",
     "output_type": "stream",
     "text": [
      "100%|██████████| 60/60 [00:24<00:00,  2.45it/s, loss=7.04e-5]\n",
      "100%|██████████| 26/26 [00:17<00:00,  1.51it/s, val_loss=9.33e-5, SDR=0.969, R_ave=1.38]\n",
      "  0%|          | 0/60 [00:00<?, ?it/s]"
     ]
    },
    {
     "name": "stdout",
     "output_type": "stream",
     "text": [
      "loss 0.0001 - val_loss 0.0001 - SDR 0.9690 - R_ave 1.3837\n",
      "Epoch [832/1000]\n"
     ]
    },
    {
     "name": "stderr",
     "output_type": "stream",
     "text": [
      "100%|██████████| 60/60 [00:24<00:00,  2.46it/s, loss=7e-5]   \n",
      "100%|██████████| 26/26 [00:16<00:00,  1.54it/s, val_loss=9.24e-5, SDR=0.97, R_ave=1.37] \n",
      "  0%|          | 0/60 [00:00<?, ?it/s]"
     ]
    },
    {
     "name": "stdout",
     "output_type": "stream",
     "text": [
      "loss 0.0001 - val_loss 0.0001 - SDR 0.9704 - R_ave 1.3701\n",
      "Epoch [833/1000]\n"
     ]
    },
    {
     "name": "stderr",
     "output_type": "stream",
     "text": [
      "100%|██████████| 60/60 [00:24<00:00,  2.45it/s, loss=6.96e-5]\n",
      "100%|██████████| 26/26 [00:16<00:00,  1.53it/s, val_loss=9.32e-5, SDR=0.967, R_ave=1.38]\n",
      "  0%|          | 0/60 [00:00<?, ?it/s]"
     ]
    },
    {
     "name": "stdout",
     "output_type": "stream",
     "text": [
      "loss 0.0001 - val_loss 0.0001 - SDR 0.9667 - R_ave 1.3848\n",
      "Epoch [834/1000]\n"
     ]
    },
    {
     "name": "stderr",
     "output_type": "stream",
     "text": [
      "100%|██████████| 60/60 [00:24<00:00,  2.47it/s, loss=6.99e-5]\n",
      "100%|██████████| 26/26 [00:17<00:00,  1.52it/s, val_loss=9.24e-5, SDR=0.967, R_ave=1.38]\n",
      "  0%|          | 0/60 [00:00<?, ?it/s]"
     ]
    },
    {
     "name": "stdout",
     "output_type": "stream",
     "text": [
      "loss 0.0001 - val_loss 0.0001 - SDR 0.9667 - R_ave 1.3782\n",
      "Epoch [835/1000]\n"
     ]
    },
    {
     "name": "stderr",
     "output_type": "stream",
     "text": [
      "100%|██████████| 60/60 [00:24<00:00,  2.45it/s, loss=6.9e-5] \n",
      "100%|██████████| 26/26 [00:16<00:00,  1.54it/s, val_loss=9.46e-5, SDR=0.966, R_ave=1.39]\n",
      "  0%|          | 0/60 [00:00<?, ?it/s]"
     ]
    },
    {
     "name": "stdout",
     "output_type": "stream",
     "text": [
      "loss 0.0001 - val_loss 0.0001 - SDR 0.9659 - R_ave 1.3913\n",
      "Epoch [836/1000]\n"
     ]
    },
    {
     "name": "stderr",
     "output_type": "stream",
     "text": [
      "100%|██████████| 60/60 [00:25<00:00,  2.37it/s, loss=7.06e-5]\n",
      "100%|██████████| 26/26 [00:17<00:00,  1.50it/s, val_loss=9.3e-5, SDR=0.967, R_ave=1.38] \n",
      "  0%|          | 0/60 [00:00<?, ?it/s]"
     ]
    },
    {
     "name": "stdout",
     "output_type": "stream",
     "text": [
      "loss 0.0001 - val_loss 0.0001 - SDR 0.9674 - R_ave 1.3818\n",
      "Epoch [837/1000]\n"
     ]
    },
    {
     "name": "stderr",
     "output_type": "stream",
     "text": [
      "100%|██████████| 60/60 [00:24<00:00,  2.42it/s, loss=6.92e-5]\n",
      "100%|██████████| 26/26 [00:17<00:00,  1.51it/s, val_loss=9.51e-5, SDR=0.966, R_ave=1.4] \n",
      "  0%|          | 0/60 [00:00<?, ?it/s]"
     ]
    },
    {
     "name": "stdout",
     "output_type": "stream",
     "text": [
      "loss 0.0001 - val_loss 0.0001 - SDR 0.9663 - R_ave 1.3984\n",
      "Epoch [838/1000]\n"
     ]
    },
    {
     "name": "stderr",
     "output_type": "stream",
     "text": [
      "100%|██████████| 60/60 [00:24<00:00,  2.46it/s, loss=6.99e-5]\n",
      "100%|██████████| 26/26 [00:16<00:00,  1.55it/s, val_loss=9.27e-5, SDR=0.969, R_ave=1.38]\n",
      "  0%|          | 0/60 [00:00<?, ?it/s]"
     ]
    },
    {
     "name": "stdout",
     "output_type": "stream",
     "text": [
      "loss 0.0001 - val_loss 0.0001 - SDR 0.9690 - R_ave 1.3822\n",
      "Epoch [839/1000]\n"
     ]
    },
    {
     "name": "stderr",
     "output_type": "stream",
     "text": [
      "100%|██████████| 60/60 [00:24<00:00,  2.46it/s, loss=7.01e-5]\n",
      "100%|██████████| 26/26 [00:16<00:00,  1.53it/s, val_loss=9.2e-5, SDR=0.967, R_ave=1.38] \n",
      "  0%|          | 0/60 [00:00<?, ?it/s]"
     ]
    },
    {
     "name": "stdout",
     "output_type": "stream",
     "text": [
      "loss 0.0001 - val_loss 0.0001 - SDR 0.9674 - R_ave 1.3840\n",
      "Epoch [840/1000]\n"
     ]
    },
    {
     "name": "stderr",
     "output_type": "stream",
     "text": [
      "100%|██████████| 60/60 [00:24<00:00,  2.43it/s, loss=7e-5]   \n",
      "100%|██████████| 26/26 [00:17<00:00,  1.51it/s, val_loss=9.11e-5, SDR=0.968, R_ave=1.37]\n",
      "  0%|          | 0/60 [00:00<?, ?it/s]"
     ]
    },
    {
     "name": "stdout",
     "output_type": "stream",
     "text": [
      "loss 0.0001 - val_loss 0.0001 - SDR 0.9676 - R_ave 1.3736\n",
      "Epoch [841/1000]\n"
     ]
    },
    {
     "name": "stderr",
     "output_type": "stream",
     "text": [
      "100%|██████████| 60/60 [00:24<00:00,  2.45it/s, loss=6.98e-5]\n",
      "100%|██████████| 26/26 [00:16<00:00,  1.54it/s, val_loss=9.19e-5, SDR=0.967, R_ave=1.38]\n",
      "  0%|          | 0/60 [00:00<?, ?it/s]"
     ]
    },
    {
     "name": "stdout",
     "output_type": "stream",
     "text": [
      "loss 0.0001 - val_loss 0.0001 - SDR 0.9674 - R_ave 1.3840\n",
      "Epoch [842/1000]\n"
     ]
    },
    {
     "name": "stderr",
     "output_type": "stream",
     "text": [
      "100%|██████████| 60/60 [00:24<00:00,  2.46it/s, loss=6.91e-5]\n",
      "100%|██████████| 26/26 [00:16<00:00,  1.53it/s, val_loss=9.43e-5, SDR=0.969, R_ave=1.39]\n",
      "  0%|          | 0/60 [00:00<?, ?it/s]"
     ]
    },
    {
     "name": "stdout",
     "output_type": "stream",
     "text": [
      "loss 0.0001 - val_loss 0.0001 - SDR 0.9685 - R_ave 1.3894\n",
      "Epoch [843/1000]\n"
     ]
    },
    {
     "name": "stderr",
     "output_type": "stream",
     "text": [
      "100%|██████████| 60/60 [00:24<00:00,  2.43it/s, loss=6.95e-5]\n",
      "100%|██████████| 26/26 [00:16<00:00,  1.54it/s, val_loss=9.16e-5, SDR=0.968, R_ave=1.38]\n",
      "  0%|          | 0/60 [00:00<?, ?it/s]"
     ]
    },
    {
     "name": "stdout",
     "output_type": "stream",
     "text": [
      "loss 0.0001 - val_loss 0.0001 - SDR 0.9679 - R_ave 1.3760\n",
      "Epoch [844/1000]\n"
     ]
    },
    {
     "name": "stderr",
     "output_type": "stream",
     "text": [
      "100%|██████████| 60/60 [00:24<00:00,  2.46it/s, loss=6.97e-5]\n",
      "100%|██████████| 26/26 [00:16<00:00,  1.53it/s, val_loss=9.26e-5, SDR=0.968, R_ave=1.39]\n",
      "  0%|          | 0/60 [00:00<?, ?it/s]"
     ]
    },
    {
     "name": "stdout",
     "output_type": "stream",
     "text": [
      "loss 0.0001 - val_loss 0.0001 - SDR 0.9677 - R_ave 1.3855\n",
      "Epoch [845/1000]\n"
     ]
    },
    {
     "name": "stderr",
     "output_type": "stream",
     "text": [
      "100%|██████████| 60/60 [00:24<00:00,  2.46it/s, loss=6.87e-5]\n",
      "100%|██████████| 26/26 [00:17<00:00,  1.52it/s, val_loss=9.27e-5, SDR=0.969, R_ave=1.39]\n",
      "  0%|          | 0/60 [00:00<?, ?it/s]"
     ]
    },
    {
     "name": "stdout",
     "output_type": "stream",
     "text": [
      "loss 0.0001 - val_loss 0.0001 - SDR 0.9688 - R_ave 1.3889\n",
      "Epoch [846/1000]\n"
     ]
    },
    {
     "name": "stderr",
     "output_type": "stream",
     "text": [
      "100%|██████████| 60/60 [00:24<00:00,  2.42it/s, loss=6.84e-5]\n",
      "100%|██████████| 26/26 [00:16<00:00,  1.54it/s, val_loss=9.17e-5, SDR=0.968, R_ave=1.37]\n",
      "  0%|          | 0/60 [00:00<?, ?it/s]"
     ]
    },
    {
     "name": "stdout",
     "output_type": "stream",
     "text": [
      "loss 0.0001 - val_loss 0.0001 - SDR 0.9682 - R_ave 1.3739\n",
      "Epoch [847/1000]\n"
     ]
    },
    {
     "name": "stderr",
     "output_type": "stream",
     "text": [
      "100%|██████████| 60/60 [00:24<00:00,  2.47it/s, loss=6.9e-5] \n",
      "100%|██████████| 26/26 [00:16<00:00,  1.54it/s, val_loss=9.15e-5, SDR=0.968, R_ave=1.37]\n",
      "  0%|          | 0/60 [00:00<?, ?it/s]"
     ]
    },
    {
     "name": "stdout",
     "output_type": "stream",
     "text": [
      "loss 0.0001 - val_loss 0.0001 - SDR 0.9684 - R_ave 1.3740\n",
      "Epoch [848/1000]\n"
     ]
    },
    {
     "name": "stderr",
     "output_type": "stream",
     "text": [
      "100%|██████████| 60/60 [00:24<00:00,  2.45it/s, loss=6.93e-5]\n",
      "100%|██████████| 26/26 [00:17<00:00,  1.51it/s, val_loss=9.12e-5, SDR=0.969, R_ave=1.37]\n",
      "  0%|          | 0/60 [00:00<?, ?it/s]"
     ]
    },
    {
     "name": "stdout",
     "output_type": "stream",
     "text": [
      "loss 0.0001 - val_loss 0.0001 - SDR 0.9688 - R_ave 1.3748\n",
      "Epoch [849/1000]\n"
     ]
    },
    {
     "name": "stderr",
     "output_type": "stream",
     "text": [
      "100%|██████████| 60/60 [00:24<00:00,  2.44it/s, loss=6.93e-5]\n",
      "100%|██████████| 26/26 [00:16<00:00,  1.54it/s, val_loss=9.31e-5, SDR=0.967, R_ave=1.38]\n",
      "  0%|          | 0/60 [00:00<?, ?it/s]"
     ]
    },
    {
     "name": "stdout",
     "output_type": "stream",
     "text": [
      "loss 0.0001 - val_loss 0.0001 - SDR 0.9669 - R_ave 1.3842\n",
      "Epoch [850/1000]\n"
     ]
    },
    {
     "name": "stderr",
     "output_type": "stream",
     "text": [
      "100%|██████████| 60/60 [00:24<00:00,  2.43it/s, loss=6.94e-5]\n",
      "100%|██████████| 26/26 [00:16<00:00,  1.54it/s, val_loss=9.2e-5, SDR=0.968, R_ave=1.37] \n",
      "  0%|          | 0/60 [00:00<?, ?it/s]"
     ]
    },
    {
     "name": "stdout",
     "output_type": "stream",
     "text": [
      "loss 0.0001 - val_loss 0.0001 - SDR 0.9677 - R_ave 1.3741\n",
      "Epoch [851/1000]\n"
     ]
    },
    {
     "name": "stderr",
     "output_type": "stream",
     "text": [
      "100%|██████████| 60/60 [00:24<00:00,  2.46it/s, loss=6.95e-5]\n",
      "100%|██████████| 26/26 [00:17<00:00,  1.51it/s, val_loss=9.19e-5, SDR=0.968, R_ave=1.37]\n",
      "  0%|          | 0/60 [00:00<?, ?it/s]"
     ]
    },
    {
     "name": "stdout",
     "output_type": "stream",
     "text": [
      "loss 0.0001 - val_loss 0.0001 - SDR 0.9684 - R_ave 1.3678\n",
      "Epoch [852/1000]\n"
     ]
    },
    {
     "name": "stderr",
     "output_type": "stream",
     "text": [
      "100%|██████████| 60/60 [00:24<00:00,  2.45it/s, loss=6.95e-5]\n",
      "100%|██████████| 26/26 [00:16<00:00,  1.54it/s, val_loss=9.44e-5, SDR=0.967, R_ave=1.4] \n",
      "  0%|          | 0/60 [00:00<?, ?it/s]"
     ]
    },
    {
     "name": "stdout",
     "output_type": "stream",
     "text": [
      "loss 0.0001 - val_loss 0.0001 - SDR 0.9666 - R_ave 1.4018\n",
      "Epoch [853/1000]\n"
     ]
    },
    {
     "name": "stderr",
     "output_type": "stream",
     "text": [
      "100%|██████████| 60/60 [00:24<00:00,  2.45it/s, loss=6.71e-5]\n",
      "100%|██████████| 26/26 [00:16<00:00,  1.54it/s, val_loss=9.16e-5, SDR=0.969, R_ave=1.38]\n",
      "  0%|          | 0/60 [00:00<?, ?it/s]"
     ]
    },
    {
     "name": "stdout",
     "output_type": "stream",
     "text": [
      "loss 0.0001 - val_loss 0.0001 - SDR 0.9688 - R_ave 1.3761\n",
      "Epoch [854/1000]\n"
     ]
    },
    {
     "name": "stderr",
     "output_type": "stream",
     "text": [
      "100%|██████████| 60/60 [00:24<00:00,  2.46it/s, loss=6.94e-5]\n",
      "100%|██████████| 26/26 [00:17<00:00,  1.50it/s, val_loss=9.17e-5, SDR=0.968, R_ave=1.38]\n",
      "  0%|          | 0/60 [00:00<?, ?it/s]"
     ]
    },
    {
     "name": "stdout",
     "output_type": "stream",
     "text": [
      "loss 0.0001 - val_loss 0.0001 - SDR 0.9676 - R_ave 1.3762\n",
      "Epoch [855/1000]\n"
     ]
    },
    {
     "name": "stderr",
     "output_type": "stream",
     "text": [
      "100%|██████████| 60/60 [00:24<00:00,  2.45it/s, loss=6.99e-5]\n",
      "100%|██████████| 26/26 [00:16<00:00,  1.54it/s, val_loss=9.28e-5, SDR=0.967, R_ave=1.38]\n",
      "  0%|          | 0/60 [00:00<?, ?it/s]"
     ]
    },
    {
     "name": "stdout",
     "output_type": "stream",
     "text": [
      "loss 0.0001 - val_loss 0.0001 - SDR 0.9674 - R_ave 1.3790\n",
      "Epoch [856/1000]\n"
     ]
    },
    {
     "name": "stderr",
     "output_type": "stream",
     "text": [
      "100%|██████████| 60/60 [00:24<00:00,  2.46it/s, loss=6.95e-5]\n",
      "100%|██████████| 26/26 [00:16<00:00,  1.53it/s, val_loss=9.42e-5, SDR=0.966, R_ave=1.39]\n",
      "  0%|          | 0/60 [00:00<?, ?it/s]"
     ]
    },
    {
     "name": "stdout",
     "output_type": "stream",
     "text": [
      "loss 0.0001 - val_loss 0.0001 - SDR 0.9658 - R_ave 1.3926\n",
      "Epoch [857/1000]\n"
     ]
    },
    {
     "name": "stderr",
     "output_type": "stream",
     "text": [
      "100%|██████████| 60/60 [00:24<00:00,  2.45it/s, loss=6.97e-5]\n",
      "100%|██████████| 26/26 [00:17<00:00,  1.52it/s, val_loss=9.23e-5, SDR=0.967, R_ave=1.38]\n",
      "  0%|          | 0/60 [00:00<?, ?it/s]"
     ]
    },
    {
     "name": "stdout",
     "output_type": "stream",
     "text": [
      "loss 0.0001 - val_loss 0.0001 - SDR 0.9671 - R_ave 1.3788\n",
      "Epoch [858/1000]\n"
     ]
    },
    {
     "name": "stderr",
     "output_type": "stream",
     "text": [
      "100%|██████████| 60/60 [00:24<00:00,  2.47it/s, loss=6.84e-5]\n",
      "100%|██████████| 26/26 [00:16<00:00,  1.54it/s, val_loss=9.23e-5, SDR=0.966, R_ave=1.38]\n",
      "  0%|          | 0/60 [00:00<?, ?it/s]"
     ]
    },
    {
     "name": "stdout",
     "output_type": "stream",
     "text": [
      "loss 0.0001 - val_loss 0.0001 - SDR 0.9663 - R_ave 1.3831\n",
      "Epoch [859/1000]\n"
     ]
    },
    {
     "name": "stderr",
     "output_type": "stream",
     "text": [
      "100%|██████████| 60/60 [00:24<00:00,  2.46it/s, loss=6.85e-5]\n",
      "100%|██████████| 26/26 [00:16<00:00,  1.54it/s, val_loss=9.27e-5, SDR=0.967, R_ave=1.37]\n",
      "  0%|          | 0/60 [00:00<?, ?it/s]"
     ]
    },
    {
     "name": "stdout",
     "output_type": "stream",
     "text": [
      "loss 0.0001 - val_loss 0.0001 - SDR 0.9669 - R_ave 1.3723\n",
      "Epoch [860/1000]\n"
     ]
    },
    {
     "name": "stderr",
     "output_type": "stream",
     "text": [
      "100%|██████████| 60/60 [00:24<00:00,  2.42it/s, loss=6.84e-5]\n",
      "100%|██████████| 26/26 [00:17<00:00,  1.52it/s, val_loss=9.16e-5, SDR=0.968, R_ave=1.38]\n",
      "  0%|          | 0/60 [00:00<?, ?it/s]"
     ]
    },
    {
     "name": "stdout",
     "output_type": "stream",
     "text": [
      "loss 0.0001 - val_loss 0.0001 - SDR 0.9677 - R_ave 1.3786\n",
      "Epoch [861/1000]\n"
     ]
    },
    {
     "name": "stderr",
     "output_type": "stream",
     "text": [
      "100%|██████████| 60/60 [00:24<00:00,  2.45it/s, loss=6.83e-5]\n",
      "100%|██████████| 26/26 [00:16<00:00,  1.54it/s, val_loss=9.25e-5, SDR=0.965, R_ave=1.38]\n",
      "  0%|          | 0/60 [00:00<?, ?it/s]"
     ]
    },
    {
     "name": "stdout",
     "output_type": "stream",
     "text": [
      "loss 0.0001 - val_loss 0.0001 - SDR 0.9655 - R_ave 1.3837\n",
      "Epoch [862/1000]\n"
     ]
    },
    {
     "name": "stderr",
     "output_type": "stream",
     "text": [
      "100%|██████████| 60/60 [00:24<00:00,  2.46it/s, loss=6.81e-5]\n",
      "100%|██████████| 26/26 [00:16<00:00,  1.54it/s, val_loss=9.27e-5, SDR=0.967, R_ave=1.39]\n",
      "  0%|          | 0/60 [00:00<?, ?it/s]"
     ]
    },
    {
     "name": "stdout",
     "output_type": "stream",
     "text": [
      "loss 0.0001 - val_loss 0.0001 - SDR 0.9667 - R_ave 1.3880\n",
      "Epoch [863/1000]\n"
     ]
    },
    {
     "name": "stderr",
     "output_type": "stream",
     "text": [
      "100%|██████████| 60/60 [00:24<00:00,  2.42it/s, loss=6.82e-5]\n",
      "100%|██████████| 26/26 [00:16<00:00,  1.53it/s, val_loss=9.31e-5, SDR=0.966, R_ave=1.39]\n",
      "  0%|          | 0/60 [00:00<?, ?it/s]"
     ]
    },
    {
     "name": "stdout",
     "output_type": "stream",
     "text": [
      "loss 0.0001 - val_loss 0.0001 - SDR 0.9663 - R_ave 1.3879\n",
      "Epoch [864/1000]\n"
     ]
    },
    {
     "name": "stderr",
     "output_type": "stream",
     "text": [
      "100%|██████████| 60/60 [00:24<00:00,  2.45it/s, loss=6.76e-5]\n",
      "100%|██████████| 26/26 [00:16<00:00,  1.54it/s, val_loss=9.16e-5, SDR=0.968, R_ave=1.37]\n",
      "  0%|          | 0/60 [00:00<?, ?it/s]"
     ]
    },
    {
     "name": "stdout",
     "output_type": "stream",
     "text": [
      "loss 0.0001 - val_loss 0.0001 - SDR 0.9679 - R_ave 1.3704\n",
      "Epoch [865/1000]\n"
     ]
    },
    {
     "name": "stderr",
     "output_type": "stream",
     "text": [
      "100%|██████████| 60/60 [00:24<00:00,  2.46it/s, loss=6.92e-5]\n",
      "100%|██████████| 26/26 [00:16<00:00,  1.53it/s, val_loss=9.2e-5, SDR=0.969, R_ave=1.38] \n",
      "  0%|          | 0/60 [00:00<?, ?it/s]"
     ]
    },
    {
     "name": "stdout",
     "output_type": "stream",
     "text": [
      "loss 0.0001 - val_loss 0.0001 - SDR 0.9688 - R_ave 1.3760\n",
      "Epoch [866/1000]\n"
     ]
    },
    {
     "name": "stderr",
     "output_type": "stream",
     "text": [
      "100%|██████████| 60/60 [00:25<00:00,  2.35it/s, loss=6.98e-5]\n",
      "100%|██████████| 26/26 [00:16<00:00,  1.54it/s, val_loss=9.18e-5, SDR=0.969, R_ave=1.37]\n",
      "  0%|          | 0/60 [00:00<?, ?it/s]"
     ]
    },
    {
     "name": "stdout",
     "output_type": "stream",
     "text": [
      "loss 0.0001 - val_loss 0.0001 - SDR 0.9687 - R_ave 1.3704\n",
      "Epoch [867/1000]\n"
     ]
    },
    {
     "name": "stderr",
     "output_type": "stream",
     "text": [
      "100%|██████████| 60/60 [00:24<00:00,  2.46it/s, loss=6.78e-5]\n",
      "100%|██████████| 26/26 [00:16<00:00,  1.54it/s, val_loss=9.26e-5, SDR=0.969, R_ave=1.39]\n",
      "  0%|          | 0/60 [00:00<?, ?it/s]"
     ]
    },
    {
     "name": "stdout",
     "output_type": "stream",
     "text": [
      "loss 0.0001 - val_loss 0.0001 - SDR 0.9692 - R_ave 1.3862\n",
      "Epoch [868/1000]\n"
     ]
    },
    {
     "name": "stderr",
     "output_type": "stream",
     "text": [
      "100%|██████████| 60/60 [00:26<00:00,  2.23it/s, loss=6.84e-5]\n",
      "100%|██████████| 26/26 [00:17<00:00,  1.51it/s, val_loss=9.25e-5, SDR=0.967, R_ave=1.38]\n",
      "  0%|          | 0/60 [00:00<?, ?it/s]"
     ]
    },
    {
     "name": "stdout",
     "output_type": "stream",
     "text": [
      "loss 0.0001 - val_loss 0.0001 - SDR 0.9666 - R_ave 1.3805\n",
      "Epoch [869/1000]\n"
     ]
    },
    {
     "name": "stderr",
     "output_type": "stream",
     "text": [
      "100%|██████████| 60/60 [00:24<00:00,  2.42it/s, loss=7.01e-5]\n",
      "100%|██████████| 26/26 [00:16<00:00,  1.54it/s, val_loss=9.14e-5, SDR=0.97, R_ave=1.36] \n",
      "  0%|          | 0/60 [00:00<?, ?it/s]"
     ]
    },
    {
     "name": "stdout",
     "output_type": "stream",
     "text": [
      "loss 0.0001 - val_loss 0.0001 - SDR 0.9700 - R_ave 1.3632\n",
      "=> saved best model\n",
      "Epoch [870/1000]\n"
     ]
    },
    {
     "name": "stderr",
     "output_type": "stream",
     "text": [
      "100%|██████████| 60/60 [00:24<00:00,  2.44it/s, loss=6.76e-5]\n",
      "100%|██████████| 26/26 [00:17<00:00,  1.51it/s, val_loss=9.27e-5, SDR=0.967, R_ave=1.38]\n",
      "  0%|          | 0/60 [00:00<?, ?it/s]"
     ]
    },
    {
     "name": "stdout",
     "output_type": "stream",
     "text": [
      "loss 0.0001 - val_loss 0.0001 - SDR 0.9666 - R_ave 1.3801\n",
      "Epoch [871/1000]\n"
     ]
    },
    {
     "name": "stderr",
     "output_type": "stream",
     "text": [
      "100%|██████████| 60/60 [00:24<00:00,  2.46it/s, loss=6.89e-5]\n",
      "100%|██████████| 26/26 [00:17<00:00,  1.51it/s, val_loss=9.34e-5, SDR=0.968, R_ave=1.37]\n",
      "  0%|          | 0/60 [00:00<?, ?it/s]"
     ]
    },
    {
     "name": "stdout",
     "output_type": "stream",
     "text": [
      "loss 0.0001 - val_loss 0.0001 - SDR 0.9677 - R_ave 1.3745\n",
      "Epoch [872/1000]\n"
     ]
    },
    {
     "name": "stderr",
     "output_type": "stream",
     "text": [
      "100%|██████████| 60/60 [00:24<00:00,  2.42it/s, loss=7.02e-5]\n",
      "100%|██████████| 26/26 [00:16<00:00,  1.54it/s, val_loss=9.11e-5, SDR=0.969, R_ave=1.36]\n",
      "  0%|          | 0/60 [00:00<?, ?it/s]"
     ]
    },
    {
     "name": "stdout",
     "output_type": "stream",
     "text": [
      "loss 0.0001 - val_loss 0.0001 - SDR 0.9690 - R_ave 1.3639\n",
      "Epoch [873/1000]\n"
     ]
    },
    {
     "name": "stderr",
     "output_type": "stream",
     "text": [
      "100%|██████████| 60/60 [00:24<00:00,  2.46it/s, loss=6.9e-5] \n",
      "100%|██████████| 26/26 [00:16<00:00,  1.54it/s, val_loss=9.19e-5, SDR=0.967, R_ave=1.38]\n",
      "  0%|          | 0/60 [00:00<?, ?it/s]"
     ]
    },
    {
     "name": "stdout",
     "output_type": "stream",
     "text": [
      "loss 0.0001 - val_loss 0.0001 - SDR 0.9674 - R_ave 1.3840\n",
      "Epoch [874/1000]\n"
     ]
    },
    {
     "name": "stderr",
     "output_type": "stream",
     "text": [
      "100%|██████████| 60/60 [00:24<00:00,  2.45it/s, loss=6.86e-5]\n",
      "100%|██████████| 26/26 [00:17<00:00,  1.50it/s, val_loss=9.23e-5, SDR=0.969, R_ave=1.37]\n",
      "  0%|          | 0/60 [00:00<?, ?it/s]"
     ]
    },
    {
     "name": "stdout",
     "output_type": "stream",
     "text": [
      "loss 0.0001 - val_loss 0.0001 - SDR 0.9695 - R_ave 1.3719\n",
      "Epoch [875/1000]\n"
     ]
    },
    {
     "name": "stderr",
     "output_type": "stream",
     "text": [
      "100%|██████████| 60/60 [00:24<00:00,  2.45it/s, loss=6.86e-5]\n",
      "100%|██████████| 26/26 [00:16<00:00,  1.54it/s, val_loss=9.25e-5, SDR=0.969, R_ave=1.38]\n",
      "  0%|          | 0/60 [00:00<?, ?it/s]"
     ]
    },
    {
     "name": "stdout",
     "output_type": "stream",
     "text": [
      "loss 0.0001 - val_loss 0.0001 - SDR 0.9688 - R_ave 1.3814\n",
      "Epoch [876/1000]\n"
     ]
    },
    {
     "name": "stderr",
     "output_type": "stream",
     "text": [
      "100%|██████████| 60/60 [00:24<00:00,  2.45it/s, loss=6.69e-5]\n",
      "100%|██████████| 26/26 [00:16<00:00,  1.54it/s, val_loss=9.17e-5, SDR=0.968, R_ave=1.38]\n",
      "  0%|          | 0/60 [00:00<?, ?it/s]"
     ]
    },
    {
     "name": "stdout",
     "output_type": "stream",
     "text": [
      "loss 0.0001 - val_loss 0.0001 - SDR 0.9677 - R_ave 1.3756\n",
      "Epoch [877/1000]\n"
     ]
    },
    {
     "name": "stderr",
     "output_type": "stream",
     "text": [
      "100%|██████████| 60/60 [00:24<00:00,  2.45it/s, loss=6.84e-5]\n",
      "100%|██████████| 26/26 [00:17<00:00,  1.50it/s, val_loss=9.16e-5, SDR=0.969, R_ave=1.38]\n",
      "  0%|          | 0/60 [00:00<?, ?it/s]"
     ]
    },
    {
     "name": "stdout",
     "output_type": "stream",
     "text": [
      "loss 0.0001 - val_loss 0.0001 - SDR 0.9685 - R_ave 1.3751\n",
      "Epoch [878/1000]\n"
     ]
    },
    {
     "name": "stderr",
     "output_type": "stream",
     "text": [
      "100%|██████████| 60/60 [00:24<00:00,  2.45it/s, loss=6.93e-5]\n",
      "100%|██████████| 26/26 [00:16<00:00,  1.54it/s, val_loss=9.18e-5, SDR=0.969, R_ave=1.38]\n",
      "  0%|          | 0/60 [00:00<?, ?it/s]"
     ]
    },
    {
     "name": "stdout",
     "output_type": "stream",
     "text": [
      "loss 0.0001 - val_loss 0.0001 - SDR 0.9693 - R_ave 1.3783\n",
      "Epoch [879/1000]\n"
     ]
    },
    {
     "name": "stderr",
     "output_type": "stream",
     "text": [
      "100%|██████████| 60/60 [00:24<00:00,  2.46it/s, loss=6.86e-5]\n",
      "100%|██████████| 26/26 [00:16<00:00,  1.55it/s, val_loss=9.19e-5, SDR=0.969, R_ave=1.38]\n",
      "  0%|          | 0/60 [00:00<?, ?it/s]"
     ]
    },
    {
     "name": "stdout",
     "output_type": "stream",
     "text": [
      "loss 0.0001 - val_loss 0.0001 - SDR 0.9692 - R_ave 1.3785\n",
      "Epoch [880/1000]\n"
     ]
    },
    {
     "name": "stderr",
     "output_type": "stream",
     "text": [
      "100%|██████████| 60/60 [00:24<00:00,  2.45it/s, loss=6.81e-5]\n",
      "100%|██████████| 26/26 [00:17<00:00,  1.51it/s, val_loss=9.2e-5, SDR=0.968, R_ave=1.38] \n",
      "  0%|          | 0/60 [00:00<?, ?it/s]"
     ]
    },
    {
     "name": "stdout",
     "output_type": "stream",
     "text": [
      "loss 0.0001 - val_loss 0.0001 - SDR 0.9684 - R_ave 1.3754\n",
      "Epoch [881/1000]\n"
     ]
    },
    {
     "name": "stderr",
     "output_type": "stream",
     "text": [
      "100%|██████████| 60/60 [00:24<00:00,  2.45it/s, loss=6.81e-5]\n",
      "100%|██████████| 26/26 [00:16<00:00,  1.53it/s, val_loss=9.23e-5, SDR=0.967, R_ave=1.38]\n",
      "  0%|          | 0/60 [00:00<?, ?it/s]"
     ]
    },
    {
     "name": "stdout",
     "output_type": "stream",
     "text": [
      "loss 0.0001 - val_loss 0.0001 - SDR 0.9671 - R_ave 1.3823\n",
      "Epoch [882/1000]\n"
     ]
    },
    {
     "name": "stderr",
     "output_type": "stream",
     "text": [
      "100%|██████████| 60/60 [00:24<00:00,  2.46it/s, loss=6.85e-5]\n",
      "100%|██████████| 26/26 [00:16<00:00,  1.54it/s, val_loss=9.15e-5, SDR=0.969, R_ave=1.37]\n",
      "  0%|          | 0/60 [00:00<?, ?it/s]"
     ]
    },
    {
     "name": "stdout",
     "output_type": "stream",
     "text": [
      "loss 0.0001 - val_loss 0.0001 - SDR 0.9693 - R_ave 1.3654\n",
      "Epoch [883/1000]\n"
     ]
    },
    {
     "name": "stderr",
     "output_type": "stream",
     "text": [
      "100%|██████████| 60/60 [00:25<00:00,  2.39it/s, loss=6.75e-5]\n",
      "100%|██████████| 26/26 [00:17<00:00,  1.52it/s, val_loss=9.17e-5, SDR=0.969, R_ave=1.37]\n",
      "  0%|          | 0/60 [00:00<?, ?it/s]"
     ]
    },
    {
     "name": "stdout",
     "output_type": "stream",
     "text": [
      "loss 0.0001 - val_loss 0.0001 - SDR 0.9695 - R_ave 1.3707\n",
      "Epoch [884/1000]\n"
     ]
    },
    {
     "name": "stderr",
     "output_type": "stream",
     "text": [
      "100%|██████████| 60/60 [00:24<00:00,  2.44it/s, loss=6.74e-5]\n",
      "100%|██████████| 26/26 [00:16<00:00,  1.54it/s, val_loss=9.15e-5, SDR=0.968, R_ave=1.37]\n",
      "  0%|          | 0/60 [00:00<?, ?it/s]"
     ]
    },
    {
     "name": "stdout",
     "output_type": "stream",
     "text": [
      "loss 0.0001 - val_loss 0.0001 - SDR 0.9680 - R_ave 1.3706\n",
      "Epoch [885/1000]\n"
     ]
    },
    {
     "name": "stderr",
     "output_type": "stream",
     "text": [
      "100%|██████████| 60/60 [00:24<00:00,  2.46it/s, loss=6.88e-5]\n",
      "100%|██████████| 26/26 [00:16<00:00,  1.54it/s, val_loss=9.28e-5, SDR=0.969, R_ave=1.38]\n",
      "  0%|          | 0/60 [00:00<?, ?it/s]"
     ]
    },
    {
     "name": "stdout",
     "output_type": "stream",
     "text": [
      "loss 0.0001 - val_loss 0.0001 - SDR 0.9687 - R_ave 1.3793\n",
      "Epoch [886/1000]\n"
     ]
    },
    {
     "name": "stderr",
     "output_type": "stream",
     "text": [
      "100%|██████████| 60/60 [00:24<00:00,  2.42it/s, loss=6.7e-5] \n",
      "100%|██████████| 26/26 [00:17<00:00,  1.53it/s, val_loss=9.26e-5, SDR=0.969, R_ave=1.37]\n",
      "  0%|          | 0/60 [00:00<?, ?it/s]"
     ]
    },
    {
     "name": "stdout",
     "output_type": "stream",
     "text": [
      "loss 0.0001 - val_loss 0.0001 - SDR 0.9688 - R_ave 1.3686\n",
      "Epoch [887/1000]\n"
     ]
    },
    {
     "name": "stderr",
     "output_type": "stream",
     "text": [
      "100%|██████████| 60/60 [00:24<00:00,  2.45it/s, loss=6.74e-5]\n",
      "100%|██████████| 26/26 [00:16<00:00,  1.54it/s, val_loss=9.23e-5, SDR=0.969, R_ave=1.37]\n",
      "  0%|          | 0/60 [00:00<?, ?it/s]"
     ]
    },
    {
     "name": "stdout",
     "output_type": "stream",
     "text": [
      "loss 0.0001 - val_loss 0.0001 - SDR 0.9688 - R_ave 1.3733\n",
      "Epoch [888/1000]\n"
     ]
    },
    {
     "name": "stderr",
     "output_type": "stream",
     "text": [
      "100%|██████████| 60/60 [00:24<00:00,  2.47it/s, loss=6.82e-5]\n",
      "100%|██████████| 26/26 [00:16<00:00,  1.54it/s, val_loss=9.39e-5, SDR=0.969, R_ave=1.38]\n",
      "  0%|          | 0/60 [00:00<?, ?it/s]"
     ]
    },
    {
     "name": "stdout",
     "output_type": "stream",
     "text": [
      "loss 0.0001 - val_loss 0.0001 - SDR 0.9693 - R_ave 1.3762\n",
      "Epoch [889/1000]\n"
     ]
    },
    {
     "name": "stderr",
     "output_type": "stream",
     "text": [
      "100%|██████████| 60/60 [00:24<00:00,  2.43it/s, loss=6.59e-5]\n",
      "100%|██████████| 26/26 [00:17<00:00,  1.51it/s, val_loss=9.23e-5, SDR=0.968, R_ave=1.37]\n",
      "  0%|          | 0/60 [00:00<?, ?it/s]"
     ]
    },
    {
     "name": "stdout",
     "output_type": "stream",
     "text": [
      "loss 0.0001 - val_loss 0.0001 - SDR 0.9684 - R_ave 1.3750\n",
      "Epoch [890/1000]\n"
     ]
    },
    {
     "name": "stderr",
     "output_type": "stream",
     "text": [
      "100%|██████████| 60/60 [00:24<00:00,  2.46it/s, loss=6.75e-5]\n",
      "100%|██████████| 26/26 [00:16<00:00,  1.54it/s, val_loss=9.22e-5, SDR=0.969, R_ave=1.37]\n",
      "  0%|          | 0/60 [00:00<?, ?it/s]"
     ]
    },
    {
     "name": "stdout",
     "output_type": "stream",
     "text": [
      "loss 0.0001 - val_loss 0.0001 - SDR 0.9687 - R_ave 1.3749\n",
      "Epoch [891/1000]\n"
     ]
    },
    {
     "name": "stderr",
     "output_type": "stream",
     "text": [
      "100%|██████████| 60/60 [00:24<00:00,  2.46it/s, loss=6.69e-5]\n",
      "100%|██████████| 26/26 [00:17<00:00,  1.53it/s, val_loss=9.14e-5, SDR=0.969, R_ave=1.37]\n",
      "  0%|          | 0/60 [00:00<?, ?it/s]"
     ]
    },
    {
     "name": "stdout",
     "output_type": "stream",
     "text": [
      "loss 0.0001 - val_loss 0.0001 - SDR 0.9688 - R_ave 1.3692\n",
      "Epoch [892/1000]\n"
     ]
    },
    {
     "name": "stderr",
     "output_type": "stream",
     "text": [
      "100%|██████████| 60/60 [00:24<00:00,  2.43it/s, loss=6.83e-5]\n",
      "100%|██████████| 26/26 [00:16<00:00,  1.53it/s, val_loss=9.16e-5, SDR=0.968, R_ave=1.37]\n",
      "  0%|          | 0/60 [00:00<?, ?it/s]"
     ]
    },
    {
     "name": "stdout",
     "output_type": "stream",
     "text": [
      "loss 0.0001 - val_loss 0.0001 - SDR 0.9679 - R_ave 1.3733\n",
      "Epoch [893/1000]\n"
     ]
    },
    {
     "name": "stderr",
     "output_type": "stream",
     "text": [
      "100%|██████████| 60/60 [00:24<00:00,  2.45it/s, loss=6.73e-5]\n",
      "100%|██████████| 26/26 [00:16<00:00,  1.54it/s, val_loss=9.21e-5, SDR=0.969, R_ave=1.38]\n",
      "  0%|          | 0/60 [00:00<?, ?it/s]"
     ]
    },
    {
     "name": "stdout",
     "output_type": "stream",
     "text": [
      "loss 0.0001 - val_loss 0.0001 - SDR 0.9690 - R_ave 1.3810\n",
      "Epoch [894/1000]\n"
     ]
    },
    {
     "name": "stderr",
     "output_type": "stream",
     "text": [
      "100%|██████████| 60/60 [00:24<00:00,  2.46it/s, loss=6.79e-5]\n",
      "100%|██████████| 26/26 [00:17<00:00,  1.51it/s, val_loss=9.16e-5, SDR=0.969, R_ave=1.37]\n",
      "  0%|          | 0/60 [00:00<?, ?it/s]"
     ]
    },
    {
     "name": "stdout",
     "output_type": "stream",
     "text": [
      "loss 0.0001 - val_loss 0.0001 - SDR 0.9687 - R_ave 1.3738\n",
      "Epoch [895/1000]\n"
     ]
    },
    {
     "name": "stderr",
     "output_type": "stream",
     "text": [
      "100%|██████████| 60/60 [00:24<00:00,  2.42it/s, loss=6.73e-5]\n",
      "100%|██████████| 26/26 [00:16<00:00,  1.54it/s, val_loss=9.2e-5, SDR=0.969, R_ave=1.37] \n",
      "  0%|          | 0/60 [00:00<?, ?it/s]"
     ]
    },
    {
     "name": "stdout",
     "output_type": "stream",
     "text": [
      "loss 0.0001 - val_loss 0.0001 - SDR 0.9685 - R_ave 1.3747\n",
      "Epoch [896/1000]\n"
     ]
    },
    {
     "name": "stderr",
     "output_type": "stream",
     "text": [
      "100%|██████████| 60/60 [00:24<00:00,  2.45it/s, loss=6.79e-5]\n",
      "100%|██████████| 26/26 [00:16<00:00,  1.54it/s, val_loss=9.33e-5, SDR=0.967, R_ave=1.39]\n",
      "  0%|          | 0/60 [00:00<?, ?it/s]"
     ]
    },
    {
     "name": "stdout",
     "output_type": "stream",
     "text": [
      "loss 0.0001 - val_loss 0.0001 - SDR 0.9666 - R_ave 1.3854\n",
      "Epoch [897/1000]\n"
     ]
    },
    {
     "name": "stderr",
     "output_type": "stream",
     "text": [
      "100%|██████████| 60/60 [00:24<00:00,  2.46it/s, loss=6.82e-5]\n",
      "100%|██████████| 26/26 [00:17<00:00,  1.51it/s, val_loss=9.2e-5, SDR=0.969, R_ave=1.38] \n",
      "  0%|          | 0/60 [00:00<?, ?it/s]"
     ]
    },
    {
     "name": "stdout",
     "output_type": "stream",
     "text": [
      "loss 0.0001 - val_loss 0.0001 - SDR 0.9687 - R_ave 1.3758\n",
      "Epoch [898/1000]\n"
     ]
    },
    {
     "name": "stderr",
     "output_type": "stream",
     "text": [
      "100%|██████████| 60/60 [00:24<00:00,  2.42it/s, loss=6.87e-5]\n",
      "100%|██████████| 26/26 [00:16<00:00,  1.54it/s, val_loss=9.16e-5, SDR=0.969, R_ave=1.37]\n",
      "  0%|          | 0/60 [00:00<?, ?it/s]"
     ]
    },
    {
     "name": "stdout",
     "output_type": "stream",
     "text": [
      "loss 0.0001 - val_loss 0.0001 - SDR 0.9695 - R_ave 1.3723\n",
      "Epoch [899/1000]\n"
     ]
    },
    {
     "name": "stderr",
     "output_type": "stream",
     "text": [
      "100%|██████████| 60/60 [00:24<00:00,  2.46it/s, loss=6.77e-5]\n",
      "100%|██████████| 26/26 [00:17<00:00,  1.52it/s, val_loss=9.22e-5, SDR=0.968, R_ave=1.38]\n",
      "  0%|          | 0/60 [00:00<?, ?it/s]"
     ]
    },
    {
     "name": "stdout",
     "output_type": "stream",
     "text": [
      "loss 0.0001 - val_loss 0.0001 - SDR 0.9679 - R_ave 1.3772\n",
      "Epoch [900/1000]\n"
     ]
    },
    {
     "name": "stderr",
     "output_type": "stream",
     "text": [
      "100%|██████████| 60/60 [00:24<00:00,  2.46it/s, loss=6.81e-5]\n",
      "100%|██████████| 26/26 [00:17<00:00,  1.50it/s, val_loss=9.2e-5, SDR=0.969, R_ave=1.38] \n",
      "  0%|          | 0/60 [00:00<?, ?it/s]"
     ]
    },
    {
     "name": "stdout",
     "output_type": "stream",
     "text": [
      "loss 0.0001 - val_loss 0.0001 - SDR 0.9690 - R_ave 1.3764\n",
      "Epoch [901/1000]\n"
     ]
    },
    {
     "name": "stderr",
     "output_type": "stream",
     "text": [
      "100%|██████████| 60/60 [00:24<00:00,  2.44it/s, loss=6.61e-5]\n",
      "100%|██████████| 26/26 [00:16<00:00,  1.53it/s, val_loss=9.19e-5, SDR=0.967, R_ave=1.39]\n",
      "  0%|          | 0/60 [00:00<?, ?it/s]"
     ]
    },
    {
     "name": "stdout",
     "output_type": "stream",
     "text": [
      "loss 0.0001 - val_loss 0.0001 - SDR 0.9671 - R_ave 1.3850\n",
      "Epoch [902/1000]\n"
     ]
    },
    {
     "name": "stderr",
     "output_type": "stream",
     "text": [
      "100%|██████████| 60/60 [00:24<00:00,  2.46it/s, loss=6.72e-5]\n",
      "100%|██████████| 26/26 [00:16<00:00,  1.54it/s, val_loss=9.2e-5, SDR=0.967, R_ave=1.38] \n",
      "  0%|          | 0/60 [00:00<?, ?it/s]"
     ]
    },
    {
     "name": "stdout",
     "output_type": "stream",
     "text": [
      "loss 0.0001 - val_loss 0.0001 - SDR 0.9672 - R_ave 1.3847\n",
      "Epoch [903/1000]\n"
     ]
    },
    {
     "name": "stderr",
     "output_type": "stream",
     "text": [
      "100%|██████████| 60/60 [00:24<00:00,  2.46it/s, loss=6.69e-5]\n",
      "100%|██████████| 26/26 [00:17<00:00,  1.51it/s, val_loss=9.26e-5, SDR=0.968, R_ave=1.39]\n",
      "  0%|          | 0/60 [00:00<?, ?it/s]"
     ]
    },
    {
     "name": "stdout",
     "output_type": "stream",
     "text": [
      "loss 0.0001 - val_loss 0.0001 - SDR 0.9682 - R_ave 1.3852\n",
      "Epoch [904/1000]\n"
     ]
    },
    {
     "name": "stderr",
     "output_type": "stream",
     "text": [
      "100%|██████████| 60/60 [00:24<00:00,  2.46it/s, loss=6.72e-5]\n",
      "100%|██████████| 26/26 [00:16<00:00,  1.54it/s, val_loss=9.15e-5, SDR=0.969, R_ave=1.37]\n",
      "  0%|          | 0/60 [00:00<?, ?it/s]"
     ]
    },
    {
     "name": "stdout",
     "output_type": "stream",
     "text": [
      "loss 0.0001 - val_loss 0.0001 - SDR 0.9687 - R_ave 1.3736\n",
      "Epoch [905/1000]\n"
     ]
    },
    {
     "name": "stderr",
     "output_type": "stream",
     "text": [
      "100%|██████████| 60/60 [00:24<00:00,  2.46it/s, loss=6.65e-5]\n",
      "100%|██████████| 26/26 [00:16<00:00,  1.54it/s, val_loss=9.16e-5, SDR=0.968, R_ave=1.38]\n",
      "  0%|          | 0/60 [00:00<?, ?it/s]"
     ]
    },
    {
     "name": "stdout",
     "output_type": "stream",
     "text": [
      "loss 0.0001 - val_loss 0.0001 - SDR 0.9684 - R_ave 1.3769\n",
      "Epoch [906/1000]\n"
     ]
    },
    {
     "name": "stderr",
     "output_type": "stream",
     "text": [
      "100%|██████████| 60/60 [00:24<00:00,  2.45it/s, loss=6.77e-5]\n",
      "100%|██████████| 26/26 [00:17<00:00,  1.51it/s, val_loss=9.21e-5, SDR=0.967, R_ave=1.38]\n",
      "  0%|          | 0/60 [00:00<?, ?it/s]"
     ]
    },
    {
     "name": "stdout",
     "output_type": "stream",
     "text": [
      "loss 0.0001 - val_loss 0.0001 - SDR 0.9674 - R_ave 1.3774\n",
      "Epoch [907/1000]\n"
     ]
    },
    {
     "name": "stderr",
     "output_type": "stream",
     "text": [
      "100%|██████████| 60/60 [00:24<00:00,  2.45it/s, loss=6.68e-5]\n",
      "100%|██████████| 26/26 [00:16<00:00,  1.54it/s, val_loss=9.25e-5, SDR=0.968, R_ave=1.39]\n",
      "  0%|          | 0/60 [00:00<?, ?it/s]"
     ]
    },
    {
     "name": "stdout",
     "output_type": "stream",
     "text": [
      "loss 0.0001 - val_loss 0.0001 - SDR 0.9676 - R_ave 1.3866\n",
      "Epoch [908/1000]\n"
     ]
    },
    {
     "name": "stderr",
     "output_type": "stream",
     "text": [
      "100%|██████████| 60/60 [00:24<00:00,  2.45it/s, loss=6.89e-5]\n",
      "100%|██████████| 26/26 [00:16<00:00,  1.54it/s, val_loss=9.21e-5, SDR=0.969, R_ave=1.38]\n",
      "  0%|          | 0/60 [00:00<?, ?it/s]"
     ]
    },
    {
     "name": "stdout",
     "output_type": "stream",
     "text": [
      "loss 0.0001 - val_loss 0.0001 - SDR 0.9685 - R_ave 1.3764\n",
      "Epoch [909/1000]\n"
     ]
    },
    {
     "name": "stderr",
     "output_type": "stream",
     "text": [
      "100%|██████████| 60/60 [00:24<00:00,  2.44it/s, loss=6.72e-5]\n",
      "100%|██████████| 26/26 [00:17<00:00,  1.52it/s, val_loss=9.28e-5, SDR=0.968, R_ave=1.39]\n",
      "  0%|          | 0/60 [00:00<?, ?it/s]"
     ]
    },
    {
     "name": "stdout",
     "output_type": "stream",
     "text": [
      "loss 0.0001 - val_loss 0.0001 - SDR 0.9677 - R_ave 1.3939\n",
      "Epoch [910/1000]\n"
     ]
    },
    {
     "name": "stderr",
     "output_type": "stream",
     "text": [
      "100%|██████████| 60/60 [00:24<00:00,  2.45it/s, loss=6.78e-5]\n",
      "100%|██████████| 26/26 [00:16<00:00,  1.54it/s, val_loss=9.19e-5, SDR=0.967, R_ave=1.38]\n",
      "  0%|          | 0/60 [00:00<?, ?it/s]"
     ]
    },
    {
     "name": "stdout",
     "output_type": "stream",
     "text": [
      "loss 0.0001 - val_loss 0.0001 - SDR 0.9672 - R_ave 1.3783\n",
      "Epoch [911/1000]\n"
     ]
    },
    {
     "name": "stderr",
     "output_type": "stream",
     "text": [
      "100%|██████████| 60/60 [00:24<00:00,  2.45it/s, loss=6.72e-5]\n",
      "100%|██████████| 26/26 [00:16<00:00,  1.54it/s, val_loss=9.25e-5, SDR=0.968, R_ave=1.38]\n",
      "  0%|          | 0/60 [00:00<?, ?it/s]"
     ]
    },
    {
     "name": "stdout",
     "output_type": "stream",
     "text": [
      "loss 0.0001 - val_loss 0.0001 - SDR 0.9679 - R_ave 1.3840\n",
      "Epoch [912/1000]\n"
     ]
    },
    {
     "name": "stderr",
     "output_type": "stream",
     "text": [
      "100%|██████████| 60/60 [00:24<00:00,  2.42it/s, loss=6.75e-5]\n",
      "100%|██████████| 26/26 [00:17<00:00,  1.52it/s, val_loss=9.26e-5, SDR=0.968, R_ave=1.39]\n",
      "  0%|          | 0/60 [00:00<?, ?it/s]"
     ]
    },
    {
     "name": "stdout",
     "output_type": "stream",
     "text": [
      "loss 0.0001 - val_loss 0.0001 - SDR 0.9682 - R_ave 1.3886\n",
      "Epoch [913/1000]\n"
     ]
    },
    {
     "name": "stderr",
     "output_type": "stream",
     "text": [
      "100%|██████████| 60/60 [00:24<00:00,  2.45it/s, loss=6.87e-5]\n",
      "100%|██████████| 26/26 [00:16<00:00,  1.54it/s, val_loss=9.2e-5, SDR=0.966, R_ave=1.38] \n",
      "  0%|          | 0/60 [00:00<?, ?it/s]"
     ]
    },
    {
     "name": "stdout",
     "output_type": "stream",
     "text": [
      "loss 0.0001 - val_loss 0.0001 - SDR 0.9663 - R_ave 1.3836\n",
      "Epoch [914/1000]\n"
     ]
    },
    {
     "name": "stderr",
     "output_type": "stream",
     "text": [
      "100%|██████████| 60/60 [00:24<00:00,  2.46it/s, loss=6.73e-5]\n",
      "100%|██████████| 26/26 [00:16<00:00,  1.54it/s, val_loss=9.26e-5, SDR=0.969, R_ave=1.38]\n",
      "  0%|          | 0/60 [00:00<?, ?it/s]"
     ]
    },
    {
     "name": "stdout",
     "output_type": "stream",
     "text": [
      "loss 0.0001 - val_loss 0.0001 - SDR 0.9685 - R_ave 1.3840\n",
      "Epoch [915/1000]\n"
     ]
    },
    {
     "name": "stderr",
     "output_type": "stream",
     "text": [
      "100%|██████████| 60/60 [00:24<00:00,  2.44it/s, loss=6.83e-5]\n",
      "100%|██████████| 26/26 [00:16<00:00,  1.53it/s, val_loss=9.17e-5, SDR=0.968, R_ave=1.38]\n",
      "  0%|          | 0/60 [00:00<?, ?it/s]"
     ]
    },
    {
     "name": "stdout",
     "output_type": "stream",
     "text": [
      "loss 0.0001 - val_loss 0.0001 - SDR 0.9682 - R_ave 1.3771\n",
      "Epoch [916/1000]\n"
     ]
    },
    {
     "name": "stderr",
     "output_type": "stream",
     "text": [
      "100%|██████████| 60/60 [00:24<00:00,  2.46it/s, loss=6.73e-5]\n",
      "100%|██████████| 26/26 [00:16<00:00,  1.54it/s, val_loss=9.2e-5, SDR=0.967, R_ave=1.38] \n",
      "  0%|          | 0/60 [00:00<?, ?it/s]"
     ]
    },
    {
     "name": "stdout",
     "output_type": "stream",
     "text": [
      "loss 0.0001 - val_loss 0.0001 - SDR 0.9667 - R_ave 1.3818\n",
      "Epoch [917/1000]\n"
     ]
    },
    {
     "name": "stderr",
     "output_type": "stream",
     "text": [
      "100%|██████████| 60/60 [00:24<00:00,  2.46it/s, loss=6.72e-5]\n",
      "100%|██████████| 26/26 [00:16<00:00,  1.53it/s, val_loss=9.25e-5, SDR=0.967, R_ave=1.38]\n",
      "  0%|          | 0/60 [00:00<?, ?it/s]"
     ]
    },
    {
     "name": "stdout",
     "output_type": "stream",
     "text": [
      "loss 0.0001 - val_loss 0.0001 - SDR 0.9667 - R_ave 1.3800\n",
      "Epoch [918/1000]\n"
     ]
    },
    {
     "name": "stderr",
     "output_type": "stream",
     "text": [
      "100%|██████████| 60/60 [00:24<00:00,  2.42it/s, loss=6.85e-5]\n",
      "100%|██████████| 26/26 [00:16<00:00,  1.53it/s, val_loss=9.2e-5, SDR=0.968, R_ave=1.39] \n",
      "  0%|          | 0/60 [00:00<?, ?it/s]"
     ]
    },
    {
     "name": "stdout",
     "output_type": "stream",
     "text": [
      "loss 0.0001 - val_loss 0.0001 - SDR 0.9676 - R_ave 1.3866\n",
      "Epoch [919/1000]\n"
     ]
    },
    {
     "name": "stderr",
     "output_type": "stream",
     "text": [
      "100%|██████████| 60/60 [00:24<00:00,  2.46it/s, loss=6.66e-5]\n",
      "100%|██████████| 26/26 [00:16<00:00,  1.54it/s, val_loss=9.16e-5, SDR=0.968, R_ave=1.37]\n",
      "  0%|          | 0/60 [00:00<?, ?it/s]"
     ]
    },
    {
     "name": "stdout",
     "output_type": "stream",
     "text": [
      "loss 0.0001 - val_loss 0.0001 - SDR 0.9682 - R_ave 1.3719\n",
      "Epoch [920/1000]\n"
     ]
    },
    {
     "name": "stderr",
     "output_type": "stream",
     "text": [
      "100%|██████████| 60/60 [00:24<00:00,  2.46it/s, loss=6.86e-5]\n",
      "100%|██████████| 26/26 [00:17<00:00,  1.52it/s, val_loss=9.18e-5, SDR=0.967, R_ave=1.37]\n",
      "  0%|          | 0/60 [00:00<?, ?it/s]"
     ]
    },
    {
     "name": "stdout",
     "output_type": "stream",
     "text": [
      "loss 0.0001 - val_loss 0.0001 - SDR 0.9671 - R_ave 1.3750\n",
      "Epoch [921/1000]\n"
     ]
    },
    {
     "name": "stderr",
     "output_type": "stream",
     "text": [
      "100%|██████████| 60/60 [00:24<00:00,  2.43it/s, loss=6.59e-5]\n",
      "100%|██████████| 26/26 [00:16<00:00,  1.54it/s, val_loss=9.22e-5, SDR=0.968, R_ave=1.38]\n",
      "  0%|          | 0/60 [00:00<?, ?it/s]"
     ]
    },
    {
     "name": "stdout",
     "output_type": "stream",
     "text": [
      "loss 0.0001 - val_loss 0.0001 - SDR 0.9684 - R_ave 1.3784\n",
      "Epoch [922/1000]\n"
     ]
    },
    {
     "name": "stderr",
     "output_type": "stream",
     "text": [
      "100%|██████████| 60/60 [00:24<00:00,  2.46it/s, loss=6.71e-5]\n",
      "100%|██████████| 26/26 [00:16<00:00,  1.54it/s, val_loss=9.18e-5, SDR=0.969, R_ave=1.38]\n",
      "  0%|          | 0/60 [00:00<?, ?it/s]"
     ]
    },
    {
     "name": "stdout",
     "output_type": "stream",
     "text": [
      "loss 0.0001 - val_loss 0.0001 - SDR 0.9688 - R_ave 1.3810\n",
      "Epoch [923/1000]\n"
     ]
    },
    {
     "name": "stderr",
     "output_type": "stream",
     "text": [
      "100%|██████████| 60/60 [00:24<00:00,  2.45it/s, loss=6.75e-5]\n",
      "100%|██████████| 26/26 [00:17<00:00,  1.50it/s, val_loss=9.21e-5, SDR=0.967, R_ave=1.37]\n",
      "  0%|          | 0/60 [00:00<?, ?it/s]"
     ]
    },
    {
     "name": "stdout",
     "output_type": "stream",
     "text": [
      "loss 0.0001 - val_loss 0.0001 - SDR 0.9672 - R_ave 1.3744\n",
      "Epoch [924/1000]\n"
     ]
    },
    {
     "name": "stderr",
     "output_type": "stream",
     "text": [
      "100%|██████████| 60/60 [00:24<00:00,  2.42it/s, loss=6.78e-5]\n",
      "100%|██████████| 26/26 [00:16<00:00,  1.54it/s, val_loss=9.21e-5, SDR=0.969, R_ave=1.38]\n",
      "  0%|          | 0/60 [00:00<?, ?it/s]"
     ]
    },
    {
     "name": "stdout",
     "output_type": "stream",
     "text": [
      "loss 0.0001 - val_loss 0.0001 - SDR 0.9687 - R_ave 1.3820\n",
      "Epoch [925/1000]\n"
     ]
    },
    {
     "name": "stderr",
     "output_type": "stream",
     "text": [
      "100%|██████████| 60/60 [00:24<00:00,  2.45it/s, loss=6.72e-5]\n",
      "100%|██████████| 26/26 [00:16<00:00,  1.54it/s, val_loss=9.36e-5, SDR=0.967, R_ave=1.4] \n",
      "  0%|          | 0/60 [00:00<?, ?it/s]"
     ]
    },
    {
     "name": "stdout",
     "output_type": "stream",
     "text": [
      "loss 0.0001 - val_loss 0.0001 - SDR 0.9666 - R_ave 1.4031\n",
      "Epoch [926/1000]\n"
     ]
    },
    {
     "name": "stderr",
     "output_type": "stream",
     "text": [
      "100%|██████████| 60/60 [00:24<00:00,  2.44it/s, loss=6.69e-5]\n",
      "100%|██████████| 26/26 [00:17<00:00,  1.50it/s, val_loss=9.14e-5, SDR=0.968, R_ave=1.37]\n",
      "  0%|          | 0/60 [00:00<?, ?it/s]"
     ]
    },
    {
     "name": "stdout",
     "output_type": "stream",
     "text": [
      "loss 0.0001 - val_loss 0.0001 - SDR 0.9677 - R_ave 1.3731\n",
      "Epoch [927/1000]\n"
     ]
    },
    {
     "name": "stderr",
     "output_type": "stream",
     "text": [
      "100%|██████████| 60/60 [00:24<00:00,  2.44it/s, loss=6.61e-5]\n",
      "100%|██████████| 26/26 [00:17<00:00,  1.53it/s, val_loss=9.21e-5, SDR=0.968, R_ave=1.38]\n",
      "  0%|          | 0/60 [00:00<?, ?it/s]"
     ]
    },
    {
     "name": "stdout",
     "output_type": "stream",
     "text": [
      "loss 0.0001 - val_loss 0.0001 - SDR 0.9684 - R_ave 1.3785\n",
      "Epoch [928/1000]\n"
     ]
    },
    {
     "name": "stderr",
     "output_type": "stream",
     "text": [
      "100%|██████████| 60/60 [00:24<00:00,  2.44it/s, loss=6.67e-5]\n",
      "100%|██████████| 26/26 [00:17<00:00,  1.53it/s, val_loss=9.22e-5, SDR=0.967, R_ave=1.38]\n",
      "  0%|          | 0/60 [00:00<?, ?it/s]"
     ]
    },
    {
     "name": "stdout",
     "output_type": "stream",
     "text": [
      "loss 0.0001 - val_loss 0.0001 - SDR 0.9667 - R_ave 1.3789\n",
      "Epoch [929/1000]\n"
     ]
    },
    {
     "name": "stderr",
     "output_type": "stream",
     "text": [
      "100%|██████████| 60/60 [00:24<00:00,  2.46it/s, loss=6.77e-5]\n",
      "100%|██████████| 26/26 [00:17<00:00,  1.51it/s, val_loss=9.18e-5, SDR=0.968, R_ave=1.38]\n",
      "  0%|          | 0/60 [00:00<?, ?it/s]"
     ]
    },
    {
     "name": "stdout",
     "output_type": "stream",
     "text": [
      "loss 0.0001 - val_loss 0.0001 - SDR 0.9677 - R_ave 1.3797\n",
      "Epoch [930/1000]\n"
     ]
    },
    {
     "name": "stderr",
     "output_type": "stream",
     "text": [
      "100%|██████████| 60/60 [00:24<00:00,  2.44it/s, loss=6.73e-5]\n",
      "100%|██████████| 26/26 [00:16<00:00,  1.54it/s, val_loss=9.18e-5, SDR=0.968, R_ave=1.38]\n",
      "  0%|          | 0/60 [00:00<?, ?it/s]"
     ]
    },
    {
     "name": "stdout",
     "output_type": "stream",
     "text": [
      "loss 0.0001 - val_loss 0.0001 - SDR 0.9682 - R_ave 1.3792\n",
      "Epoch [931/1000]\n"
     ]
    },
    {
     "name": "stderr",
     "output_type": "stream",
     "text": [
      "100%|██████████| 60/60 [00:24<00:00,  2.45it/s, loss=6.66e-5]\n",
      "100%|██████████| 26/26 [00:16<00:00,  1.53it/s, val_loss=9.2e-5, SDR=0.968, R_ave=1.38] \n",
      "  0%|          | 0/60 [00:00<?, ?it/s]"
     ]
    },
    {
     "name": "stdout",
     "output_type": "stream",
     "text": [
      "loss 0.0001 - val_loss 0.0001 - SDR 0.9676 - R_ave 1.3821\n",
      "Epoch [932/1000]\n"
     ]
    },
    {
     "name": "stderr",
     "output_type": "stream",
     "text": [
      "100%|██████████| 60/60 [00:24<00:00,  2.46it/s, loss=6.66e-5]\n",
      "100%|██████████| 26/26 [00:17<00:00,  1.51it/s, val_loss=9.18e-5, SDR=0.967, R_ave=1.38]\n",
      "  0%|          | 0/60 [00:00<?, ?it/s]"
     ]
    },
    {
     "name": "stdout",
     "output_type": "stream",
     "text": [
      "loss 0.0001 - val_loss 0.0001 - SDR 0.9672 - R_ave 1.3843\n",
      "Epoch [933/1000]\n"
     ]
    },
    {
     "name": "stderr",
     "output_type": "stream",
     "text": [
      "100%|██████████| 60/60 [00:24<00:00,  2.44it/s, loss=6.74e-5]\n",
      "100%|██████████| 26/26 [00:16<00:00,  1.53it/s, val_loss=9.22e-5, SDR=0.967, R_ave=1.38]\n",
      "  0%|          | 0/60 [00:00<?, ?it/s]"
     ]
    },
    {
     "name": "stdout",
     "output_type": "stream",
     "text": [
      "loss 0.0001 - val_loss 0.0001 - SDR 0.9672 - R_ave 1.3760\n",
      "Epoch [934/1000]\n"
     ]
    },
    {
     "name": "stderr",
     "output_type": "stream",
     "text": [
      "100%|██████████| 60/60 [00:24<00:00,  2.45it/s, loss=6.7e-5] \n",
      "100%|██████████| 26/26 [00:16<00:00,  1.54it/s, val_loss=9.19e-5, SDR=0.967, R_ave=1.38]\n",
      "  0%|          | 0/60 [00:00<?, ?it/s]"
     ]
    },
    {
     "name": "stdout",
     "output_type": "stream",
     "text": [
      "loss 0.0001 - val_loss 0.0001 - SDR 0.9671 - R_ave 1.3836\n",
      "Epoch [935/1000]\n"
     ]
    },
    {
     "name": "stderr",
     "output_type": "stream",
     "text": [
      "100%|██████████| 60/60 [00:24<00:00,  2.42it/s, loss=6.64e-5]\n",
      "100%|██████████| 26/26 [00:17<00:00,  1.51it/s, val_loss=9.21e-5, SDR=0.967, R_ave=1.38]\n",
      "  0%|          | 0/60 [00:00<?, ?it/s]"
     ]
    },
    {
     "name": "stdout",
     "output_type": "stream",
     "text": [
      "loss 0.0001 - val_loss 0.0001 - SDR 0.9672 - R_ave 1.3784\n",
      "Epoch [936/1000]\n"
     ]
    },
    {
     "name": "stderr",
     "output_type": "stream",
     "text": [
      "100%|██████████| 60/60 [00:24<00:00,  2.45it/s, loss=6.77e-5]\n",
      "100%|██████████| 26/26 [00:16<00:00,  1.54it/s, val_loss=9.23e-5, SDR=0.966, R_ave=1.38]\n",
      "  0%|          | 0/60 [00:00<?, ?it/s]"
     ]
    },
    {
     "name": "stdout",
     "output_type": "stream",
     "text": [
      "loss 0.0001 - val_loss 0.0001 - SDR 0.9661 - R_ave 1.3769\n",
      "Epoch [937/1000]\n"
     ]
    },
    {
     "name": "stderr",
     "output_type": "stream",
     "text": [
      "100%|██████████| 60/60 [00:24<00:00,  2.46it/s, loss=6.64e-5]\n",
      "100%|██████████| 26/26 [00:16<00:00,  1.54it/s, val_loss=9.19e-5, SDR=0.967, R_ave=1.38]\n",
      "  0%|          | 0/60 [00:00<?, ?it/s]"
     ]
    },
    {
     "name": "stdout",
     "output_type": "stream",
     "text": [
      "loss 0.0001 - val_loss 0.0001 - SDR 0.9672 - R_ave 1.3808\n",
      "Epoch [938/1000]\n"
     ]
    },
    {
     "name": "stderr",
     "output_type": "stream",
     "text": [
      "100%|██████████| 60/60 [00:24<00:00,  2.43it/s, loss=6.81e-5]\n",
      "100%|██████████| 26/26 [00:16<00:00,  1.53it/s, val_loss=9.19e-5, SDR=0.968, R_ave=1.37]\n",
      "  0%|          | 0/60 [00:00<?, ?it/s]"
     ]
    },
    {
     "name": "stdout",
     "output_type": "stream",
     "text": [
      "loss 0.0001 - val_loss 0.0001 - SDR 0.9680 - R_ave 1.3744\n",
      "Epoch [939/1000]\n"
     ]
    },
    {
     "name": "stderr",
     "output_type": "stream",
     "text": [
      "100%|██████████| 60/60 [00:24<00:00,  2.43it/s, loss=6.69e-5]\n",
      "100%|██████████| 26/26 [00:16<00:00,  1.54it/s, val_loss=9.14e-5, SDR=0.968, R_ave=1.38]\n",
      "  0%|          | 0/60 [00:00<?, ?it/s]"
     ]
    },
    {
     "name": "stdout",
     "output_type": "stream",
     "text": [
      "loss 0.0001 - val_loss 0.0001 - SDR 0.9680 - R_ave 1.3838\n",
      "Epoch [940/1000]\n"
     ]
    },
    {
     "name": "stderr",
     "output_type": "stream",
     "text": [
      "100%|██████████| 60/60 [00:24<00:00,  2.46it/s, loss=6.7e-5] \n",
      "100%|██████████| 26/26 [00:16<00:00,  1.53it/s, val_loss=9.19e-5, SDR=0.967, R_ave=1.38]\n",
      "  0%|          | 0/60 [00:00<?, ?it/s]"
     ]
    },
    {
     "name": "stdout",
     "output_type": "stream",
     "text": [
      "loss 0.0001 - val_loss 0.0001 - SDR 0.9671 - R_ave 1.3804\n",
      "Epoch [941/1000]\n"
     ]
    },
    {
     "name": "stderr",
     "output_type": "stream",
     "text": [
      "100%|██████████| 60/60 [00:24<00:00,  2.42it/s, loss=6.72e-5]\n",
      "100%|██████████| 26/26 [00:17<00:00,  1.53it/s, val_loss=9.2e-5, SDR=0.968, R_ave=1.38] \n",
      "  0%|          | 0/60 [00:00<?, ?it/s]"
     ]
    },
    {
     "name": "stdout",
     "output_type": "stream",
     "text": [
      "loss 0.0001 - val_loss 0.0001 - SDR 0.9677 - R_ave 1.3772\n",
      "Epoch [942/1000]\n"
     ]
    },
    {
     "name": "stderr",
     "output_type": "stream",
     "text": [
      "100%|██████████| 60/60 [00:25<00:00,  2.32it/s, loss=6.75e-5]\n",
      "100%|██████████| 26/26 [00:18<00:00,  1.42it/s, val_loss=9.16e-5, SDR=0.969, R_ave=1.37]\n",
      "  0%|          | 0/60 [00:00<?, ?it/s]"
     ]
    },
    {
     "name": "stdout",
     "output_type": "stream",
     "text": [
      "loss 0.0001 - val_loss 0.0001 - SDR 0.9693 - R_ave 1.3704\n",
      "Epoch [943/1000]\n"
     ]
    },
    {
     "name": "stderr",
     "output_type": "stream",
     "text": [
      "100%|██████████| 60/60 [00:36<00:00,  1.66it/s, loss=6.59e-5]\n",
      "100%|██████████| 26/26 [00:18<00:00,  1.38it/s, val_loss=9.17e-5, SDR=0.968, R_ave=1.37]\n",
      "  0%|          | 0/60 [00:00<?, ?it/s]"
     ]
    },
    {
     "name": "stdout",
     "output_type": "stream",
     "text": [
      "loss 0.0001 - val_loss 0.0001 - SDR 0.9676 - R_ave 1.3746\n",
      "Epoch [944/1000]\n"
     ]
    },
    {
     "name": "stderr",
     "output_type": "stream",
     "text": [
      "100%|██████████| 60/60 [00:24<00:00,  2.40it/s, loss=6.7e-5] \n",
      "100%|██████████| 26/26 [00:17<00:00,  1.50it/s, val_loss=9.19e-5, SDR=0.968, R_ave=1.38]\n",
      "  0%|          | 0/60 [00:00<?, ?it/s]"
     ]
    },
    {
     "name": "stdout",
     "output_type": "stream",
     "text": [
      "loss 0.0001 - val_loss 0.0001 - SDR 0.9677 - R_ave 1.3755\n",
      "Epoch [945/1000]\n"
     ]
    },
    {
     "name": "stderr",
     "output_type": "stream",
     "text": [
      "100%|██████████| 60/60 [00:24<00:00,  2.41it/s, loss=6.73e-5]\n",
      "100%|██████████| 26/26 [00:17<00:00,  1.51it/s, val_loss=9.17e-5, SDR=0.967, R_ave=1.38]\n",
      "  0%|          | 0/60 [00:00<?, ?it/s]"
     ]
    },
    {
     "name": "stdout",
     "output_type": "stream",
     "text": [
      "loss 0.0001 - val_loss 0.0001 - SDR 0.9674 - R_ave 1.3765\n",
      "Epoch [946/1000]\n"
     ]
    },
    {
     "name": "stderr",
     "output_type": "stream",
     "text": [
      "100%|██████████| 60/60 [00:24<00:00,  2.42it/s, loss=6.67e-5]\n",
      "100%|██████████| 26/26 [00:17<00:00,  1.49it/s, val_loss=9.2e-5, SDR=0.967, R_ave=1.38] \n",
      "  0%|          | 0/60 [00:00<?, ?it/s]"
     ]
    },
    {
     "name": "stdout",
     "output_type": "stream",
     "text": [
      "loss 0.0001 - val_loss 0.0001 - SDR 0.9672 - R_ave 1.3775\n",
      "Epoch [947/1000]\n"
     ]
    },
    {
     "name": "stderr",
     "output_type": "stream",
     "text": [
      "100%|██████████| 60/60 [00:24<00:00,  2.43it/s, loss=6.65e-5]\n",
      "100%|██████████| 26/26 [00:17<00:00,  1.50it/s, val_loss=9.19e-5, SDR=0.968, R_ave=1.38]\n",
      "  0%|          | 0/60 [00:00<?, ?it/s]"
     ]
    },
    {
     "name": "stdout",
     "output_type": "stream",
     "text": [
      "loss 0.0001 - val_loss 0.0001 - SDR 0.9680 - R_ave 1.3778\n",
      "Epoch [948/1000]\n"
     ]
    },
    {
     "name": "stderr",
     "output_type": "stream",
     "text": [
      "100%|██████████| 60/60 [00:24<00:00,  2.44it/s, loss=6.65e-5]\n",
      "100%|██████████| 26/26 [00:17<00:00,  1.52it/s, val_loss=9.17e-5, SDR=0.967, R_ave=1.38]\n",
      "  0%|          | 0/60 [00:00<?, ?it/s]"
     ]
    },
    {
     "name": "stdout",
     "output_type": "stream",
     "text": [
      "loss 0.0001 - val_loss 0.0001 - SDR 0.9672 - R_ave 1.3781\n",
      "Epoch [949/1000]\n"
     ]
    },
    {
     "name": "stderr",
     "output_type": "stream",
     "text": [
      "100%|██████████| 60/60 [00:25<00:00,  2.39it/s, loss=6.8e-5] \n",
      "100%|██████████| 26/26 [00:17<00:00,  1.51it/s, val_loss=9.2e-5, SDR=0.968, R_ave=1.38] \n",
      "  0%|          | 0/60 [00:00<?, ?it/s]"
     ]
    },
    {
     "name": "stdout",
     "output_type": "stream",
     "text": [
      "loss 0.0001 - val_loss 0.0001 - SDR 0.9676 - R_ave 1.3797\n",
      "Epoch [950/1000]\n"
     ]
    },
    {
     "name": "stderr",
     "output_type": "stream",
     "text": [
      "100%|██████████| 60/60 [00:24<00:00,  2.44it/s, loss=6.68e-5]\n",
      "100%|██████████| 26/26 [00:17<00:00,  1.53it/s, val_loss=9.12e-5, SDR=0.968, R_ave=1.37]\n",
      "  0%|          | 0/60 [00:00<?, ?it/s]"
     ]
    },
    {
     "name": "stdout",
     "output_type": "stream",
     "text": [
      "loss 0.0001 - val_loss 0.0001 - SDR 0.9682 - R_ave 1.3734\n",
      "Epoch [951/1000]\n"
     ]
    },
    {
     "name": "stderr",
     "output_type": "stream",
     "text": [
      "100%|██████████| 60/60 [00:24<00:00,  2.44it/s, loss=6.67e-5]\n",
      "100%|██████████| 26/26 [00:16<00:00,  1.53it/s, val_loss=9.21e-5, SDR=0.967, R_ave=1.38]\n",
      "  0%|          | 0/60 [00:00<?, ?it/s]"
     ]
    },
    {
     "name": "stdout",
     "output_type": "stream",
     "text": [
      "loss 0.0001 - val_loss 0.0001 - SDR 0.9667 - R_ave 1.3802\n",
      "Epoch [952/1000]\n"
     ]
    },
    {
     "name": "stderr",
     "output_type": "stream",
     "text": [
      "100%|██████████| 60/60 [00:24<00:00,  2.42it/s, loss=6.68e-5]\n",
      "100%|██████████| 26/26 [00:17<00:00,  1.52it/s, val_loss=9.18e-5, SDR=0.968, R_ave=1.37]\n",
      "  0%|          | 0/60 [00:00<?, ?it/s]"
     ]
    },
    {
     "name": "stdout",
     "output_type": "stream",
     "text": [
      "loss 0.0001 - val_loss 0.0001 - SDR 0.9684 - R_ave 1.3732\n",
      "Epoch [953/1000]\n"
     ]
    },
    {
     "name": "stderr",
     "output_type": "stream",
     "text": [
      "100%|██████████| 60/60 [00:24<00:00,  2.44it/s, loss=6.69e-5]\n",
      "100%|██████████| 26/26 [00:16<00:00,  1.53it/s, val_loss=9.11e-5, SDR=0.969, R_ave=1.37]\n",
      "  0%|          | 0/60 [00:00<?, ?it/s]"
     ]
    },
    {
     "name": "stdout",
     "output_type": "stream",
     "text": [
      "loss 0.0001 - val_loss 0.0001 - SDR 0.9688 - R_ave 1.3727\n",
      "Epoch [954/1000]\n"
     ]
    },
    {
     "name": "stderr",
     "output_type": "stream",
     "text": [
      "100%|██████████| 60/60 [00:24<00:00,  2.45it/s, loss=6.7e-5] \n",
      "100%|██████████| 26/26 [00:16<00:00,  1.53it/s, val_loss=9.17e-5, SDR=0.968, R_ave=1.37]\n",
      "  0%|          | 0/60 [00:00<?, ?it/s]"
     ]
    },
    {
     "name": "stdout",
     "output_type": "stream",
     "text": [
      "loss 0.0001 - val_loss 0.0001 - SDR 0.9676 - R_ave 1.3746\n",
      "Epoch [955/1000]\n"
     ]
    },
    {
     "name": "stderr",
     "output_type": "stream",
     "text": [
      "100%|██████████| 60/60 [00:24<00:00,  2.42it/s, loss=6.74e-5]\n",
      "100%|██████████| 26/26 [00:16<00:00,  1.54it/s, val_loss=9.19e-5, SDR=0.968, R_ave=1.38]\n",
      "  0%|          | 0/60 [00:00<?, ?it/s]"
     ]
    },
    {
     "name": "stdout",
     "output_type": "stream",
     "text": [
      "loss 0.0001 - val_loss 0.0001 - SDR 0.9679 - R_ave 1.3754\n",
      "Epoch [956/1000]\n"
     ]
    },
    {
     "name": "stderr",
     "output_type": "stream",
     "text": [
      "100%|██████████| 60/60 [00:24<00:00,  2.45it/s, loss=6.68e-5]\n",
      "100%|██████████| 26/26 [00:16<00:00,  1.54it/s, val_loss=9.21e-5, SDR=0.966, R_ave=1.38]\n",
      "  0%|          | 0/60 [00:00<?, ?it/s]"
     ]
    },
    {
     "name": "stdout",
     "output_type": "stream",
     "text": [
      "loss 0.0001 - val_loss 0.0001 - SDR 0.9661 - R_ave 1.3774\n",
      "Epoch [957/1000]\n"
     ]
    },
    {
     "name": "stderr",
     "output_type": "stream",
     "text": [
      "100%|██████████| 60/60 [00:24<00:00,  2.46it/s, loss=6.72e-5]\n",
      "100%|██████████| 26/26 [00:17<00:00,  1.51it/s, val_loss=9.16e-5, SDR=0.967, R_ave=1.38]\n",
      "  0%|          | 0/60 [00:00<?, ?it/s]"
     ]
    },
    {
     "name": "stdout",
     "output_type": "stream",
     "text": [
      "loss 0.0001 - val_loss 0.0001 - SDR 0.9669 - R_ave 1.3750\n",
      "Epoch [958/1000]\n"
     ]
    },
    {
     "name": "stderr",
     "output_type": "stream",
     "text": [
      "100%|██████████| 60/60 [00:24<00:00,  2.41it/s, loss=6.65e-5]\n",
      "100%|██████████| 26/26 [00:16<00:00,  1.54it/s, val_loss=9.16e-5, SDR=0.968, R_ave=1.38]\n",
      "  0%|          | 0/60 [00:00<?, ?it/s]"
     ]
    },
    {
     "name": "stdout",
     "output_type": "stream",
     "text": [
      "loss 0.0001 - val_loss 0.0001 - SDR 0.9677 - R_ave 1.3789\n",
      "Epoch [959/1000]\n"
     ]
    },
    {
     "name": "stderr",
     "output_type": "stream",
     "text": [
      "100%|██████████| 60/60 [00:24<00:00,  2.46it/s, loss=6.66e-5]\n",
      "100%|██████████| 26/26 [00:16<00:00,  1.54it/s, val_loss=9.17e-5, SDR=0.969, R_ave=1.38]\n",
      "  0%|          | 0/60 [00:00<?, ?it/s]"
     ]
    },
    {
     "name": "stdout",
     "output_type": "stream",
     "text": [
      "loss 0.0001 - val_loss 0.0001 - SDR 0.9688 - R_ave 1.3799\n",
      "Epoch [960/1000]\n"
     ]
    },
    {
     "name": "stderr",
     "output_type": "stream",
     "text": [
      "100%|██████████| 60/60 [00:24<00:00,  2.45it/s, loss=6.67e-5]\n",
      "100%|██████████| 26/26 [00:17<00:00,  1.51it/s, val_loss=9.19e-5, SDR=0.968, R_ave=1.38]\n",
      "  0%|          | 0/60 [00:00<?, ?it/s]"
     ]
    },
    {
     "name": "stdout",
     "output_type": "stream",
     "text": [
      "loss 0.0001 - val_loss 0.0001 - SDR 0.9676 - R_ave 1.3759\n",
      "Epoch [961/1000]\n"
     ]
    },
    {
     "name": "stderr",
     "output_type": "stream",
     "text": [
      "100%|██████████| 60/60 [00:24<00:00,  2.42it/s, loss=6.64e-5]\n",
      "100%|██████████| 26/26 [00:16<00:00,  1.54it/s, val_loss=9.19e-5, SDR=0.968, R_ave=1.38]\n",
      "  0%|          | 0/60 [00:00<?, ?it/s]"
     ]
    },
    {
     "name": "stdout",
     "output_type": "stream",
     "text": [
      "loss 0.0001 - val_loss 0.0001 - SDR 0.9676 - R_ave 1.3800\n",
      "Epoch [962/1000]\n"
     ]
    },
    {
     "name": "stderr",
     "output_type": "stream",
     "text": [
      "100%|██████████| 60/60 [00:24<00:00,  2.45it/s, loss=6.65e-5]\n",
      "100%|██████████| 26/26 [00:16<00:00,  1.53it/s, val_loss=9.22e-5, SDR=0.967, R_ave=1.38]\n",
      "  0%|          | 0/60 [00:00<?, ?it/s]"
     ]
    },
    {
     "name": "stdout",
     "output_type": "stream",
     "text": [
      "loss 0.0001 - val_loss 0.0001 - SDR 0.9672 - R_ave 1.3807\n",
      "Epoch [963/1000]\n"
     ]
    },
    {
     "name": "stderr",
     "output_type": "stream",
     "text": [
      "100%|██████████| 60/60 [00:24<00:00,  2.45it/s, loss=6.72e-5]\n",
      "100%|██████████| 26/26 [00:17<00:00,  1.50it/s, val_loss=9.19e-5, SDR=0.968, R_ave=1.38]\n",
      "  0%|          | 0/60 [00:00<?, ?it/s]"
     ]
    },
    {
     "name": "stdout",
     "output_type": "stream",
     "text": [
      "loss 0.0001 - val_loss 0.0001 - SDR 0.9679 - R_ave 1.3762\n",
      "Epoch [964/1000]\n"
     ]
    },
    {
     "name": "stderr",
     "output_type": "stream",
     "text": [
      "100%|██████████| 60/60 [00:24<00:00,  2.45it/s, loss=6.63e-5]\n",
      "100%|██████████| 26/26 [00:16<00:00,  1.54it/s, val_loss=9.18e-5, SDR=0.969, R_ave=1.38]\n",
      "  0%|          | 0/60 [00:00<?, ?it/s]"
     ]
    },
    {
     "name": "stdout",
     "output_type": "stream",
     "text": [
      "loss 0.0001 - val_loss 0.0001 - SDR 0.9687 - R_ave 1.3798\n",
      "Epoch [965/1000]\n"
     ]
    },
    {
     "name": "stderr",
     "output_type": "stream",
     "text": [
      "100%|██████████| 60/60 [00:24<00:00,  2.46it/s, loss=6.53e-5]\n",
      "100%|██████████| 26/26 [00:16<00:00,  1.54it/s, val_loss=9.17e-5, SDR=0.967, R_ave=1.38]\n",
      "  0%|          | 0/60 [00:00<?, ?it/s]"
     ]
    },
    {
     "name": "stdout",
     "output_type": "stream",
     "text": [
      "loss 0.0001 - val_loss 0.0001 - SDR 0.9672 - R_ave 1.3762\n",
      "Epoch [966/1000]\n"
     ]
    },
    {
     "name": "stderr",
     "output_type": "stream",
     "text": [
      "100%|██████████| 60/60 [00:24<00:00,  2.45it/s, loss=6.76e-5]\n",
      "100%|██████████| 26/26 [00:17<00:00,  1.51it/s, val_loss=9.18e-5, SDR=0.967, R_ave=1.38]\n",
      "  0%|          | 0/60 [00:00<?, ?it/s]"
     ]
    },
    {
     "name": "stdout",
     "output_type": "stream",
     "text": [
      "loss 0.0001 - val_loss 0.0001 - SDR 0.9672 - R_ave 1.3752\n",
      "Epoch [967/1000]\n"
     ]
    },
    {
     "name": "stderr",
     "output_type": "stream",
     "text": [
      "100%|██████████| 60/60 [00:24<00:00,  2.43it/s, loss=6.58e-5]\n",
      "100%|██████████| 26/26 [00:16<00:00,  1.54it/s, val_loss=9.16e-5, SDR=0.968, R_ave=1.37]\n",
      "  0%|          | 0/60 [00:00<?, ?it/s]"
     ]
    },
    {
     "name": "stdout",
     "output_type": "stream",
     "text": [
      "loss 0.0001 - val_loss 0.0001 - SDR 0.9684 - R_ave 1.3745\n",
      "Epoch [968/1000]\n"
     ]
    },
    {
     "name": "stderr",
     "output_type": "stream",
     "text": [
      "100%|██████████| 60/60 [00:24<00:00,  2.46it/s, loss=6.7e-5] \n",
      "100%|██████████| 26/26 [00:16<00:00,  1.54it/s, val_loss=9.18e-5, SDR=0.968, R_ave=1.38]\n",
      "  0%|          | 0/60 [00:00<?, ?it/s]"
     ]
    },
    {
     "name": "stdout",
     "output_type": "stream",
     "text": [
      "loss 0.0001 - val_loss 0.0001 - SDR 0.9679 - R_ave 1.3754\n",
      "Epoch [969/1000]\n"
     ]
    },
    {
     "name": "stderr",
     "output_type": "stream",
     "text": [
      "100%|██████████| 60/60 [00:24<00:00,  2.44it/s, loss=6.7e-5] \n",
      "100%|██████████| 26/26 [00:17<00:00,  1.50it/s, val_loss=9.17e-5, SDR=0.968, R_ave=1.37]\n",
      "  0%|          | 0/60 [00:00<?, ?it/s]"
     ]
    },
    {
     "name": "stdout",
     "output_type": "stream",
     "text": [
      "loss 0.0001 - val_loss 0.0001 - SDR 0.9684 - R_ave 1.3738\n",
      "Epoch [970/1000]\n"
     ]
    },
    {
     "name": "stderr",
     "output_type": "stream",
     "text": [
      "100%|██████████| 60/60 [00:24<00:00,  2.46it/s, loss=6.71e-5]\n",
      "100%|██████████| 26/26 [00:16<00:00,  1.54it/s, val_loss=9.12e-5, SDR=0.969, R_ave=1.37]\n",
      "  0%|          | 0/60 [00:00<?, ?it/s]"
     ]
    },
    {
     "name": "stdout",
     "output_type": "stream",
     "text": [
      "loss 0.0001 - val_loss 0.0001 - SDR 0.9685 - R_ave 1.3742\n",
      "Epoch [971/1000]\n"
     ]
    },
    {
     "name": "stderr",
     "output_type": "stream",
     "text": [
      "100%|██████████| 60/60 [00:24<00:00,  2.46it/s, loss=6.61e-5]\n",
      "100%|██████████| 26/26 [00:16<00:00,  1.54it/s, val_loss=9.17e-5, SDR=0.968, R_ave=1.37]\n",
      "  0%|          | 0/60 [00:00<?, ?it/s]"
     ]
    },
    {
     "name": "stdout",
     "output_type": "stream",
     "text": [
      "loss 0.0001 - val_loss 0.0001 - SDR 0.9677 - R_ave 1.3733\n",
      "Epoch [972/1000]\n"
     ]
    },
    {
     "name": "stderr",
     "output_type": "stream",
     "text": [
      "100%|██████████| 60/60 [00:24<00:00,  2.43it/s, loss=6.64e-5]\n",
      "100%|██████████| 26/26 [00:17<00:00,  1.52it/s, val_loss=9.17e-5, SDR=0.969, R_ave=1.38]\n",
      "  0%|          | 0/60 [00:00<?, ?it/s]"
     ]
    },
    {
     "name": "stdout",
     "output_type": "stream",
     "text": [
      "loss 0.0001 - val_loss 0.0001 - SDR 0.9687 - R_ave 1.3776\n",
      "Epoch [973/1000]\n"
     ]
    },
    {
     "name": "stderr",
     "output_type": "stream",
     "text": [
      "100%|██████████| 60/60 [00:24<00:00,  2.45it/s, loss=6.73e-5]\n",
      "100%|██████████| 26/26 [00:16<00:00,  1.53it/s, val_loss=9.17e-5, SDR=0.968, R_ave=1.37]\n",
      "  0%|          | 0/60 [00:00<?, ?it/s]"
     ]
    },
    {
     "name": "stdout",
     "output_type": "stream",
     "text": [
      "loss 0.0001 - val_loss 0.0001 - SDR 0.9682 - R_ave 1.3744\n",
      "Epoch [974/1000]\n"
     ]
    },
    {
     "name": "stderr",
     "output_type": "stream",
     "text": [
      "100%|██████████| 60/60 [00:24<00:00,  2.45it/s, loss=6.69e-5]\n",
      "100%|██████████| 26/26 [00:16<00:00,  1.53it/s, val_loss=9.17e-5, SDR=0.968, R_ave=1.38]\n",
      "  0%|          | 0/60 [00:00<?, ?it/s]"
     ]
    },
    {
     "name": "stdout",
     "output_type": "stream",
     "text": [
      "loss 0.0001 - val_loss 0.0001 - SDR 0.9680 - R_ave 1.3787\n",
      "Epoch [975/1000]\n"
     ]
    },
    {
     "name": "stderr",
     "output_type": "stream",
     "text": [
      "100%|██████████| 60/60 [00:24<00:00,  2.43it/s, loss=6.73e-5]\n",
      "100%|██████████| 26/26 [00:17<00:00,  1.52it/s, val_loss=9.17e-5, SDR=0.968, R_ave=1.37]\n",
      "  0%|          | 0/60 [00:00<?, ?it/s]"
     ]
    },
    {
     "name": "stdout",
     "output_type": "stream",
     "text": [
      "loss 0.0001 - val_loss 0.0001 - SDR 0.9676 - R_ave 1.3748\n",
      "Epoch [976/1000]\n"
     ]
    },
    {
     "name": "stderr",
     "output_type": "stream",
     "text": [
      "100%|██████████| 60/60 [00:24<00:00,  2.46it/s, loss=6.73e-5]\n",
      "100%|██████████| 26/26 [00:16<00:00,  1.54it/s, val_loss=9.19e-5, SDR=0.968, R_ave=1.38]\n",
      "  0%|          | 0/60 [00:00<?, ?it/s]"
     ]
    },
    {
     "name": "stdout",
     "output_type": "stream",
     "text": [
      "loss 0.0001 - val_loss 0.0001 - SDR 0.9679 - R_ave 1.3808\n",
      "Epoch [977/1000]\n"
     ]
    },
    {
     "name": "stderr",
     "output_type": "stream",
     "text": [
      "100%|██████████| 60/60 [00:24<00:00,  2.45it/s, loss=6.58e-5]\n",
      "100%|██████████| 26/26 [00:16<00:00,  1.54it/s, val_loss=9.2e-5, SDR=0.968, R_ave=1.38] \n",
      "  0%|          | 0/60 [00:00<?, ?it/s]"
     ]
    },
    {
     "name": "stdout",
     "output_type": "stream",
     "text": [
      "loss 0.0001 - val_loss 0.0001 - SDR 0.9676 - R_ave 1.3788\n",
      "Epoch [978/1000]\n"
     ]
    },
    {
     "name": "stderr",
     "output_type": "stream",
     "text": [
      "100%|██████████| 60/60 [00:24<00:00,  2.42it/s, loss=6.83e-5]\n",
      "100%|██████████| 26/26 [00:16<00:00,  1.53it/s, val_loss=9.18e-5, SDR=0.968, R_ave=1.38]\n",
      "  0%|          | 0/60 [00:00<?, ?it/s]"
     ]
    },
    {
     "name": "stdout",
     "output_type": "stream",
     "text": [
      "loss 0.0001 - val_loss 0.0001 - SDR 0.9679 - R_ave 1.3786\n",
      "Epoch [979/1000]\n"
     ]
    },
    {
     "name": "stderr",
     "output_type": "stream",
     "text": [
      "100%|██████████| 60/60 [00:24<00:00,  2.45it/s, loss=6.74e-5]\n",
      "100%|██████████| 26/26 [00:16<00:00,  1.54it/s, val_loss=9.22e-5, SDR=0.967, R_ave=1.37]\n",
      "  0%|          | 0/60 [00:00<?, ?it/s]"
     ]
    },
    {
     "name": "stdout",
     "output_type": "stream",
     "text": [
      "loss 0.0001 - val_loss 0.0001 - SDR 0.9671 - R_ave 1.3724\n",
      "Epoch [980/1000]\n"
     ]
    },
    {
     "name": "stderr",
     "output_type": "stream",
     "text": [
      "100%|██████████| 60/60 [00:24<00:00,  2.47it/s, loss=6.66e-5]\n",
      "100%|██████████| 26/26 [00:16<00:00,  1.54it/s, val_loss=9.2e-5, SDR=0.969, R_ave=1.38] \n",
      "  0%|          | 0/60 [00:00<?, ?it/s]"
     ]
    },
    {
     "name": "stdout",
     "output_type": "stream",
     "text": [
      "loss 0.0001 - val_loss 0.0001 - SDR 0.9693 - R_ave 1.3780\n",
      "Epoch [981/1000]\n"
     ]
    },
    {
     "name": "stderr",
     "output_type": "stream",
     "text": [
      "100%|██████████| 60/60 [00:24<00:00,  2.43it/s, loss=6.66e-5]\n",
      "100%|██████████| 26/26 [00:16<00:00,  1.53it/s, val_loss=9.19e-5, SDR=0.968, R_ave=1.37]\n",
      "  0%|          | 0/60 [00:00<?, ?it/s]"
     ]
    },
    {
     "name": "stdout",
     "output_type": "stream",
     "text": [
      "loss 0.0001 - val_loss 0.0001 - SDR 0.9680 - R_ave 1.3729\n",
      "Epoch [982/1000]\n"
     ]
    },
    {
     "name": "stderr",
     "output_type": "stream",
     "text": [
      "100%|██████████| 60/60 [00:24<00:00,  2.46it/s, loss=6.68e-5]\n",
      "100%|██████████| 26/26 [00:17<00:00,  1.53it/s, val_loss=9.19e-5, SDR=0.968, R_ave=1.38]\n",
      "  0%|          | 0/60 [00:00<?, ?it/s]"
     ]
    },
    {
     "name": "stdout",
     "output_type": "stream",
     "text": [
      "loss 0.0001 - val_loss 0.0001 - SDR 0.9682 - R_ave 1.3770\n",
      "Epoch [983/1000]\n"
     ]
    },
    {
     "name": "stderr",
     "output_type": "stream",
     "text": [
      "100%|██████████| 60/60 [00:24<00:00,  2.46it/s, loss=6.61e-5]\n",
      "100%|██████████| 26/26 [00:17<00:00,  1.52it/s, val_loss=9.23e-5, SDR=0.969, R_ave=1.38]\n",
      "  0%|          | 0/60 [00:00<?, ?it/s]"
     ]
    },
    {
     "name": "stdout",
     "output_type": "stream",
     "text": [
      "loss 0.0001 - val_loss 0.0001 - SDR 0.9687 - R_ave 1.3752\n",
      "Epoch [984/1000]\n"
     ]
    },
    {
     "name": "stderr",
     "output_type": "stream",
     "text": [
      "100%|██████████| 60/60 [00:24<00:00,  2.42it/s, loss=6.73e-5]\n",
      "100%|██████████| 26/26 [00:17<00:00,  1.52it/s, val_loss=9.21e-5, SDR=0.968, R_ave=1.38]\n",
      "  0%|          | 0/60 [00:00<?, ?it/s]"
     ]
    },
    {
     "name": "stdout",
     "output_type": "stream",
     "text": [
      "loss 0.0001 - val_loss 0.0001 - SDR 0.9680 - R_ave 1.3762\n",
      "Epoch [985/1000]\n"
     ]
    },
    {
     "name": "stderr",
     "output_type": "stream",
     "text": [
      "100%|██████████| 60/60 [00:24<00:00,  2.46it/s, loss=6.72e-5]\n",
      "100%|██████████| 26/26 [00:16<00:00,  1.54it/s, val_loss=9.19e-5, SDR=0.968, R_ave=1.38]\n",
      "  0%|          | 0/60 [00:00<?, ?it/s]"
     ]
    },
    {
     "name": "stdout",
     "output_type": "stream",
     "text": [
      "loss 0.0001 - val_loss 0.0001 - SDR 0.9679 - R_ave 1.3773\n",
      "Epoch [986/1000]\n"
     ]
    },
    {
     "name": "stderr",
     "output_type": "stream",
     "text": [
      "100%|██████████| 60/60 [00:24<00:00,  2.46it/s, loss=6.66e-5]\n",
      "100%|██████████| 26/26 [00:17<00:00,  1.52it/s, val_loss=9.19e-5, SDR=0.968, R_ave=1.37]\n",
      "  0%|          | 0/60 [00:00<?, ?it/s]"
     ]
    },
    {
     "name": "stdout",
     "output_type": "stream",
     "text": [
      "loss 0.0001 - val_loss 0.0001 - SDR 0.9677 - R_ave 1.3725\n",
      "Epoch [987/1000]\n"
     ]
    },
    {
     "name": "stderr",
     "output_type": "stream",
     "text": [
      "100%|██████████| 60/60 [00:24<00:00,  2.43it/s, loss=6.64e-5]\n",
      "100%|██████████| 26/26 [00:16<00:00,  1.54it/s, val_loss=9.22e-5, SDR=0.967, R_ave=1.37]\n",
      "  0%|          | 0/60 [00:00<?, ?it/s]"
     ]
    },
    {
     "name": "stdout",
     "output_type": "stream",
     "text": [
      "loss 0.0001 - val_loss 0.0001 - SDR 0.9672 - R_ave 1.3735\n",
      "Epoch [988/1000]\n"
     ]
    },
    {
     "name": "stderr",
     "output_type": "stream",
     "text": [
      "100%|██████████| 60/60 [00:24<00:00,  2.45it/s, loss=6.7e-5] \n",
      "100%|██████████| 26/26 [00:16<00:00,  1.53it/s, val_loss=9.23e-5, SDR=0.967, R_ave=1.37]\n",
      "  0%|          | 0/60 [00:00<?, ?it/s]"
     ]
    },
    {
     "name": "stdout",
     "output_type": "stream",
     "text": [
      "loss 0.0001 - val_loss 0.0001 - SDR 0.9669 - R_ave 1.3739\n",
      "Epoch [989/1000]\n"
     ]
    },
    {
     "name": "stderr",
     "output_type": "stream",
     "text": [
      "100%|██████████| 60/60 [00:24<00:00,  2.45it/s, loss=6.69e-5]\n",
      "100%|██████████| 26/26 [00:17<00:00,  1.49it/s, val_loss=9.19e-5, SDR=0.967, R_ave=1.37]\n",
      "  0%|          | 0/60 [00:00<?, ?it/s]"
     ]
    },
    {
     "name": "stdout",
     "output_type": "stream",
     "text": [
      "loss 0.0001 - val_loss 0.0001 - SDR 0.9666 - R_ave 1.3734\n",
      "Epoch [990/1000]\n"
     ]
    },
    {
     "name": "stderr",
     "output_type": "stream",
     "text": [
      "100%|██████████| 60/60 [00:24<00:00,  2.44it/s, loss=6.67e-5]\n",
      "100%|██████████| 26/26 [00:16<00:00,  1.54it/s, val_loss=9.16e-5, SDR=0.969, R_ave=1.38]\n",
      "  0%|          | 0/60 [00:00<?, ?it/s]"
     ]
    },
    {
     "name": "stdout",
     "output_type": "stream",
     "text": [
      "loss 0.0001 - val_loss 0.0001 - SDR 0.9685 - R_ave 1.3771\n",
      "Epoch [991/1000]\n"
     ]
    },
    {
     "name": "stderr",
     "output_type": "stream",
     "text": [
      "100%|██████████| 60/60 [00:24<00:00,  2.45it/s, loss=6.64e-5]\n",
      "100%|██████████| 26/26 [00:16<00:00,  1.54it/s, val_loss=9.19e-5, SDR=0.967, R_ave=1.38]\n",
      "  0%|          | 0/60 [00:00<?, ?it/s]"
     ]
    },
    {
     "name": "stdout",
     "output_type": "stream",
     "text": [
      "loss 0.0001 - val_loss 0.0001 - SDR 0.9672 - R_ave 1.3759\n",
      "Epoch [992/1000]\n"
     ]
    },
    {
     "name": "stderr",
     "output_type": "stream",
     "text": [
      "100%|██████████| 60/60 [00:24<00:00,  2.45it/s, loss=6.57e-5]\n",
      "100%|██████████| 26/26 [00:17<00:00,  1.51it/s, val_loss=9.18e-5, SDR=0.968, R_ave=1.37]\n",
      "  0%|          | 0/60 [00:00<?, ?it/s]"
     ]
    },
    {
     "name": "stdout",
     "output_type": "stream",
     "text": [
      "loss 0.0001 - val_loss 0.0001 - SDR 0.9680 - R_ave 1.3742\n",
      "Epoch [993/1000]\n"
     ]
    },
    {
     "name": "stderr",
     "output_type": "stream",
     "text": [
      "100%|██████████| 60/60 [00:24<00:00,  2.43it/s, loss=6.69e-5]\n",
      "100%|██████████| 26/26 [00:16<00:00,  1.54it/s, val_loss=9.17e-5, SDR=0.969, R_ave=1.37]\n",
      "  0%|          | 0/60 [00:00<?, ?it/s]"
     ]
    },
    {
     "name": "stdout",
     "output_type": "stream",
     "text": [
      "loss 0.0001 - val_loss 0.0001 - SDR 0.9685 - R_ave 1.3702\n",
      "Epoch [994/1000]\n"
     ]
    },
    {
     "name": "stderr",
     "output_type": "stream",
     "text": [
      "100%|██████████| 60/60 [00:24<00:00,  2.45it/s, loss=6.58e-5]\n",
      "100%|██████████| 26/26 [00:16<00:00,  1.54it/s, val_loss=9.18e-5, SDR=0.968, R_ave=1.37]\n",
      "  0%|          | 0/60 [00:00<?, ?it/s]"
     ]
    },
    {
     "name": "stdout",
     "output_type": "stream",
     "text": [
      "loss 0.0001 - val_loss 0.0001 - SDR 0.9677 - R_ave 1.3738\n",
      "Epoch [995/1000]\n"
     ]
    },
    {
     "name": "stderr",
     "output_type": "stream",
     "text": [
      "100%|██████████| 60/60 [00:24<00:00,  2.44it/s, loss=6.57e-5]\n",
      "100%|██████████| 26/26 [00:17<00:00,  1.51it/s, val_loss=9.17e-5, SDR=0.968, R_ave=1.38]\n",
      "  0%|          | 0/60 [00:00<?, ?it/s]"
     ]
    },
    {
     "name": "stdout",
     "output_type": "stream",
     "text": [
      "loss 0.0001 - val_loss 0.0001 - SDR 0.9679 - R_ave 1.3755\n",
      "Epoch [996/1000]\n"
     ]
    },
    {
     "name": "stderr",
     "output_type": "stream",
     "text": [
      "100%|██████████| 60/60 [00:24<00:00,  2.45it/s, loss=6.71e-5]\n",
      "100%|██████████| 26/26 [00:16<00:00,  1.54it/s, val_loss=9.2e-5, SDR=0.968, R_ave=1.38] \n",
      "  0%|          | 0/60 [00:00<?, ?it/s]"
     ]
    },
    {
     "name": "stdout",
     "output_type": "stream",
     "text": [
      "loss 0.0001 - val_loss 0.0001 - SDR 0.9682 - R_ave 1.3768\n",
      "Epoch [997/1000]\n"
     ]
    },
    {
     "name": "stderr",
     "output_type": "stream",
     "text": [
      "100%|██████████| 60/60 [00:24<00:00,  2.46it/s, loss=6.58e-5]\n",
      "100%|██████████| 26/26 [00:16<00:00,  1.54it/s, val_loss=9.15e-5, SDR=0.968, R_ave=1.38]\n",
      "  0%|          | 0/60 [00:00<?, ?it/s]"
     ]
    },
    {
     "name": "stdout",
     "output_type": "stream",
     "text": [
      "loss 0.0001 - val_loss 0.0001 - SDR 0.9682 - R_ave 1.3763\n",
      "Epoch [998/1000]\n"
     ]
    },
    {
     "name": "stderr",
     "output_type": "stream",
     "text": [
      "100%|██████████| 60/60 [00:24<00:00,  2.44it/s, loss=6.68e-5]\n",
      "100%|██████████| 26/26 [00:17<00:00,  1.52it/s, val_loss=9.2e-5, SDR=0.969, R_ave=1.38] \n",
      "  0%|          | 0/60 [00:00<?, ?it/s]"
     ]
    },
    {
     "name": "stdout",
     "output_type": "stream",
     "text": [
      "loss 0.0001 - val_loss 0.0001 - SDR 0.9685 - R_ave 1.3771\n",
      "Epoch [999/1000]\n"
     ]
    },
    {
     "name": "stderr",
     "output_type": "stream",
     "text": [
      "100%|██████████| 60/60 [00:24<00:00,  2.45it/s, loss=6.75e-5]\n",
      "100%|██████████| 26/26 [00:17<00:00,  1.52it/s, val_loss=9.18e-5, SDR=0.969, R_ave=1.37]"
     ]
    },
    {
     "name": "stdout",
     "output_type": "stream",
     "text": [
      "loss 0.0001 - val_loss 0.0001 - SDR 0.9687 - R_ave 1.3744\n"
     ]
    },
    {
     "name": "stderr",
     "output_type": "stream",
     "text": [
      "\n"
     ]
    }
   ],
   "source": [
    "def main():\n",
    "    config = vars(parse_args())\n",
    "\n",
    "    if config['name'] is None:\n",
    "        config['name'] = '%s_%s_%s_%s_%s' % (config['dataset'], config['arch'], config['loss'], config['optimizer'], config['scheduler'])\n",
    "    os.makedirs('models/%s' % config['name'], exist_ok=True)\n",
    "\n",
    "    print('-' * 20)\n",
    "    for key in config:\n",
    "        print('%s: %s' % (key, config[key]))\n",
    "    print('-' * 20)\n",
    "\n",
    "    with open('models/%s/config.yml' % config['name'], 'w') as f:\n",
    "        yaml.dump(config, f)\n",
    "\n",
    "    criterion = losses.__dict__[config['loss']]().cuda()\n",
    "\n",
    "    cudnn.benchmark = True\n",
    "\n",
    "    print(\"=> creating model %s\" % config['arch'])\n",
    "    model = archs.__dict__[config['arch']](config['num_classes'],config['input_channels'])\n",
    "\n",
    "    model = model.cuda()\n",
    "    params = filter(lambda p: p.requires_grad, model.parameters())\n",
    "    optimizer = optim_maker(params, config) \n",
    "\n",
    "    #create scheduler\n",
    "    scheduler = scheduler_maker(optimizer, config)        \n",
    "\n",
    "    # Data loading code\n",
    "    img_ids = glob(os.path.join(config['img_path'] + config['dataset'] + \"/\"+ 'images' +\"/\"+ '*' + config['img_ext']))\n",
    "    img_ids = [os.path.splitext(os.path.basename(p))[0] for p in img_ids]\n",
    "\n",
    "    train_img_ids, val_img_ids = train_test_split(img_ids, test_size=config['val_ratio'], random_state=1)\n",
    "\n",
    "    train_loader, val_loader = make_loader(train_img_ids, val_img_ids, config)\n",
    "\n",
    "    log = OrderedDict([('epoch', []),('lr', []),('loss', []),('val_loss', []),('SDR', []),('R_ave', [])])\n",
    "    \n",
    "    best_R = 200\n",
    "    trigger = 0\n",
    "    for epoch in range(config['epochs']):\n",
    "        print('Epoch [%d/%d]' % (epoch, config['epochs']))\n",
    "\n",
    "        # train for one epoch\n",
    "        train_log = train(config, train_loader, model, criterion, optimizer)\n",
    "        val_log, best_R = val(config, val_loader, model, criterion, scheduler, log, train_log, best_R, trigger, epoch)\n",
    "\n",
    "        torch.cuda.empty_cache()\n",
    "\n",
    "if __name__ == '__main__':\n",
    "    main()"
   ]
  },
  {
   "cell_type": "markdown",
   "id": "3f25d236",
   "metadata": {},
   "source": [
    "# make coordinate file or calculate straified SDR"
   ]
  },
  {
   "cell_type": "code",
   "execution_count": 10,
   "id": "1bec8c9d",
   "metadata": {},
   "outputs": [],
   "source": [
    "from albumentations.core.composition import Compose, OneOf\n",
    "from albumentations.augmentations import transforms\n",
    "import re\n",
    "from utils import finger, mc_mul_cmc, ulna_radi_luna_navi_racam, RLdiscrim, coord_reconst, calc_angle, calc_ratio\n",
    "\n",
    "def parse_args2():\n",
    "    parser = argparse.ArgumentParser()\n",
    "\n",
    "    parser.add_argument('--name', default=None,\n",
    "                        help='model name')\n",
    "    parser.add_argument('--data_dir', default='hand_test',\n",
    "                        help='Directory containing the images to be aligned.')\n",
    "    parser.add_argument('--data_type', default='test',\n",
    "                        choices=['test', 'validation'],\n",
    "                        help='test mode is to calculate coordinate in test-set and validation mode is to calculate stratified SDR')\n",
    "    parser.add_argument('--visualize', default='yes',\n",
    "                        choices=['yes', 'no'],\n",
    "                        help='The estimated coordinates are plotted on the image')\n",
    "    parser.add_argument('--img_path', default='', type=str)\n",
    "    parser.add_argument('--img_ext', default='.jpg',\n",
    "                        help='image file extension')\n",
    "    \n",
    "    parser.add_argument('--coord_list', default='coord_list.csv',\n",
    "                        help='coord_list')\n",
    "    \n",
    "    parser.add_argument('--origin_w', default=630, type=int,\n",
    "                        help='image width')\n",
    "    parser.add_argument('--origin_h', default=910, type=int,\n",
    "                        help='image height')\n",
    "    \n",
    "    config2 = parser.parse_args(args=['--visualize', 'yes','--data_type', 'test', '--data_dir', 'test', '--img_path', 'data_set/', '--img_ext', '.png', '--name', '1381label_lilkely_num15_224_filt5_UNet_MseLoss_Adam_CosineAnnealingLR'])\n",
    "\n",
    "    return config2\n"
   ]
  },
  {
   "cell_type": "code",
   "execution_count": 12,
   "id": "6d1e6e67",
   "metadata": {
    "scrolled": false
   },
   "outputs": [
    {
     "name": "stdout",
     "output_type": "stream",
     "text": [
      "--------------------\n",
      "arch: UNet\n",
      "batch_size: 16\n",
      "best_model_val: sdr\n",
      "dataset: 1381label_lilkely_num15_224_filt5\n",
      "early_stopping: -1\n",
      "epochs: 1000\n",
      "factor: 0.1\n",
      "gamma: 0.6666666666666666\n",
      "img_ext: .jpg\n",
      "img_path: D:\\SHS_AI/nested_U/\n",
      "input_channels: 3\n",
      "input_h: 224\n",
      "input_w: 224\n",
      "loss: MseLoss\n",
      "lr: 0.0001\n",
      "mask_ext: .jpg\n",
      "milestones: 1,2\n",
      "min_lr: 1e-06\n",
      "momentum: 0.9\n",
      "name: 1381label_lilkely_num15_224_filt5_UNet_MseLoss_Adam_CosineAnnealingLR\n",
      "nesterov: False\n",
      "num_classes: 15\n",
      "num_workers: 8\n",
      "optimizer: Adam\n",
      "patience: 2\n",
      "scheduler: CosineAnnealingLR\n",
      "val_ratio: 0.3\n",
      "weight_decay: 0.0001\n",
      "--------------------\n",
      "=> creating model UNet\n"
     ]
    },
    {
     "name": "stderr",
     "output_type": "stream",
     "text": [
      "\r",
      "  0%|          | 0/1 [00:00<?, ?it/s]"
     ]
    },
    {
     "data": {
      "image/png": "[encoded data removed]",
      "text/plain": [
       "<Figure size 432x288 with 1 Axes>"
      ]
     },
     "metadata": {},
     "output_type": "display_data"
    },
    {
     "name": "stdout",
     "output_type": "stream",
     "text": [
      "img_name detect_test_img1_L\n",
      "=================================\n"
     ]
    },
    {
     "data": {
      "image/png": "[encoded data removed]",
      "text/plain": [
       "<Figure size 432x288 with 1 Axes>"
      ]
     },
     "metadata": {},
     "output_type": "display_data"
    },
    {
     "name": "stdout",
     "output_type": "stream",
     "text": [
      "img_name detect_test_img2_L\n",
      "=================================\n"
     ]
    },
    {
     "data": {
      "image/png": "[encoded data removed]",
      "text/plain": [
       "<Figure size 432x288 with 1 Axes>"
      ]
     },
     "metadata": {},
     "output_type": "display_data"
    },
    {
     "name": "stderr",
     "output_type": "stream",
     "text": [
      "\r",
      "100%|██████████| 1/1 [00:05<00:00,  5.02s/it]"
     ]
    },
    {
     "name": "stdout",
     "output_type": "stream",
     "text": [
      "img_name detect_test_img3_L\n",
      "=================================\n"
     ]
    },
    {
     "name": "stderr",
     "output_type": "stream",
     "text": [
      "100%|██████████| 1/1 [00:05<00:00,  5.67s/it]\n"
     ]
    }
   ],
   "source": [
    "def main():\n",
    "    config = vars(parse_args())\n",
    "    config2 = vars(parse_args2())\n",
    "\n",
    "    with open('models/%s/config.yml' % config2['name'], 'r') as f:\n",
    "        config = yaml.load(f, Loader=yaml.FullLoader)\n",
    "\n",
    "    print('-'*20)\n",
    "    for key in config.keys():\n",
    "        print('%s: %s' % (key, str(config[key])))\n",
    "    print('-'*20)\n",
    "\n",
    "    cudnn.benchmark = True\n",
    "\n",
    "    # create model\n",
    "    print(\"=> creating model %s\" % config['arch'])\n",
    "    model = archs.__dict__[config['arch']](config['num_classes'],config['input_channels'])\n",
    "    model = model.cuda()\n",
    "    \n",
    "    model.load_state_dict(torch.load('models/%s/model.pth' % config2['name']))\n",
    "    model.eval()    \n",
    "    \n",
    "    #load external dataset\n",
    "    if config2[\"data_type\"] == \"test\":\n",
    "        img_list=[]\n",
    "        for curDir, dirs, files in os.walk(config2['img_path'] + config2['data_dir']):\n",
    "            for i, file in enumerate(files):\n",
    "                if file.endswith(config2['img_ext']):\n",
    "                    file = file[:-4]\n",
    "                    img_list.append(os.path.join(curDir + \"/\" + file + config2['img_ext']))\n",
    "        \n",
    "        test_img_ids = [os.path.splitext(os.path.basename(p))[0] for p in img_list]\n",
    "        test_loader = make_loader_test_only(test_img_ids, config, config2)\n",
    "        test(config, config2, test_loader, model)\n",
    "        \n",
    "    #load validation data set and calculate stratified SDR    \n",
    "    elif config2[\"data_type\"] == \"validation\":\n",
    "        img_ids = glob(os.path.join(config2['img_path'] + config['dataset'] + \"/\"+ 'images' +\"/\"+ '*' + config['img_ext']))\n",
    "        img_ids = [os.path.splitext(os.path.basename(p))[0] for p in img_ids]\n",
    "        train_img_ids, val_img_ids = train_test_split(img_ids, test_size=0.3, random_state=1)    \n",
    "        train_loader, val_loader = make_loader(train_img_ids, val_img_ids, config)\n",
    "        val_sdr_stratified(config, config2, val_loader, model)\n",
    "\n",
    "if __name__ == '__main__':\n",
    "    main()"
   ]
  },
  {
   "cell_type": "markdown",
   "id": "6fa57847",
   "metadata": {},
   "source": [
    "# image crop"
   ]
  },
  {
   "cell_type": "code",
   "execution_count": 13,
   "id": "7342fb39",
   "metadata": {},
   "outputs": [],
   "source": [
    "def main():\n",
    "    config = vars(parse_args())\n",
    "    config2 = vars(parse_args2())\n",
    "    coord_df = pd.read_csv(config2['img_path'] + config2['data_dir'] + \"/\" + \"coord_final.csv\")\n",
    "\n",
    "    #make dir for each joint\n",
    "    dir_list = ['finger', 'ulna_radi', 'luna_navi', 'mc_mul', 'racam', 'cmc']\n",
    "    for dir_name in dir_list:\n",
    "        os.makedirs(config2['img_path'] + config2['data_dir'] + \"/\" + dir_name, exist_ok=True)\n",
    "\n",
    "    for i in range (len(coord_df)):\n",
    "        img = cv2.imread(config2['img_path'] + config2['data_dir'] + \"/\" + coord_df.iloc[i,0])\n",
    "        finger(config, config2, coord_df,img,i)\n",
    "        mc_mul_cmc(config, config2, coord_df,img,i)\n",
    "        ulna_radi_luna_navi_racam(config, config2, coord_df,img,i)\n",
    "if __name__ == '__main__':\n",
    "    main()"
   ]
  },
  {
   "cell_type": "markdown",
   "id": "a564a620",
   "metadata": {},
   "source": [
    "# make Angle of ulnar deviation and Ratio of 4th metacarpal to carpal bone"
   ]
  },
  {
   "attachments": {
    "angle_ratio.png": {
     "image/png": "[encoded data removed]"
    }
   },
   "cell_type": "markdown",
   "id": "4fbe21f1",
   "metadata": {},
   "source": [
    "![angle_ratio.png](attachment:angle_ratio.png)"
   ]
  },
  {
   "cell_type": "code",
   "execution_count": 14,
   "id": "a86dff29",
   "metadata": {},
   "outputs": [
    {
     "name": "stderr",
     "output_type": "stream",
     "text": [
      "C:\\Users\\anaconda3\\envs\\pytorch\\lib\\site-packages\\seaborn\\distributions.py:2551: FutureWarning: `distplot` is a deprecated function and will be removed in a future version. Please adapt your code to use either `displot` (a figure-level function with similar flexibility) or `histplot` (an axes-level function for histograms).\n",
      "  warnings.warn(msg, FutureWarning)\n"
     ]
    },
    {
     "data": {
      "image/png": "[encoded data removed]",
      "text/plain": [
       "<Figure size 432x288 with 1 Axes>"
      ]
     },
     "metadata": {},
     "output_type": "display_data"
    },
    {
     "data": {
      "image/png": "[encoded data removed]",
      "text/plain": [
       "<Figure size 432x288 with 1 Axes>"
      ]
     },
     "metadata": {},
     "output_type": "display_data"
    },
    {
     "name": "stdout",
     "output_type": "stream",
     "text": [
      "                   img_id       rad     ratio\n",
      "0  detect_test_img1_L.png -6.512492  0.583244\n",
      "1  detect_test_img2_L.png -6.514426  0.646676\n",
      "2  detect_test_img3_L.png  0.685197  0.576892\n"
     ]
    }
   ],
   "source": [
    "def main():\n",
    "    config = vars(parse_args())\n",
    "    config2 = vars(parse_args2())\n",
    "    df = pd.read_csv(config2['img_path'] + config2['data_dir'] + \"/\" + \"coord_final.csv\")\n",
    "    df_img = df.iloc[0:,0]\n",
    "    dfx= df.iloc[0: ,1:16]\n",
    "    dfy= df.iloc[0: ,16:31]\n",
    "    \n",
    "    #Discriminating between right and left hand\n",
    "    orientation = RLdiscrim(df_img)\n",
    "        \n",
    "    #Restore from resized coordinates to original coordinates\n",
    "    ptarray_x, ptarray_y = coord_reconst(config, config2, dfx, dfy)\n",
    "    \n",
    "    #Calculate angle of ulnar deviation\n",
    "    degree = calc_angle(ptarray_x, ptarray_y, orientation)\n",
    "    \n",
    "    #Calculate ratio of metacaropal to carpal bone\n",
    "    ratio = calc_ratio(ptarray_x, ptarray_y)\n",
    "    \n",
    "    rad_ratio_df = pd.concat([df_img, degree, ratio],axis=1)\n",
    "    print(rad_ratio_df)\n",
    "    rad_ratio_df.to_csv(config2['img_path'] + config2['data_dir'] + \"/\" + \"rad_ratio_df.csv\", index=False)\n",
    "if __name__ == '__main__':\n",
    "    main()"
   ]
  },
  {
   "cell_type": "code",
   "execution_count": null,
   "id": "f8d79dd7",
   "metadata": {},
   "outputs": [],
   "source": []
  }
 ],
 "metadata": {
  "kernelspec": {
   "display_name": "Python 3 (ipykernel)",
   "language": "python",
   "name": "python3"
  },
  "language_info": {
   "codemirror_mode": {
    "name": "ipython",
    "version": 3
   },
   "file_extension": ".py",
   "mimetype": "text/x-python",
   "name": "python",
   "nbconvert_exporter": "python",
   "pygments_lexer": "ipython3",
   "version": "3.8.12"
  }
 },
 "nbformat": 4,
 "nbformat_minor": 5
}
