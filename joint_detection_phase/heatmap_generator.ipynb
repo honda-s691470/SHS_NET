{
 "cells": [
  {
   "cell_type": "code",
   "execution_count": 1,
   "id": "diverse-boxing",
   "metadata": {},
   "outputs": [],
   "source": [
    "import argparse\n",
    "import cv2\n",
    "import numpy as np\n",
    "from pathlib import Path\n",
    "from PIL import Image\n",
    "import math\n",
    "import matplotlib.pyplot as plt\n",
    "import pandas as pd\n",
    "import os\n",
    "from tqdm import tqdm\n",
    "from natsort import natsorted"
   ]
  },
  {
   "cell_type": "code",
   "execution_count": 18,
   "id": "232691c9",
   "metadata": {},
   "outputs": [],
   "source": [
    "def parse_args():\n",
    "    parser = argparse.ArgumentParser()\n",
    "    \n",
    "    parser.add_argument('--input_channels', default=3, type=int,\n",
    "                        help='input channels')\n",
    "    parser.add_argument('--original_w', default=630, type=int,\n",
    "                        help='image width')\n",
    "    parser.add_argument('--original_h', default=910, type=int,\n",
    "                        help='image height')\n",
    "    parser.add_argument('--resize_w', default=224, type=int,\n",
    "                        help='image width')\n",
    "    parser.add_argument('--resize_h', default=224, type=int,\n",
    "                        help='image height')\n",
    "    \n",
    "    # gaus filter\n",
    "    parser.add_argument('--kernel_size', default=201, type=int,\n",
    "                        help='image width')\n",
    "    parser.add_argument('--sigma', default=6, type=int,\n",
    "                        help='image height')\n",
    "    \n",
    "    # dataset\n",
    "    parser.add_argument('--coord_list', default='coord_list.csv',\n",
    "                        help='coord_list')\n",
    "    parser.add_argument('--img_ext', default='.png',\n",
    "                        help='image file extension')\n",
    "    parser.add_argument('--num_coord', default=15, type=int,\n",
    "                        help='number of coordinate')\n",
    "    \n",
    "    parser.add_argument('--dir_path', default='data_set/', type=str)\n",
    "    parser.add_argument('--dir_name', default='images', type=str)\n",
    "    \n",
    "    config = parser.parse_args(args=['--dir_name', 'images'])\n",
    "\n",
    "    return config"
   ]
  },
  {
   "cell_type": "code",
   "execution_count": 19,
   "id": "34489127",
   "metadata": {},
   "outputs": [],
   "source": [
    "def gaus_filter(img, kernel_size, sigma):\n",
    "    pad_size = int(kernel_size - 1 / 2)\n",
    "    img_t = np.pad(\n",
    "        img, (pad_size, pad_size), \"constant\"\n",
    "    )  # zero padding\n",
    "    img_t = cv2.GaussianBlur(\n",
    "        img_t, ksize=(kernel_size, kernel_size), sigmaX=sigma\n",
    "    )  # gaussian filter \n",
    "    img_t = img_t[pad_size:-pad_size, pad_size:-pad_size]  # remove padding\n",
    "    return img_t"
   ]
  },
  {
   "cell_type": "code",
   "execution_count": 20,
   "id": "4d5cdef0",
   "metadata": {},
   "outputs": [
    {
     "name": "stderr",
     "output_type": "stream",
     "text": [
      "100%|██████████| 1/1 [00:00<?, ?it/s]\n"
     ]
    },
    {
     "name": "stdout",
     "output_type": "stream",
     "text": [
      "1\n",
      "2\n",
      "3\n",
      "4\n",
      "5\n",
      "6\n",
      "7\n",
      "8\n",
      "9\n",
      "10\n",
      "11\n",
      "12\n",
      "finish\n"
     ]
    }
   ],
   "source": [
    "def main():\n",
    "    config = vars(parse_args())\n",
    "    \n",
    "    for i in range (config['num_coord']):   \n",
    "        os.makedirs(config['dir_path'] + \"/\" + \"/masks/\" + f'{i}', exist_ok=True)\n",
    "        \n",
    "    img_list =[]    \n",
    "    for curDir, dirs, files in tqdm(natsorted(os.walk(config['dir_path'] + \"/\" + config['dir_name']))):\n",
    "        for i, file in enumerate(files):\n",
    "            if file.endswith(config['img_ext']):\n",
    "                img_list.append(file)\n",
    "                \n",
    "    coord_list = pd.read_csv(config['dir_path'] + \"/\" + config['coord_list'])\n",
    "    img_list = pd.DataFrame(img_list).set_axis([coord_list.columns[0]], axis='columns')        \n",
    "    img_coord_df = pd.merge(img_list, coord_list)\n",
    "        \n",
    "    #Extract the x- and y-coordinates     \n",
    "    dfx= coord_list.iloc[0: ,1:16]\n",
    "    dfy= coord_list.iloc[0: ,16:31]\n",
    "  \n",
    "    x_columns=dfx.columns\n",
    "    y_columns=dfy.columns\n",
    "    columns=[]\n",
    "    for i in range (len(x_columns)):\n",
    "        name=x_columns[i].split('_')[0]\n",
    "        columns.append(name)\n",
    "\n",
    "    ptarray_x=np.array(dfx)\n",
    "    ptarray_y=np.array(dfy)\n",
    "\n",
    "    ptarray_stdx=(ptarray_x/config['original_w'])*config['resize_w']\n",
    "    ptarray_stdy=(ptarray_y/config['original_h'])*config['resize_h']\n",
    "    dfx = pd.DataFrame(ptarray_stdx)\n",
    "    dfy = pd.DataFrame(ptarray_stdy)      \n",
    "        \n",
    "    # make back ground\n",
    "    black = np.zeros((config['resize_w'], config['resize_h']))\n",
    "\n",
    "    for i in range(len(coord_list)):\n",
    "        for j in range(config['num_coord']):\n",
    "            result = black.copy()\n",
    "            img_t = black.copy() \n",
    "            img_t[int(dfy.iloc[i][j])][int(dfx.iloc[i][j])] = 255\n",
    "            img_t = gaus_filter(img_t, 301, 5)\n",
    "            result = np.maximum(result, img_t) \n",
    "\n",
    "            #  normalization\n",
    "            result = 255 * result / result.max()\n",
    "            result = result.astype(\"uint8\")\n",
    "            cv2.imwrite(config['dir_path'] + \"/\"  +'masks' + \"/\" +f'{j}' + \"/\" +f'{coord_list[coord_list.columns[0]][i]}', result)\n",
    "        print(i + 1)\n",
    "    print(\"finish\")\n",
    "if __name__ == '__main__':\n",
    "    main()"
   ]
  },
  {
   "cell_type": "code",
   "execution_count": null,
   "id": "d92d5191",
   "metadata": {},
   "outputs": [],
   "source": []
  }
 ],
 "metadata": {
  "kernelspec": {
   "display_name": "Python 3 (ipykernel)",
   "language": "python",
   "name": "python3"
  },
  "language_info": {
   "codemirror_mode": {
    "name": "ipython",
    "version": 3
   },
   "file_extension": ".py",
   "mimetype": "text/x-python",
   "name": "python",
   "nbconvert_exporter": "python",
   "pygments_lexer": "ipython3",
   "version": "3.8.12"
  }
 },
 "nbformat": 4,
 "nbformat_minor": 5
}
